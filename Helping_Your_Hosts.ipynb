{
 "cells": [
  {
   "cell_type": "markdown",
   "metadata": {},
   "source": [
    "# 🏡 **Helping Your Hosts:** Predicting Airbnb Host Ratings 🏨"
   ]
  },
  {
   "cell_type": "markdown",
   "metadata": {},
   "source": [
    "---\n",
    "\n",
    "> **Phase 3 Project: Classification**\n",
    ">\n",
    "> **Author:** Ben McCarty\n",
    "\n",
    "---"
   ]
  },
  {
   "cell_type": "markdown",
   "metadata": {},
   "source": [
    "# ❌ TODO"
   ]
  },
  {
   "cell_type": "markdown",
   "metadata": {},
   "source": [
    "## **Notes from James:**"
   ]
  },
  {
   "cell_type": "markdown",
   "metadata": {},
   "source": [
    "---\n",
    "\n",
    "- header for goal\n",
    "- remove comment re: .head() explanation\n",
    "- change \"highlight all\" to \"show all bars\"\n",
    "- change default hex color to string color (red/blue/etc)\n",
    "- could keep \"property_type\" and process w/ rest of strings\n",
    "- give rationale for initial dropped columns\n",
    "- process two drops\n",
    "    - one for the initial columns (drop)\n",
    "    - second for (drop_na_cols)\n",
    "- missingno.matrix does a better job of showing relationships b/t NaNs across features\n",
    "- use .fillna() for 'beds' and 'bedrooms'; use other col as arg for each\n",
    "    - cuts out unnecessary loops\n",
    "- change terminology - 'binarizing' to OHE\n",
    "    - remove columns entirely - just use in pipeline\n",
    "- add gridsearches to main notebook\n",
    "- add vanilla versions of models\n",
    "    - compare to GSCV model results (train data)\n",
    "    - then compare both to test data\n",
    "- go into more detail post-modeling\n",
    "- plot coefs from logreg to demonstrate impact/effects of different features\n",
    "    - compare against results from other models?\n",
    "    - decide on best model, then interpret results?\n",
    "    \n",
    "---"
   ]
  },
  {
   "cell_type": "markdown",
   "metadata": {},
   "source": [
    "## **Notes from Max:**"
   ]
  },
  {
   "cell_type": "markdown",
   "metadata": {},
   "source": [
    "---\n",
    "\n",
    "- clean, update functions\n",
    "    - docstrings specifically\n",
    "    - split into sub-mods\n",
    "        - eda\n",
    "        - reg\n",
    "        - clf\n",
    "        - ???\n",
    "    - for eval_clf:\n",
    "        - metric arg should feed into GSCV or use as setting to trigger specific metric function\n",
    "            - eg. recall_score()\n",
    "\n",
    "- explain rationale behind cutoff\n",
    "    - decide if superhost or 4.8 rating would be better target\n",
    "        - use domain knowledge\n",
    "        \n",
    "- include detail about data overview\n",
    "    - eg. low # of scores <4 due to artificial \"cleaning\"\n",
    "        - ratings may not reflect ALL guest reviews\n",
    "        \n",
    "- include additional EDA to develop hypotheses re: modeling results\n",
    "    - may put into separate notebook for inspection due to # of features\n",
    "    \n",
    "- define/set/explain target for modeling\n",
    "    - why using avg recall?\n",
    "\n",
    "- use GSCV to include params for preprocessing pipeline\n",
    "\n",
    "---"
   ]
  },
  {
   "cell_type": "markdown",
   "metadata": {},
   "source": [
    "---\n",
    "\n",
    "**In a post-COVID world, hospitality faces challenges as travel restrictions are imposed and lifted (and then re-imposed).** Travel and tourism came to a crashing halt in 2020 and still face challenges in returning to pre-2020 business levels.\n",
    "\n",
    "As restless travelers look to escape the confines of their homes, they expect the same high-quality services and experiences as pre-COVID. Competition within the hospitality industry is stronger than ever, putting more pressure on businesses to keep and grow their customer base.\n",
    "\n",
    "**The main performance metric for every company involved in hospitality is guest satisfaction.** If a guest isn't satisfied, they are not likely to return for another visit and may share their experience with others, pushing away potential business.\n",
    "\n",
    "Airbnb hosts face the same challenges as traditional hotels in these aggressive and challenging market conditions. In order to maximize their profitability and to distinguish themselves from traditional hotels, **Airbnb needs to know which aspects of a host property are the strongest predictors of whether a guest will give a satisfaction score of 4.8 or higher (out of 5).**\n",
    "\n",
    "With this question in mind, I obtained data about Airbnb host properties from the [Inside Airbnb project](http://insideairbnb.com/get-the-data.html#:~:text=Washington%2C%20D.C.%2C%20District%20of%20Columbia%2C%20United%20States) for the Washington, D.C. area. The dataset includes details about the hosts themselves; property details (bedrooms, bathrooms, property types); and reservation availability.\n",
    "\n",
    "**Once I have the data readied, I will use machine learning modeling techniques to determine my most important features for the region.** Then I will provide my final recommendations on what Airbnb should do to maximize the likelihood of their hosts obtaining a score of 4.8 or greater.\n",
    "\n",
    "---"
   ]
  },
  {
   "cell_type": "markdown",
   "metadata": {},
   "source": [
    "# 📂 **Imports and Settings**"
   ]
  },
  {
   "cell_type": "code",
   "execution_count": 3,
   "metadata": {
    "ExecuteTime": {
     "end_time": "2021-08-15T23:13:32.829509Z",
     "start_time": "2021-08-15T23:13:31.857511Z"
    },
    "code_folding": []
   },
   "outputs": [],
   "source": [
    "## Data Handling\n",
    "import pandas as pd\n",
    "import numpy as np\n",
    "\n",
    "## Visualizations\n",
    "import matplotlib as mpl\n",
    "import matplotlib.pyplot as plt\n",
    "import seaborn as sns\n",
    "from ipywidgets import interact_manual\n",
    "import missingno\n",
    "\n",
    "## SKLearn\n",
    "from sklearn import metrics\n",
    "from sklearn.preprocessing import OneHotEncoder, StandardScaler\n",
    "from sklearn.model_selection import train_test_split\n",
    "from sklearn.impute import SimpleImputer\n",
    "from sklearn.compose import ColumnTransformer\n",
    "from sklearn.pipeline import Pipeline\n",
    "from sklearn.dummy import DummyClassifier\n",
    "from sklearn.linear_model import LogisticRegression\n",
    "from sklearn.ensemble import RandomForestClassifier\n",
    "from sklearn import set_config\n",
    "# set_config(display='diagram')\n",
    "\n",
    "## Settings\n",
    "%matplotlib inline\n",
    "plt.style.use('seaborn-talk')\n",
    "pd.set_option('display.max_columns', None)\n",
    "pd.set_option('display.float_format', lambda x: f'{x:,.2f}')\n",
    "pd.set_option('max_rows', 100)"
   ]
  },
  {
   "cell_type": "code",
   "execution_count": 2,
   "metadata": {
    "ExecuteTime": {
     "end_time": "2021-08-15T23:13:27.550510Z",
     "start_time": "2021-08-15T23:13:22.653514Z"
    }
   },
   "outputs": [
    {
     "name": "stdout",
     "output_type": "stream",
     "text": [
      "Collecting missingno\n",
      "  Downloading missingno-0.5.0-py3-none-any.whl (8.8 kB)\n",
      "Requirement already satisfied: scipy in c:\\users\\bmcca\\anaconda3\\lib\\site-packages (from missingno) (1.4.1)\n",
      "Requirement already satisfied: numpy in c:\\users\\bmcca\\anaconda3\\lib\\site-packages (from missingno) (1.18.1)\n",
      "Requirement already satisfied: matplotlib in c:\\users\\bmcca\\anaconda3\\lib\\site-packages (from missingno) (3.1.3)\n",
      "Requirement already satisfied: seaborn in c:\\users\\bmcca\\anaconda3\\lib\\site-packages (from missingno) (0.10.0)\n",
      "Requirement already satisfied: cycler>=0.10 in c:\\users\\bmcca\\anaconda3\\lib\\site-packages (from matplotlib->missingno) (0.10.0)\n",
      "Requirement already satisfied: kiwisolver>=1.0.1 in c:\\users\\bmcca\\anaconda3\\lib\\site-packages (from matplotlib->missingno) (1.1.0)\n",
      "Requirement already satisfied: pyparsing!=2.0.4,!=2.1.2,!=2.1.6,>=2.0.1 in c:\\users\\bmcca\\anaconda3\\lib\\site-packages (from matplotlib->missingno) (2.4.6)\n",
      "Requirement already satisfied: python-dateutil>=2.1 in c:\\users\\bmcca\\anaconda3\\lib\\site-packages (from matplotlib->missingno) (2.8.1)\n",
      "Requirement already satisfied: six in c:\\users\\bmcca\\anaconda3\\lib\\site-packages (from cycler>=0.10->matplotlib->missingno) (1.14.0)\n",
      "Requirement already satisfied: setuptools in c:\\users\\bmcca\\anaconda3\\lib\\site-packages (from kiwisolver>=1.0.1->matplotlib->missingno) (45.2.0.post20200210)\n",
      "Requirement already satisfied: pandas>=0.22.0 in c:\\users\\bmcca\\anaconda3\\lib\\site-packages (from seaborn->missingno) (1.0.1)\n",
      "Requirement already satisfied: pytz>=2017.2 in c:\\users\\bmcca\\anaconda3\\lib\\site-packages (from pandas>=0.22.0->seaborn->missingno) (2019.3)\n",
      "Installing collected packages: missingno\n",
      "Successfully installed missingno-0.5.0\n"
     ]
    }
   ],
   "source": [
    "# ! pip install missingno"
   ]
  },
  {
   "cell_type": "code",
   "execution_count": 4,
   "metadata": {
    "ExecuteTime": {
     "end_time": "2021-08-15T23:13:38.756239Z",
     "start_time": "2021-08-15T23:13:38.744243Z"
    }
   },
   "outputs": [
    {
     "data": {
      "text/plain": [
       "'0.24.2'"
      ]
     },
     "execution_count": 4,
     "metadata": {},
     "output_type": "execute_result"
    }
   ],
   "source": [
    "import sklearn\n",
    "\n",
    "sklearn.__version__"
   ]
  },
  {
   "cell_type": "code",
   "execution_count": 6,
   "metadata": {
    "ExecuteTime": {
     "end_time": "2021-08-15T23:15:20.361549Z",
     "start_time": "2021-08-15T23:15:19.335550Z"
    },
    "code_folding": []
   },
   "outputs": [],
   "source": [
    "## Personal functions\n",
    "import clf_functions.functions as cf\n",
    "\n",
    "## Tools to reload personal functions when called - prevents errors\n",
    "%load_ext autoreload\n",
    "%autoreload 1\n",
    "%aimport clf_functions.functions"
   ]
  },
  {
   "cell_type": "markdown",
   "metadata": {},
   "source": [
    "## ✅ Show Visualizations Setting"
   ]
  },
  {
   "cell_type": "code",
   "execution_count": null,
   "metadata": {
    "ExecuteTime": {
     "end_time": "2021-08-15T20:32:35.227746Z",
     "start_time": "2021-08-15T20:32:32.950Z"
    }
   },
   "outputs": [],
   "source": [
    "## Setting to control whether or not to show visualizations\n",
    "show_visualizations = False"
   ]
  },
  {
   "cell_type": "markdown",
   "metadata": {
    "ExecuteTime": {
     "end_time": "2021-08-11T23:22:16.380574Z",
     "start_time": "2021-08-11T23:22:16.362567Z"
    }
   },
   "source": [
    "# 📖 **Read Data**"
   ]
  },
  {
   "cell_type": "code",
   "execution_count": null,
   "metadata": {
    "ExecuteTime": {
     "end_time": "2021-08-15T20:32:35.228746Z",
     "start_time": "2021-08-15T20:32:32.959Z"
    }
   },
   "outputs": [],
   "source": [
    "## Reading data and saving to a DataFrame\n",
    "\n",
    "source = 'data/listings.csv.gz'\n",
    "data = pd.read_csv(source)\n",
    "data.head(5)"
   ]
  },
  {
   "cell_type": "code",
   "execution_count": null,
   "metadata": {
    "ExecuteTime": {
     "end_time": "2021-08-15T20:32:35.230745Z",
     "start_time": "2021-08-15T20:32:32.964Z"
    }
   },
   "outputs": [],
   "source": [
    "## Checking number of rows and columns\n",
    "data.shape"
   ]
  },
  {
   "cell_type": "markdown",
   "metadata": {
    "ExecuteTime": {
     "end_time": "2021-08-11T15:42:29.860581Z",
     "start_time": "2021-08-11T15:42:29.846550Z"
    }
   },
   "source": [
    "---\n",
    "\n",
    "> The initial read of the dataset shows there are 74 features and 8,033 entries. A quick glance at the `.head()` gives a sample of the entries, showing that some of the features are not relevant to my analysis.\n",
    ">\n",
    "> I need to get a better idea of the statistics for the dataset, especially any missing values and the datatypes for each column. I need to pre-process this data before I can perform any modeling.\n",
    "\n",
    "---"
   ]
  },
  {
   "cell_type": "markdown",
   "metadata": {},
   "source": [
    "# 👨‍💻 **Interactive Investigation**"
   ]
  },
  {
   "cell_type": "markdown",
   "metadata": {},
   "source": [
    "---\n",
    "\n",
    "> To increase accessibility to the data, **I include a widget to allow the user to sort through the data interactively.** I use [**Jupyter Widgets**](https://ipywidgets.readthedocs.io/en/latest/index.html) to create this interactive report.\n",
    ">\n",
    ">**To use:** select which column by which you would like to sort from the dropdown menu, then click the \"Run Interact\" button.\n",
    ">\n",
    ">***Note about 'Drop_Cols' and Cols:*** these keyword arguments are used to allow the user to drop specific columns.\n",
    ">\n",
    "> **Only click the \"Drop_Cols\" option when specifying \"Cols\"!** Otherwise it will cause an error.\n",
    ">\n",
    ">The 'Cols' dropdown menu does not affect the resulting report; the data is filtered from the report prior to displaying the results. \n",
    ">\n",
    ">I chose to include this option for flexibility and adaptability, but it does have the unintended consequence of creating another drop-down menu. Please ignore this menu, as it does not provide any additional functionality. For future work, I will disable the menu to prevent confusion.\n",
    "\n",
    "---"
   ]
  },
  {
   "cell_type": "code",
   "execution_count": null,
   "metadata": {
    "ExecuteTime": {
     "end_time": "2021-08-15T20:32:35.231745Z",
     "start_time": "2021-08-15T20:32:32.971Z"
    }
   },
   "outputs": [],
   "source": [
    "## Running report on unfiltered dataset\n",
    "\n",
    "interact_manual(cf.sort_report, Sort_by=list(cf.report_df(data).columns),\n",
    "                Source=source);"
   ]
  },
  {
   "cell_type": "code",
   "execution_count": null,
   "metadata": {
    "ExecuteTime": {
     "end_time": "2021-08-15T20:32:35.233745Z",
     "start_time": "2021-08-15T20:32:32.978Z"
    },
    "scrolled": false
   },
   "outputs": [],
   "source": [
    "data.head(3)"
   ]
  },
  {
   "cell_type": "markdown",
   "metadata": {},
   "source": [
    "---\n",
    "\n",
    "> After reviewing my data, I see there are several features that contain irrelevant entries (URLs, source data, meta data) or values that are too complicated for simple processing (such as host and listing descriptions).\n",
    ">\n",
    "> I will drop these columns for the second report to review the remaining data for further processing.\n",
    "\n",
    "---"
   ]
  },
  {
   "cell_type": "code",
   "execution_count": null,
   "metadata": {
    "ExecuteTime": {
     "end_time": "2021-08-15T20:32:35.234745Z",
     "start_time": "2021-08-15T20:32:32.983Z"
    }
   },
   "outputs": [],
   "source": [
    "## Specifying columns to drop\n",
    "\n",
    "drop = ['id', 'host_id', 'name', 'description', 'neighborhood_overview', 'host_name',\n",
    "        'host_about', 'host_location', 'neighbourhood', 'property_type',\n",
    "        'listing_url', 'scrape_id', 'last_scraped', 'picture_url','host_url',\n",
    "        'host_thumbnail_url','host_picture_url','calendar_last_scraped']"
   ]
  },
  {
   "cell_type": "code",
   "execution_count": null,
   "metadata": {
    "ExecuteTime": {
     "end_time": "2021-08-15T20:32:35.236746Z",
     "start_time": "2021-08-15T20:32:32.986Z"
    }
   },
   "outputs": [],
   "source": [
    "data.drop(columns=drop, inplace=True)"
   ]
  },
  {
   "cell_type": "code",
   "execution_count": null,
   "metadata": {
    "ExecuteTime": {
     "end_time": "2021-08-15T20:32:35.237745Z",
     "start_time": "2021-08-15T20:32:32.990Z"
    },
    "scrolled": true
   },
   "outputs": [],
   "source": [
    "data.drop(columns=drop).select_dtypes('number')"
   ]
  },
  {
   "cell_type": "code",
   "execution_count": null,
   "metadata": {
    "ExecuteTime": {
     "end_time": "2021-08-15T20:32:35.238746Z",
     "start_time": "2021-08-15T20:32:32.996Z"
    }
   },
   "outputs": [],
   "source": [
    "data.drop(columns=drop).describe().T"
   ]
  },
  {
   "cell_type": "code",
   "execution_count": null,
   "metadata": {
    "ExecuteTime": {
     "end_time": "2021-08-15T20:32:35.240746Z",
     "start_time": "2021-08-15T20:32:33.000Z"
    }
   },
   "outputs": [],
   "source": [
    "sns.heatmap(data=data.drop(columns=drop).select_dtypes('number').corr(), robust=True)"
   ]
  },
  {
   "cell_type": "code",
   "execution_count": null,
   "metadata": {
    "ExecuteTime": {
     "end_time": "2021-08-15T20:32:35.241745Z",
     "start_time": "2021-08-15T20:32:33.003Z"
    }
   },
   "outputs": [],
   "source": [
    "# Compute the correlation matrix\n",
    "corr = data.corr()\n",
    "\n",
    "# Generate a mask for the upper triangle\n",
    "mask = np.triu(np.ones_like(corr, dtype=bool))\n",
    "\n",
    "# Set up the matplotlib figure\n",
    "f, ax = plt.subplots(figsize=(11, 9))"
   ]
  },
  {
   "cell_type": "code",
   "execution_count": null,
   "metadata": {
    "ExecuteTime": {
     "end_time": "2021-08-15T20:32:35.242746Z",
     "start_time": "2021-08-15T20:32:33.008Z"
    },
    "scrolled": false
   },
   "outputs": [],
   "source": [
    "## Creating updated interactive report\n",
    "\n",
    "interact_manual(cf.sort_report, Drop_Cols = True, Cols = drop,\n",
    "                Sort_by=list(cf.report_df(data).columns), Source=source);"
   ]
  },
  {
   "cell_type": "markdown",
   "metadata": {},
   "source": [
    "---\n",
    "\n",
    "> **Interpretation:**\n",
    ">\n",
    "> The report shows that the dataset has a big problem with missing values:\n",
    ">\n",
    "> * **Empty:**\n",
    ">   * `neighbourhood_group_cleansed`\n",
    ">   * `bathrooms`\n",
    ">   * `calendar_updated`\n",
    ">\n",
    ">\n",
    "> * **Nearly empty:**\n",
    ">  * `license`\n",
    ">\n",
    ">\n",
    "> * **Missing 26-39% of data:**\n",
    ">  * `host_about`\n",
    ">  * `neighborhood_overview`\n",
    ">  * `neighbourhood`\n",
    ">  * `host_response_time`\n",
    ">  * `host_response_rate`\n",
    ">  * `review_scores_value`\n",
    ">  * `review_scores_checkin`\n",
    ">  * `review_scores_location`\n",
    ">  * `review_scores_accuracy`\n",
    ">  * `review_scores_communication`\n",
    ">  * `review_scores_cleanliness`\n",
    ">  * `host_acceptance_rate`\n",
    ">  * `reviews_per_month`\n",
    ">  * `first_review`\n",
    ">  * `review_scores_rating`\n",
    ">  * `last_review`\n",
    ">\n",
    ">---\n",
    ">\n",
    "> I will need to address these missing values before processing with the modeling. A few options include:\n",
    ">\n",
    "> * **Filling with the string \"missing\"** to indicate the value was missing.\n",
    ">    * *I would be able to treat \"missing\" as a distinct category and use it for modeling as well.*\n",
    ">\n",
    ">\n",
    "> * **Dropping the rows with missing values.**\n",
    ">    * *This may negatively impact the accuracy of my results by overfitting to the training data.*\n",
    ">\n",
    ">\n",
    "> Due to the large percentages of features and properties that are missing data, I feel it is best to drop those features and property entries that are missing values instead of attempting to fill in the gaps.\n",
    "\n",
    "---"
   ]
  },
  {
   "cell_type": "markdown",
   "metadata": {},
   "source": [
    "---\n",
    "\n",
    "> To get a better idea of the missing values, I create a visual of the values via the 'Missingno' package. This visualization package includes several options for visualizing the missing data.\n",
    "\n",
    "---"
   ]
  },
  {
   "cell_type": "code",
   "execution_count": null,
   "metadata": {
    "ExecuteTime": {
     "end_time": "2021-08-15T20:32:35.244744Z",
     "start_time": "2021-08-15T20:32:33.014Z"
    },
    "scrolled": false
   },
   "outputs": [],
   "source": [
    "## Visually inspecting missing values\n",
    "if show_visualizations == True:\n",
    "    missingno.bar(data, labels=True);"
   ]
  },
  {
   "cell_type": "code",
   "execution_count": null,
   "metadata": {
    "ExecuteTime": {
     "end_time": "2021-08-15T20:32:35.245747Z",
     "start_time": "2021-08-15T20:32:33.018Z"
    }
   },
   "outputs": [],
   "source": [
    "## Visually inspecting missing values\n",
    "if show_visualizations == True:\n",
    "    missingno.matrix(data, labels=True);"
   ]
  },
  {
   "cell_type": "markdown",
   "metadata": {},
   "source": [
    "---\n",
    "\n",
    "> Based on this visualization, I see that **there is a consistent trend in missing values for review scores:** if a row is missing one review score, it seems to be missing all of them.\n",
    ">\n",
    "> Additionally, **there are many missing values for the response time, response rate, and acceptance rate.** I want to use these columns in my classification, so I will need to replace those missing values.\n",
    ">\n",
    "> After reviewing these details, **I feel more comfortable with the option of dropping those rows with missing review values.** I will drop the values as part of my overall classification process.\n",
    "\n",
    "---"
   ]
  },
  {
   "cell_type": "markdown",
   "metadata": {},
   "source": [
    "# 🧼 **Data Cleaning and EDA**"
   ]
  },
  {
   "cell_type": "markdown",
   "metadata": {},
   "source": [
    "## 🔎 Fixing Missing Values"
   ]
  },
  {
   "cell_type": "markdown",
   "metadata": {},
   "source": [
    "---\n",
    "\n",
    "> This dataset is missing a significant number of values for different columns. **In order to perform any modeling, I will address these missing values first.**\n",
    ">\n",
    "> As described previously, I will drop those features and rows with high percentages of missing values. Then, I will be able to fill in the missing values for the 'beds'/'bedrooms’ features by cross-referencing the columns. If one of the rows is missing a value for one feature, but has a value for the other, I will simply fill in the missing value with the value from the other column.\n",
    "\n",
    "---"
   ]
  },
  {
   "cell_type": "code",
   "execution_count": null,
   "metadata": {
    "ExecuteTime": {
     "end_time": "2021-08-15T20:32:35.247743Z",
     "start_time": "2021-08-15T20:32:33.024Z"
    },
    "scrolled": true
   },
   "outputs": [],
   "source": [
    "## Efficient dropping features with high percentages (25%+) of missing values\n",
    "\n",
    "percent_null = data.drop(columns='review_scores_rating').isna().sum() / len(data)\n",
    "drop_na_cols = percent_null[percent_null > .25].index\n",
    "drop_na_cols"
   ]
  },
  {
   "cell_type": "code",
   "execution_count": null,
   "metadata": {
    "ExecuteTime": {
     "end_time": "2021-08-15T20:32:35.248744Z",
     "start_time": "2021-08-15T20:32:33.027Z"
    },
    "scrolled": false
   },
   "outputs": [],
   "source": [
    "# # Dropping features with high percentages (25%+) of missing values\n",
    "\n",
    "# drop_na_cols = []\n",
    "# for col in data.columns:\n",
    "#     if ((data[col].isna().sum()) / len(data[col])) > .25 and col != 'review_scores_rating':\n",
    "#         drop_na_cols.append(col)\n",
    "\n",
    "# drop_na_cols"
   ]
  },
  {
   "cell_type": "code",
   "execution_count": null,
   "metadata": {
    "ExecuteTime": {
     "end_time": "2021-08-15T20:32:35.249744Z",
     "start_time": "2021-08-15T20:32:33.031Z"
    }
   },
   "outputs": [],
   "source": [
    "drop.extend(drop_na_cols)\n",
    "drop"
   ]
  },
  {
   "cell_type": "code",
   "execution_count": null,
   "metadata": {
    "ExecuteTime": {
     "end_time": "2021-08-15T20:32:35.251745Z",
     "start_time": "2021-08-15T20:32:33.035Z"
    },
    "scrolled": false
   },
   "outputs": [],
   "source": [
    "# ## Appending previous list of columns to drop (metadata, etc.)\n",
    "\n",
    "# for col in drop:\n",
    "#     if col not in drop_na_cols:\n",
    "#         drop_na_cols.append(col)\n",
    "\n",
    "# drop_na_cols"
   ]
  },
  {
   "cell_type": "code",
   "execution_count": null,
   "metadata": {
    "ExecuteTime": {
     "end_time": "2021-08-15T20:32:35.252744Z",
     "start_time": "2021-08-15T20:32:33.039Z"
    }
   },
   "outputs": [],
   "source": [
    "## Creating new dataframe that does not include the features to drop\n",
    "df = data.drop(columns= drop).copy()\n",
    "df"
   ]
  },
  {
   "cell_type": "code",
   "execution_count": null,
   "metadata": {
    "ExecuteTime": {
     "end_time": "2021-08-15T20:32:35.254745Z",
     "start_time": "2021-08-15T20:32:33.046Z"
    },
    "scrolled": false
   },
   "outputs": [],
   "source": [
    "## Inspecting values prior to dropping\n",
    "cf.report_df(df)"
   ]
  },
  {
   "cell_type": "markdown",
   "metadata": {},
   "source": [
    "## Filling Beds"
   ]
  },
  {
   "cell_type": "markdown",
   "metadata": {},
   "source": [
    "---\n",
    "\n",
    "> After dropping columns and rows with large percentages of missing values, I proceed to address the missing values in the 'Beds' and \"Bedrooms\" columns.\n",
    ">\n",
    "> As the values are similar between the two, I will compare the rows against each other. For each row, if there is a missing value in one column that is present in the other, I will fill the missing value with the value present in the other column.\n",
    "\n",
    "---"
   ]
  },
  {
   "cell_type": "code",
   "execution_count": null,
   "metadata": {
    "ExecuteTime": {
     "end_time": "2021-08-15T20:32:35.255744Z",
     "start_time": "2021-08-15T20:32:33.053Z"
    }
   },
   "outputs": [],
   "source": [
    "df['beds'].fillna(df['bedrooms'], inplace=True)\n",
    "df['beds'].isna().sum()"
   ]
  },
  {
   "cell_type": "code",
   "execution_count": null,
   "metadata": {
    "ExecuteTime": {
     "end_time": "2021-08-15T20:32:35.256745Z",
     "start_time": "2021-08-15T20:32:33.058Z"
    }
   },
   "outputs": [],
   "source": [
    "df['bedrooms'].fillna(df['beds'], inplace=True)\n",
    "df['bedrooms'].isna().sum()"
   ]
  },
  {
   "cell_type": "code",
   "execution_count": null,
   "metadata": {
    "ExecuteTime": {
     "end_time": "2021-08-15T20:32:35.257744Z",
     "start_time": "2021-08-15T20:32:33.063Z"
    }
   },
   "outputs": [],
   "source": [
    "# ## Filling missing values for 'beds' with values for 'bedrooms'\n",
    "\n",
    "# for idx in list(df['beds'][df['beds'].isna()].index):\n",
    "#     if df['bedrooms'][idx] > 0:\n",
    "#         df['beds'][idx] = df['bedrooms'][idx]"
   ]
  },
  {
   "cell_type": "code",
   "execution_count": null,
   "metadata": {
    "ExecuteTime": {
     "end_time": "2021-08-15T20:32:35.258744Z",
     "start_time": "2021-08-15T20:32:33.068Z"
    },
    "scrolled": true
   },
   "outputs": [],
   "source": [
    "# ## Filling missing values for 'bedrooms' with values for 'beds'\n",
    "\n",
    "# for idx in list(df['bedrooms'][df['bedrooms'].isna()].index):\n",
    "#     if df['beds'][idx] > 0:\n",
    "#         df['bedrooms'][idx] = df['beds'][idx]"
   ]
  },
  {
   "cell_type": "code",
   "execution_count": null,
   "metadata": {
    "ExecuteTime": {
     "end_time": "2021-08-15T20:32:35.260746Z",
     "start_time": "2021-08-15T20:32:33.073Z"
    }
   },
   "outputs": [],
   "source": [
    "## Resetting the index after dropping rows\n",
    "\n",
    "df.reset_index(drop=True, inplace=True)"
   ]
  },
  {
   "cell_type": "code",
   "execution_count": null,
   "metadata": {
    "ExecuteTime": {
     "end_time": "2021-08-15T20:32:35.262747Z",
     "start_time": "2021-08-15T20:32:33.077Z"
    },
    "scrolled": false
   },
   "outputs": [],
   "source": [
    "## Confirming reduction in missing values for 'beds' and 'bedrooms'\n",
    "\n",
    "rpt_clean  = cf.report_df(df)\n",
    "rpt_clean[rpt_clean['null_sum'] >0]"
   ]
  },
  {
   "cell_type": "code",
   "execution_count": null,
   "metadata": {
    "ExecuteTime": {
     "end_time": "2021-08-15T20:32:35.264746Z",
     "start_time": "2021-08-15T20:32:33.083Z"
    }
   },
   "outputs": [],
   "source": [
    "## Identifying index for remaining missing row for \"beds\"\n",
    "\n",
    "nan_bed = list(df['beds'][df['beds'].isna() > 0].index)\n",
    "nan_bed"
   ]
  },
  {
   "cell_type": "code",
   "execution_count": null,
   "metadata": {
    "ExecuteTime": {
     "end_time": "2021-08-15T20:32:35.266745Z",
     "start_time": "2021-08-15T20:32:33.088Z"
    },
    "scrolled": true
   },
   "outputs": [],
   "source": [
    "## Inspecting row with missing value for \"bed\"\n",
    "df.iloc[nan_bed]"
   ]
  },
  {
   "cell_type": "markdown",
   "metadata": {},
   "source": [
    "---\n",
    "\n",
    "> After cleaning the 'bed'/'bedroom' columns, I see that I have one remaining missing pair of columns in one row. Later on, I will fill that value with an imputer as part of my modeling pipeline process.\n",
    "\n",
    "---"
   ]
  },
  {
   "cell_type": "markdown",
   "metadata": {},
   "source": [
    "## Dropping Rows with 6+ Missing Values"
   ]
  },
  {
   "cell_type": "code",
   "execution_count": null,
   "metadata": {
    "ExecuteTime": {
     "end_time": "2021-08-15T20:32:35.267745Z",
     "start_time": "2021-08-15T20:32:33.100Z"
    },
    "scrolled": false
   },
   "outputs": [],
   "source": [
    "## Removing rows with 6+ null values\n",
    "\n",
    "df = df[df.isna().sum(axis=1) < 6]\n",
    "df.head(5)"
   ]
  },
  {
   "cell_type": "code",
   "execution_count": null,
   "metadata": {
    "ExecuteTime": {
     "end_time": "2021-08-15T20:32:35.268744Z",
     "start_time": "2021-08-15T20:32:33.105Z"
    },
    "scrolled": true
   },
   "outputs": [],
   "source": [
    "## Reviewing remaining missing values\n",
    "\n",
    "df.isna().sum()[df.isna().sum() > 0]"
   ]
  },
  {
   "cell_type": "code",
   "execution_count": null,
   "metadata": {
    "ExecuteTime": {
     "end_time": "2021-08-15T20:32:35.270745Z",
     "start_time": "2021-08-15T20:32:33.109Z"
    },
    "scrolled": false
   },
   "outputs": [],
   "source": [
    "cf.report_df(df)"
   ]
  },
  {
   "cell_type": "markdown",
   "metadata": {},
   "source": [
    "## Dropping Rows Without Target Value"
   ]
  },
  {
   "cell_type": "code",
   "execution_count": null,
   "metadata": {
    "ExecuteTime": {
     "end_time": "2021-08-15T20:32:35.271745Z",
     "start_time": "2021-08-15T20:32:33.115Z"
    }
   },
   "outputs": [],
   "source": [
    "## Checking for rows missing target values\n",
    "\n",
    "nan_index = df['review_scores_rating'].isna()\n",
    "nan_index"
   ]
  },
  {
   "cell_type": "code",
   "execution_count": null,
   "metadata": {
    "ExecuteTime": {
     "end_time": "2021-08-15T20:32:35.272758Z",
     "start_time": "2021-08-15T20:32:33.121Z"
    }
   },
   "outputs": [],
   "source": [
    "## Inspecting rows to be dropped for missing the target feature\n",
    "df[nan_index][:5]"
   ]
  },
  {
   "cell_type": "code",
   "execution_count": null,
   "metadata": {
    "ExecuteTime": {
     "end_time": "2021-08-15T20:32:35.273757Z",
     "start_time": "2021-08-15T20:32:33.126Z"
    }
   },
   "outputs": [],
   "source": [
    "## Dropping rows from main dataframe\n",
    "df.drop(df[nan_index].index, inplace=True)"
   ]
  },
  {
   "cell_type": "code",
   "execution_count": null,
   "metadata": {
    "ExecuteTime": {
     "end_time": "2021-08-15T20:32:35.274745Z",
     "start_time": "2021-08-15T20:32:33.132Z"
    }
   },
   "outputs": [],
   "source": [
    "## Resetting the index after dropping rows\n",
    "\n",
    "df.reset_index(drop=True, inplace=True)"
   ]
  },
  {
   "cell_type": "code",
   "execution_count": null,
   "metadata": {
    "ExecuteTime": {
     "end_time": "2021-08-15T20:32:35.276749Z",
     "start_time": "2021-08-15T20:32:33.138Z"
    },
    "scrolled": false
   },
   "outputs": [],
   "source": [
    "## Reviewing results\n",
    "\n",
    "cf.report_df(df)"
   ]
  },
  {
   "cell_type": "markdown",
   "metadata": {},
   "source": [
    "# 🎯 **Inspecting Review Ratings**"
   ]
  },
  {
   "cell_type": "markdown",
   "metadata": {},
   "source": [
    "---\n",
    "\n",
    "> Now that I dropped most of my missing values, I review the distribution of my ratings.\n",
    ">\n",
    "> **My main focus is to review the split of values at the 4.8 mark.** This split will give me an idea of the performance of the host properties in my data set.\n",
    "\n",
    "---\n"
   ]
  },
  {
   "cell_type": "code",
   "execution_count": null,
   "metadata": {
    "ExecuteTime": {
     "end_time": "2021-08-15T20:32:35.278747Z",
     "start_time": "2021-08-15T20:32:33.145Z"
    }
   },
   "outputs": [],
   "source": [
    "## Reviewing the total ratings at or above the threshold of 4.8\n",
    "\n",
    "len(df['review_scores_rating'][df['review_scores_rating'] >= 4.8])/ len(df)"
   ]
  },
  {
   "cell_type": "code",
   "execution_count": null,
   "metadata": {
    "ExecuteTime": {
     "end_time": "2021-08-15T20:32:35.280745Z",
     "start_time": "2021-08-15T20:32:33.150Z"
    }
   },
   "outputs": [],
   "source": [
    "## Visualizing the overall distribution of ratings\n",
    "\n",
    "ax = sns.histplot(data = data['review_scores_rating'], bins = 'auto')\n",
    "\n",
    "ax.set(title = 'Distribution of Review Ratings',\n",
    "       xlabel = 'Rating Score', ylabel = 'Number of Ratings')\n",
    "\n",
    "median = df['review_scores_rating'].median()\n",
    "\n",
    "ax.axvline(median, label = f'Median Score: {median}', color='k')\n",
    "\n",
    "ax.axvline(4.8, label = 'Score Threshold: 4.8', color='red')\n",
    "\n",
    "ax.legend(fontsize= 'large',title = 'Score Thresholds',\n",
    "          title_fontsize = 'large');"
   ]
  },
  {
   "cell_type": "markdown",
   "metadata": {},
   "source": [
    "---\n",
    "\n",
    "> Based on the results above, I see that **61% of the reviews are at or below our target threshold of 4.8.**\n",
    ">\n",
    "> These scores show that there's a reasonable balance of scores that are meeting our threshold for being a Superhost vs. those that are not. This balance is very important for the modeling process later in my workflow.\n",
    "\n",
    "---"
   ]
  },
  {
   "cell_type": "markdown",
   "metadata": {},
   "source": [
    "# 🔨 **Fixing Feature Formatting**"
   ]
  },
  {
   "cell_type": "markdown",
   "metadata": {},
   "source": [
    "---\n",
    "\n",
    "> Now that I addressed most of my missing values, I process the remaining features and columns to allow for the modeling process.\n",
    ">\n",
    "> I perform the following changes:\n",
    ">* Any **features with 't'/'f' values** need to be **converted to 1/0**, respectively.\n",
    ">\n",
    ">\n",
    ">* The **\"price\" feature is currently a string value**; in order to use it effectively, I will **convert the values to the float datatype**.\n",
    ">\n",
    ">\n",
    ">* **Creating a new feature, \"Years_Hosting,\"** using the year in which the host started in the \"host_since\" feature.\n",
    ">\n",
    ">\n",
    ">* **Converting \"bathrooms_text\" into a new \"num_bathrooms\" feature** with numeric data.\n",
    ">\n",
    ">\n",
    ">* **Cleaning the \"room_type\"** column values into simpler string values.\n",
    ">\n",
    ">\n",
    ">* The 'neighbourhood_cleansed' feature consists of a single string of neighborhoods. I **separate each neighborhood into a standalone binary feature** for each row.\n",
    "\n",
    "---"
   ]
  },
  {
   "cell_type": "markdown",
   "metadata": {},
   "source": [
    "## Converting True/False Columns to Binary Values"
   ]
  },
  {
   "cell_type": "code",
   "execution_count": null,
   "metadata": {
    "ExecuteTime": {
     "end_time": "2021-08-15T20:32:35.282745Z",
     "start_time": "2021-08-15T20:32:33.155Z"
    }
   },
   "outputs": [],
   "source": [
    "## Creating list of true/false features to convert to 1/0, respectively\n",
    "\n",
    "t_f_xf = ['host_is_superhost','host_has_profile_pic','host_identity_verified',\n",
    "          'has_availability','instant_bookable']\n",
    "t_f_xf"
   ]
  },
  {
   "cell_type": "code",
   "execution_count": null,
   "metadata": {
    "ExecuteTime": {
     "end_time": "2021-08-15T20:32:35.283744Z",
     "start_time": "2021-08-15T20:32:33.160Z"
    }
   },
   "outputs": [],
   "source": [
    "## Converting datatype to \"string\" to replace values\n",
    "\n",
    "df.loc[:,t_f_xf] = df.loc[:,t_f_xf].astype('str')\n",
    "df[t_f_xf].dtypes"
   ]
  },
  {
   "cell_type": "code",
   "execution_count": null,
   "metadata": {
    "ExecuteTime": {
     "end_time": "2021-08-15T20:32:35.284745Z",
     "start_time": "2021-08-15T20:32:33.166Z"
    }
   },
   "outputs": [],
   "source": [
    "df[t_f_xf][:5]"
   ]
  },
  {
   "cell_type": "code",
   "execution_count": null,
   "metadata": {
    "ExecuteTime": {
     "end_time": "2021-08-15T20:32:35.285745Z",
     "start_time": "2021-08-15T20:32:33.169Z"
    }
   },
   "outputs": [],
   "source": [
    "## Converting t/f to 1/0, respectively\n",
    "\n",
    "df.loc[:,t_f_xf] = df.loc[:,t_f_xf].replace({ 't' : 1, 'f' : 0})"
   ]
  },
  {
   "cell_type": "code",
   "execution_count": null,
   "metadata": {
    "ExecuteTime": {
     "end_time": "2021-08-15T20:32:35.286746Z",
     "start_time": "2021-08-15T20:32:33.173Z"
    }
   },
   "outputs": [],
   "source": [
    "df[t_f_xf][:5]"
   ]
  },
  {
   "cell_type": "code",
   "execution_count": null,
   "metadata": {
    "ExecuteTime": {
     "end_time": "2021-08-15T20:32:35.288744Z",
     "start_time": "2021-08-15T20:32:33.176Z"
    }
   },
   "outputs": [],
   "source": [
    "df.loc[:,t_f_xf] = df.loc[:,t_f_xf].astype(int)"
   ]
  },
  {
   "cell_type": "code",
   "execution_count": null,
   "metadata": {
    "ExecuteTime": {
     "end_time": "2021-08-15T20:32:35.289745Z",
     "start_time": "2021-08-15T20:32:33.180Z"
    }
   },
   "outputs": [],
   "source": [
    "## Verifying results\n",
    "\n",
    "cf.report_df(df[t_f_xf])"
   ]
  },
  {
   "cell_type": "markdown",
   "metadata": {},
   "source": [
    "## Converting Price to Float "
   ]
  },
  {
   "cell_type": "code",
   "execution_count": null,
   "metadata": {
    "ExecuteTime": {
     "end_time": "2021-08-15T20:32:35.290745Z",
     "start_time": "2021-08-15T20:32:33.186Z"
    }
   },
   "outputs": [],
   "source": [
    "## Converting each value into a float for processing\n",
    "\n",
    "df['price'] = df['price'].map(lambda price: price[1:].replace(',','')).astype('float')\n",
    "df['price'][0]"
   ]
  },
  {
   "cell_type": "code",
   "execution_count": null,
   "metadata": {
    "ExecuteTime": {
     "end_time": "2021-08-15T20:32:35.292746Z",
     "start_time": "2021-08-15T20:32:33.191Z"
    }
   },
   "outputs": [],
   "source": [
    "df['price'].describe()"
   ]
  },
  {
   "cell_type": "markdown",
   "metadata": {},
   "source": [
    "## Creating \"Years_Hosting\""
   ]
  },
  {
   "cell_type": "markdown",
   "metadata": {},
   "source": [
    "---\n",
    "\n",
    "> Since the 'host_since' feature is clearly a date, I will create a separate feature for how many years of activity for each host.\n",
    "\n",
    "---"
   ]
  },
  {
   "cell_type": "code",
   "execution_count": null,
   "metadata": {
    "ExecuteTime": {
     "end_time": "2021-08-15T20:32:35.293746Z",
     "start_time": "2021-08-15T20:32:33.197Z"
    }
   },
   "outputs": [],
   "source": [
    "df['years_hosting'] = df[\"host_since\"].map(lambda x: 2021- int(x.split(\"-\")[0]))\n",
    "df['years_hosting']"
   ]
  },
  {
   "cell_type": "code",
   "execution_count": null,
   "metadata": {
    "ExecuteTime": {
     "end_time": "2021-08-15T20:32:35.294745Z",
     "start_time": "2021-08-15T20:32:33.201Z"
    },
    "scrolled": true
   },
   "outputs": [],
   "source": [
    "df['years_hosting'].value_counts()"
   ]
  },
  {
   "cell_type": "code",
   "execution_count": null,
   "metadata": {
    "ExecuteTime": {
     "end_time": "2021-08-15T20:32:35.295747Z",
     "start_time": "2021-08-15T20:32:33.204Z"
    }
   },
   "outputs": [],
   "source": [
    "df['years_hosting'].describe()"
   ]
  },
  {
   "cell_type": "markdown",
   "metadata": {},
   "source": [
    "---\n",
    "\n",
    "> I successfully created the new feature to represent how long each host is active (up to 2021). I will be curious to see the impact of the years of experience on the overall rating at the end of my modeling process.\n",
    "\n",
    "---"
   ]
  },
  {
   "cell_type": "markdown",
   "metadata": {},
   "source": [
    "## Bathrooms_Text to Num_Bathrooms"
   ]
  },
  {
   "cell_type": "markdown",
   "metadata": {},
   "source": [
    "---\n",
    "\n",
    "> In the raw data, the original \"bathrooms\" feature was empty and was dropped as part of processing missing data.\n",
    ">\n",
    "> **My goal is to convert the \"bathrooms_text\" feature into a new \"num_bathrooms\" feature to indicate the number of bathrooms at a host property.**\n",
    ">\n",
    "> I assume the number of bathrooms would have an impact on the rating . More bathrooms could mean more space/comfort for the guest, but could also cause an increase in price.\n",
    "\n",
    "\n",
    "---"
   ]
  },
  {
   "cell_type": "code",
   "execution_count": null,
   "metadata": {
    "ExecuteTime": {
     "end_time": "2021-08-15T20:32:35.296744Z",
     "start_time": "2021-08-15T20:32:33.213Z"
    }
   },
   "outputs": [],
   "source": [
    "## Checking current dataframe contents\n",
    "df.head(3)"
   ]
  },
  {
   "cell_type": "code",
   "execution_count": null,
   "metadata": {
    "ExecuteTime": {
     "end_time": "2021-08-15T20:32:35.298745Z",
     "start_time": "2021-08-15T20:32:33.216Z"
    },
    "scrolled": false
   },
   "outputs": [],
   "source": [
    "## Checking for missing values overall\n",
    "df.isna().sum()[df.isna().sum() > 0]"
   ]
  },
  {
   "cell_type": "code",
   "execution_count": null,
   "metadata": {
    "ExecuteTime": {
     "end_time": "2021-08-15T20:32:35.299746Z",
     "start_time": "2021-08-15T20:32:33.219Z"
    },
    "scrolled": false
   },
   "outputs": [],
   "source": [
    "## Inspecting a selection of values from the column to understand the values\n",
    "df.loc[:,'bathrooms_text'][:21]"
   ]
  },
  {
   "cell_type": "code",
   "execution_count": null,
   "metadata": {
    "ExecuteTime": {
     "end_time": "2021-08-15T20:32:35.300746Z",
     "start_time": "2021-08-15T20:32:33.222Z"
    }
   },
   "outputs": [],
   "source": [
    "## Inspecting the rows in which there are null values\n",
    "df[df['bathrooms_text'].isna()]"
   ]
  },
  {
   "cell_type": "code",
   "execution_count": null,
   "metadata": {
    "ExecuteTime": {
     "end_time": "2021-08-15T20:32:35.302745Z",
     "start_time": "2021-08-15T20:32:33.226Z"
    }
   },
   "outputs": [],
   "source": [
    "## Filling null values with unique string ('Baths' not present otherwise)\n",
    "## Unique string can be used later to check for any other zero baths\n",
    "\n",
    "df.loc[:,'bathrooms_text'].fillna('0 Baths', inplace=True)"
   ]
  },
  {
   "cell_type": "code",
   "execution_count": null,
   "metadata": {
    "ExecuteTime": {
     "end_time": "2021-08-15T20:32:35.303744Z",
     "start_time": "2021-08-15T20:32:33.230Z"
    },
    "scrolled": false
   },
   "outputs": [],
   "source": [
    "## Verifying all null values are filled\n",
    "df.isna().sum()[df.isna().sum() > 0]"
   ]
  },
  {
   "cell_type": "code",
   "execution_count": null,
   "metadata": {
    "ExecuteTime": {
     "end_time": "2021-08-15T20:32:35.304746Z",
     "start_time": "2021-08-15T20:32:33.233Z"
    },
    "scrolled": true
   },
   "outputs": [],
   "source": [
    "df.loc[:,'bathrooms_text'].isna().sum()"
   ]
  },
  {
   "cell_type": "code",
   "execution_count": null,
   "metadata": {
    "ExecuteTime": {
     "end_time": "2021-08-15T20:32:35.305745Z",
     "start_time": "2021-08-15T20:32:33.237Z"
    },
    "scrolled": false
   },
   "outputs": [],
   "source": [
    "## Splitting each list into separate strings\n",
    "df['num_bathrooms'] = df['bathrooms_text'].map(lambda x: x.split(' ')[0])\n",
    "df['num_bathrooms'].value_counts()"
   ]
  },
  {
   "cell_type": "code",
   "execution_count": null,
   "metadata": {
    "ExecuteTime": {
     "end_time": "2021-08-15T20:32:35.306744Z",
     "start_time": "2021-08-15T20:32:33.241Z"
    },
    "scrolled": false
   },
   "outputs": [],
   "source": [
    "## Inspecting results that are phrases, not numbers\n",
    "\n",
    "replace = ['Half-bath', 'Shared', 'Private']\n",
    "\n",
    "for x in df['bathrooms_text']:\n",
    "    for i in replace:\n",
    "        if i in x:\n",
    "            print(x)"
   ]
  },
  {
   "cell_type": "markdown",
   "metadata": {},
   "source": [
    "---\n",
    "\n",
    "> **I will replace these values with the numeric value .5 as they are half-baths.** This will allow me to convert the column datatype to a float and use the column more easily in my modeling.\n",
    "\n",
    "---"
   ]
  },
  {
   "cell_type": "code",
   "execution_count": null,
   "metadata": {
    "ExecuteTime": {
     "end_time": "2021-08-15T20:32:35.307744Z",
     "start_time": "2021-08-15T20:32:33.247Z"
    },
    "scrolled": true
   },
   "outputs": [],
   "source": [
    "## Replacing string values with .5 to represent half-bathrooms\n",
    "\n",
    "replace = {'Half-bath': .5, 'Shared': .5, 'Private': .5}\n",
    "\n",
    "df['num_bathrooms'].replace(replace, inplace = True)\n",
    "\n",
    "df['num_bathrooms'] = df['num_bathrooms'].astype(float)"
   ]
  },
  {
   "cell_type": "code",
   "execution_count": null,
   "metadata": {
    "ExecuteTime": {
     "end_time": "2021-08-15T20:32:35.308744Z",
     "start_time": "2021-08-15T20:32:33.251Z"
    }
   },
   "outputs": [],
   "source": [
    "## Inspecting resulting values\n",
    "\n",
    "df['num_bathrooms'].value_counts(dropna=False)"
   ]
  },
  {
   "cell_type": "code",
   "execution_count": null,
   "metadata": {
    "ExecuteTime": {
     "end_time": "2021-08-15T20:32:35.310747Z",
     "start_time": "2021-08-15T20:32:33.257Z"
    },
    "scrolled": false
   },
   "outputs": [],
   "source": [
    "## Inspecting listings with more than 10 rooms\n",
    "\n",
    "df[df['num_bathrooms'] >10]"
   ]
  },
  {
   "cell_type": "markdown",
   "metadata": {},
   "source": [
    "---\n",
    "\n",
    "> After taking a look at the locations listed above on Google Maps (using their latitude/longitude), I feel like these three listings with more than 10 bathrooms are either duplicates or incorrect values (for 50 baths).\n",
    ">\n",
    "> Due to the questionable nature of these values, I will drop these rows to prevent these outliers from impacting my results.\n",
    "\n",
    "---"
   ]
  },
  {
   "cell_type": "code",
   "execution_count": null,
   "metadata": {
    "ExecuteTime": {
     "end_time": "2021-08-15T20:32:35.312746Z",
     "start_time": "2021-08-15T20:32:33.263Z"
    },
    "scrolled": true
   },
   "outputs": [],
   "source": [
    "## Inspecting rows where 'num_bathrooms' is zero to validate data\n",
    "\n",
    "df[df['num_bathrooms'] ==0]"
   ]
  },
  {
   "cell_type": "code",
   "execution_count": null,
   "metadata": {
    "ExecuteTime": {
     "end_time": "2021-08-15T20:32:35.314746Z",
     "start_time": "2021-08-15T20:32:33.269Z"
    }
   },
   "outputs": [],
   "source": [
    "## Removing old column post-conversion\n",
    "\n",
    "df = df.drop(columns = 'bathrooms_text')"
   ]
  },
  {
   "cell_type": "code",
   "execution_count": null,
   "metadata": {
    "ExecuteTime": {
     "end_time": "2021-08-15T20:32:35.316745Z",
     "start_time": "2021-08-15T20:32:33.275Z"
    }
   },
   "outputs": [],
   "source": [
    "## Confirming removal\n",
    "\n",
    "'bathrooms_text' in df.columns"
   ]
  },
  {
   "cell_type": "markdown",
   "metadata": {},
   "source": [
    "---\n",
    "\n",
    "> My review of the original bathroom text for the zero bathrooms column shows that the listings are associated with a private room. This would make sense as the listings may not include an option such as a shared bath, etc..\n",
    ">\n",
    "> Additionally I did fill 9 instances of missing values with \"0 Baths,\" which would contribute slightly to this count.\n",
    ">\n",
    "> Overall, I feel the data is valid and I will use it for my modeling.\n",
    "\n",
    "---"
   ]
  },
  {
   "cell_type": "markdown",
   "metadata": {},
   "source": [
    "## Cleaning Room_Type"
   ]
  },
  {
   "cell_type": "markdown",
   "metadata": {},
   "source": [
    "---\n",
    "\n",
    ">  In order to use “room_type” as a categorical variable, I convert the values to standardized strings. This allows me to perform one-hot encoding as part of my pre-modeling steps below.\n",
    "\n",
    "---"
   ]
  },
  {
   "cell_type": "code",
   "execution_count": null,
   "metadata": {
    "ExecuteTime": {
     "end_time": "2021-08-15T20:32:35.317745Z",
     "start_time": "2021-08-15T20:32:33.286Z"
    }
   },
   "outputs": [],
   "source": [
    "## Reviewing pre-existing values\n",
    "\n",
    "df['room_type'].value_counts()"
   ]
  },
  {
   "cell_type": "code",
   "execution_count": null,
   "metadata": {
    "ExecuteTime": {
     "end_time": "2021-08-15T20:32:35.319745Z",
     "start_time": "2021-08-15T20:32:33.292Z"
    }
   },
   "outputs": [],
   "source": [
    "## Replacing values with updated strings\n",
    "\n",
    "replace_rooms = {'Entire home/apt': 'entire_home', \n",
    "                 'Private room': 'private_room',\n",
    "                 'Shared room': 'shared_room',\n",
    "                 'Hotel room': 'hotel_room'\n",
    "                }\n",
    "\n",
    "df['room_type'].replace(replace_rooms, inplace=True)\n",
    "df['room_type'].value_counts(dropna=False)"
   ]
  },
  {
   "cell_type": "markdown",
   "metadata": {},
   "source": [
    "## Binarizing Columns"
   ]
  },
  {
   "cell_type": "markdown",
   "metadata": {},
   "source": [
    "---\n",
    "\n",
    "> The current values for \"neighbourhood_cleansed\", 'host_verifications', and 'amenities' are  single string values. **For each feature, I will separate each string into distinct, unique values and convert them into a binary column to represent whether or not that value is included in the listing, then drop the old column.**\n",
    "\n",
    "---"
   ]
  },
  {
   "cell_type": "markdown",
   "metadata": {},
   "source": [
    "### Neighbourhood_Cleansed"
   ]
  },
  {
   "cell_type": "code",
   "execution_count": null,
   "metadata": {
    "ExecuteTime": {
     "end_time": "2021-08-15T20:32:35.320745Z",
     "start_time": "2021-08-15T20:32:33.301Z"
    },
    "scrolled": true
   },
   "outputs": [],
   "source": [
    "## Inspecting feature\n",
    "df.loc[:,'neighbourhood_cleansed'][:5]"
   ]
  },
  {
   "cell_type": "code",
   "execution_count": null,
   "metadata": {
    "ExecuteTime": {
     "end_time": "2021-08-15T20:32:35.321747Z",
     "start_time": "2021-08-15T20:32:33.305Z"
    }
   },
   "outputs": [],
   "source": [
    "df.loc[:,'neighbourhood_cleansed'][0]"
   ]
  },
  {
   "cell_type": "code",
   "execution_count": null,
   "metadata": {
    "ExecuteTime": {
     "end_time": "2021-08-15T20:32:35.323746Z",
     "start_time": "2021-08-15T20:32:33.310Z"
    }
   },
   "outputs": [],
   "source": [
    "## Splitting string value between neighborhoods\n",
    "\n",
    "unique_nghbrhd = list(set(','.join(df['neighbourhood_cleansed']).split(',')))\n",
    "unique_nghbrhd"
   ]
  },
  {
   "cell_type": "code",
   "execution_count": null,
   "metadata": {
    "ExecuteTime": {
     "end_time": "2021-08-15T20:32:35.324745Z",
     "start_time": "2021-08-15T20:32:33.315Z"
    }
   },
   "outputs": [],
   "source": [
    "## Cleaning names and creating T/F binary columns\n",
    "\n",
    "for ngbrhd in unique_nghbrhd:\n",
    "    \n",
    "    ngbrhd = ngbrhd.replace(\"'\", \"\")\n",
    "    \n",
    "    if ngbrhd[0] == ' ':\n",
    "        ngbrhd = ngbrhd[1:]\n",
    "    \n",
    "    df[ngbrhd] = df['neighbourhood_cleansed'].str.contains(ngbrhd).astype(int)"
   ]
  },
  {
   "cell_type": "code",
   "execution_count": null,
   "metadata": {
    "ExecuteTime": {
     "end_time": "2021-08-15T20:32:35.326745Z",
     "start_time": "2021-08-15T20:32:33.322Z"
    }
   },
   "outputs": [],
   "source": [
    "## Confirming results\n",
    "df.columns[-20:]"
   ]
  },
  {
   "cell_type": "code",
   "execution_count": null,
   "metadata": {
    "ExecuteTime": {
     "end_time": "2021-08-15T20:32:35.329749Z",
     "start_time": "2021-08-15T20:32:33.327Z"
    },
    "scrolled": false
   },
   "outputs": [],
   "source": [
    "## Confirming removal of leading spaces and any quotes\n",
    "\n",
    "df.columns[-20:][0][:3]"
   ]
  },
  {
   "cell_type": "markdown",
   "metadata": {},
   "source": [
    "### Host_Verifications"
   ]
  },
  {
   "cell_type": "code",
   "execution_count": null,
   "metadata": {
    "ExecuteTime": {
     "end_time": "2021-08-15T20:32:35.330745Z",
     "start_time": "2021-08-15T20:32:33.335Z"
    },
    "scrolled": true
   },
   "outputs": [],
   "source": [
    "## Inspecting values\n",
    "df['host_verifications'][:5]"
   ]
  },
  {
   "cell_type": "code",
   "execution_count": null,
   "metadata": {
    "ExecuteTime": {
     "end_time": "2021-08-15T20:32:35.331745Z",
     "start_time": "2021-08-15T20:32:33.340Z"
    }
   },
   "outputs": [],
   "source": [
    "## Inspecting the first five items of the second row\n",
    "\n",
    "df.loc[:,'host_verifications'][1][:5]"
   ]
  },
  {
   "cell_type": "code",
   "execution_count": null,
   "metadata": {
    "ExecuteTime": {
     "end_time": "2021-08-15T20:32:35.332744Z",
     "start_time": "2021-08-15T20:32:33.346Z"
    },
    "scrolled": false
   },
   "outputs": [],
   "source": [
    "## Splitting string value between verifications\n",
    "\n",
    "unique_verif = list(set(','.join(df['host_verifications']).split(',')))\n",
    "unique_verif"
   ]
  },
  {
   "cell_type": "code",
   "execution_count": null,
   "metadata": {
    "ExecuteTime": {
     "end_time": "2021-08-15T20:32:35.333744Z",
     "start_time": "2021-08-15T20:32:33.352Z"
    }
   },
   "outputs": [],
   "source": [
    "## Cleaning names and creating T/F binary columns\n",
    "\n",
    "for verification in unique_verif:\n",
    "    \n",
    "    if len(verification) > 2:\n",
    "        \n",
    "        verification = verification.replace('[', '').replace(']', '').\\\n",
    "        replace(\"'\", '').replace('\"', '')\n",
    "\n",
    "    if verification[0] == ' ':\n",
    "        verification = verification[1:]\n",
    "\n",
    "        df[verification] = df['host_verifications'].str.\\\n",
    "                            contains(verification).astype(int)"
   ]
  },
  {
   "cell_type": "code",
   "execution_count": null,
   "metadata": {
    "ExecuteTime": {
     "end_time": "2021-08-15T20:32:35.334745Z",
     "start_time": "2021-08-15T20:32:33.358Z"
    },
    "scrolled": true
   },
   "outputs": [],
   "source": [
    "df.columns"
   ]
  },
  {
   "cell_type": "markdown",
   "metadata": {},
   "source": [
    "---\n",
    "\n",
    "> At this point, I successfully processed the 'host_verification' feature into distinct categories for modeling.\n",
    "\n",
    "---"
   ]
  },
  {
   "cell_type": "markdown",
   "metadata": {},
   "source": [
    "### Amenities\n"
   ]
  },
  {
   "cell_type": "code",
   "execution_count": null,
   "metadata": {
    "ExecuteTime": {
     "end_time": "2021-08-15T20:32:35.335744Z",
     "start_time": "2021-08-15T20:32:33.372Z"
    },
    "scrolled": true
   },
   "outputs": [],
   "source": [
    "## Inspecting values\n",
    "df['amenities'][:5]"
   ]
  },
  {
   "cell_type": "code",
   "execution_count": null,
   "metadata": {
    "ExecuteTime": {
     "end_time": "2021-08-15T20:32:35.336745Z",
     "start_time": "2021-08-15T20:32:33.383Z"
    }
   },
   "outputs": [],
   "source": [
    "## Inspecting the first five items of the second row\n",
    "\n",
    "df.loc[:,'amenities'][1][:5]"
   ]
  },
  {
   "cell_type": "code",
   "execution_count": null,
   "metadata": {
    "ExecuteTime": {
     "end_time": "2021-08-15T20:32:35.338746Z",
     "start_time": "2021-08-15T20:32:33.390Z"
    },
    "scrolled": true
   },
   "outputs": [],
   "source": [
    "## Splitting string value between items\n",
    "\n",
    "unique_amenities = list(set(','.join(df['amenities']).split(',')))\n",
    "unique_amenities"
   ]
  },
  {
   "cell_type": "code",
   "execution_count": null,
   "metadata": {
    "ExecuteTime": {
     "end_time": "2021-08-15T20:32:35.339746Z",
     "start_time": "2021-08-15T20:32:33.397Z"
    },
    "scrolled": true
   },
   "outputs": [],
   "source": [
    "## Cleaning names and creating T/F binary columns\n",
    "\n",
    "for amenity in unique_amenities:\n",
    "           \n",
    "    amenity = amenity.replace('[', '').replace(']', '').\\\n",
    "    replace(\"'\", '').replace('\"', '')\n",
    "\n",
    "    if amenity[0] == ' ':\n",
    "        amenity = amenity[1:]\n",
    "\n",
    "        df[amenity] = df['amenities'].str.\\\n",
    "                            contains(amenity).astype(int)"
   ]
  },
  {
   "cell_type": "code",
   "execution_count": null,
   "metadata": {
    "ExecuteTime": {
     "end_time": "2021-08-15T20:32:35.341747Z",
     "start_time": "2021-08-15T20:32:33.403Z"
    }
   },
   "outputs": [],
   "source": [
    "df.columns"
   ]
  },
  {
   "cell_type": "markdown",
   "metadata": {},
   "source": [
    "# 🔬 **Pre-Pipeline Review**"
   ]
  },
  {
   "cell_type": "code",
   "execution_count": null,
   "metadata": {
    "ExecuteTime": {
     "end_time": "2021-08-15T20:32:35.342745Z",
     "start_time": "2021-08-15T20:32:33.410Z"
    },
    "scrolled": false
   },
   "outputs": [],
   "source": [
    "## Review remaining data\n",
    "df.head(3)"
   ]
  },
  {
   "cell_type": "code",
   "execution_count": null,
   "metadata": {
    "ExecuteTime": {
     "end_time": "2021-08-15T20:32:35.343744Z",
     "start_time": "2021-08-15T20:32:33.416Z"
    }
   },
   "outputs": [],
   "source": [
    "## Removing columns with no impact on modeling\n",
    "\n",
    "df.drop(columns = ['host_since', 'host_neighbourhood', 'amenities', 'host_is_superhost'], inplace=True)"
   ]
  },
  {
   "cell_type": "code",
   "execution_count": null,
   "metadata": {
    "ExecuteTime": {
     "end_time": "2021-08-15T20:32:35.345745Z",
     "start_time": "2021-08-15T20:32:33.421Z"
    },
    "scrolled": false
   },
   "outputs": [],
   "source": [
    "## Final review\n",
    "\n",
    "df.describe()"
   ]
  },
  {
   "cell_type": "markdown",
   "metadata": {},
   "source": [
    "# **Binarizing Target Feature**"
   ]
  },
  {
   "cell_type": "markdown",
   "metadata": {},
   "source": [
    "---\n",
    "\n",
    "> In order to achieve the goal of identifying the most important features for review scores, I convert the target variable 'review_scores_rating\" into binary values to represent if the score is below the threshold of 4.8 (represented as a '0') and above the threshold (represented as a '0').\n",
    "\n",
    "---"
   ]
  },
  {
   "cell_type": "code",
   "execution_count": null,
   "metadata": {
    "ExecuteTime": {
     "end_time": "2021-08-15T20:32:35.346745Z",
     "start_time": "2021-08-15T20:32:33.428Z"
    }
   },
   "outputs": [],
   "source": [
    "## Using np.select to reassign target values based on conditional evaluations\n",
    "\n",
    "cond = [df['review_scores_rating'] >= 4.8,\n",
    "        df['review_scores_rating'] < 4.8]\n",
    "\n",
    "choice = [1,0]\n",
    "\n",
    "df['review_scores_rating'] = np.select(cond, choice, 0)"
   ]
  },
  {
   "cell_type": "code",
   "execution_count": null,
   "metadata": {
    "ExecuteTime": {
     "end_time": "2021-08-15T20:32:35.347745Z",
     "start_time": "2021-08-15T20:32:33.434Z"
    }
   },
   "outputs": [],
   "source": [
    "## Reviewing results to confirm only 0/1 values and inspecting balance\n",
    "df['review_scores_rating'].value_counts(dropna=False, normalize=True, sort=False)"
   ]
  },
  {
   "cell_type": "markdown",
   "metadata": {},
   "source": [
    "---\n",
    "\n",
    "> After processing the missing values and formatting the data, the values are properly converted into 0/1 values and the class balance is maintained.\n",
    "\n",
    "---"
   ]
  },
  {
   "cell_type": "markdown",
   "metadata": {},
   "source": [
    "# 🪓 **Train/Test Split**"
   ]
  },
  {
   "cell_type": "markdown",
   "metadata": {},
   "source": [
    "---\n",
    "\n",
    "> Before I run any further pre-processing, I split my data into training and test sets to allow me to test my model's performance.\n",
    ">\n",
    "> **Since my target feature is converted into binary values, I will use the \"stratify\" parameter in my train/test split, preserving the class balance when I split my data.** This will be key for proper evaluation of my models.\n",
    "\n",
    "---"
   ]
  },
  {
   "cell_type": "code",
   "execution_count": null,
   "metadata": {
    "ExecuteTime": {
     "end_time": "2021-08-15T20:32:35.348745Z",
     "start_time": "2021-08-15T20:32:33.444Z"
    }
   },
   "outputs": [],
   "source": [
    "## Specifying features and target columns for dataset\n",
    "target = 'review_scores_rating'\n",
    "\n",
    "X = df.drop(columns = target).copy()\n",
    "y = df[target].copy()"
   ]
  },
  {
   "cell_type": "code",
   "execution_count": null,
   "metadata": {
    "ExecuteTime": {
     "end_time": "2021-08-15T20:32:35.349745Z",
     "start_time": "2021-08-15T20:32:33.450Z"
    }
   },
   "outputs": [],
   "source": [
    "## Confirming same number of rows\n",
    "X.shape[0] == y.shape[0]"
   ]
  },
  {
   "cell_type": "code",
   "execution_count": null,
   "metadata": {
    "ExecuteTime": {
     "end_time": "2021-08-15T20:32:35.351746Z",
     "start_time": "2021-08-15T20:32:33.455Z"
    }
   },
   "outputs": [],
   "source": [
    "## Splitting to prevent data leakage\n",
    "X_train, X_test, y_train, y_test = train_test_split(X, y, test_size = .3, \n",
    "                                                    random_state=42, \n",
    "                                                    stratify=y)"
   ]
  },
  {
   "cell_type": "markdown",
   "metadata": {},
   "source": [
    "# 🚿 **Preprocessing Pipeline**"
   ]
  },
  {
   "cell_type": "markdown",
   "metadata": {},
   "source": [
    "---\n",
    "\n",
    ">  Before I start my modeling processes, I convert my remaining categorical column via one-hot encoding and perform standardization on my numeric columns. Once my columns are properly converted, I will save them as new dataframes and use them in my modeling.\n",
    "\n",
    "---"
   ]
  },
  {
   "cell_type": "code",
   "execution_count": null,
   "metadata": {
    "ExecuteTime": {
     "end_time": "2021-08-15T20:32:35.352746Z",
     "start_time": "2021-08-15T20:32:33.463Z"
    },
    "scrolled": false
   },
   "outputs": [],
   "source": [
    "## Specifying numeric columns for preprocessing\n",
    "num_cols = X_train.select_dtypes(include=[int, float]).columns.to_list()\n",
    "# num_cols"
   ]
  },
  {
   "cell_type": "code",
   "execution_count": null,
   "metadata": {
    "ExecuteTime": {
     "end_time": "2021-08-15T20:32:35.353746Z",
     "start_time": "2021-08-15T20:32:33.469Z"
    },
    "scrolled": true
   },
   "outputs": [],
   "source": [
    "## Specifying categorical columns for preprocessing\n",
    "cat_cols = ['room_type']\n",
    "cat_cols"
   ]
  },
  {
   "cell_type": "code",
   "execution_count": null,
   "metadata": {
    "ExecuteTime": {
     "end_time": "2021-08-15T20:32:35.355748Z",
     "start_time": "2021-08-15T20:32:33.475Z"
    }
   },
   "outputs": [],
   "source": [
    "## Checking missing X-values for imputation\n",
    "X_train.isna().sum()[X_train.isna().sum() > 0]"
   ]
  },
  {
   "cell_type": "markdown",
   "metadata": {},
   "source": [
    "## Runnning Preprocessor"
   ]
  },
  {
   "cell_type": "code",
   "execution_count": null,
   "metadata": {
    "ExecuteTime": {
     "end_time": "2021-08-15T20:32:35.356749Z",
     "start_time": "2021-08-15T20:32:33.482Z"
    }
   },
   "outputs": [],
   "source": [
    "## Creating ColumnTransformer and sub-transformers for imputation and encoding\n",
    "\n",
    "\n",
    "### --- Creating column transformers --- ###\n",
    "\n",
    "# Filling missing values in \"Beds\" and \"Bedrooms\"\n",
    "miss_num_transformer = SimpleImputer(strategy='mean')\n",
    "\n",
    "## Encoding categoricals - ignoring errors to prevent issues w/ test set\n",
    "categorical_transformer = OneHotEncoder(handle_unknown='ignore', sparse=False)\n",
    "\n",
    "\n",
    "### --- Creating column pipelines --- ###\n",
    "\n",
    "cat_pipe = Pipeline(steps=[('ohe', categorical_transformer)])\n",
    "\n",
    "num_pipe = Pipeline(steps=[('imputer', miss_num_transformer),\n",
    "                           ('scaler', StandardScaler())])\n",
    "\n",
    "## Instantiating the ColumnTransformer\n",
    "\n",
    "preprocessor = ColumnTransformer(\n",
    "    transformers=[('nums', num_pipe, num_cols),\n",
    "                  ('cats', cat_pipe, cat_cols)])\n",
    "\n",
    "preprocessor"
   ]
  },
  {
   "cell_type": "code",
   "execution_count": null,
   "metadata": {
    "ExecuteTime": {
     "end_time": "2021-08-15T20:32:35.357745Z",
     "start_time": "2021-08-15T20:32:33.489Z"
    }
   },
   "outputs": [],
   "source": [
    "## Fitting feature preprocessor\n",
    "preprocessor.fit(X_train)\n",
    "\n",
    "## Getting feature names from OHE\n",
    "ohe_cat_names = preprocessor.named_transformers_['cats'].named_steps['ohe'].get_feature_names(cat_cols)\n",
    "\n",
    "## Generating list for column index\n",
    "final_cols = [*num_cols, *ohe_cat_names]"
   ]
  },
  {
   "cell_type": "code",
   "execution_count": null,
   "metadata": {
    "ExecuteTime": {
     "end_time": "2021-08-15T20:32:35.359746Z",
     "start_time": "2021-08-15T20:32:33.499Z"
    },
    "scrolled": false
   },
   "outputs": [],
   "source": [
    "## Transform the data via the ColumnTransformer preprocessor\n",
    "\n",
    "X_train_tf = preprocessor.transform(X_train)\n",
    "X_train_tf_df = pd.DataFrame(X_train_tf, columns=final_cols, index=X_train.index)\n",
    "\n",
    "X_test_tf = preprocessor.transform(X_test)\n",
    "X_test_tf_df = pd.DataFrame(X_test_tf, columns=final_cols, index=X_test.index)\n",
    "\n",
    "display(X_train_tf_df.head(5),X_test_tf_df.head(5))"
   ]
  },
  {
   "cell_type": "markdown",
   "metadata": {},
   "source": [
    "# 📊 **Baseline Model**"
   ]
  },
  {
   "cell_type": "code",
   "execution_count": null,
   "metadata": {
    "ExecuteTime": {
     "end_time": "2021-08-15T20:32:35.360745Z",
     "start_time": "2021-08-15T20:32:33.507Z"
    },
    "scrolled": false
   },
   "outputs": [],
   "source": [
    "## Creating baseline classifier model\n",
    "\n",
    "base = DummyClassifier(strategy='stratified', random_state = 42)\n",
    "\n",
    "base.fit(X_train_tf_df, y_train)\n",
    "\n",
    "cf.evaluate_classification(base,X_train = X_train_tf_df, y_train = y_train,\n",
    "                           X_test = X_test_tf_df, y_test = y_test, \n",
    "                           metric = 'accuracy')"
   ]
  },
  {
   "cell_type": "code",
   "execution_count": null,
   "metadata": {
    "ExecuteTime": {
     "end_time": "2021-08-15T20:32:35.361744Z",
     "start_time": "2021-08-15T20:32:33.517Z"
    }
   },
   "outputs": [],
   "source": [
    "## Saving the baseline scores for later comparisons\n",
    "\n",
    "base_train_score, base_test_score, base_train_ll, base_test_ll = \\\n",
    "cf.model_scores(base, X_train_tf_df, y_train, X_test_tf_df, y_test)\n",
    "\n",
    "base_train_score, base_test_score, base_train_ll, base_test_ll"
   ]
  },
  {
   "cell_type": "markdown",
   "metadata": {},
   "source": [
    "---\n",
    "\n",
    "**Interpretation**\n",
    "\n",
    "> The baseline model is designed to be a poor-performer: the results are intended to be be close to .5 for most metrics, indicating the model is not performing better than simply guessing one result or the other.\n",
    ">\n",
    "> I use this model as a comparison point to judge the performance of my other models.\n",
    "\n",
    "---"
   ]
  },
  {
   "cell_type": "markdown",
   "metadata": {},
   "source": [
    "#  📊 **Logistic Regression Model**"
   ]
  },
  {
   "cell_type": "code",
   "execution_count": null,
   "metadata": {
    "ExecuteTime": {
     "end_time": "2021-08-15T20:32:35.363746Z",
     "start_time": "2021-08-15T20:32:33.526Z"
    }
   },
   "outputs": [],
   "source": [
    "clf = LogisticRegression(tol = 1e-3, C = 10, penalty = \"l1\", solver = 'saga', \n",
    "                         max_iter=1000, class_weight='balanced', n_jobs=-1,\n",
    "                         random_state = 42)\n",
    "\n",
    "clf.fit(X_train_tf_df, y_train)\n",
    "\n",
    "cf.evaluate_classification(clf, X_train = X_train_tf_df, y_train = y_train,\n",
    "                           X_test = X_test_tf_df, y_test = y_test,\n",
    "                          metric = 'accuracy')"
   ]
  },
  {
   "cell_type": "code",
   "execution_count": null,
   "metadata": {
    "ExecuteTime": {
     "end_time": "2021-08-15T20:32:35.364747Z",
     "start_time": "2021-08-15T20:32:33.531Z"
    }
   },
   "outputs": [],
   "source": [
    "clf.coef_.flatten().shape"
   ]
  },
  {
   "cell_type": "code",
   "execution_count": null,
   "metadata": {
    "ExecuteTime": {
     "end_time": "2021-08-15T20:32:35.365744Z",
     "start_time": "2021-08-15T20:32:33.536Z"
    }
   },
   "outputs": [],
   "source": [
    "logreg_coefs = pd.Series(clf.coef_.flatten(),\n",
    "                         index= X_train_tf_df.columns)\\\n",
    "                            .sort_values(ascending = False)\n",
    "logreg_coefs"
   ]
  },
  {
   "cell_type": "code",
   "execution_count": null,
   "metadata": {
    "ExecuteTime": {
     "end_time": "2021-08-15T20:32:35.367745Z",
     "start_time": "2021-08-15T20:32:33.541Z"
    }
   },
   "outputs": [],
   "source": [
    "pd.concat([logreg_coefs.head(10),logreg_coefs.tail(10)]).plot(kind='barh')\n",
    "\n",
    "# logreg_coefs.head(10).plot(kind='barh')\n",
    "# logreg_coefs.tail(10).plot(kind='barh')"
   ]
  },
  {
   "cell_type": "markdown",
   "metadata": {},
   "source": [
    "top: table, private room\n",
    "bottom: shared rooms, # beds/room\n",
    "\n",
    "Privacy being a big impact - private vs.shared rooms; certain amenities perform better than others.\n",
    "\n",
    "Future exploration:\n",
    "\n",
    "* stove: could be like renting a room from an apartment, sharing stove"
   ]
  },
  {
   "cell_type": "code",
   "execution_count": null,
   "metadata": {
    "ExecuteTime": {
     "end_time": "2021-08-15T20:32:35.368745Z",
     "start_time": "2021-08-15T20:32:33.545Z"
    }
   },
   "outputs": [],
   "source": [
    "## Future work: correlation plot for original features"
   ]
  },
  {
   "cell_type": "markdown",
   "metadata": {},
   "source": [
    "---\n",
    "\n",
    "**Interpretation**\n",
    "\n",
    "> The simple LogReg model shows a slight performance increase - the log-loss decreased, the accuracy incrased, and my macro recall score also increased.\n",
    ">\n",
    "> This model mis-predicts values about 64% of the time, most likely due to the class imbalances.\n",
    "\n",
    "---"
   ]
  },
  {
   "cell_type": "markdown",
   "metadata": {},
   "source": [
    "# 📊 **RandomForestClassifier**"
   ]
  },
  {
   "cell_type": "markdown",
   "metadata": {},
   "source": [
    "### Vanilla RFC"
   ]
  },
  {
   "cell_type": "code",
   "execution_count": null,
   "metadata": {
    "ExecuteTime": {
     "end_time": "2021-08-15T20:32:35.369746Z",
     "start_time": "2021-08-15T20:32:33.551Z"
    }
   },
   "outputs": [],
   "source": [
    "rfc = RandomForestClassifier(class_weight = 'balanced', n_jobs=-1,\n",
    "                             random_state=42)"
   ]
  },
  {
   "cell_type": "code",
   "execution_count": null,
   "metadata": {
    "ExecuteTime": {
     "end_time": "2021-08-15T20:32:35.370745Z",
     "start_time": "2021-08-15T20:32:33.558Z"
    }
   },
   "outputs": [],
   "source": [
    "rfc.fit(X_train_tf_df, y_train)"
   ]
  },
  {
   "cell_type": "code",
   "execution_count": null,
   "metadata": {
    "ExecuteTime": {
     "end_time": "2021-08-15T20:32:35.372746Z",
     "start_time": "2021-08-15T20:32:33.564Z"
    },
    "scrolled": false
   },
   "outputs": [],
   "source": [
    "cf.evaluate_classification(rfc, X_train = X_train_tf_df, y_train = y_train,\n",
    "                           X_test = X_test_tf_df, y_test = y_test,\n",
    "                          metric = 'accuracy')"
   ]
  },
  {
   "cell_type": "markdown",
   "metadata": {},
   "source": [
    "### Post-GSCV RFC"
   ]
  },
  {
   "cell_type": "code",
   "execution_count": null,
   "metadata": {
    "ExecuteTime": {
     "end_time": "2021-08-15T20:32:35.373746Z",
     "start_time": "2021-08-15T20:32:33.569Z"
    }
   },
   "outputs": [],
   "source": [
    "rfc = RandomForestClassifier(bootstrap = False,max_features= 'sqrt', class_weight = 'balanced',\n",
    "                            n_jobs=-1, max_depth = 15, min_samples_leaf = 3,\n",
    "                            min_samples_split = 4, random_state=42)"
   ]
  },
  {
   "cell_type": "code",
   "execution_count": null,
   "metadata": {
    "ExecuteTime": {
     "end_time": "2021-08-15T20:32:35.374745Z",
     "start_time": "2021-08-15T20:32:33.574Z"
    }
   },
   "outputs": [],
   "source": [
    "rfc.fit(X_train_tf_df, y_train)"
   ]
  },
  {
   "cell_type": "code",
   "execution_count": null,
   "metadata": {
    "ExecuteTime": {
     "end_time": "2021-08-15T20:32:35.375746Z",
     "start_time": "2021-08-15T20:32:33.579Z"
    },
    "scrolled": false
   },
   "outputs": [],
   "source": [
    "cf.evaluate_classification(rfc, X_train = X_train_tf_df, y_train = y_train,\n",
    "                           X_test = X_test_tf_df, y_test = y_test,\n",
    "                          metric = 'accuracy')"
   ]
  },
  {
   "cell_type": "markdown",
   "metadata": {},
   "source": [
    "## Results"
   ]
  },
  {
   "cell_type": "markdown",
   "metadata": {},
   "source": [
    "---\n",
    "\n",
    " **Comparing with Logistic Regression Model**\n",
    ">\n",
    "> The Random Forest classification model shows a higher degree of over-fitting; this is to be expected for tree-style models.\n",
    ">\n",
    "> This model shows slight performance increases as well. The log-loss decreased slightly as well, and the main two metrics of macro recall and accuracy both increased slightly.\n",
    ">\n",
    "> I will use this model as my best-performing model and will use its feature importances for my recommendations.\n",
    "\n",
    "---"
   ]
  },
  {
   "cell_type": "markdown",
   "metadata": {},
   "source": [
    "## Visualizing Feature Importances"
   ]
  },
  {
   "cell_type": "markdown",
   "metadata": {},
   "source": [
    "---\n",
    "\n",
    "> Now that I have the feature importances from my model, I interpret the results via visualizing the most important features and the target feature.\n",
    "\n",
    "---"
   ]
  },
  {
   "cell_type": "code",
   "execution_count": null,
   "metadata": {
    "ExecuteTime": {
     "end_time": "2021-08-15T20:32:35.377745Z",
     "start_time": "2021-08-15T20:32:33.589Z"
    },
    "scrolled": false
   },
   "outputs": [],
   "source": [
    "cf.plot_importances(rfc, X_test_tf_df, count=10)"
   ]
  },
  {
   "cell_type": "markdown",
   "metadata": {},
   "source": [
    "---\n",
    "\n",
    "**Interpreting Results**\n",
    "\n",
    "> My resulting feature importances show that **the strongest predictor of scores 4.8+ would be whether or not a host is a SuperHost.** This makes sense, as one of the requirements for a host to be a SuperHost is to maintain a 4.8+ score, in addition to other requirements.\n",
    ">\n",
    "> Following SuperHost status are the number of listings for a host. **If a host has a large number of properties, they would most likely be an established businessperson and would be committed to hospitality, versus someone just renting out a spare room.**\n",
    "\n",
    "---"
   ]
  },
  {
   "cell_type": "markdown",
   "metadata": {},
   "source": [
    "# 💡 **Final Recommendations**\n"
   ]
  },
  {
   "cell_type": "markdown",
   "metadata": {},
   "source": [
    "---\n",
    "\n",
    "> **Based on the results of my models, I would recommend for Airbnb to prioritize promoting hosts to SuperHost status.**  SuperHost status is the strongest predictor for the desired high scores, and it is realistic for Airbnb to invest in their development and support. The second- and third-strongest predictors are much more difficult (and unrealistic) for Airbnb and hosts to improve.\n",
    ">\n",
    "> For further development, I would do the following:\n",
    ">* **Include details from text reviews:** while the traditional survey questions are respected and informative, text-based reviews take precedence. In my experience in hotel operations, I would often get much more information from the written reviews, including nuances and specifics that the yes/no or 1-5 ratings miss.\n",
    ">* **Include other regions:** My current dataset focused only on the Washington, D.C. area. Due to different regional factors (social/economic demographics; legal restrictions; etc.), other markets may show other features to be more important than my results. Additionally, I would like to explore international data to compare with the domestic data.\n",
    "\n",
    "--- "
   ]
  }
 ],
 "metadata": {
  "kernelspec": {
   "display_name": "Python 3",
   "language": "python",
   "name": "python3"
  },
  "language_info": {
   "codemirror_mode": {
    "name": "ipython",
    "version": 3
   },
   "file_extension": ".py",
   "mimetype": "text/x-python",
   "name": "python",
   "nbconvert_exporter": "python",
   "pygments_lexer": "ipython3",
   "version": "3.7.6"
  },
  "toc": {
   "base_numbering": 1,
   "nav_menu": {},
   "number_sections": true,
   "sideBar": true,
   "skip_h1_title": false,
   "title_cell": "Table of Contents",
   "title_sidebar": "Contents",
   "toc_cell": false,
   "toc_position": {
    "height": "calc(100% - 180px)",
    "left": "10px",
    "top": "150px",
    "width": "170px"
   },
   "toc_section_display": true,
   "toc_window_display": true
  }
 },
 "nbformat": 4,
 "nbformat_minor": 4
}
