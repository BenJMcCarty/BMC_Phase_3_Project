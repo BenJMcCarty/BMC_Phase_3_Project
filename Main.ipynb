{
 "cells": [
  {
   "cell_type": "markdown",
   "metadata": {},
   "source": [
    "# 🏡 **AirBNB Dataset Review** 🏨"
   ]
  },
  {
   "cell_type": "markdown",
   "metadata": {},
   "source": [
    "# ❌ Update target audience and guiding questions"
   ]
  },
  {
   "cell_type": "markdown",
   "metadata": {},
   "source": [
    "**Who?**\n",
    ">* 🏢 **AirBNB Corporate** interested in maximizing customer satisfaction to increase repeat guests and encourage new guests to stay with AirBNB hosts\n",
    ">\n",
    ">\n",
    ">* **AirBNB hosts** interested in maximizing the ratings\n",
    "\n",
    "**Why?**\n",
    ">* 💰 **Revenue Management:** \n",
    ">  * Revenue optimization: Right price, right time, right customer\n",
    ">    * Dynamic pricing\n",
    ">    * Distribution channels\n",
    ">    * Pricing per room type\n",
    ">\n",
    ">\n",
    ">* 🤝 **Sales:**\n",
    ">  * Group sales (pickup/wash)\n",
    ">  * BT (performance/company for both GPP and LNR rates)\n",
    ">\n",
    ">\n",
    ">* 🛌 **Rooms Ops:**\n",
    ">  * Forecasting occupancy, arrivals, departures, stay-overs, same-day booking demand, and probability of guest relocation in the case of oversell.\n",
    ">  * Determining staff schedules and periods of high demand\n",
    ">\n",
    ">\n",
    ">* 🍰 ☕ **Food and Beverage:**\n",
    ">  * Ordering food/supplies overall\n",
    ">  * Scheduling staff\n",
    ">  * Determining busy times (breakfast, lunch, dinner)\n",
    ">    * Staffing, specific food/supplies\n",
    "\n",
    "**What?**\n",
    ">* 🧾 Dataset comprised of... \n",
    ">  * 32 different features\n",
    ">    * Detailed explanation of features (and sub-categories, when appropriate) available in Readme\n",
    ">  * Nearly 120,000 reservation records\n",
    ">  * Source cited in Readme\n",
    "\n",
    "❌ **How?**\n",
    ">* Which models/methods? \n",
    ">* Data prep and feature engineering"
   ]
  },
  {
   "cell_type": "markdown",
   "metadata": {},
   "source": [
    "# ❌ **Goal:**"
   ]
  },
  {
   "cell_type": "markdown",
   "metadata": {},
   "source": [
    "To determine whether or not a reservation would cancel given different details of a guest and their reservation."
   ]
  },
  {
   "cell_type": "markdown",
   "metadata": {},
   "source": [
    "# 📌 **To-Do**"
   ]
  },
  {
   "cell_type": "markdown",
   "metadata": {},
   "source": [
    ">* Update each section with ***working*** code\n",
    ">* Include references/details for relevant packages\n",
    "---\n",
    "\n",
    "- [ ] [TD1](#td1)\n",
    "- [ ] [TD2](#td2)\n",
    "- [ ] [TD3](#td3)\n",
    "- [ ] [todo4](#td4)\n",
    "- [ ] [todo5](#td5)\n",
    "- [ ] [todo6](#td6)\n",
    "- [ ] [todo7](#td7)"
   ]
  },
  {
   "cell_type": "markdown",
   "metadata": {},
   "source": [
    "# 📂 **Imports**"
   ]
  },
  {
   "cell_type": "code",
   "execution_count": 72,
   "metadata": {
    "ExecuteTime": {
     "end_time": "2021-08-01T19:56:43.727734Z",
     "start_time": "2021-08-01T19:56:43.578602Z"
    }
   },
   "outputs": [],
   "source": [
    "## Data Handling\n",
    "import pandas as pd\n",
    "import numpy as np\n",
    "from scipy import stats\n",
    "\n",
    "## Visualizations\n",
    "import matplotlib as mpl\n",
    "import matplotlib.pyplot as plt\n",
    "import seaborn as sns\n",
    "from ipywidgets import interact_manual\n",
    "\n",
    "## Modeling - SKLearn\n",
    "from sklearn.linear_model import LogisticRegression\n",
    "from sklearn.preprocessing import StandardScaler, OneHotEncoder, FunctionTransformer\n",
    "from sklearn.model_selection import train_test_split, cross_val_score\n",
    "from sklearn.impute import SimpleImputer\n",
    "from sklearn.compose import ColumnTransformer\n",
    "from sklearn.pipeline import Pipeline\n",
    "from sklearn.dummy import DummyRegressor\n",
    "from sklearn import set_config\n",
    "set_config(display='diagram')\n",
    "\n",
    "# from sklearn.naive_bayes import MultinomialNB # for naive bayes model\n",
    "\n",
    "## Settings\n",
    "%matplotlib inline\n",
    "plt.style.use('seaborn-talk')\n",
    "pd.set_option('display.max_columns', None)\n",
    "pd.set_option('display.float_format', lambda x: f'{x:,.2f}')\n",
    "pd.set_option('max_rows', 100)"
   ]
  },
  {
   "cell_type": "code",
   "execution_count": 2,
   "metadata": {
    "ExecuteTime": {
     "end_time": "2021-08-01T18:53:49.333101Z",
     "start_time": "2021-08-01T18:53:48.881091Z"
    }
   },
   "outputs": [],
   "source": [
    "## Personal functions\n",
    "import clf_functions.functions as cf\n",
    "%load_ext autoreload\n",
    "%autoreload 1\n",
    "%aimport clf_functions.functions"
   ]
  },
  {
   "cell_type": "markdown",
   "metadata": {},
   "source": [
    "## FSDS"
   ]
  },
  {
   "cell_type": "code",
   "execution_count": 61,
   "metadata": {
    "ExecuteTime": {
     "end_time": "2021-08-01T19:27:15.960751Z",
     "start_time": "2021-08-01T19:27:15.945728Z"
    }
   },
   "outputs": [],
   "source": [
    "# import fsds as fs"
   ]
  },
  {
   "cell_type": "code",
   "execution_count": 65,
   "metadata": {
    "ExecuteTime": {
     "end_time": "2021-08-01T19:49:10.636613Z",
     "start_time": "2021-08-01T19:49:10.631624Z"
    },
    "scrolled": false
   },
   "outputs": [],
   "source": [
    "# fs.ihelp_menu([fs.ihelp_menu, sort_report])"
   ]
  },
  {
   "cell_type": "markdown",
   "metadata": {},
   "source": [
    "# 📖 **Read Data**"
   ]
  },
  {
   "cell_type": "code",
   "execution_count": 3,
   "metadata": {
    "ExecuteTime": {
     "end_time": "2021-08-01T18:53:51.690819Z",
     "start_time": "2021-08-01T18:53:49.335102Z"
    }
   },
   "outputs": [],
   "source": [
    "## Reading data and saving to a DataFrame\n",
    "\n",
    "source = 'http://data.insideairbnb.com/united-states/dc/washington-dc/2021-07-10/data/listings.csv.gz'\n",
    "\n",
    "data = pd.read_csv(source)"
   ]
  },
  {
   "cell_type": "code",
   "execution_count": 4,
   "metadata": {
    "ExecuteTime": {
     "end_time": "2021-08-01T18:53:51.752851Z",
     "start_time": "2021-08-01T18:53:51.693822Z"
    }
   },
   "outputs": [
    {
     "data": {
      "text/html": [
       "<div>\n",
       "<style scoped>\n",
       "    .dataframe tbody tr th:only-of-type {\n",
       "        vertical-align: middle;\n",
       "    }\n",
       "\n",
       "    .dataframe tbody tr th {\n",
       "        vertical-align: top;\n",
       "    }\n",
       "\n",
       "    .dataframe thead th {\n",
       "        text-align: right;\n",
       "    }\n",
       "</style>\n",
       "<table border=\"1\" class=\"dataframe\">\n",
       "  <thead>\n",
       "    <tr style=\"text-align: right;\">\n",
       "      <th></th>\n",
       "      <th>id</th>\n",
       "      <th>listing_url</th>\n",
       "      <th>scrape_id</th>\n",
       "      <th>last_scraped</th>\n",
       "      <th>name</th>\n",
       "      <th>description</th>\n",
       "      <th>neighborhood_overview</th>\n",
       "      <th>picture_url</th>\n",
       "      <th>host_id</th>\n",
       "      <th>host_url</th>\n",
       "      <th>host_name</th>\n",
       "      <th>host_since</th>\n",
       "      <th>host_location</th>\n",
       "      <th>host_about</th>\n",
       "      <th>host_response_time</th>\n",
       "      <th>host_response_rate</th>\n",
       "      <th>host_acceptance_rate</th>\n",
       "      <th>host_is_superhost</th>\n",
       "      <th>host_thumbnail_url</th>\n",
       "      <th>host_picture_url</th>\n",
       "      <th>host_neighbourhood</th>\n",
       "      <th>host_listings_count</th>\n",
       "      <th>host_total_listings_count</th>\n",
       "      <th>host_verifications</th>\n",
       "      <th>host_has_profile_pic</th>\n",
       "      <th>host_identity_verified</th>\n",
       "      <th>neighbourhood</th>\n",
       "      <th>neighbourhood_cleansed</th>\n",
       "      <th>neighbourhood_group_cleansed</th>\n",
       "      <th>latitude</th>\n",
       "      <th>longitude</th>\n",
       "      <th>property_type</th>\n",
       "      <th>room_type</th>\n",
       "      <th>accommodates</th>\n",
       "      <th>bathrooms</th>\n",
       "      <th>bathrooms_text</th>\n",
       "      <th>bedrooms</th>\n",
       "      <th>beds</th>\n",
       "      <th>amenities</th>\n",
       "      <th>price</th>\n",
       "      <th>minimum_nights</th>\n",
       "      <th>maximum_nights</th>\n",
       "      <th>minimum_minimum_nights</th>\n",
       "      <th>maximum_minimum_nights</th>\n",
       "      <th>minimum_maximum_nights</th>\n",
       "      <th>maximum_maximum_nights</th>\n",
       "      <th>minimum_nights_avg_ntm</th>\n",
       "      <th>maximum_nights_avg_ntm</th>\n",
       "      <th>calendar_updated</th>\n",
       "      <th>has_availability</th>\n",
       "      <th>availability_30</th>\n",
       "      <th>availability_60</th>\n",
       "      <th>availability_90</th>\n",
       "      <th>availability_365</th>\n",
       "      <th>calendar_last_scraped</th>\n",
       "      <th>number_of_reviews</th>\n",
       "      <th>number_of_reviews_ltm</th>\n",
       "      <th>number_of_reviews_l30d</th>\n",
       "      <th>first_review</th>\n",
       "      <th>last_review</th>\n",
       "      <th>review_scores_rating</th>\n",
       "      <th>review_scores_accuracy</th>\n",
       "      <th>review_scores_cleanliness</th>\n",
       "      <th>review_scores_checkin</th>\n",
       "      <th>review_scores_communication</th>\n",
       "      <th>review_scores_location</th>\n",
       "      <th>review_scores_value</th>\n",
       "      <th>license</th>\n",
       "      <th>instant_bookable</th>\n",
       "      <th>calculated_host_listings_count</th>\n",
       "      <th>calculated_host_listings_count_entire_homes</th>\n",
       "      <th>calculated_host_listings_count_private_rooms</th>\n",
       "      <th>calculated_host_listings_count_shared_rooms</th>\n",
       "      <th>reviews_per_month</th>\n",
       "    </tr>\n",
       "  </thead>\n",
       "  <tbody>\n",
       "    <tr>\n",
       "      <th>0</th>\n",
       "      <td>3686</td>\n",
       "      <td>https://www.airbnb.com/rooms/3686</td>\n",
       "      <td>20210710190002</td>\n",
       "      <td>2021-07-11</td>\n",
       "      <td>Vita's Hideaway</td>\n",
       "      <td>IMPORTANT NOTES&lt;br /&gt;* Carefully read and be s...</td>\n",
       "      <td>We love that our neighborhood is up and coming...</td>\n",
       "      <td>https://a0.muscache.com/pictures/61e02c7e-3d66...</td>\n",
       "      <td>4645</td>\n",
       "      <td>https://www.airbnb.com/users/show/4645</td>\n",
       "      <td>Vita</td>\n",
       "      <td>2008-11-26</td>\n",
       "      <td>Washington D.C., District of Columbia, United ...</td>\n",
       "      <td>I am a literary scholar, teacher, poet, vegan ...</td>\n",
       "      <td>within a day</td>\n",
       "      <td>80%</td>\n",
       "      <td>75%</td>\n",
       "      <td>f</td>\n",
       "      <td>https://a0.muscache.com/im/users/4645/profile_...</td>\n",
       "      <td>https://a0.muscache.com/im/users/4645/profile_...</td>\n",
       "      <td>Anacostia</td>\n",
       "      <td>2.00</td>\n",
       "      <td>2.00</td>\n",
       "      <td>['email', 'phone', 'reviews', 'jumio', 'offlin...</td>\n",
       "      <td>t</td>\n",
       "      <td>t</td>\n",
       "      <td>Washington, District of Columbia, United States</td>\n",
       "      <td>Historic Anacostia</td>\n",
       "      <td>nan</td>\n",
       "      <td>38.86</td>\n",
       "      <td>-76.99</td>\n",
       "      <td>Private room in house</td>\n",
       "      <td>Private room</td>\n",
       "      <td>1</td>\n",
       "      <td>nan</td>\n",
       "      <td>1 private bath</td>\n",
       "      <td>1.00</td>\n",
       "      <td>1.00</td>\n",
       "      <td>[\"First aid kit\", \"Long term stays allowed\", \"...</td>\n",
       "      <td>$55.00</td>\n",
       "      <td>2</td>\n",
       "      <td>365</td>\n",
       "      <td>2</td>\n",
       "      <td>2</td>\n",
       "      <td>365</td>\n",
       "      <td>365</td>\n",
       "      <td>2.00</td>\n",
       "      <td>365.00</td>\n",
       "      <td>nan</td>\n",
       "      <td>t</td>\n",
       "      <td>1</td>\n",
       "      <td>31</td>\n",
       "      <td>61</td>\n",
       "      <td>336</td>\n",
       "      <td>2021-07-11</td>\n",
       "      <td>75</td>\n",
       "      <td>3</td>\n",
       "      <td>0</td>\n",
       "      <td>2014-06-22</td>\n",
       "      <td>2021-01-12</td>\n",
       "      <td>4.59</td>\n",
       "      <td>4.71</td>\n",
       "      <td>4.44</td>\n",
       "      <td>4.89</td>\n",
       "      <td>4.82</td>\n",
       "      <td>3.80</td>\n",
       "      <td>4.58</td>\n",
       "      <td>NaN</td>\n",
       "      <td>f</td>\n",
       "      <td>2</td>\n",
       "      <td>0</td>\n",
       "      <td>2</td>\n",
       "      <td>0</td>\n",
       "      <td>0.87</td>\n",
       "    </tr>\n",
       "    <tr>\n",
       "      <th>1</th>\n",
       "      <td>3943</td>\n",
       "      <td>https://www.airbnb.com/rooms/3943</td>\n",
       "      <td>20210710190002</td>\n",
       "      <td>2021-07-11</td>\n",
       "      <td>Historic Rowhouse Near Monuments</td>\n",
       "      <td>Please contact us before booking to make sure ...</td>\n",
       "      <td>This rowhouse is centrally located in the hear...</td>\n",
       "      <td>https://a0.muscache.com/pictures/432713/fab7dd...</td>\n",
       "      <td>5059</td>\n",
       "      <td>https://www.airbnb.com/users/show/5059</td>\n",
       "      <td>Vasa</td>\n",
       "      <td>2008-12-12</td>\n",
       "      <td>Washington, District of Columbia, United States</td>\n",
       "      <td>I have been living and working in DC for the l...</td>\n",
       "      <td>within a few hours</td>\n",
       "      <td>100%</td>\n",
       "      <td>29%</td>\n",
       "      <td>f</td>\n",
       "      <td>https://a0.muscache.com/im/pictures/user/8ec69...</td>\n",
       "      <td>https://a0.muscache.com/im/pictures/user/8ec69...</td>\n",
       "      <td>Eckington</td>\n",
       "      <td>0.00</td>\n",
       "      <td>0.00</td>\n",
       "      <td>['email', 'phone', 'reviews', 'kba']</td>\n",
       "      <td>t</td>\n",
       "      <td>t</td>\n",
       "      <td>Washington, District of Columbia, United States</td>\n",
       "      <td>Edgewood, Bloomingdale, Truxton Circle, Eckington</td>\n",
       "      <td>nan</td>\n",
       "      <td>38.91</td>\n",
       "      <td>-77.00</td>\n",
       "      <td>Private room in townhouse</td>\n",
       "      <td>Private room</td>\n",
       "      <td>2</td>\n",
       "      <td>nan</td>\n",
       "      <td>1.5 shared baths</td>\n",
       "      <td>1.00</td>\n",
       "      <td>1.00</td>\n",
       "      <td>[\"Cooking basics\", \"First aid kit\", \"Dedicated...</td>\n",
       "      <td>$70.00</td>\n",
       "      <td>2</td>\n",
       "      <td>1125</td>\n",
       "      <td>2</td>\n",
       "      <td>2</td>\n",
       "      <td>1125</td>\n",
       "      <td>1125</td>\n",
       "      <td>2.00</td>\n",
       "      <td>1,125.00</td>\n",
       "      <td>nan</td>\n",
       "      <td>t</td>\n",
       "      <td>9</td>\n",
       "      <td>39</td>\n",
       "      <td>69</td>\n",
       "      <td>344</td>\n",
       "      <td>2021-07-11</td>\n",
       "      <td>429</td>\n",
       "      <td>0</td>\n",
       "      <td>0</td>\n",
       "      <td>2010-08-08</td>\n",
       "      <td>2018-08-07</td>\n",
       "      <td>4.82</td>\n",
       "      <td>4.89</td>\n",
       "      <td>4.91</td>\n",
       "      <td>4.94</td>\n",
       "      <td>4.90</td>\n",
       "      <td>4.54</td>\n",
       "      <td>4.74</td>\n",
       "      <td>NaN</td>\n",
       "      <td>f</td>\n",
       "      <td>2</td>\n",
       "      <td>0</td>\n",
       "      <td>2</td>\n",
       "      <td>0</td>\n",
       "      <td>3.22</td>\n",
       "    </tr>\n",
       "    <tr>\n",
       "      <th>2</th>\n",
       "      <td>4529</td>\n",
       "      <td>https://www.airbnb.com/rooms/4529</td>\n",
       "      <td>20210710190002</td>\n",
       "      <td>2021-07-11</td>\n",
       "      <td>Bertina's  House Part One</td>\n",
       "      <td>This is  large private  bedroom with plenty of...</td>\n",
       "      <td>Very quiet neighborhood and it is easy accessi...</td>\n",
       "      <td>https://a0.muscache.com/pictures/86072003/6709...</td>\n",
       "      <td>5803</td>\n",
       "      <td>https://www.airbnb.com/users/show/5803</td>\n",
       "      <td>Bertina'S House</td>\n",
       "      <td>2008-12-30</td>\n",
       "      <td>Washington, District of Columbia, United States</td>\n",
       "      <td>I am an easy going, laid back person who loves...</td>\n",
       "      <td>NaN</td>\n",
       "      <td>NaN</td>\n",
       "      <td>NaN</td>\n",
       "      <td>f</td>\n",
       "      <td>https://a0.muscache.com/im/users/5803/profile_...</td>\n",
       "      <td>https://a0.muscache.com/im/users/5803/profile_...</td>\n",
       "      <td>Eastland Gardens</td>\n",
       "      <td>3.00</td>\n",
       "      <td>3.00</td>\n",
       "      <td>['email', 'phone', 'facebook', 'reviews', 'jum...</td>\n",
       "      <td>t</td>\n",
       "      <td>t</td>\n",
       "      <td>Washington, District of Columbia, United States</td>\n",
       "      <td>Eastland Gardens, Kenilworth</td>\n",
       "      <td>nan</td>\n",
       "      <td>38.91</td>\n",
       "      <td>-76.94</td>\n",
       "      <td>Private room in house</td>\n",
       "      <td>Private room</td>\n",
       "      <td>4</td>\n",
       "      <td>nan</td>\n",
       "      <td>1 shared bath</td>\n",
       "      <td>1.00</td>\n",
       "      <td>1.00</td>\n",
       "      <td>[\"Cooking basics\", \"First aid kit\", \"Keypad\", ...</td>\n",
       "      <td>$54.00</td>\n",
       "      <td>30</td>\n",
       "      <td>180</td>\n",
       "      <td>30</td>\n",
       "      <td>30</td>\n",
       "      <td>180</td>\n",
       "      <td>180</td>\n",
       "      <td>30.00</td>\n",
       "      <td>180.00</td>\n",
       "      <td>nan</td>\n",
       "      <td>t</td>\n",
       "      <td>29</td>\n",
       "      <td>59</td>\n",
       "      <td>89</td>\n",
       "      <td>179</td>\n",
       "      <td>2021-07-11</td>\n",
       "      <td>102</td>\n",
       "      <td>0</td>\n",
       "      <td>0</td>\n",
       "      <td>2014-09-23</td>\n",
       "      <td>2019-07-05</td>\n",
       "      <td>4.66</td>\n",
       "      <td>4.80</td>\n",
       "      <td>4.60</td>\n",
       "      <td>4.93</td>\n",
       "      <td>4.93</td>\n",
       "      <td>4.51</td>\n",
       "      <td>4.83</td>\n",
       "      <td>NaN</td>\n",
       "      <td>f</td>\n",
       "      <td>1</td>\n",
       "      <td>0</td>\n",
       "      <td>1</td>\n",
       "      <td>0</td>\n",
       "      <td>1.23</td>\n",
       "    </tr>\n",
       "    <tr>\n",
       "      <th>3</th>\n",
       "      <td>4967</td>\n",
       "      <td>https://www.airbnb.com/rooms/4967</td>\n",
       "      <td>20210710190002</td>\n",
       "      <td>2021-07-11</td>\n",
       "      <td>DC, Near Metro</td>\n",
       "      <td>&lt;b&gt;The space&lt;/b&gt;&lt;br /&gt;Hello, my name is Seveer...</td>\n",
       "      <td>NaN</td>\n",
       "      <td>https://a0.muscache.com/pictures/2439810/bb320...</td>\n",
       "      <td>7086</td>\n",
       "      <td>https://www.airbnb.com/users/show/7086</td>\n",
       "      <td>Seveer</td>\n",
       "      <td>2009-01-26</td>\n",
       "      <td>Washington D.C., District of Columbia, United ...</td>\n",
       "      <td>I am fun, honest and very easy going and trave...</td>\n",
       "      <td>within a few hours</td>\n",
       "      <td>100%</td>\n",
       "      <td>78%</td>\n",
       "      <td>t</td>\n",
       "      <td>https://a0.muscache.com/im/pictures/user/6efb4...</td>\n",
       "      <td>https://a0.muscache.com/im/pictures/user/6efb4...</td>\n",
       "      <td>Ivy City</td>\n",
       "      <td>5.00</td>\n",
       "      <td>5.00</td>\n",
       "      <td>['email', 'phone', 'reviews', 'kba']</td>\n",
       "      <td>t</td>\n",
       "      <td>t</td>\n",
       "      <td>NaN</td>\n",
       "      <td>Ivy City, Arboretum, Trinidad, Carver Langston</td>\n",
       "      <td>nan</td>\n",
       "      <td>38.91</td>\n",
       "      <td>-76.99</td>\n",
       "      <td>Private room in house</td>\n",
       "      <td>Private room</td>\n",
       "      <td>1</td>\n",
       "      <td>nan</td>\n",
       "      <td>3 baths</td>\n",
       "      <td>1.00</td>\n",
       "      <td>1.00</td>\n",
       "      <td>[\"Cable TV\", \"TV with standard cable\", \"Kitche...</td>\n",
       "      <td>$99.00</td>\n",
       "      <td>2</td>\n",
       "      <td>365</td>\n",
       "      <td>2</td>\n",
       "      <td>2</td>\n",
       "      <td>365</td>\n",
       "      <td>365</td>\n",
       "      <td>2.00</td>\n",
       "      <td>365.00</td>\n",
       "      <td>nan</td>\n",
       "      <td>t</td>\n",
       "      <td>0</td>\n",
       "      <td>0</td>\n",
       "      <td>0</td>\n",
       "      <td>146</td>\n",
       "      <td>2021-07-11</td>\n",
       "      <td>31</td>\n",
       "      <td>0</td>\n",
       "      <td>0</td>\n",
       "      <td>2012-02-13</td>\n",
       "      <td>2016-09-22</td>\n",
       "      <td>4.74</td>\n",
       "      <td>4.68</td>\n",
       "      <td>4.89</td>\n",
       "      <td>4.93</td>\n",
       "      <td>4.93</td>\n",
       "      <td>4.21</td>\n",
       "      <td>4.64</td>\n",
       "      <td>NaN</td>\n",
       "      <td>f</td>\n",
       "      <td>3</td>\n",
       "      <td>0</td>\n",
       "      <td>3</td>\n",
       "      <td>0</td>\n",
       "      <td>0.27</td>\n",
       "    </tr>\n",
       "    <tr>\n",
       "      <th>4</th>\n",
       "      <td>5589</td>\n",
       "      <td>https://www.airbnb.com/rooms/5589</td>\n",
       "      <td>20210710190002</td>\n",
       "      <td>2021-07-11</td>\n",
       "      <td>Cozy apt in Adams Morgan</td>\n",
       "      <td>This is a 1 br (bedroom + living room in Adams...</td>\n",
       "      <td>Adams Morgan spills over with hipsters, salsa ...</td>\n",
       "      <td>https://a0.muscache.com/pictures/207249/9f1df8...</td>\n",
       "      <td>6527</td>\n",
       "      <td>https://www.airbnb.com/users/show/6527</td>\n",
       "      <td>Ami</td>\n",
       "      <td>2009-01-13</td>\n",
       "      <td>Washington D.C., District of Columbia, United ...</td>\n",
       "      <td>I am an environmentalist, and I own and operat...</td>\n",
       "      <td>within a few hours</td>\n",
       "      <td>100%</td>\n",
       "      <td>17%</td>\n",
       "      <td>f</td>\n",
       "      <td>https://a0.muscache.com/im/users/6527/profile_...</td>\n",
       "      <td>https://a0.muscache.com/im/users/6527/profile_...</td>\n",
       "      <td>Adams Morgan</td>\n",
       "      <td>4.00</td>\n",
       "      <td>4.00</td>\n",
       "      <td>['email', 'phone', 'facebook', 'reviews', 'jum...</td>\n",
       "      <td>t</td>\n",
       "      <td>t</td>\n",
       "      <td>Washington, District of Columbia, United States</td>\n",
       "      <td>Kalorama Heights, Adams Morgan, Lanier Heights</td>\n",
       "      <td>nan</td>\n",
       "      <td>38.92</td>\n",
       "      <td>-77.04</td>\n",
       "      <td>Entire apartment</td>\n",
       "      <td>Entire home/apt</td>\n",
       "      <td>3</td>\n",
       "      <td>nan</td>\n",
       "      <td>1 bath</td>\n",
       "      <td>1.00</td>\n",
       "      <td>1.00</td>\n",
       "      <td>[\"Window guards\", \"Cooking basics\", \"First aid...</td>\n",
       "      <td>$86.00</td>\n",
       "      <td>5</td>\n",
       "      <td>150</td>\n",
       "      <td>5</td>\n",
       "      <td>23</td>\n",
       "      <td>150</td>\n",
       "      <td>150</td>\n",
       "      <td>8.80</td>\n",
       "      <td>150.00</td>\n",
       "      <td>nan</td>\n",
       "      <td>t</td>\n",
       "      <td>7</td>\n",
       "      <td>32</td>\n",
       "      <td>62</td>\n",
       "      <td>121</td>\n",
       "      <td>2021-07-11</td>\n",
       "      <td>95</td>\n",
       "      <td>0</td>\n",
       "      <td>0</td>\n",
       "      <td>2010-07-30</td>\n",
       "      <td>2020-03-05</td>\n",
       "      <td>4.54</td>\n",
       "      <td>4.75</td>\n",
       "      <td>4.17</td>\n",
       "      <td>4.83</td>\n",
       "      <td>4.84</td>\n",
       "      <td>4.91</td>\n",
       "      <td>4.47</td>\n",
       "      <td>NaN</td>\n",
       "      <td>f</td>\n",
       "      <td>2</td>\n",
       "      <td>1</td>\n",
       "      <td>1</td>\n",
       "      <td>0</td>\n",
       "      <td>0.71</td>\n",
       "    </tr>\n",
       "  </tbody>\n",
       "</table>\n",
       "</div>"
      ],
      "text/plain": [
       "     id                        listing_url       scrape_id last_scraped  \\\n",
       "0  3686  https://www.airbnb.com/rooms/3686  20210710190002   2021-07-11   \n",
       "1  3943  https://www.airbnb.com/rooms/3943  20210710190002   2021-07-11   \n",
       "2  4529  https://www.airbnb.com/rooms/4529  20210710190002   2021-07-11   \n",
       "3  4967  https://www.airbnb.com/rooms/4967  20210710190002   2021-07-11   \n",
       "4  5589  https://www.airbnb.com/rooms/5589  20210710190002   2021-07-11   \n",
       "\n",
       "                               name  \\\n",
       "0                   Vita's Hideaway   \n",
       "1  Historic Rowhouse Near Monuments   \n",
       "2         Bertina's  House Part One   \n",
       "3                    DC, Near Metro   \n",
       "4          Cozy apt in Adams Morgan   \n",
       "\n",
       "                                         description  \\\n",
       "0  IMPORTANT NOTES<br />* Carefully read and be s...   \n",
       "1  Please contact us before booking to make sure ...   \n",
       "2  This is  large private  bedroom with plenty of...   \n",
       "3  <b>The space</b><br />Hello, my name is Seveer...   \n",
       "4  This is a 1 br (bedroom + living room in Adams...   \n",
       "\n",
       "                               neighborhood_overview  \\\n",
       "0  We love that our neighborhood is up and coming...   \n",
       "1  This rowhouse is centrally located in the hear...   \n",
       "2  Very quiet neighborhood and it is easy accessi...   \n",
       "3                                                NaN   \n",
       "4  Adams Morgan spills over with hipsters, salsa ...   \n",
       "\n",
       "                                         picture_url  host_id  \\\n",
       "0  https://a0.muscache.com/pictures/61e02c7e-3d66...     4645   \n",
       "1  https://a0.muscache.com/pictures/432713/fab7dd...     5059   \n",
       "2  https://a0.muscache.com/pictures/86072003/6709...     5803   \n",
       "3  https://a0.muscache.com/pictures/2439810/bb320...     7086   \n",
       "4  https://a0.muscache.com/pictures/207249/9f1df8...     6527   \n",
       "\n",
       "                                 host_url        host_name  host_since  \\\n",
       "0  https://www.airbnb.com/users/show/4645             Vita  2008-11-26   \n",
       "1  https://www.airbnb.com/users/show/5059             Vasa  2008-12-12   \n",
       "2  https://www.airbnb.com/users/show/5803  Bertina'S House  2008-12-30   \n",
       "3  https://www.airbnb.com/users/show/7086           Seveer  2009-01-26   \n",
       "4  https://www.airbnb.com/users/show/6527              Ami  2009-01-13   \n",
       "\n",
       "                                       host_location  \\\n",
       "0  Washington D.C., District of Columbia, United ...   \n",
       "1    Washington, District of Columbia, United States   \n",
       "2    Washington, District of Columbia, United States   \n",
       "3  Washington D.C., District of Columbia, United ...   \n",
       "4  Washington D.C., District of Columbia, United ...   \n",
       "\n",
       "                                          host_about  host_response_time  \\\n",
       "0  I am a literary scholar, teacher, poet, vegan ...        within a day   \n",
       "1  I have been living and working in DC for the l...  within a few hours   \n",
       "2  I am an easy going, laid back person who loves...                 NaN   \n",
       "3  I am fun, honest and very easy going and trave...  within a few hours   \n",
       "4  I am an environmentalist, and I own and operat...  within a few hours   \n",
       "\n",
       "  host_response_rate host_acceptance_rate host_is_superhost  \\\n",
       "0                80%                  75%                 f   \n",
       "1               100%                  29%                 f   \n",
       "2                NaN                  NaN                 f   \n",
       "3               100%                  78%                 t   \n",
       "4               100%                  17%                 f   \n",
       "\n",
       "                                  host_thumbnail_url  \\\n",
       "0  https://a0.muscache.com/im/users/4645/profile_...   \n",
       "1  https://a0.muscache.com/im/pictures/user/8ec69...   \n",
       "2  https://a0.muscache.com/im/users/5803/profile_...   \n",
       "3  https://a0.muscache.com/im/pictures/user/6efb4...   \n",
       "4  https://a0.muscache.com/im/users/6527/profile_...   \n",
       "\n",
       "                                    host_picture_url host_neighbourhood  \\\n",
       "0  https://a0.muscache.com/im/users/4645/profile_...          Anacostia   \n",
       "1  https://a0.muscache.com/im/pictures/user/8ec69...          Eckington   \n",
       "2  https://a0.muscache.com/im/users/5803/profile_...   Eastland Gardens   \n",
       "3  https://a0.muscache.com/im/pictures/user/6efb4...           Ivy City   \n",
       "4  https://a0.muscache.com/im/users/6527/profile_...       Adams Morgan   \n",
       "\n",
       "   host_listings_count  host_total_listings_count  \\\n",
       "0                 2.00                       2.00   \n",
       "1                 0.00                       0.00   \n",
       "2                 3.00                       3.00   \n",
       "3                 5.00                       5.00   \n",
       "4                 4.00                       4.00   \n",
       "\n",
       "                                  host_verifications host_has_profile_pic  \\\n",
       "0  ['email', 'phone', 'reviews', 'jumio', 'offlin...                    t   \n",
       "1               ['email', 'phone', 'reviews', 'kba']                    t   \n",
       "2  ['email', 'phone', 'facebook', 'reviews', 'jum...                    t   \n",
       "3               ['email', 'phone', 'reviews', 'kba']                    t   \n",
       "4  ['email', 'phone', 'facebook', 'reviews', 'jum...                    t   \n",
       "\n",
       "  host_identity_verified                                    neighbourhood  \\\n",
       "0                      t  Washington, District of Columbia, United States   \n",
       "1                      t  Washington, District of Columbia, United States   \n",
       "2                      t  Washington, District of Columbia, United States   \n",
       "3                      t                                              NaN   \n",
       "4                      t  Washington, District of Columbia, United States   \n",
       "\n",
       "                              neighbourhood_cleansed  \\\n",
       "0                                 Historic Anacostia   \n",
       "1  Edgewood, Bloomingdale, Truxton Circle, Eckington   \n",
       "2                       Eastland Gardens, Kenilworth   \n",
       "3     Ivy City, Arboretum, Trinidad, Carver Langston   \n",
       "4     Kalorama Heights, Adams Morgan, Lanier Heights   \n",
       "\n",
       "   neighbourhood_group_cleansed  latitude  longitude  \\\n",
       "0                           nan     38.86     -76.99   \n",
       "1                           nan     38.91     -77.00   \n",
       "2                           nan     38.91     -76.94   \n",
       "3                           nan     38.91     -76.99   \n",
       "4                           nan     38.92     -77.04   \n",
       "\n",
       "               property_type        room_type  accommodates  bathrooms  \\\n",
       "0      Private room in house     Private room             1        nan   \n",
       "1  Private room in townhouse     Private room             2        nan   \n",
       "2      Private room in house     Private room             4        nan   \n",
       "3      Private room in house     Private room             1        nan   \n",
       "4           Entire apartment  Entire home/apt             3        nan   \n",
       "\n",
       "     bathrooms_text  bedrooms  beds  \\\n",
       "0    1 private bath      1.00  1.00   \n",
       "1  1.5 shared baths      1.00  1.00   \n",
       "2     1 shared bath      1.00  1.00   \n",
       "3           3 baths      1.00  1.00   \n",
       "4            1 bath      1.00  1.00   \n",
       "\n",
       "                                           amenities   price  minimum_nights  \\\n",
       "0  [\"First aid kit\", \"Long term stays allowed\", \"...  $55.00               2   \n",
       "1  [\"Cooking basics\", \"First aid kit\", \"Dedicated...  $70.00               2   \n",
       "2  [\"Cooking basics\", \"First aid kit\", \"Keypad\", ...  $54.00              30   \n",
       "3  [\"Cable TV\", \"TV with standard cable\", \"Kitche...  $99.00               2   \n",
       "4  [\"Window guards\", \"Cooking basics\", \"First aid...  $86.00               5   \n",
       "\n",
       "   maximum_nights  minimum_minimum_nights  maximum_minimum_nights  \\\n",
       "0             365                       2                       2   \n",
       "1            1125                       2                       2   \n",
       "2             180                      30                      30   \n",
       "3             365                       2                       2   \n",
       "4             150                       5                      23   \n",
       "\n",
       "   minimum_maximum_nights  maximum_maximum_nights  minimum_nights_avg_ntm  \\\n",
       "0                     365                     365                    2.00   \n",
       "1                    1125                    1125                    2.00   \n",
       "2                     180                     180                   30.00   \n",
       "3                     365                     365                    2.00   \n",
       "4                     150                     150                    8.80   \n",
       "\n",
       "   maximum_nights_avg_ntm  calendar_updated has_availability  availability_30  \\\n",
       "0                  365.00               nan                t                1   \n",
       "1                1,125.00               nan                t                9   \n",
       "2                  180.00               nan                t               29   \n",
       "3                  365.00               nan                t                0   \n",
       "4                  150.00               nan                t                7   \n",
       "\n",
       "   availability_60  availability_90  availability_365 calendar_last_scraped  \\\n",
       "0               31               61               336            2021-07-11   \n",
       "1               39               69               344            2021-07-11   \n",
       "2               59               89               179            2021-07-11   \n",
       "3                0                0               146            2021-07-11   \n",
       "4               32               62               121            2021-07-11   \n",
       "\n",
       "   number_of_reviews  number_of_reviews_ltm  number_of_reviews_l30d  \\\n",
       "0                 75                      3                       0   \n",
       "1                429                      0                       0   \n",
       "2                102                      0                       0   \n",
       "3                 31                      0                       0   \n",
       "4                 95                      0                       0   \n",
       "\n",
       "  first_review last_review  review_scores_rating  review_scores_accuracy  \\\n",
       "0   2014-06-22  2021-01-12                  4.59                    4.71   \n",
       "1   2010-08-08  2018-08-07                  4.82                    4.89   \n",
       "2   2014-09-23  2019-07-05                  4.66                    4.80   \n",
       "3   2012-02-13  2016-09-22                  4.74                    4.68   \n",
       "4   2010-07-30  2020-03-05                  4.54                    4.75   \n",
       "\n",
       "   review_scores_cleanliness  review_scores_checkin  \\\n",
       "0                       4.44                   4.89   \n",
       "1                       4.91                   4.94   \n",
       "2                       4.60                   4.93   \n",
       "3                       4.89                   4.93   \n",
       "4                       4.17                   4.83   \n",
       "\n",
       "   review_scores_communication  review_scores_location  review_scores_value  \\\n",
       "0                         4.82                    3.80                 4.58   \n",
       "1                         4.90                    4.54                 4.74   \n",
       "2                         4.93                    4.51                 4.83   \n",
       "3                         4.93                    4.21                 4.64   \n",
       "4                         4.84                    4.91                 4.47   \n",
       "\n",
       "  license instant_bookable  calculated_host_listings_count  \\\n",
       "0     NaN                f                               2   \n",
       "1     NaN                f                               2   \n",
       "2     NaN                f                               1   \n",
       "3     NaN                f                               3   \n",
       "4     NaN                f                               2   \n",
       "\n",
       "   calculated_host_listings_count_entire_homes  \\\n",
       "0                                            0   \n",
       "1                                            0   \n",
       "2                                            0   \n",
       "3                                            0   \n",
       "4                                            1   \n",
       "\n",
       "   calculated_host_listings_count_private_rooms  \\\n",
       "0                                             2   \n",
       "1                                             2   \n",
       "2                                             1   \n",
       "3                                             3   \n",
       "4                                             1   \n",
       "\n",
       "   calculated_host_listings_count_shared_rooms  reviews_per_month  \n",
       "0                                            0               0.87  \n",
       "1                                            0               3.22  \n",
       "2                                            0               1.23  \n",
       "3                                            0               0.27  \n",
       "4                                            0               0.71  "
      ]
     },
     "execution_count": 4,
     "metadata": {},
     "output_type": "execute_result"
    }
   ],
   "source": [
    "## Inspecting imported dataset\n",
    "data.head(5)"
   ]
  },
  {
   "cell_type": "code",
   "execution_count": 5,
   "metadata": {
    "ExecuteTime": {
     "end_time": "2021-08-01T18:53:51.768822Z",
     "start_time": "2021-08-01T18:53:51.754834Z"
    }
   },
   "outputs": [
    {
     "data": {
      "text/plain": [
       "(8033, 74)"
      ]
     },
     "execution_count": 5,
     "metadata": {},
     "output_type": "execute_result"
    }
   ],
   "source": [
    "## Checking number of rows and columns\n",
    "data.shape"
   ]
  },
  {
   "cell_type": "markdown",
   "metadata": {},
   "source": [
    "> The initial reading of the dataset shows there are 74 features and 8,033 entries. A quick glance at the `.head()` gives a sample of the entries, showing that some of the features are not relevant to my analysis.\n",
    ">\n",
    "> I will drop the following features now as they are metadata related to the webscraping required to provide the data (and would not have any meaningful impact on my analysis):\n",
    ">\n",
    ">* listing_url\n",
    ">\n",
    ">\n",
    ">* scrape_id\n",
    ">\n",
    ">\n",
    ">* last_scraped\n",
    ">\n",
    ">\n",
    ">* picture_url\n",
    ">\n",
    ">\n",
    ">* host_url\n",
    ">\n",
    ">\n",
    ">* host_thumbnail_url\n",
    ">\n",
    ">\n",
    ">* host_picture_url\n",
    ">\n",
    ">\n",
    ">* calendar_last_scraped"
   ]
  },
  {
   "cell_type": "code",
   "execution_count": 6,
   "metadata": {
    "ExecuteTime": {
     "end_time": "2021-08-01T18:53:51.784821Z",
     "start_time": "2021-08-01T18:53:51.770820Z"
    }
   },
   "outputs": [],
   "source": [
    "## Creating new dataframe that does not include the irrelevant \n",
    "df = data.drop(columns= ['listing_url', 'scrape_id', 'last_scraped', 'picture_url',\n",
    "                         'host_url', 'host_thumbnail_url','host_picture_url',\n",
    "                         'calendar_last_scraped']).copy()"
   ]
  },
  {
   "cell_type": "code",
   "execution_count": 86,
   "metadata": {
    "ExecuteTime": {
     "end_time": "2021-08-01T20:13:05.987447Z",
     "start_time": "2021-08-01T20:13:05.745447Z"
    },
    "scrolled": false
   },
   "outputs": [
    {
     "data": {
      "application/vnd.jupyter.widget-view+json": {
       "model_id": "4e3f2988f033463abf625343287a25b1",
       "version_major": 2,
       "version_minor": 0
      },
      "text/plain": [
       "interactive(children=(Text(value='http://data.insideairbnb.com/united-states/dc/washington-dc/2021-07-10/data/…"
      ]
     },
     "metadata": {},
     "output_type": "display_data"
    }
   ],
   "source": [
    "## Creating interactive report for numeric columns\n",
    "\n",
    "## To use: select which column by which you would like to sort from the dropdown\n",
    "## Then click the \"Run Interact\" button\n",
    "\n",
    "interact_manual(cf.sort_report, Sort_by=list(cf.report_df(df).columns),\n",
    "                Source=source);"
   ]
  },
  {
   "cell_type": "markdown",
   "metadata": {},
   "source": [
    "# ❌ **TD: H2 HANDLE NAN; UPDATE MD ❌**"
   ]
  },
  {
   "cell_type": "markdown",
   "metadata": {},
   "source": [
    ">---\n",
    "> **Interpretation:**\n",
    ">\n",
    ">\n",
    "> The report shows that the dataset has a big problem with missing values:\n",
    ">\n",
    "> * **Empty:**\n",
    ">   * `neighbourhood_group_cleansed`\n",
    ">   * `bathrooms`\n",
    ">   * `calendar_updated`\n",
    ">\n",
    ">\n",
    "> * **Nearly empty:**\n",
    ">  * `license`\n",
    ">\n",
    ">\n",
    "> * **Missing 26-39% of data:**\n",
    ">  * `host_about`\n",
    ">  * `neighborhood_overview`\n",
    ">  * `neighbourhood`\n",
    ">  * `host_response_time`\n",
    ">  * `host_response_rate`\n",
    ">  * `review_scores_value`\n",
    ">  * `review_scores_checkin`\n",
    ">  * `review_scores_location`\n",
    ">  * `review_scores_accuracy`\n",
    ">  * `review_scores_communication`\n",
    ">  * `review_scores_cleanliness`\n",
    ">  * `host_acceptance_rate`\n",
    ">  * `reviews_per_month`\n",
    ">  * `first_review`\n",
    ">  * `review_scores_rating`\n",
    ">  * `last_review`\n",
    ">\n",
    ">\n",
    "> I will need to address these missing values before processing with the modeling. A few options include:\n",
    ">\n",
    "> * Filling with the string \"missing\" to indicate the value was missing.\n",
    ">    * *I would be able to treat \"missing\" as a distinct category and use it for modeling as well.*\n",
    ">\n",
    ">\n",
    "> * Dropping the rows with missing values.\n",
    ">    * *This may negatively impact the accuracy of my results by overfitting to the training data.*\n",
    ">\n",
    ">\n",
    "> * For numeric features, I could use the `SimpleImputer` tool from SKLearn to fill the missing values with the mean, median, or mode values for each.\n",
    ">    * *I could couple this with a `GridSearchCV` to identify the method that has the strongest positive impact on my classification metrics.*\n",
    ">\n",
    ">\n",
    "> **I will revisit this decision at the end of my exploration phase and make a decision then.**\n",
    ">\n",
    ">---"
   ]
  },
  {
   "cell_type": "code",
   "execution_count": 78,
   "metadata": {
    "ExecuteTime": {
     "end_time": "2021-08-01T19:59:41.943877Z",
     "start_time": "2021-08-01T19:59:37.195832Z"
    },
    "scrolled": false
   },
   "outputs": [
    {
     "data": {
      "image/png": "[encoded data removed]",
      "text/plain": [
       "<Figure size 1800x720 with 2 Axes>"
      ]
     },
     "metadata": {
      "needs_background": "light"
     },
     "output_type": "display_data"
    }
   ],
   "source": [
    "## Visually inspecting missing values\n",
    "import missingno as missno\n",
    "\n",
    "missno.matrix(X_train, labels=True);"
   ]
  },
  {
   "cell_type": "markdown",
   "metadata": {},
   "source": [
    ">---\n",
    ">\n",
    "> The visualization above shows the missing values in each column as a blank space.\n",
    ">\n",
    ">\n",
    "> Based on this visualization, I see that there is a consistent trend in missing values for review scores: if a row is missing one review score, it seems to be missing all of them.\n",
    ">\n",
    ">\n",
    "> After reviewing these details, I feel more comfortable with the option of dropping those rows with missing values. I will consider dropping the values as part of my overall classification process.\n",
    ">\n",
    ">---"
   ]
  },
  {
   "cell_type": "markdown",
   "metadata": {},
   "source": [
    "# 🪓 **Train/Test Split**"
   ]
  },
  {
   "cell_type": "code",
   "execution_count": 8,
   "metadata": {
    "ExecuteTime": {
     "end_time": "2021-08-01T18:53:52.046824Z",
     "start_time": "2021-08-01T18:53:52.020826Z"
    }
   },
   "outputs": [],
   "source": [
    "## Creating features/target for dataset\n",
    "target = 'review_scores_rating'\n",
    "\n",
    "X = df.drop(columns = target).copy()\n",
    "y = df[target].copy()"
   ]
  },
  {
   "cell_type": "code",
   "execution_count": 9,
   "metadata": {
    "ExecuteTime": {
     "end_time": "2021-08-01T18:53:52.061825Z",
     "start_time": "2021-08-01T18:53:52.049824Z"
    }
   },
   "outputs": [
    {
     "data": {
      "text/plain": [
       "True"
      ]
     },
     "execution_count": 9,
     "metadata": {},
     "output_type": "execute_result"
    }
   ],
   "source": [
    "## Confirming same number of rows\n",
    "X.shape[0] == y.shape[0]"
   ]
  },
  {
   "cell_type": "code",
   "execution_count": 10,
   "metadata": {
    "ExecuteTime": {
     "end_time": "2021-08-01T18:53:52.091840Z",
     "start_time": "2021-08-01T18:53:52.063825Z"
    }
   },
   "outputs": [],
   "source": [
    "## Splitting to prevent data leakage\n",
    "X_train, X_test, y_train, y_test = train_test_split(X, y, random_state=42)"
   ]
  },
  {
   "cell_type": "markdown",
   "metadata": {},
   "source": [
    "# 🧼 **Starting Cleaning and EDA**"
   ]
  },
  {
   "cell_type": "code",
   "execution_count": 11,
   "metadata": {
    "ExecuteTime": {
     "end_time": "2021-08-01T18:53:52.107834Z",
     "start_time": "2021-08-01T18:53:52.093827Z"
    }
   },
   "outputs": [
    {
     "data": {
      "text/plain": [
       "count   4,406.00\n",
       "mean        4.69\n",
       "std         0.69\n",
       "min         0.00\n",
       "25%         4.68\n",
       "50%         4.86\n",
       "75%         5.00\n",
       "max         5.00\n",
       "Name: review_scores_rating, dtype: float64"
      ]
     },
     "execution_count": 11,
     "metadata": {},
     "output_type": "execute_result"
    }
   ],
   "source": [
    "## Checking for class imbalances in target variable\n",
    "y_train.describe()"
   ]
  },
  {
   "cell_type": "code",
   "execution_count": 12,
   "metadata": {
    "ExecuteTime": {
     "end_time": "2021-08-01T18:53:52.138826Z",
     "start_time": "2021-08-01T18:53:52.110829Z"
    }
   },
   "outputs": [
    {
     "data": {
      "text/plain": [
       "(-0.006, 0.5]   0.01\n",
       "(0.5, 1.0]      0.00\n",
       "(1.0, 1.5]      0.00\n",
       "(1.5, 2.0]      0.00\n",
       "(2.0, 2.5]      0.00\n",
       "(2.5, 3.0]      0.01\n",
       "(3.0, 3.5]      0.00\n",
       "(3.5, 4.0]      0.02\n",
       "(4.0, 4.5]      0.06\n",
       "(4.5, 5.0]      0.62\n",
       "Name: review_scores_rating, dtype: float64"
      ]
     },
     "execution_count": 12,
     "metadata": {},
     "output_type": "execute_result"
    }
   ],
   "source": [
    "## Checking value counts (binned to see the ranges of values)\n",
    "y_train.value_counts(dropna=False,sort=False, bins=10, normalize=True)"
   ]
  },
  {
   "cell_type": "code",
   "execution_count": 13,
   "metadata": {
    "ExecuteTime": {
     "end_time": "2021-08-01T18:53:52.154827Z",
     "start_time": "2021-08-01T18:53:52.140828Z"
    }
   },
   "outputs": [
    {
     "data": {
      "text/plain": [
       "0.0"
      ]
     },
     "execution_count": 13,
     "metadata": {},
     "output_type": "execute_result"
    }
   ],
   "source": [
    "## Checking minimum value due to bins showing a negative value\n",
    "y_train.min()"
   ]
  },
  {
   "cell_type": "code",
   "execution_count": 97,
   "metadata": {
    "ExecuteTime": {
     "end_time": "2021-08-01T20:30:27.013121Z",
     "start_time": "2021-08-01T20:30:26.994093Z"
    }
   },
   "outputs": [
    {
     "data": {
      "text/plain": [
       "(-0.004880000000000001, 0.97]   0.34\n",
       "(0.97, 1.94]                    0.09\n",
       "(1.94, 2.91]                    0.10\n",
       "(2.91, 3.88]                    0.47\n",
       "Name: review_scores_rating, dtype: float64"
      ]
     },
     "execution_count": 97,
     "metadata": {},
     "output_type": "execute_result"
    }
   ],
   "source": [
    "## Excluding ratings above 4 to inspect the marginal classes\n",
    "y_train[y_train < 4].value_counts(dropna=False,sort=False, bins=4, normalize=True)"
   ]
  },
  {
   "cell_type": "markdown",
   "metadata": {},
   "source": [
    "---\n",
    "\n",
    "> The target feature, `'review_scores_rating'`, is currently a range of values from 0 to 5, with 69% of the scores being 4 or above. The `.value_counts()` results show a value sub-zero; this is for the purpose of binning the values; the lowest value is actually 0.00.\n",
    ">\n",
    ">\n",
    "> Of the scores less than 4, a little under half are between 3 and 4 (rounded) and about a third are between 0 and 1 (rounded).\n",
    ">\n",
    ">\n",
    ">\n",
    ">In order to use these values, I would need to bin them into categories based on ranges of values for analysis.\n",
    "\n",
    "---"
   ]
  },
  {
   "cell_type": "markdown",
   "metadata": {},
   "source": [
    "## ❓ **Null Values and How to Address:**"
   ]
  },
  {
   "cell_type": "markdown",
   "metadata": {},
   "source": [
    ">* **Children:** fill in missing values with zero (75% of the data is zero, making it an easy and accurate choice)\n",
    ">\n",
    ">\n",
    ">* **Country, Agent:** For these three sections, the documentation for the dataset indicates that \"NULL\" or NaN values are not truly *missing* from the dataset, but that the data source did not have any values for those reservations.\n",
    ">  * **To address:** I will impute the string, \"missing,\" as a placeholder to keep these features in the dataset.\n",
    ">\n",
    ">\n",
    ">* **Company:** Since this feature is 94% empty values, it would have an insignificant impact on the predictions of whether or not a guest will cancel their reservation.\n",
    ">  * **To address:** I will drop the column as part of the "
   ]
  },
  {
   "cell_type": "code",
   "execution_count": null,
   "metadata": {
    "ExecuteTime": {
     "end_time": "2021-08-01T18:00:40.389343Z",
     "start_time": "2021-08-01T18:00:28.567Z"
    },
    "scrolled": false
   },
   "outputs": [],
   "source": [
    "## Unsure what this code was for - something about the \"Undefined\" values? \n",
    "\n",
    "# for col in X_train.columns:\n",
    "#     if X_train[col].dtype == 'O':\n",
    "#         print(X_train[col].value_counts(),'\\n\\n')"
   ]
  },
  {
   "cell_type": "code",
   "execution_count": null,
   "metadata": {
    "ExecuteTime": {
     "end_time": "2021-08-01T18:00:40.390336Z",
     "start_time": "2021-08-01T18:00:28.571Z"
    },
    "scrolled": false
   },
   "outputs": [],
   "source": [
    "# for col in X_train.columns:\n",
    "#     if 'Undefined' in X_train[col]:\n",
    "#         print(col)"
   ]
  },
  {
   "cell_type": "code",
   "execution_count": null,
   "metadata": {
    "ExecuteTime": {
     "end_time": "2021-08-01T18:00:40.392340Z",
     "start_time": "2021-08-01T18:00:28.575Z"
    }
   },
   "outputs": [],
   "source": [
    "# 'undefined' in X_train[\"meal\"]"
   ]
  },
  {
   "cell_type": "code",
   "execution_count": null,
   "metadata": {
    "ExecuteTime": {
     "end_time": "2021-08-01T18:00:40.393338Z",
     "start_time": "2021-08-01T18:00:28.578Z"
    }
   },
   "outputs": [],
   "source": [
    "# X_train['distribution_channel'].unique()"
   ]
  },
  {
   "cell_type": "code",
   "execution_count": null,
   "metadata": {
    "ExecuteTime": {
     "end_time": "2021-08-01T18:00:40.395339Z",
     "start_time": "2021-08-01T18:00:28.581Z"
    }
   },
   "outputs": [],
   "source": [
    "# #3 Identifying which columns indicate missing values based on .isna() method\n",
    "\n",
    "# nan_cols = []\n",
    "\n",
    "# for column in X_train.columns:\n",
    "#     if X_train[column].isna().sum() > 0:\n",
    "#         nan_cols.append(column)\n",
    "#         print(column,'\\n\\n',X_train[column].value_counts(dropna=False),'\\n\\n')\n",
    "        \n",
    "# nan_cols"
   ]
  },
  {
   "cell_type": "code",
   "execution_count": null,
   "metadata": {
    "ExecuteTime": {
     "end_time": "2021-08-01T18:00:40.396337Z",
     "start_time": "2021-08-01T18:00:28.584Z"
    }
   },
   "outputs": [],
   "source": [
    "# for column in X_train.columns:\n",
    "#     if X_train[column].isna().sum() > 0:\n",
    "# #         nan_cols.append(column)\n",
    "#         print(column,'\\n\\n',X_train[column].isna().sum(),'\\n\\n')"
   ]
  },
  {
   "cell_type": "code",
   "execution_count": null,
   "metadata": {
    "ExecuteTime": {
     "end_time": "2021-08-01T18:00:40.399339Z",
     "start_time": "2021-08-01T18:00:28.587Z"
    }
   },
   "outputs": [],
   "source": [
    "# X_train['country'].isna().sum()"
   ]
  },
  {
   "cell_type": "code",
   "execution_count": null,
   "metadata": {
    "ExecuteTime": {
     "end_time": "2021-08-01T18:00:40.401366Z",
     "start_time": "2021-08-01T18:00:28.589Z"
    }
   },
   "outputs": [],
   "source": [
    "# X_train[X_train['country'].isna()]"
   ]
  },
  {
   "cell_type": "markdown",
   "metadata": {},
   "source": [
    "# 🚿 **Preprocessing Pipeline**"
   ]
  },
  {
   "cell_type": "code",
   "execution_count": null,
   "metadata": {
    "ExecuteTime": {
     "end_time": "2021-08-01T18:00:40.402336Z",
     "start_time": "2021-08-01T18:00:28.592Z"
    }
   },
   "outputs": [],
   "source": [
    "# cat_cols = ['hotel', 'meal','arrival_date_month', 'country', 'market_segment',\n",
    "#             'distribution_channel','is_repeated_guest','reserved_room_type',\n",
    "#             'assigned_room_type','deposit_type', 'agent',\n",
    "#             'customer_type','reservation_status']\n",
    "\n",
    "# cont_cols = [col for col in X_train.drop(['reservation_status_date','company'],axis=1).columns if col not in cat_cols]\n",
    "\n",
    "# cont_cols"
   ]
  },
  {
   "cell_type": "code",
   "execution_count": null,
   "metadata": {
    "ExecuteTime": {
     "end_time": "2021-08-01T18:00:40.403361Z",
     "start_time": "2021-08-01T18:00:28.595Z"
    }
   },
   "outputs": [],
   "source": [
    "# X_train[cat_cols] = X_train[cat_cols].astype(str)"
   ]
  },
  {
   "cell_type": "code",
   "execution_count": null,
   "metadata": {
    "ExecuteTime": {
     "end_time": "2021-08-01T18:00:40.405339Z",
     "start_time": "2021-08-01T18:00:28.597Z"
    }
   },
   "outputs": [],
   "source": [
    "# X_test[cat_cols] = X_test[cat_cols].astype(str)"
   ]
  },
  {
   "cell_type": "code",
   "execution_count": null,
   "metadata": {
    "ExecuteTime": {
     "end_time": "2021-08-01T18:00:40.406337Z",
     "start_time": "2021-08-01T18:00:28.600Z"
    }
   },
   "outputs": [],
   "source": [
    "# ## Creating ColumnTransformer and sub-transformers for imputation and encoding\n",
    "\n",
    "# # Filling missing \"Children\"\n",
    "# zero_transformer = SimpleImputer(strategy='constant', fill_value=0)\n",
    "\n",
    "# ##  \n",
    "# missing_transformer = SimpleImputer(strategy='constant', fill_value='missing')\n",
    "\n",
    "# ## Encoding categoricals - handling errors to prevent issues w/ test set\n",
    "# categorical_transformer = OneHotEncoder(handle_unknown='ignore', sparse=False)\n",
    "\n",
    "# cat_pipe = Pipeline(steps=[('imputer', missing_transformer),\n",
    "#                       ('ohe', categorical_transformer)])\n",
    "\n",
    "# cont_pipe = Pipeline(steps=[('imputer', zero_transformer),\n",
    "#                            ('scaler', StandardScaler())])\n",
    "\n",
    "# ## Instantiating the ColumnTransformer and including all transformers\n",
    "# preprocessor = ColumnTransformer(\n",
    "#     transformers=[('conts', cont_pipe, cont_cols),\n",
    "#                   ('cats', cat_pipe, cat_cols)])\n",
    "\n",
    "# preprocessor"
   ]
  },
  {
   "cell_type": "code",
   "execution_count": null,
   "metadata": {
    "ExecuteTime": {
     "end_time": "2021-08-01T18:00:40.409338Z",
     "start_time": "2021-08-01T18:00:28.603Z"
    }
   },
   "outputs": [],
   "source": [
    "# preprocessor.fit(X_train)\n",
    "\n",
    "# ## Getting feature names from OHE\n",
    "# ohe_cat_names = preprocessor.named_transformers_['cats'].named_steps['ohe'].get_feature_names(cat_cols)"
   ]
  },
  {
   "cell_type": "code",
   "execution_count": null,
   "metadata": {
    "ExecuteTime": {
     "end_time": "2021-08-01T18:00:40.410350Z",
     "start_time": "2021-08-01T18:00:28.606Z"
    }
   },
   "outputs": [],
   "source": [
    "# ## Generating list for column index\n",
    "# final_cols = [*cont_cols, *ohe_cat_names]\n",
    "\n",
    "# ## Fit and transform the data via the ColumnTransformer\n",
    "# X_train_tf = preprocessor.transform(X_train)\n",
    "# X_train_tf_df = pd.DataFrame(X_train_tf, columns=final_cols, index=X_train.index)\n",
    "\n",
    "# ## Transforming the test set and saving\n",
    "# X_test_tf = preprocessor.transform(X_test)\n",
    "# X_test_tf_df = pd.DataFrame(X_test_tf, columns=final_cols, index=X_test.index)\n",
    "\n",
    "# display(X_train_tf_df.head(5),X_test_tf_df.head(5))"
   ]
  },
  {
   "cell_type": "markdown",
   "metadata": {},
   "source": [
    "# 📝 Next Steps"
   ]
  },
  {
   "cell_type": "markdown",
   "metadata": {},
   "source": [
    "* Process classification model - i.e. Logreg, KNN, DecisionTrees, etc.\n",
    "* Evaluate results\n",
    "* Determine if I need to redo pre-processing steps"
   ]
  },
  {
   "cell_type": "markdown",
   "metadata": {},
   "source": [
    "# 🚿 Classification Pipeline"
   ]
  },
  {
   "cell_type": "code",
   "execution_count": null,
   "metadata": {},
   "outputs": [],
   "source": []
  }
 ],
 "metadata": {
  "kernelspec": {
   "display_name": "Python (learn-env-bmc)",
   "language": "python",
   "name": "learn-env-bmc"
  },
  "language_info": {
   "codemirror_mode": {
    "name": "ipython",
    "version": 3
   },
   "file_extension": ".py",
   "mimetype": "text/x-python",
   "name": "python",
   "nbconvert_exporter": "python",
   "pygments_lexer": "ipython3",
   "version": "3.8.5"
  },
  "toc": {
   "base_numbering": 1,
   "nav_menu": {},
   "number_sections": true,
   "sideBar": true,
   "skip_h1_title": false,
   "title_cell": "Table of Contents",
   "title_sidebar": "Contents",
   "toc_cell": false,
   "toc_position": {
    "height": "calc(100% - 180px)",
    "left": "10px",
    "top": "150px",
    "width": "337.003px"
   },
   "toc_section_display": true,
   "toc_window_display": true
  }
 },
 "nbformat": 4,
 "nbformat_minor": 4
}
