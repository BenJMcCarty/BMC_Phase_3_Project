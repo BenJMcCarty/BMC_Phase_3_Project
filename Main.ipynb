{
 "cells": [
  {
   "cell_type": "markdown",
   "metadata": {},
   "source": [
    "# 🔻 [Return to workflow](#leftoff)"
   ]
  },
  {
   "cell_type": "markdown",
   "metadata": {},
   "source": [
    "# 🏡 **AirBNB Dataset Review** 🏨"
   ]
  },
  {
   "cell_type": "markdown",
   "metadata": {},
   "source": [
    "# ❌ Update target audience and guiding questions"
   ]
  },
  {
   "cell_type": "markdown",
   "metadata": {},
   "source": [
    "---\n",
    "\n",
    "**Who?**\n",
    ">* 🏢 **AirBNB Corporate** interested in maximizing customer satisfaction to increase repeat guests and encourage new guests to stay with AirBNB hosts\n",
    ">\n",
    ">\n",
    ">* 🏡**AirBNB hosts** interested in maximizing the ratings\n",
    "\n",
    "**Why?**\n",
    ">* 💰 **Revenue Management:** \n",
    ">\n",
    ">\n",
    ">\n",
    ">* 🤝 **Sales:**\n",
    ">\n",
    ">\n",
    ">\n",
    ">* 🛌 **Rooms Ops:**\n",
    "\n",
    ">\n",
    ">\n",
    ">\n",
    "\n",
    "**What?**\n",
    ">* 🧾 Dataset comprised of... \n",
    ">  * # different features\n",
    ">  * # reservation records\n",
    ">  * Source cited in Readme\n",
    "\n",
    "❌ **How?**\n",
    ">* Which models/methods?\n",
    ">* Data prep and feature engineering\n",
    "\n",
    "---"
   ]
  },
  {
   "cell_type": "markdown",
   "metadata": {},
   "source": [
    "# 🎯  **Goal:**"
   ]
  },
  {
   "cell_type": "markdown",
   "metadata": {},
   "source": [
    "Determining whether or not a host location would receive a score greater than or equal to 4/5 (defined by `'review_scores_rating'`)."
   ]
  },
  {
   "cell_type": "markdown",
   "metadata": {},
   "source": [
    "# 📌 **To-Do**"
   ]
  },
  {
   "cell_type": "markdown",
   "metadata": {},
   "source": [
    "---\n",
    "\n",
    "- [ ] [TD1](#td1)\n",
    "- [ ] [TD2](#td2)\n",
    "- [ ] [TD3](#td3)\n",
    "- [ ] [todo4](#td4)\n",
    "- [ ] [todo5](#td5)\n",
    "- [ ] [todo6](#td6)\n",
    "- [ ] [todo7](#td7)\n",
    "\n",
    "---"
   ]
  },
  {
   "cell_type": "markdown",
   "metadata": {},
   "source": [
    "# 📂 **Imports and Settings**"
   ]
  },
  {
   "cell_type": "code",
   "execution_count": null,
   "metadata": {
    "ExecuteTime": {
     "end_time": "2021-08-03T15:24:12.875995Z",
     "start_time": "2021-08-03T15:24:10.884922Z"
    },
    "code_folding": []
   },
   "outputs": [],
   "source": [
    "## Data Handling\n",
    "import pandas as pd\n",
    "import numpy as np\n",
    "from scipy import stats\n",
    "\n",
    "## Visualizations\n",
    "import matplotlib as mpl\n",
    "import matplotlib.pyplot as plt\n",
    "import seaborn as sns\n",
    "from ipywidgets import interact_manual\n",
    "import missingno\n",
    "\n",
    "## Modeling - SKLearn\n",
    "from sklearn.linear_model import LogisticRegression\n",
    "from sklearn.preprocessing import MultiLabelBinarizer, OneHotEncoder\n",
    "from sklearn.preprocessing import StandardScaler, FunctionTransformer\n",
    "from sklearn.model_selection import train_test_split, cross_val_score\n",
    "from sklearn.impute import SimpleImputer\n",
    "from sklearn.compose import ColumnTransformer\n",
    "from sklearn.pipeline import Pipeline\n",
    "from sklearn.dummy import DummyRegressor\n",
    "from sklearn import set_config\n",
    "set_config(display='diagram')\n",
    "\n",
    "# from sklearn.naive_bayes import MultinomialNB # for naive bayes model\n",
    "\n",
    "## Settings\n",
    "%matplotlib inline\n",
    "plt.style.use('seaborn-talk')\n",
    "pd.set_option('display.max_columns', None)\n",
    "pd.set_option('display.float_format', lambda x: f'{x:,.2f}')\n",
    "pd.set_option('max_rows', 100)"
   ]
  },
  {
   "cell_type": "code",
   "execution_count": null,
   "metadata": {
    "ExecuteTime": {
     "end_time": "2021-08-03T15:24:13.397980Z",
     "start_time": "2021-08-03T15:24:12.877901Z"
    },
    "code_folding": [
     0
    ]
   },
   "outputs": [],
   "source": [
    "## Personal functions\n",
    "import clf_functions.functions as cf\n",
    "%load_ext autoreload\n",
    "%autoreload 1\n",
    "%aimport clf_functions.functions"
   ]
  },
  {
   "cell_type": "markdown",
   "metadata": {},
   "source": [
    "## ✅ Show Visualizations Setting"
   ]
  },
  {
   "cell_type": "code",
   "execution_count": null,
   "metadata": {
    "ExecuteTime": {
     "end_time": "2021-08-03T15:24:13.413876Z",
     "start_time": "2021-08-03T15:24:13.399922Z"
    }
   },
   "outputs": [],
   "source": [
    "## Controlling whether or not to show visualizations\n",
    "show_visualizations = False"
   ]
  },
  {
   "cell_type": "markdown",
   "metadata": {},
   "source": [
    "## ❓ FSDS"
   ]
  },
  {
   "cell_type": "code",
   "execution_count": null,
   "metadata": {
    "ExecuteTime": {
     "end_time": "2021-08-03T15:24:13.429479Z",
     "start_time": "2021-08-03T15:24:13.415722Z"
    }
   },
   "outputs": [],
   "source": [
    "# import fsds as fs"
   ]
  },
  {
   "cell_type": "code",
   "execution_count": null,
   "metadata": {
    "ExecuteTime": {
     "end_time": "2021-08-03T15:24:13.445525Z",
     "start_time": "2021-08-03T15:24:13.432409Z"
    },
    "scrolled": false
   },
   "outputs": [],
   "source": [
    "# fs.ihelp_menu([fs.ihelp_menu, sort_report])"
   ]
  },
  {
   "cell_type": "markdown",
   "metadata": {},
   "source": [
    "# 📖 **Read Data**"
   ]
  },
  {
   "cell_type": "code",
   "execution_count": null,
   "metadata": {
    "ExecuteTime": {
     "end_time": "2021-08-03T15:27:30.861245Z",
     "start_time": "2021-08-03T15:27:30.357687Z"
    }
   },
   "outputs": [],
   "source": [
    "## Reading data and saving to a DataFrame\n",
    "\n",
    "source = 'data/listings.csv.gz'\n",
    "\n",
    "data = pd.read_csv(source)"
   ]
  },
  {
   "cell_type": "code",
   "execution_count": null,
   "metadata": {
    "ExecuteTime": {
     "end_time": "2021-08-03T15:27:33.398037Z",
     "start_time": "2021-08-03T15:27:33.336461Z"
    },
    "code_folding": []
   },
   "outputs": [],
   "source": [
    "## Inspecting imported dataset\n",
    "data.head(5)"
   ]
  },
  {
   "cell_type": "code",
   "execution_count": null,
   "metadata": {
    "ExecuteTime": {
     "end_time": "2021-08-03T15:24:14.618499Z",
     "start_time": "2021-08-03T15:24:14.608385Z"
    }
   },
   "outputs": [],
   "source": [
    "## Checking number of rows and columns\n",
    "data.shape"
   ]
  },
  {
   "cell_type": "markdown",
   "metadata": {},
   "source": [
    "---\n",
    "\n",
    "> The initial read of the dataset shows there are 74 features and 8,033 entries. A quick glance at the `.head()` gives a sample of the entries, showing that some of the features are not relevant to my analysis.\n",
    ">\n",
    "> I need to get a better idea of the statistics for the dataset, especially any missing values and the datatypes for each column. I need to pre-process this data before I can perform any modeling.\n",
    "\n",
    "---"
   ]
  },
  {
   "cell_type": "markdown",
   "metadata": {},
   "source": [
    "# 👨‍💻 **Interactive Investigation**"
   ]
  },
  {
   "cell_type": "markdown",
   "metadata": {},
   "source": [
    "---\n",
    "\n",
    "> To increase accessibility to the data, **I include a widget to allow the user to sort through the data interactively.** I use [**Jupyter Widgets**](https://ipywidgets.readthedocs.io/en/latest/index.html) to create this interactive report.\n",
    ">\n",
    ">**To use:** select which column by which you would like to sort from the dropdown menu, then click the \"Run Interact\" button.\n",
    ">\n",
    ">***Note about 'Drop_Cols' and Cols:*** these keyword arguments are used to allow the user to drop specific columns.\n",
    ">\n",
    "> **Only click the \"Drop_Cols\" option when specifying \"Cols\"!** Otherwise it will cause an error.\n",
    ">\n",
    ">The 'Cols' dropdown menu does not affect the resulting report; the data is filtered from the report prior to displaying the results. \n",
    ">\n",
    ">I chose to include this option for flexibility and adaptability, but it does have the unintended consequence of creating another drop-down menu. Please ignore this menu, as it does not provide any additional functionality. For future work, I will disable the menu to prevent confusion.\n",
    "\n",
    "---"
   ]
  },
  {
   "cell_type": "code",
   "execution_count": null,
   "metadata": {
    "ExecuteTime": {
     "end_time": "2021-08-03T15:24:14.997714Z",
     "start_time": "2021-08-03T15:24:14.622501Z"
    }
   },
   "outputs": [],
   "source": [
    "## Running report on unfiltered dataset\n",
    "\n",
    "interact_manual(cf.sort_report, Sort_by=list(cf.report_df(data).columns),\n",
    "                Source=source);"
   ]
  },
  {
   "cell_type": "code",
   "execution_count": null,
   "metadata": {
    "ExecuteTime": {
     "end_time": "2021-08-03T15:24:15.077057Z",
     "start_time": "2021-08-03T15:24:14.999726Z"
    },
    "scrolled": false
   },
   "outputs": [],
   "source": [
    "data.head(3)"
   ]
  },
  {
   "cell_type": "markdown",
   "metadata": {},
   "source": [
    "---\n",
    "\n",
    "> After reviewing my data, I see there are several features that contain irrelevant entries (URLs, source data, meta data) or values that are too complicated for simple processing (such as host and listing descriptions).\n",
    ">\n",
    "> I will drop these columns for the second report to review the remaining data for further processing.\n",
    "\n",
    "---"
   ]
  },
  {
   "cell_type": "code",
   "execution_count": null,
   "metadata": {
    "ExecuteTime": {
     "end_time": "2021-08-03T15:24:15.093079Z",
     "start_time": "2021-08-03T15:24:15.079051Z"
    }
   },
   "outputs": [],
   "source": [
    "## Specifying columns to drop\n",
    "\n",
    "drop = ['id', 'host_id', 'name', 'description', 'neighborhood_overview', 'host_name',\n",
    "        'host_about', 'host_location', 'neighbourhood', 'property_type',\n",
    "        'listing_url', 'scrape_id', 'last_scraped', 'picture_url','host_url',\n",
    "        'host_thumbnail_url','host_picture_url','calendar_last_scraped']"
   ]
  },
  {
   "cell_type": "code",
   "execution_count": null,
   "metadata": {
    "ExecuteTime": {
     "end_time": "2021-08-03T15:24:15.408091Z",
     "start_time": "2021-08-03T15:24:15.095054Z"
    },
    "scrolled": false
   },
   "outputs": [],
   "source": [
    "## Creating updated interactive report\n",
    "\n",
    "interact_manual(cf.sort_report, Drop_Cols = True, Cols = drop,\n",
    "                Sort_by=list(cf.report_df(data).columns), Source=source);"
   ]
  },
  {
   "cell_type": "markdown",
   "metadata": {},
   "source": [
    "---\n",
    "\n",
    "> **Interpretation:**\n",
    ">\n",
    "> The report shows that the dataset has a big problem with missing values:\n",
    ">\n",
    "> * **Empty:**\n",
    ">   * `neighbourhood_group_cleansed`\n",
    ">   * `bathrooms`\n",
    ">   * `calendar_updated`\n",
    ">\n",
    ">\n",
    "> * **Nearly empty:**\n",
    ">  * `license`\n",
    ">\n",
    ">\n",
    "> * **Missing 26-39% of data:**\n",
    ">  * `host_about`\n",
    ">  * `neighborhood_overview`\n",
    ">  * `neighbourhood`\n",
    ">  * `host_response_time`\n",
    ">  * `host_response_rate`\n",
    ">  * `review_scores_value`\n",
    ">  * `review_scores_checkin`\n",
    ">  * `review_scores_location`\n",
    ">  * `review_scores_accuracy`\n",
    ">  * `review_scores_communication`\n",
    ">  * `review_scores_cleanliness`\n",
    ">  * `host_acceptance_rate`\n",
    ">  * `reviews_per_month`\n",
    ">  * `first_review`\n",
    ">  * `review_scores_rating`\n",
    ">  * `last_review`\n",
    ">\n",
    ">---\n",
    ">\n",
    "> I will need to address these missing values before processing with the modeling. A few options include:\n",
    ">\n",
    "> * **Filling with the string \"missing\"** to indicate the value was missing.\n",
    ">    * *I would be able to treat \"missing\" as a distinct category and use it for modeling as well.*\n",
    ">\n",
    ">\n",
    "> * **Dropping the rows with missing values.**\n",
    ">    * *This may negatively impact the accuracy of my results by overfitting to the training data.*\n",
    ">\n",
    ">\n",
    "> * I could **use the `SimpleImputer` tool from SKLearn to fill the missing values** with the mean, median, or mode values for each.\n",
    ">    * *I could couple this with a `GridSearchCV` to identify the method that has the strongest positive impact on my classification metrics.*\n",
    "\n",
    "---"
   ]
  },
  {
   "cell_type": "markdown",
   "metadata": {},
   "source": [
    "---\n",
    "\n",
    "> To get a better idea of the missing values, I create a visual of the values via the 'Missingno' package. This visualization package includes several options for visualizing the missing data.\n",
    "\n",
    "---"
   ]
  },
  {
   "cell_type": "code",
   "execution_count": null,
   "metadata": {
    "ExecuteTime": {
     "end_time": "2021-08-03T15:24:15.423893Z",
     "start_time": "2021-08-03T15:24:15.410093Z"
    },
    "scrolled": false
   },
   "outputs": [],
   "source": [
    "## Visually inspecting missing values\n",
    "if show_visualizations == True:\n",
    "    missingno.bar(data, labels=True);"
   ]
  },
  {
   "cell_type": "markdown",
   "metadata": {},
   "source": [
    "---\n",
    "\n",
    "> Based on this visualization, I see that **there is a consistent trend in missing values for review scores:** if a row is missing one review score, it seems to be missing all of them.\n",
    ">\n",
    "> Additionally, **there are many missing values for the response time, response rate, and acceptance rate.** I want to use these columns in my classification, so I will need to replace those missing values.\n",
    ">\n",
    "> After reviewing these details, **I feel more comfortable with the option of dropping those rows with missing review values.** I will drop the values as part of my overall classification process.\n",
    "\n",
    "---"
   ]
  },
  {
   "cell_type": "markdown",
   "metadata": {},
   "source": [
    "# 🧼 **Data Cleaning and EDA**"
   ]
  },
  {
   "cell_type": "markdown",
   "metadata": {},
   "source": [
    "## 🔎 Fixing Missing Values"
   ]
  },
  {
   "cell_type": "markdown",
   "metadata": {},
   "source": [
    "---\n",
    "\n",
    "> This dataset is missing a significant number of values for different columns. **In order to perform any modeling, I will need to address these missing values first.**\n",
    ">\n",
    "> Depending on the feature and the number of missing values per row, I will take different approaches to keep as much data as possible and in its original state.\n",
    "\n",
    "---"
   ]
  },
  {
   "cell_type": "code",
   "execution_count": null,
   "metadata": {
    "ExecuteTime": {
     "end_time": "2021-08-03T15:24:15.471806Z",
     "start_time": "2021-08-03T15:24:15.425893Z"
    },
    "scrolled": false
   },
   "outputs": [],
   "source": [
    "# Dropping features with high percentages (25%+) of missing values\n",
    "\n",
    "drop_na_cols = []\n",
    "for col in data.columns:\n",
    "    if ((data[col].isna().sum()) / len(data[col])) > .25 and col != 'review_scores_rating':\n",
    "        drop_na_cols.append(col)\n",
    "\n",
    "drop_na_cols"
   ]
  },
  {
   "cell_type": "code",
   "execution_count": null,
   "metadata": {
    "ExecuteTime": {
     "end_time": "2021-08-03T15:24:15.487797Z",
     "start_time": "2021-08-03T15:24:15.473794Z"
    }
   },
   "outputs": [],
   "source": [
    "## Appending previous list of columns to drop (metadata, etc.)\n",
    "\n",
    "for col in drop:\n",
    "    if col not in drop_na_cols:\n",
    "        drop_na_cols.append(col)\n",
    "\n",
    "drop_na_cols"
   ]
  },
  {
   "cell_type": "code",
   "execution_count": null,
   "metadata": {
    "ExecuteTime": {
     "end_time": "2021-08-03T15:24:15.583793Z",
     "start_time": "2021-08-03T15:24:15.489826Z"
    }
   },
   "outputs": [],
   "source": [
    "## Creating new dataframe that does not include the features to drop\n",
    "df = data.drop(columns= drop_na_cols).copy()\n",
    "df"
   ]
  },
  {
   "cell_type": "code",
   "execution_count": null,
   "metadata": {
    "ExecuteTime": {
     "end_time": "2021-08-03T15:24:15.710014Z",
     "start_time": "2021-08-03T15:24:15.585796Z"
    }
   },
   "outputs": [],
   "source": [
    "## Confirming dropped columns with high missing values\n",
    "cf.report_df(df)"
   ]
  },
  {
   "cell_type": "code",
   "execution_count": null,
   "metadata": {
    "ExecuteTime": {
     "end_time": "2021-08-03T15:24:15.756021Z",
     "start_time": "2021-08-03T15:24:15.711986Z"
    }
   },
   "outputs": [],
   "source": [
    "## Filling missing values for 'beds' with values for 'bedrooms'\n",
    "\n",
    "for idx in list(df['beds'][df['beds'].isna()].index):\n",
    "    if df['bedrooms'][idx] > 0:\n",
    "        df['beds'][idx] = df['bedrooms'][idx]"
   ]
  },
  {
   "cell_type": "code",
   "execution_count": null,
   "metadata": {
    "ExecuteTime": {
     "end_time": "2021-08-03T15:24:15.865162Z",
     "start_time": "2021-08-03T15:24:15.757887Z"
    }
   },
   "outputs": [],
   "source": [
    "## Filling missing values for 'bedrooms' with values for 'beds'\n",
    "\n",
    "for idx in list(df['bedrooms'][df['bedrooms'].isna()].index):\n",
    "    if df['beds'][idx] > 0:\n",
    "        df['bedrooms'][idx] = df['beds'][idx]"
   ]
  },
  {
   "cell_type": "code",
   "execution_count": null,
   "metadata": {
    "ExecuteTime": {
     "end_time": "2021-08-03T15:24:15.990224Z",
     "start_time": "2021-08-03T15:24:15.867131Z"
    }
   },
   "outputs": [],
   "source": [
    "## Confirming reduction in missing values for 'beds' and 'bedrooms'\n",
    "\n",
    "rpt_clean  = cf.report_df(df)\n",
    "rpt_clean[rpt_clean['null_sum'] >0]"
   ]
  },
  {
   "cell_type": "code",
   "execution_count": null,
   "metadata": {
    "ExecuteTime": {
     "end_time": "2021-08-03T15:24:16.020947Z",
     "start_time": "2021-08-03T15:24:15.993219Z"
    }
   },
   "outputs": [],
   "source": [
    "## Checking remaining missing values\n",
    "\n",
    "df.isna().sum()"
   ]
  },
  {
   "cell_type": "code",
   "execution_count": null,
   "metadata": {
    "ExecuteTime": {
     "end_time": "2021-08-03T15:24:16.113505Z",
     "start_time": "2021-08-03T15:24:16.022964Z"
    },
    "scrolled": false
   },
   "outputs": [],
   "source": [
    "## Removing rows with 6+ null values\n",
    "\n",
    "df = df[df.isna().sum(axis=1) < 6]\n",
    "df.head(5)"
   ]
  },
  {
   "cell_type": "code",
   "execution_count": null,
   "metadata": {
    "ExecuteTime": {
     "end_time": "2021-08-03T15:24:16.144541Z",
     "start_time": "2021-08-03T15:24:16.118508Z"
    }
   },
   "outputs": [],
   "source": [
    "df.isna().sum()"
   ]
  },
  {
   "cell_type": "markdown",
   "metadata": {
    "ExecuteTime": {
     "end_time": "2021-08-02T19:24:46.416827Z",
     "start_time": "2021-08-02T19:24:46.402822Z"
    }
   },
   "source": [
    "---\n",
    "\n",
    "> At this point, **I cleaned up most of the null values via dropping columns with 25%+ missing values and dropping rows with 6+ missing values.**\n",
    ">\n",
    ">Additionally, **I filled missing values for 'beds'/'bedrooms' by checking the missing values for each column against the values in the other for each row.** If a row had a value in one of the columns but not the other, I filled the missing value with the value from the other column.\n",
    ">\n",
    "> Now, **I will take a different approach to my target feature, the \"review_scores_rating.\"** This feature contains a substantial number of missing values. Due to the impact of changing the values of my target variable, I will use a box plot to inspect the values, then determine whether to use the mean or median value to replace the missing values.\n",
    "\n",
    "---"
   ]
  },
  {
   "cell_type": "code",
   "execution_count": null,
   "metadata": {
    "ExecuteTime": {
     "end_time": "2021-08-03T15:24:16.301299Z",
     "start_time": "2021-08-03T15:24:16.149511Z"
    }
   },
   "outputs": [],
   "source": [
    "## Visualizing the pre-processed target values\n",
    "\n",
    "sns.boxplot(data = df['review_scores_rating']);"
   ]
  },
  {
   "cell_type": "code",
   "execution_count": null,
   "metadata": {
    "ExecuteTime": {
     "end_time": "2021-08-03T15:24:16.908769Z",
     "start_time": "2021-08-03T15:24:16.307283Z"
    },
    "scrolled": false
   },
   "outputs": [],
   "source": [
    "sns.displot(data=df['review_scores_rating']);"
   ]
  },
  {
   "cell_type": "code",
   "execution_count": null,
   "metadata": {
    "ExecuteTime": {
     "end_time": "2021-08-03T15:24:17.254740Z",
     "start_time": "2021-08-03T15:24:16.911737Z"
    }
   },
   "outputs": [],
   "source": [
    "sns.displot(data=df['review_scores_rating'][df['review_scores_rating'] >= 4]);"
   ]
  },
  {
   "cell_type": "code",
   "execution_count": null,
   "metadata": {
    "ExecuteTime": {
     "end_time": "2021-08-03T15:24:17.284740Z",
     "start_time": "2021-08-03T15:24:17.259740Z"
    }
   },
   "outputs": [],
   "source": [
    "## Calculating mean for target values\n",
    "mean = df['review_scores_rating'].mean()\n",
    "mean"
   ]
  },
  {
   "cell_type": "code",
   "execution_count": null,
   "metadata": {
    "ExecuteTime": {
     "end_time": "2021-08-03T15:24:17.299740Z",
     "start_time": "2021-08-03T15:24:17.287738Z"
    }
   },
   "outputs": [],
   "source": [
    "## Calculating median for target values\n",
    "median = df['review_scores_rating'].median()\n",
    "median"
   ]
  },
  {
   "cell_type": "markdown",
   "metadata": {},
   "source": [
    "---\n",
    "\n",
    ">Based on this box plot and distributions, I see that **a large majority of the values are 4+, with a large number of values being 4.8+.**\n",
    ">\n",
    ">For the purposes of my classification (whether or not a given host would have a rating of 4+), I can fill the missing values with either the mean/median.\n",
    ">\n",
    "> **I will fill the missing values with the mean value of 4.68** to help ensure a fair representation of the overall data.\n",
    "\n",
    "---"
   ]
  },
  {
   "cell_type": "code",
   "execution_count": null,
   "metadata": {
    "ExecuteTime": {
     "end_time": "2021-08-03T15:24:17.314739Z",
     "start_time": "2021-08-03T15:24:17.301741Z"
    },
    "scrolled": true
   },
   "outputs": [],
   "source": [
    "df.loc[:,'review_scores_rating'] = df.loc[:,'review_scores_rating'].fillna(median)"
   ]
  },
  {
   "cell_type": "code",
   "execution_count": null,
   "metadata": {
    "ExecuteTime": {
     "end_time": "2021-08-03T15:25:32.386183Z",
     "start_time": "2021-08-03T15:25:32.364179Z"
    }
   },
   "outputs": [],
   "source": [
    "df['review_scores_rating'].describe()"
   ]
  },
  {
   "cell_type": "code",
   "execution_count": null,
   "metadata": {
    "ExecuteTime": {
     "end_time": "2021-08-03T15:24:17.440996Z",
     "start_time": "2021-08-03T15:24:17.316742Z"
    },
    "scrolled": false
   },
   "outputs": [],
   "source": [
    "cf.report_df(df)"
   ]
  },
  {
   "cell_type": "code",
   "execution_count": null,
   "metadata": {
    "ExecuteTime": {
     "end_time": "2021-08-03T15:24:17.455996Z",
     "start_time": "2021-08-03T15:24:17.443008Z"
    }
   },
   "outputs": [],
   "source": [
    "## Resetting the index after dropping rows\n",
    "\n",
    "df.reset_index(drop=True, inplace=True)"
   ]
  },
  {
   "cell_type": "markdown",
   "metadata": {},
   "source": [
    "---\n",
    "\n",
    "> At this point, I addressed most of the missing values in my dataset by dropping columns and filling missing values. There are still a few columns with missing values, but I will use a SimpleImputer combined with a GridSearchCV to determine the best method by which to fill those values.\n",
    ">\n",
    "> Now I will review the remaining data and determine if there are any other issues with my data.\n",
    "\n",
    "---"
   ]
  },
  {
   "cell_type": "markdown",
   "metadata": {},
   "source": [
    "RETURN ANCHOR FOR LINK <a name=\"leftoff\"></a>"
   ]
  },
  {
   "cell_type": "markdown",
   "metadata": {},
   "source": [
    "## **🛠** Changing DataTypes"
   ]
  },
  {
   "cell_type": "code",
   "execution_count": null,
   "metadata": {
    "ExecuteTime": {
     "end_time": "2021-08-03T15:24:17.487938Z",
     "start_time": "2021-08-03T15:24:17.458001Z"
    },
    "scrolled": false
   },
   "outputs": [],
   "source": [
    "## Reviewing the remaining dataframe\n",
    "df.head(3)"
   ]
  },
  {
   "cell_type": "markdown",
   "metadata": {},
   "source": [
    "**COMMENT:** what next? \n",
    "\n",
    "* DONE: T/F columns to 1/0\n",
    "\n",
    "\n",
    "* DONE: 'host_since' to DT\n",
    "\n",
    "\n",
    "* DONE: 'price' -$, to float\n",
    "\n",
    "\n",
    "* DONE: 'neighbourhood_cleansed' split on \", \" and convert to binary columns, then drop host_neighbourhood\n",
    "\n",
    "\n",
    "* DONE: 'bathrooms_text' split on space, keep 1st part, convert to int\n",
    "\n",
    "\n",
    "* 'host_verifications' - single string, needs extensive work in order to MLB"
   ]
  },
  {
   "cell_type": "markdown",
   "metadata": {},
   "source": [
    "### Converting True/False to 1/0"
   ]
  },
  {
   "cell_type": "code",
   "execution_count": null,
   "metadata": {
    "ExecuteTime": {
     "end_time": "2021-08-03T15:24:17.502881Z",
     "start_time": "2021-08-03T15:24:17.489938Z"
    }
   },
   "outputs": [],
   "source": [
    "## Creating list of true/false features to convert to 1/0, respectively\n",
    "\n",
    "t_f_xf = ['host_is_superhost','host_has_profile_pic','host_identity_verified',\n",
    "          'has_availability','instant_bookable']\n",
    "t_f_xf"
   ]
  },
  {
   "cell_type": "code",
   "execution_count": null,
   "metadata": {
    "ExecuteTime": {
     "end_time": "2021-08-03T15:24:17.549883Z",
     "start_time": "2021-08-03T15:24:17.510884Z"
    }
   },
   "outputs": [],
   "source": [
    "## Converting datatype to \"string\" to replace values\n",
    "\n",
    "df[t_f_xf] = df[t_f_xf].astype('str')\n",
    "df[t_f_xf].dtypes"
   ]
  },
  {
   "cell_type": "code",
   "execution_count": null,
   "metadata": {
    "ExecuteTime": {
     "end_time": "2021-08-03T15:24:17.581883Z",
     "start_time": "2021-08-03T15:24:17.551882Z"
    }
   },
   "outputs": [],
   "source": [
    "df[t_f_xf]"
   ]
  },
  {
   "cell_type": "code",
   "execution_count": null,
   "metadata": {
    "ExecuteTime": {
     "end_time": "2021-08-03T15:24:17.612860Z",
     "start_time": "2021-08-03T15:24:17.583884Z"
    }
   },
   "outputs": [],
   "source": [
    "## Converting t/f to 1/0, respectively\n",
    "\n",
    "df[t_f_xf] = df[t_f_xf].replace({ 't' : 1, 'f' : 0})"
   ]
  },
  {
   "cell_type": "code",
   "execution_count": null,
   "metadata": {
    "ExecuteTime": {
     "end_time": "2021-08-03T15:24:17.628841Z",
     "start_time": "2021-08-03T15:24:17.614859Z"
    }
   },
   "outputs": [],
   "source": [
    "df[t_f_xf]"
   ]
  },
  {
   "cell_type": "code",
   "execution_count": null,
   "metadata": {
    "ExecuteTime": {
     "end_time": "2021-08-03T15:24:17.643835Z",
     "start_time": "2021-08-03T15:24:17.630843Z"
    }
   },
   "outputs": [],
   "source": [
    "df[t_f_xf] = df[t_f_xf].astype(int)"
   ]
  },
  {
   "cell_type": "code",
   "execution_count": null,
   "metadata": {
    "ExecuteTime": {
     "end_time": "2021-08-03T15:24:17.674722Z",
     "start_time": "2021-08-03T15:24:17.645822Z"
    }
   },
   "outputs": [],
   "source": [
    "## Verifying results\n",
    "\n",
    "cf.report_df(df[t_f_xf])"
   ]
  },
  {
   "cell_type": "markdown",
   "metadata": {},
   "source": [
    "### Price -$, to Int"
   ]
  },
  {
   "cell_type": "code",
   "execution_count": null,
   "metadata": {
    "ExecuteTime": {
     "end_time": "2021-08-03T15:24:17.689716Z",
     "start_time": "2021-08-03T15:24:17.676720Z"
    }
   },
   "outputs": [],
   "source": [
    "## Converting each value into a float for processing\n",
    "\n",
    "try:\n",
    "    df['price'] = df['price'].map(lambda price: price[1:].replace(',','')).astype('float')\n",
    "    df['price'][0]\n",
    "except Exception:\n",
    "    print('\\nValues are already processed and saved. No changes necessary')\n",
    "    print(f\"\\nSample value: {df['price'][0]}\")"
   ]
  },
  {
   "cell_type": "code",
   "execution_count": null,
   "metadata": {
    "ExecuteTime": {
     "end_time": "2021-08-03T15:24:17.705276Z",
     "start_time": "2021-08-03T15:24:17.691729Z"
    }
   },
   "outputs": [],
   "source": [
    "df['price'].describe()"
   ]
  },
  {
   "cell_type": "markdown",
   "metadata": {},
   "source": [
    "### Host_Since to Datetime"
   ]
  },
  {
   "cell_type": "code",
   "execution_count": null,
   "metadata": {
    "ExecuteTime": {
     "end_time": "2021-08-03T15:24:17.736636Z",
     "start_time": "2021-08-03T15:24:17.707198Z"
    }
   },
   "outputs": [],
   "source": [
    "df.head(2)"
   ]
  },
  {
   "cell_type": "code",
   "execution_count": null,
   "metadata": {
    "ExecuteTime": {
     "end_time": "2021-08-03T15:24:17.784573Z",
     "start_time": "2021-08-03T15:24:17.739607Z"
    },
    "scrolled": true
   },
   "outputs": [],
   "source": [
    "df.loc[:,'host_since'] = pd.to_datetime(df.loc[:,'host_since'])\n",
    "df['host_since']"
   ]
  },
  {
   "cell_type": "code",
   "execution_count": null,
   "metadata": {
    "ExecuteTime": {
     "end_time": "2021-08-03T15:24:17.816574Z",
     "start_time": "2021-08-03T15:24:17.787573Z"
    }
   },
   "outputs": [],
   "source": [
    "df[\"host_since\"].describe(datetime_is_numeric=True)"
   ]
  },
  {
   "cell_type": "markdown",
   "metadata": {},
   "source": [
    "### Bathrooms_Text"
   ]
  },
  {
   "cell_type": "markdown",
   "metadata": {},
   "source": [
    "---\n",
    "\n",
    "> Goal: convert \"bathrooms_text\" into new \"num_bathrooms\" column to indicate number of bathrooms at a host property.\n",
    ">\n",
    "> The old \"bathrooms\" feature was empty and was dropped as part of processing missing data.\n",
    "\n",
    "---"
   ]
  },
  {
   "cell_type": "code",
   "execution_count": null,
   "metadata": {
    "ExecuteTime": {
     "end_time": "2021-08-03T15:24:17.848579Z",
     "start_time": "2021-08-03T15:24:17.818575Z"
    }
   },
   "outputs": [],
   "source": [
    "## Checking current dataframe contents\n",
    "\n",
    "df.head(3)"
   ]
  },
  {
   "cell_type": "code",
   "execution_count": null,
   "metadata": {
    "ExecuteTime": {
     "end_time": "2021-08-03T15:24:17.864339Z",
     "start_time": "2021-08-03T15:24:17.850579Z"
    },
    "scrolled": false
   },
   "outputs": [],
   "source": [
    "## Checking for null values overall\n",
    "df.isna().sum()[df.isna().sum() > 0]"
   ]
  },
  {
   "cell_type": "code",
   "execution_count": null,
   "metadata": {
    "ExecuteTime": {
     "end_time": "2021-08-03T15:24:17.880315Z",
     "start_time": "2021-08-03T15:24:17.866497Z"
    },
    "scrolled": false
   },
   "outputs": [],
   "source": [
    "## Inspecting a selection of values from the column to understand the values\n",
    "df.loc[:,'bathrooms_text'][:21]"
   ]
  },
  {
   "cell_type": "code",
   "execution_count": null,
   "metadata": {
    "ExecuteTime": {
     "end_time": "2021-08-03T15:24:17.926979Z",
     "start_time": "2021-08-03T15:24:17.882317Z"
    }
   },
   "outputs": [],
   "source": [
    "## Inspecting the rows in which there are null values\n",
    "df[df['bathrooms_text'].isna()]"
   ]
  },
  {
   "cell_type": "code",
   "execution_count": null,
   "metadata": {
    "ExecuteTime": {
     "end_time": "2021-08-03T15:24:17.943005Z",
     "start_time": "2021-08-03T15:24:17.928991Z"
    }
   },
   "outputs": [],
   "source": [
    "## Filling null values with unique string ('Baths' not present otherwise)\n",
    "## Unique string can be used later to check for any other zero baths\n",
    "\n",
    "df.loc[:,'bathrooms_text'].fillna('0 Baths', inplace=True)"
   ]
  },
  {
   "cell_type": "code",
   "execution_count": null,
   "metadata": {
    "ExecuteTime": {
     "end_time": "2021-08-03T15:24:17.974079Z",
     "start_time": "2021-08-03T15:24:17.945972Z"
    },
    "scrolled": false
   },
   "outputs": [],
   "source": [
    "## Verifying all null values are filled\n",
    "df.isna().sum()[df.isna().sum() > 0]"
   ]
  },
  {
   "cell_type": "code",
   "execution_count": null,
   "metadata": {
    "ExecuteTime": {
     "end_time": "2021-08-03T15:24:17.989327Z",
     "start_time": "2021-08-03T15:24:17.977054Z"
    },
    "scrolled": true
   },
   "outputs": [],
   "source": [
    "df.loc[:,'bathrooms_text'].isna().sum()"
   ]
  },
  {
   "cell_type": "code",
   "execution_count": null,
   "metadata": {
    "ExecuteTime": {
     "end_time": "2021-08-03T15:24:18.005405Z",
     "start_time": "2021-08-03T15:24:17.991300Z"
    },
    "scrolled": false
   },
   "outputs": [],
   "source": [
    "## Splitting each list into separate strings\n",
    "df['num_bathrooms'] = df['bathrooms_text'].map(lambda x: x.split(' ')[0])\n",
    "df['num_bathrooms'].value_counts()"
   ]
  },
  {
   "cell_type": "code",
   "execution_count": null,
   "metadata": {
    "ExecuteTime": {
     "end_time": "2021-08-03T15:24:18.053317Z",
     "start_time": "2021-08-03T15:24:18.013322Z"
    },
    "scrolled": false
   },
   "outputs": [],
   "source": [
    "## Verifying results that are words, not numbers\n",
    "\n",
    "replace = ['Half-bath', 'Shared', 'Private']\n",
    "\n",
    "for x in df['bathrooms_text']:\n",
    "    for i in replace:\n",
    "        if i in x:\n",
    "            print(x)"
   ]
  },
  {
   "cell_type": "markdown",
   "metadata": {},
   "source": [
    "---\n",
    "\n",
    "> **I will replace these values with the numeric value .5 as they are half-baths.** This will allow me to convert the column datatype to a float and use the column more easily in my modeling.\n",
    "\n",
    "---"
   ]
  },
  {
   "cell_type": "code",
   "execution_count": null,
   "metadata": {
    "ExecuteTime": {
     "end_time": "2021-08-03T15:24:18.069349Z",
     "start_time": "2021-08-03T15:24:18.056318Z"
    },
    "scrolled": true
   },
   "outputs": [],
   "source": [
    "## Replacing string values with .5 to represent half-bathrooms\n",
    "\n",
    "replace = {'Half-bath': .5, 'Shared': .5, 'Private': .5}\n",
    "\n",
    "df['num_bathrooms'].replace(replace, inplace = True)\n",
    "\n",
    "df['num_bathrooms'] = df['num_bathrooms'].astype(float)"
   ]
  },
  {
   "cell_type": "code",
   "execution_count": null,
   "metadata": {
    "ExecuteTime": {
     "end_time": "2021-08-03T15:24:18.085352Z",
     "start_time": "2021-08-03T15:24:18.071320Z"
    }
   },
   "outputs": [],
   "source": [
    "## Inspecting resulting values\n",
    "\n",
    "df['num_bathrooms'].value_counts(dropna=False)"
   ]
  },
  {
   "cell_type": "code",
   "execution_count": null,
   "metadata": {
    "ExecuteTime": {
     "end_time": "2021-08-03T15:24:18.116374Z",
     "start_time": "2021-08-03T15:24:18.087321Z"
    },
    "scrolled": false
   },
   "outputs": [],
   "source": [
    "## Inspecting listings with more than 10 rooms\n",
    "\n",
    "df[df['num_bathrooms'] >10]"
   ]
  },
  {
   "cell_type": "markdown",
   "metadata": {},
   "source": [
    "---\n",
    "\n",
    "> After taking a look at the locations listed above on Google Maps (using their latitude/longitude), I feel like these three listings with more than 10 bathrooms are either duplicates or incorrect values (for 50 baths).\n",
    ">\n",
    "> Due to the questionable nature of these values, I will drop these rows to prevent these outliers from impacting my results.\n",
    "\n",
    "---"
   ]
  },
  {
   "cell_type": "code",
   "execution_count": null,
   "metadata": {
    "ExecuteTime": {
     "end_time": "2021-08-03T15:24:18.162912Z",
     "start_time": "2021-08-03T15:24:18.118295Z"
    },
    "scrolled": false
   },
   "outputs": [],
   "source": [
    "## Identifying and using indices for rows with zero bathrooms for inspection\n",
    "\n",
    "zero_bath_idx = df.loc[:,'bathrooms_text'][df['num_bathrooms'] == 0].index.to_list()\n",
    "\n",
    "df.iloc[zero_bath_idx][:10]#['bathrooms_text']"
   ]
  },
  {
   "cell_type": "markdown",
   "metadata": {},
   "source": [
    "---\n",
    "\n",
    "> My review of the original bathroom text for the zero bathrooms column shows that the listings are associated with a private room. This would make sense as the listings may not include an option such as a shared bath, etc..\n",
    ">\n",
    "> Additionally I did fill 9 instances of missing values with \"0 Baths,\" which would contribute slightly to this count.\n",
    ">\n",
    "> Overall, I feel the data is valid and I will use it for my modeling.\n",
    "\n",
    "---"
   ]
  },
  {
   "cell_type": "markdown",
   "metadata": {},
   "source": [
    "### neighbourhood_cleansed"
   ]
  },
  {
   "cell_type": "code",
   "execution_count": null,
   "metadata": {
    "ExecuteTime": {
     "end_time": "2021-08-03T15:24:18.177902Z",
     "start_time": "2021-08-03T15:24:18.165873Z"
    },
    "scrolled": true
   },
   "outputs": [],
   "source": [
    "df.loc[:,'neighbourhood_cleansed']"
   ]
  },
  {
   "cell_type": "code",
   "execution_count": null,
   "metadata": {
    "ExecuteTime": {
     "end_time": "2021-08-03T15:24:18.193874Z",
     "start_time": "2021-08-03T15:24:18.179871Z"
    }
   },
   "outputs": [],
   "source": [
    "df.loc[:,'neighbourhood_cleansed'].dtype"
   ]
  },
  {
   "cell_type": "markdown",
   "metadata": {},
   "source": [
    "---\n",
    "\n",
    "> The current values for \"neighbourhood_cleansed\" are a single string value. **I will separate each neighborhood and convert them into a binary column to represent whether or not that neighborhood is included in the listing, then drop the old column.**\n",
    "\n",
    "---"
   ]
  },
  {
   "cell_type": "code",
   "execution_count": null,
   "metadata": {
    "ExecuteTime": {
     "end_time": "2021-08-03T15:24:18.209373Z",
     "start_time": "2021-08-03T15:24:18.194872Z"
    }
   },
   "outputs": [],
   "source": [
    "## Testing the splitting between neighborhoods\n",
    "\n",
    "df.loc[:,'neighbourhood_cleansed'][1].split(', ')"
   ]
  },
  {
   "cell_type": "code",
   "execution_count": null,
   "metadata": {
    "ExecuteTime": {
     "end_time": "2021-08-03T15:24:18.241133Z",
     "start_time": "2021-08-03T15:24:18.212387Z"
    }
   },
   "outputs": [],
   "source": [
    "## Converting values into a list of strings for each neighborhood\n",
    "\n",
    "try:\n",
    "    df['neighbourhood_cleansed'] = df['neighbourhood_cleansed'] \\\n",
    "                                                .apply(lambda x: x.split(', '))\n",
    "    display(df.loc[:,'neighbourhood_cleansed'])\n",
    "except Exception:\n",
    "    print('\\nValues are already processed and saved. No changes necessary.')\n",
    "    print(f\"\\nSample value: {df.loc[:,'neighbourhood_cleansed'][3]}\")"
   ]
  },
  {
   "cell_type": "markdown",
   "metadata": {},
   "source": [
    "---\n",
    "\n",
    "> The following code snippet is adapted from [here](https://stackoverflow.com/questions/45312377/how-to-one-hot-encode-from-a-pandas-column-containing-a-list#:~:text=Sparse%20solution%20(for%20Pandas%20v0.25.0%2B)) by the user [Maxu](https://stackoverflow.com/users/5741205/maxu).\n",
    "\n",
    "---"
   ]
  },
  {
   "cell_type": "code",
   "execution_count": null,
   "metadata": {
    "ExecuteTime": {
     "end_time": "2021-08-03T15:24:18.302347Z",
     "start_time": "2021-08-03T15:24:18.243111Z"
    }
   },
   "outputs": [],
   "source": [
    "## Converting each neighborhood into a binary column and dropping old column\n",
    "\n",
    "mlb = MultiLabelBinarizer()\n",
    "\n",
    "try:\n",
    "    df = df.join(pd.DataFrame(mlb.fit_transform(df.pop('neighbourhood_cleansed')),\n",
    "                              columns=mlb.classes_,index=df.index))\n",
    "except Exception:\n",
    "        print('\\nValues are already processed and saved. No changes necessary.')"
   ]
  },
  {
   "cell_type": "code",
   "execution_count": null,
   "metadata": {
    "ExecuteTime": {
     "end_time": "2021-08-03T15:24:18.381886Z",
     "start_time": "2021-08-03T15:24:18.305072Z"
    },
    "scrolled": true
   },
   "outputs": [],
   "source": [
    "## Inspecting results\n",
    "\n",
    "df.head(3)"
   ]
  },
  {
   "cell_type": "markdown",
   "metadata": {},
   "source": [
    "---\n",
    "\n",
    "> After using the MultiLabelBinarizer, I successfully added a column for each neighborhood, indicating whether or not that neighborhood was included in the listing.\n",
    ">\n",
    "> This enables me to use the presence/absence of a  neighborhood as a category in my modeling.\n",
    "\n",
    "---"
   ]
  },
  {
   "cell_type": "markdown",
   "metadata": {},
   "source": [
    "### Host_Verifications"
   ]
  },
  {
   "cell_type": "code",
   "execution_count": null,
   "metadata": {
    "ExecuteTime": {
     "end_time": "2021-08-03T15:24:18.396883Z",
     "start_time": "2021-08-03T15:24:18.383882Z"
    }
   },
   "outputs": [],
   "source": [
    "df['host_verifications'][:10]"
   ]
  },
  {
   "cell_type": "markdown",
   "metadata": {},
   "source": [
    "---\n",
    "\n",
    "> For the \"host_verifications\" and \"amenities\" features, the values are a single string with several items within the string.\n",
    ">\n",
    "> It is somewhat similar to the \"neighborhoods_cleaned\" feature in the sense that I will need to filter out the individual items from the string. However, there is an added complication as I need to remove the brackets and quotations from the strings.\n",
    ">\n",
    "> Once I filter out the items, I will be able to use the MultiLabelBinarizer again to create more categories for each amenity.\n",
    "\n",
    "---"
   ]
  },
  {
   "cell_type": "code",
   "execution_count": null,
   "metadata": {
    "ExecuteTime": {
     "end_time": "2021-08-03T15:24:18.411903Z",
     "start_time": "2021-08-03T15:24:18.398885Z"
    }
   },
   "outputs": [],
   "source": [
    "## Testing the splitting between items\n",
    "\n",
    "df.loc[:,'host_verifications'][1]"
   ]
  },
  {
   "cell_type": "code",
   "execution_count": null,
   "metadata": {
    "ExecuteTime": {
     "end_time": "2021-08-03T15:24:18.552428Z",
     "start_time": "2021-08-03T15:24:18.414900Z"
    }
   },
   "outputs": [],
   "source": [
    "for x in ['host_verifications', 'amenities']:\n",
    "    df[x] = df[x].str.replace('[', '')\n",
    "    df[x] = df[x].str.replace(']', '')\n",
    "    df[x] = df[x].str.replace(\"'\", '')\n",
    "    df[x] = df[x].str.replace('\"', '')\n",
    "    df[x] = df[x].apply(lambda x: x.split(', '))"
   ]
  },
  {
   "cell_type": "code",
   "execution_count": null,
   "metadata": {
    "ExecuteTime": {
     "end_time": "2021-08-03T15:24:18.740937Z",
     "start_time": "2021-08-03T15:24:18.555430Z"
    }
   },
   "outputs": [],
   "source": [
    "## Converting each value into a binary column and dropping old column\n",
    "\n",
    "mlb2 = MultiLabelBinarizer()\n",
    "    \n",
    "df = df.join(pd.DataFrame(mlb2.fit_transform(df.pop('host_verifications')),\n",
    "                                  columns=mlb2.classes_,index=df.index))\n",
    "\n",
    "df"
   ]
  },
  {
   "cell_type": "markdown",
   "metadata": {},
   "source": [
    "---\n",
    "\n",
    "> At this point, I successfully processed the 'host_verification' feature into distinct categories for modeling.\n",
    ">\n",
    "> In the future, I may attempt to do the same for the 'amenities' feature, but I don't want to create too many columns before my initial modeling.\n",
    "\n",
    "---"
   ]
  },
  {
   "cell_type": "markdown",
   "metadata": {
    "heading_collapsed": true
   },
   "source": [
    "#### Old Code"
   ]
  },
  {
   "cell_type": "code",
   "execution_count": null,
   "metadata": {
    "ExecuteTime": {
     "end_time": "2021-08-03T15:24:18.756498Z",
     "start_time": "2021-08-03T15:24:18.748497Z"
    },
    "hidden": true
   },
   "outputs": [],
   "source": [
    "# for x in ['host_verifications', 'amenities']:\n",
    "#     print(df[x])"
   ]
  },
  {
   "cell_type": "code",
   "execution_count": null,
   "metadata": {
    "ExecuteTime": {
     "end_time": "2021-08-03T15:24:18.772068Z",
     "start_time": "2021-08-03T15:24:18.760502Z"
    },
    "hidden": true
   },
   "outputs": [],
   "source": [
    "# df['amenities'][:10]"
   ]
  },
  {
   "cell_type": "code",
   "execution_count": null,
   "metadata": {
    "ExecuteTime": {
     "end_time": "2021-08-03T15:24:18.787066Z",
     "start_time": "2021-08-03T15:24:18.779077Z"
    },
    "hidden": true
   },
   "outputs": [],
   "source": [
    "# for x in ['host_verifications', 'amenities']:\n",
    "#     df[x] = df[x].str.replace('and', '')"
   ]
  },
  {
   "cell_type": "code",
   "execution_count": null,
   "metadata": {
    "ExecuteTime": {
     "end_time": "2021-08-03T15:24:18.803069Z",
     "start_time": "2021-08-03T15:24:18.789066Z"
    },
    "hidden": true
   },
   "outputs": [],
   "source": [
    "# ## Converting each value into a binary column and dropping old column\n",
    "\n",
    "# mlb = MultiLabelBinarizer()\n",
    "    \n",
    "# df = df.join(pd.DataFrame(mlb.fit_transform(df.pop('amenities')),\n",
    "#                                   columns=mlb.classes_,index=df.index))"
   ]
  },
  {
   "cell_type": "code",
   "execution_count": null,
   "metadata": {
    "ExecuteTime": {
     "end_time": "2021-08-03T15:24:18.819069Z",
     "start_time": "2021-08-03T15:24:18.805069Z"
    },
    "hidden": true
   },
   "outputs": [],
   "source": [
    "# df.loc[:,'host_verifications'] = df.loc[:,'host_verifications'].str.replace('[', '')\n",
    "# df.loc[:,'host_verifications'] = df.loc[:,'host_verifications'].str.replace(']', '')\n",
    "# df.loc[:,'host_verifications'] = df.loc[:,'host_verifications'].str.replace(\"'\", '')"
   ]
  },
  {
   "cell_type": "code",
   "execution_count": null,
   "metadata": {
    "ExecuteTime": {
     "end_time": "2021-08-03T15:24:18.835072Z",
     "start_time": "2021-08-03T15:24:18.822071Z"
    },
    "hidden": true,
    "scrolled": true
   },
   "outputs": [],
   "source": [
    "# df.loc[:,'host_verifications']"
   ]
  },
  {
   "cell_type": "code",
   "execution_count": null,
   "metadata": {
    "ExecuteTime": {
     "end_time": "2021-08-03T15:24:18.851070Z",
     "start_time": "2021-08-03T15:24:18.838071Z"
    },
    "hidden": true
   },
   "outputs": [],
   "source": [
    "# df['amenities'] = df['amenities'].str.replace('[', '')\n",
    "# df['amenities'] = df['amenities'].str.replace(']', '')\n",
    "# df['amenities'] = df['amenities'].str.replace('\"', '')"
   ]
  },
  {
   "cell_type": "code",
   "execution_count": null,
   "metadata": {
    "ExecuteTime": {
     "end_time": "2021-08-03T15:24:18.867070Z",
     "start_time": "2021-08-03T15:24:18.853074Z"
    },
    "hidden": true,
    "scrolled": true
   },
   "outputs": [],
   "source": [
    "# df['amenities']"
   ]
  },
  {
   "cell_type": "code",
   "execution_count": null,
   "metadata": {
    "ExecuteTime": {
     "end_time": "2021-08-03T15:24:18.883073Z",
     "start_time": "2021-08-03T15:24:18.869072Z"
    },
    "hidden": true
   },
   "outputs": [],
   "source": [
    "# df['amenities'] = df['amenities'].apply(lambda x: x.split(', '))"
   ]
  },
  {
   "cell_type": "code",
   "execution_count": null,
   "metadata": {
    "ExecuteTime": {
     "end_time": "2021-08-03T15:24:18.899104Z",
     "start_time": "2021-08-03T15:24:18.885073Z"
    },
    "hidden": true
   },
   "outputs": [],
   "source": [
    "# df['amenities'][0]"
   ]
  },
  {
   "cell_type": "code",
   "execution_count": null,
   "metadata": {
    "ExecuteTime": {
     "end_time": "2021-08-03T15:24:18.915200Z",
     "start_time": "2021-08-03T15:24:18.901077Z"
    },
    "hidden": true
   },
   "outputs": [],
   "source": [
    "# df['host_verifications'] = df['host_verifications'].apply(lambda x: x.split(', '))"
   ]
  },
  {
   "cell_type": "code",
   "execution_count": null,
   "metadata": {
    "ExecuteTime": {
     "end_time": "2021-08-03T15:24:18.931222Z",
     "start_time": "2021-08-03T15:24:18.918218Z"
    },
    "hidden": true
   },
   "outputs": [],
   "source": [
    "# df['host_verifications'][0][0]"
   ]
  },
  {
   "cell_type": "code",
   "execution_count": null,
   "metadata": {
    "ExecuteTime": {
     "end_time": "2021-08-03T15:24:18.946669Z",
     "start_time": "2021-08-03T15:24:18.933225Z"
    },
    "hidden": true
   },
   "outputs": [],
   "source": [
    "# def convert_to_col(df, list_cols):\n",
    "#     '''For a given list of column names, separates each string value in the\n",
    "#     column by the comma/space pattern to return new strings of single values.\n",
    "    \n",
    "#     Then, instantiates a MultiLabelBinarizer to create new columns for each \n",
    "#     new string to indicate the presence or absence of that string in the \n",
    "#     original column.'''\n",
    "    \n",
    "# #     mlb = MultiLabelBinarizer()\n",
    "    \n",
    "#     for x in list_cols:\n",
    "#         try:\n",
    "#             df[x] = df[x].apply(lambda x: x.split(', '))\n",
    "#             print(f'Successfully split values in column \"{x}\"')\n",
    "            \n",
    "#         except Exception:\n",
    "#             print('\\nValues are already processed and saved.')\n",
    "#             print(f\"\\nSample value: {df.loc[:,x][3]}\")\n",
    "            \n",
    "# #         try:\n",
    "# #             df = df.join(pd.DataFrame(mlb.fit_transform(df.pop(x)),\n",
    "# #                                       columns=mlb.classes_,index=df.index))\n",
    "# #         except Exception:\n",
    "# #                 print('\\nValues are already processed and saved.')\n",
    "                \n",
    "#     return df"
   ]
  },
  {
   "cell_type": "code",
   "execution_count": null,
   "metadata": {
    "ExecuteTime": {
     "end_time": "2021-08-03T15:24:18.961805Z",
     "start_time": "2021-08-03T15:24:18.948673Z"
    },
    "hidden": true,
    "scrolled": false
   },
   "outputs": [],
   "source": [
    "# binarize_cols = ['host_verifications', 'amenities'] \n",
    "\n",
    "# convert_to_col(df, binarize_cols)"
   ]
  },
  {
   "cell_type": "code",
   "execution_count": null,
   "metadata": {
    "ExecuteTime": {
     "end_time": "2021-08-03T15:24:18.977786Z",
     "start_time": "2021-08-03T15:24:18.964775Z"
    },
    "hidden": true
   },
   "outputs": [],
   "source": [
    "# ## Converting each value into a binary column and dropping old column\n",
    "\n",
    "# mlb = MultiLabelBinarizer()\n",
    "    \n",
    "# df = df.join(pd.DataFrame(mlb.fit_transform(df.pop('amenities')),\n",
    "#                                   columns=mlb.classes_,index=df.index))"
   ]
  },
  {
   "cell_type": "code",
   "execution_count": null,
   "metadata": {
    "ExecuteTime": {
     "end_time": "2021-08-03T15:24:18.992813Z",
     "start_time": "2021-08-03T15:24:18.980786Z"
    },
    "hidden": true
   },
   "outputs": [],
   "source": [
    "# # mlb = MultiLabelBinarizer()\n",
    "    \n",
    "# df = df.join(pd.DataFrame(mlb.fit_transform(df.pop('amenities')),\n",
    "#                                   columns=mlb.classes_,index=df.index))"
   ]
  },
  {
   "cell_type": "code",
   "execution_count": null,
   "metadata": {
    "ExecuteTime": {
     "end_time": "2021-08-03T15:24:19.008747Z",
     "start_time": "2021-08-03T15:24:18.995813Z"
    },
    "hidden": true
   },
   "outputs": [],
   "source": [
    "# ## Converting values into a list of strings for each neighborhood\n",
    "\n",
    "# try:\n",
    "#     df['host_verifications'] = df['host_verifications'] \\\n",
    "#                                                 .apply(lambda x: x.split(', '))\n",
    "#     display(df.loc[:,'host_verifications'])\n",
    "# except Exception:\n",
    "#     print('\\nValues are already processed and saved. No changes necessary.')\n",
    "#     print(f\"\\nSample value: {df.loc[:,'host_verifications'][3]}\")\n",
    "    \n",
    "    "
   ]
  },
  {
   "cell_type": "code",
   "execution_count": null,
   "metadata": {
    "ExecuteTime": {
     "end_time": "2021-08-03T15:24:19.024747Z",
     "start_time": "2021-08-03T15:24:19.011746Z"
    },
    "hidden": true,
    "scrolled": true
   },
   "outputs": [],
   "source": [
    "# ## Inspecting results\n",
    "\n",
    "# df.head(3)"
   ]
  },
  {
   "cell_type": "code",
   "execution_count": null,
   "metadata": {
    "ExecuteTime": {
     "end_time": "2021-08-03T15:24:19.042268Z",
     "start_time": "2021-08-03T15:24:19.030749Z"
    },
    "hidden": true
   },
   "outputs": [],
   "source": [
    "# test3 = df['host_verifications'][0]\n",
    "# test3[1:-1].replace('\"', \"'\").split(\",\")"
   ]
  },
  {
   "cell_type": "code",
   "execution_count": null,
   "metadata": {
    "ExecuteTime": {
     "end_time": "2021-08-03T15:24:19.057269Z",
     "start_time": "2021-08-03T15:24:19.045269Z"
    },
    "hidden": true
   },
   "outputs": [],
   "source": [
    "# # df['Tags'] = df.Tags.apply(lambda x: x[1:-1].split(','))\n",
    "\n",
    "# df['host_verifications'].apply(lambda x: x.split(','))[0]"
   ]
  },
  {
   "cell_type": "markdown",
   "metadata": {},
   "source": [
    "## 🎯 Inspecting the Target Variable"
   ]
  },
  {
   "cell_type": "code",
   "execution_count": null,
   "metadata": {
    "ExecuteTime": {
     "end_time": "2021-08-03T15:27:40.919257Z",
     "start_time": "2021-08-03T15:27:40.899893Z"
    }
   },
   "outputs": [],
   "source": [
    "df['review_scores_rating'].value_counts(bins=5, sort=False, normalize=True)"
   ]
  },
  {
   "cell_type": "code",
   "execution_count": null,
   "metadata": {
    "ExecuteTime": {
     "end_time": "2021-08-03T15:35:33.061943Z",
     "start_time": "2021-08-03T15:35:33.031939Z"
    }
   },
   "outputs": [],
   "source": [
    "df['review_scores_rating'][df['review_scores_rating'] < 4].value_counts(bins=4, sort=False, normalize=True)"
   ]
  },
  {
   "cell_type": "markdown",
   "metadata": {},
   "source": [
    "---\n",
    "\n",
    "> The target feature, `'review_scores_rating'`, is currently a range of values from 0 to 5, with 95% of the scores being 4 or above. The above results show a sub-zero value; this is for the purpose of binning the values; the lowest value is actually 0.00.\n",
    ">\n",
    "> Of the scores less than 4, a little under half are between 3 and 4 (rounded) and about a third are between 0 and 1 (rounded).\n",
    ">\n",
    "> For my classification modeling, my classes are significantly imbalanced between values less/greater than 4 with a 5/95 split. I need to perform some over-sampling of the minority class to increase my model's performance.\n",
    "\n",
    "---"
   ]
  },
  {
   "cell_type": "markdown",
   "metadata": {},
   "source": [
    "# 🪓 **Train/Test Split**"
   ]
  },
  {
   "cell_type": "markdown",
   "metadata": {},
   "source": [
    "---\n",
    "\n",
    "> Before I run any further pre-processing, I split my data into training and test sets to allow me to test my model's performance.\n",
    "\n",
    "---"
   ]
  },
  {
   "cell_type": "code",
   "execution_count": null,
   "metadata": {
    "ExecuteTime": {
     "end_time": "2021-08-03T15:24:19.103284Z",
     "start_time": "2021-08-03T15:24:19.091275Z"
    }
   },
   "outputs": [],
   "source": [
    "# ## Creating features/target for dataset\n",
    "# target = 'review_scores_rating'\n",
    "\n",
    "# X = df_cleaned.drop(columns = target).copy()\n",
    "# y = df_cleaned[target].copy()"
   ]
  },
  {
   "cell_type": "code",
   "execution_count": null,
   "metadata": {
    "ExecuteTime": {
     "end_time": "2021-08-03T15:24:19.119272Z",
     "start_time": "2021-08-03T15:24:19.106272Z"
    }
   },
   "outputs": [],
   "source": [
    "# ## Confirming same number of rows\n",
    "# X.shape[0] == y.shape[0]"
   ]
  },
  {
   "cell_type": "code",
   "execution_count": null,
   "metadata": {
    "ExecuteTime": {
     "end_time": "2021-08-03T15:24:19.134272Z",
     "start_time": "2021-08-03T15:24:19.121274Z"
    }
   },
   "outputs": [],
   "source": [
    "# ## Splitting to prevent data leakage\n",
    "# X_train, X_test, y_train, y_test = train_test_split(X, y, random_state=42)"
   ]
  },
  {
   "cell_type": "markdown",
   "metadata": {},
   "source": [
    "# 🚿 **Preprocessing Pipeline**"
   ]
  },
  {
   "cell_type": "code",
   "execution_count": null,
   "metadata": {
    "ExecuteTime": {
     "end_time": "2021-08-03T15:24:19.150273Z",
     "start_time": "2021-08-03T15:24:19.136273Z"
    }
   },
   "outputs": [],
   "source": [
    "# cat_cols = ['hotel', 'meal','arrival_date_month', 'country', 'market_segment',\n",
    "#             'distribution_channel','is_repeated_guest','reserved_room_type',\n",
    "#             'assigned_room_type','deposit_type', 'agent',\n",
    "#             'customer_type','reservation_status']\n",
    "\n",
    "# cont_cols = [col for col in X_train.drop(['reservation_status_date','company'],axis=1).columns if col not in cat_cols]\n",
    "\n",
    "# cont_cols"
   ]
  },
  {
   "cell_type": "code",
   "execution_count": null,
   "metadata": {
    "ExecuteTime": {
     "end_time": "2021-08-03T15:24:19.165274Z",
     "start_time": "2021-08-03T15:24:19.153276Z"
    }
   },
   "outputs": [],
   "source": [
    "# X_train[cat_cols] = X_train[cat_cols].astype(str)"
   ]
  },
  {
   "cell_type": "code",
   "execution_count": null,
   "metadata": {
    "ExecuteTime": {
     "end_time": "2021-08-03T15:24:19.180279Z",
     "start_time": "2021-08-03T15:24:19.168283Z"
    }
   },
   "outputs": [],
   "source": [
    "# X_test[cat_cols] = X_test[cat_cols].astype(str)"
   ]
  },
  {
   "cell_type": "code",
   "execution_count": null,
   "metadata": {
    "ExecuteTime": {
     "end_time": "2021-08-03T15:24:19.196278Z",
     "start_time": "2021-08-03T15:24:19.183279Z"
    }
   },
   "outputs": [],
   "source": [
    "# ## Creating ColumnTransformer and sub-transformers for imputation and encoding\n",
    "\n",
    "# # Filling missing \"Children\"\n",
    "# zero_transformer = SimpleImputer(strategy='constant', fill_value=0)\n",
    "\n",
    "# ##  \n",
    "# missing_transformer = SimpleImputer(strategy='constant', fill_value='missing')\n",
    "\n",
    "# ## Encoding categoricals - handling errors to prevent issues w/ test set\n",
    "# categorical_transformer = OneHotEncoder(handle_unknown='ignore', sparse=False)\n",
    "\n",
    "# cat_pipe = Pipeline(steps=[('imputer', missing_transformer),\n",
    "#                       ('ohe', categorical_transformer)])\n",
    "\n",
    "# cont_pipe = Pipeline(steps=[('imputer', zero_transformer),\n",
    "#                            ('scaler', StandardScaler())])\n",
    "\n",
    "# ## Instantiating the ColumnTransformer and including all transformers\n",
    "# preprocessor = ColumnTransformer(\n",
    "#     transformers=[('conts', cont_pipe, cont_cols),\n",
    "#                   ('cats', cat_pipe, cat_cols)])\n",
    "\n",
    "# preprocessor"
   ]
  },
  {
   "cell_type": "code",
   "execution_count": null,
   "metadata": {
    "ExecuteTime": {
     "end_time": "2021-08-03T15:24:19.212281Z",
     "start_time": "2021-08-03T15:24:19.199279Z"
    }
   },
   "outputs": [],
   "source": [
    "# preprocessor.fit(X_train)\n",
    "\n",
    "# ## Getting feature names from OHE\n",
    "# ohe_cat_names = preprocessor.named_transformers_['cats'].named_steps['ohe'].get_feature_names(cat_cols)"
   ]
  },
  {
   "cell_type": "code",
   "execution_count": null,
   "metadata": {
    "ExecuteTime": {
     "end_time": "2021-08-03T15:24:19.228286Z",
     "start_time": "2021-08-03T15:24:19.216284Z"
    }
   },
   "outputs": [],
   "source": [
    "# ## Generating list for column index\n",
    "# final_cols = [*cont_cols, *ohe_cat_names]\n",
    "\n",
    "# ## Fit and transform the data via the ColumnTransformer\n",
    "# X_train_tf = preprocessor.transform(X_train)\n",
    "# X_train_tf_df = pd.DataFrame(X_train_tf, columns=final_cols, index=X_train.index)\n",
    "\n",
    "# ## Transforming the test set and saving\n",
    "# X_test_tf = preprocessor.transform(X_test)\n",
    "# X_test_tf_df = pd.DataFrame(X_test_tf, columns=final_cols, index=X_test.index)\n",
    "\n",
    "# display(X_train_tf_df.head(5),X_test_tf_df.head(5))"
   ]
  },
  {
   "cell_type": "markdown",
   "metadata": {},
   "source": [
    "# 📝 Next Steps"
   ]
  },
  {
   "cell_type": "markdown",
   "metadata": {},
   "source": [
    "* Process classification model - i.e. Logreg, KNN, DecisionTrees, etc.\n",
    "* Evaluate results\n",
    "* Determine if I need to redo pre-processing steps"
   ]
  },
  {
   "cell_type": "markdown",
   "metadata": {},
   "source": [
    "# 🚿 Classification Pipeline"
   ]
  },
  {
   "cell_type": "code",
   "execution_count": null,
   "metadata": {},
   "outputs": [],
   "source": []
  }
 ],
 "metadata": {
  "kernelspec": {
   "display_name": "Python (learn-env-bmc)",
   "language": "python",
   "name": "learn-env-bmc"
  },
  "language_info": {
   "codemirror_mode": {
    "name": "ipython",
    "version": 3
   },
   "file_extension": ".py",
   "mimetype": "text/x-python",
   "name": "python",
   "nbconvert_exporter": "python",
   "pygments_lexer": "ipython3",
   "version": "3.8.5"
  },
  "toc": {
   "base_numbering": 1,
   "nav_menu": {},
   "number_sections": true,
   "sideBar": true,
   "skip_h1_title": false,
   "title_cell": "Table of Contents",
   "title_sidebar": "Contents",
   "toc_cell": false,
   "toc_position": {
    "height": "calc(100% - 180px)",
    "left": "10px",
    "top": "150px",
    "width": "280px"
   },
   "toc_section_display": true,
   "toc_window_display": true
  }
 },
 "nbformat": 4,
 "nbformat_minor": 4
}
