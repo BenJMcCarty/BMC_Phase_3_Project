{
 "cells": [
  {
   "cell_type": "markdown",
   "metadata": {},
   "source": [
    "# 🔻 [Return to workflow](#leftoff)"
   ]
  },
  {
   "cell_type": "markdown",
   "metadata": {},
   "source": [
    "⚓ ANCHOR FOR RETURN TO WORKFLOW LINK <a name=\"leftoff\"></a>"
   ]
  },
  {
   "cell_type": "markdown",
   "metadata": {},
   "source": [
    "# **Updates Post Presentation DR:**"
   ]
  },
  {
   "cell_type": "markdown",
   "metadata": {},
   "source": [
    "* W/ covid neg impact on hospitality/tourism, **increased comp for less tourism**\n",
    "\n",
    "\n",
    "* **Increased focus on perf** - strongest KPI: customer satisfaction\n",
    "\n",
    "\n",
    "* **Question/problem/goal:** bring scores up to 4.8+ (superhost rating)\n",
    "    * **Why SH?** Emphasis on guest experience; see [link](https://www.airbnb.com/help/article/829/how-do-i-become-a-superhost#:~:text=Earning%20Superhost%20status-,Superhost%20requirements,-Completed%20at%20least)    \n",
    "    * **How:** ID top preds for meeting and missing 4.8+\n",
    "\n",
    "\n",
    "* **SWOT**\n",
    "    * **S/W:** EDA step; what is right/wrong right now?\n",
    "    * **O/T:** Predictors and recommendations"
   ]
  },
  {
   "cell_type": "markdown",
   "metadata": {},
   "source": [
    "# **New Tasks**"
   ]
  },
  {
   "cell_type": "markdown",
   "metadata": {},
   "source": [
    "**Tasks:**\n",
    "\n",
    "- [ ] drop na - across all feats/rows\n",
    "- [ ] check dist of remaining ratings - histplot\n",
    "- [ ] convert scores: 0-4.799, 4.8+\n",
    "- [ ] clean data for eda\n",
    "- [ ] review feats\n",
    "- [ ] determine S/W\n",
    "- [ ] split w/ stratify\n",
    "- [ ] re-model (macro recall/F1)\n",
    "- [ ] get results\n",
    "- [ ] visualize results\n",
    "- [ ] create recommendations\n"
   ]
  },
  {
   "cell_type": "markdown",
   "metadata": {},
   "source": [
    "# 🏡 **“ODD” ASPECTS OF AIRBNB** 🏨"
   ]
  },
  {
   "cell_type": "markdown",
   "metadata": {},
   "source": [
    "# ❌ Update target audience and guiding questions"
   ]
  },
  {
   "cell_type": "markdown",
   "metadata": {},
   "source": [
    "---\n",
    "\n",
    "**Who?**\n",
    ">* 🏢 **AirBNB Corporate** interested in maximizing customer satisfaction to increase repeat guests and encourage new guests to stay with AirBNB hosts\n",
    ">\n",
    ">\n",
    ">* 🏡**AirBNB hosts** interested in maximizing the ratings\n",
    "\n",
    "**Why?**\n",
    ">* 💰 **Revenue Management:** \n",
    ">\n",
    ">\n",
    ">\n",
    ">* 🤝 **Sales:**\n",
    ">\n",
    ">\n",
    ">\n",
    ">* 🛌 **Rooms Ops:**\n",
    "\n",
    ">\n",
    ">\n",
    ">\n",
    "\n",
    "**What?**\n",
    ">* 🧾 Dataset comprised of... \n",
    ">  * different features\n",
    ">  * reservation records\n",
    ">  * Source cited in Readme\n",
    "\n",
    "❌ **How?**\n",
    ">* Which models/methods?\n",
    ">* Data prep and feature engineering\n",
    "\n",
    "---"
   ]
  },
  {
   "cell_type": "markdown",
   "metadata": {},
   "source": [
    "# 🎯  **Goal:**"
   ]
  },
  {
   "cell_type": "markdown",
   "metadata": {},
   "source": [
    "Determining whether or not a host location would receive a score greater than or equal to 4/5 (defined by `'review_scores_rating'`)."
   ]
  },
  {
   "cell_type": "markdown",
   "metadata": {},
   "source": [
    "# 📂 **Imports and Settings**"
   ]
  },
  {
   "cell_type": "code",
   "execution_count": 1,
   "metadata": {
    "ExecuteTime": {
     "end_time": "2021-08-05T19:51:21.595454Z",
     "start_time": "2021-08-05T19:51:19.496470Z"
    },
    "code_folding": []
   },
   "outputs": [],
   "source": [
    "## Data Handling\n",
    "import pandas as pd\n",
    "import numpy as np\n",
    "from scipy import stats\n",
    "\n",
    "\n",
    "## Visualizations\n",
    "import matplotlib as mpl\n",
    "import matplotlib.pyplot as plt\n",
    "import seaborn as sns\n",
    "from ipywidgets import interact_manual\n",
    "import missingno\n",
    "\n",
    "## SKLearn\n",
    "from sklearn.preprocessing import Binarizer, MultiLabelBinarizer, \\\n",
    "                                    OneHotEncoder, StandardScaler\n",
    "from sklearn.model_selection import train_test_split, GridSearchCV,\\\n",
    "                                    RandomizedSearchCV\n",
    "from sklearn.impute import SimpleImputer\n",
    "from sklearn.compose import ColumnTransformer\n",
    "from sklearn.pipeline import Pipeline\n",
    "from sklearn.dummy import DummyClassifier\n",
    "from sklearn.linear_model import LogisticRegression, LogisticRegressionCV \n",
    "from sklearn.tree import DecisionTreeClassifier\n",
    "from sklearn.neighbors import KNeighborsClassifier\n",
    "from sklearn.ensemble import RandomForestClassifier, ExtraTreesClassifier, \\\n",
    "                                AdaBoostClassifier,GradientBoostingClassifier \n",
    "from sklearn import set_config\n",
    "set_config(display='diagram')\n",
    "\n",
    "from imblearn.over_sampling import SMOTE,SMOTENC\n",
    "\n",
    "\n",
    "## Settings\n",
    "%matplotlib inline\n",
    "plt.style.use('seaborn-talk')\n",
    "pd.set_option('display.max_columns', None)\n",
    "pd.set_option('display.float_format', lambda x: f'{x:,.2f}')\n",
    "pd.set_option('max_rows', 100)"
   ]
  },
  {
   "cell_type": "code",
   "execution_count": 2,
   "metadata": {
    "ExecuteTime": {
     "end_time": "2021-08-05T19:51:22.217456Z",
     "start_time": "2021-08-05T19:51:21.598470Z"
    },
    "code_folding": []
   },
   "outputs": [],
   "source": [
    "## Personal functions\n",
    "import clf_functions.functions as cf\n",
    "\n",
    "## Tools to reload personal functions when called - prevents errors\n",
    "%load_ext autoreload\n",
    "%autoreload 1\n",
    "%aimport clf_functions.functions"
   ]
  },
  {
   "cell_type": "markdown",
   "metadata": {},
   "source": [
    "## ✅ Show Visualizations Setting"
   ]
  },
  {
   "cell_type": "code",
   "execution_count": 3,
   "metadata": {
    "ExecuteTime": {
     "end_time": "2021-08-05T19:51:22.233455Z",
     "start_time": "2021-08-05T19:51:22.220456Z"
    }
   },
   "outputs": [],
   "source": [
    "## Setting to control whether or not to show visualizations\n",
    "show_visualizations = False"
   ]
  },
  {
   "cell_type": "markdown",
   "metadata": {},
   "source": [
    "# 📖 **Read Data**"
   ]
  },
  {
   "cell_type": "code",
   "execution_count": 4,
   "metadata": {
    "ExecuteTime": {
     "end_time": "2021-08-05T19:51:22.767454Z",
     "start_time": "2021-08-05T19:51:22.236459Z"
    }
   },
   "outputs": [],
   "source": [
    "## Reading data and saving to a DataFrame\n",
    "\n",
    "source = 'data/listings.csv.gz'\n",
    "\n",
    "data = pd.read_csv(source)"
   ]
  },
  {
   "cell_type": "code",
   "execution_count": 5,
   "metadata": {
    "ExecuteTime": {
     "end_time": "2021-08-05T19:51:22.845456Z",
     "start_time": "2021-08-05T19:51:22.769457Z"
    },
    "code_folding": []
   },
   "outputs": [
    {
     "data": {
      "text/html": [
       "<div>\n",
       "<style scoped>\n",
       "    .dataframe tbody tr th:only-of-type {\n",
       "        vertical-align: middle;\n",
       "    }\n",
       "\n",
       "    .dataframe tbody tr th {\n",
       "        vertical-align: top;\n",
       "    }\n",
       "\n",
       "    .dataframe thead th {\n",
       "        text-align: right;\n",
       "    }\n",
       "</style>\n",
       "<table border=\"1\" class=\"dataframe\">\n",
       "  <thead>\n",
       "    <tr style=\"text-align: right;\">\n",
       "      <th></th>\n",
       "      <th>id</th>\n",
       "      <th>listing_url</th>\n",
       "      <th>scrape_id</th>\n",
       "      <th>last_scraped</th>\n",
       "      <th>name</th>\n",
       "      <th>description</th>\n",
       "      <th>neighborhood_overview</th>\n",
       "      <th>picture_url</th>\n",
       "      <th>host_id</th>\n",
       "      <th>host_url</th>\n",
       "      <th>host_name</th>\n",
       "      <th>host_since</th>\n",
       "      <th>host_location</th>\n",
       "      <th>host_about</th>\n",
       "      <th>host_response_time</th>\n",
       "      <th>host_response_rate</th>\n",
       "      <th>host_acceptance_rate</th>\n",
       "      <th>host_is_superhost</th>\n",
       "      <th>host_thumbnail_url</th>\n",
       "      <th>host_picture_url</th>\n",
       "      <th>host_neighbourhood</th>\n",
       "      <th>host_listings_count</th>\n",
       "      <th>host_total_listings_count</th>\n",
       "      <th>host_verifications</th>\n",
       "      <th>host_has_profile_pic</th>\n",
       "      <th>host_identity_verified</th>\n",
       "      <th>neighbourhood</th>\n",
       "      <th>neighbourhood_cleansed</th>\n",
       "      <th>neighbourhood_group_cleansed</th>\n",
       "      <th>latitude</th>\n",
       "      <th>longitude</th>\n",
       "      <th>property_type</th>\n",
       "      <th>room_type</th>\n",
       "      <th>accommodates</th>\n",
       "      <th>bathrooms</th>\n",
       "      <th>bathrooms_text</th>\n",
       "      <th>bedrooms</th>\n",
       "      <th>beds</th>\n",
       "      <th>amenities</th>\n",
       "      <th>price</th>\n",
       "      <th>minimum_nights</th>\n",
       "      <th>maximum_nights</th>\n",
       "      <th>minimum_minimum_nights</th>\n",
       "      <th>maximum_minimum_nights</th>\n",
       "      <th>minimum_maximum_nights</th>\n",
       "      <th>maximum_maximum_nights</th>\n",
       "      <th>minimum_nights_avg_ntm</th>\n",
       "      <th>maximum_nights_avg_ntm</th>\n",
       "      <th>calendar_updated</th>\n",
       "      <th>has_availability</th>\n",
       "      <th>availability_30</th>\n",
       "      <th>availability_60</th>\n",
       "      <th>availability_90</th>\n",
       "      <th>availability_365</th>\n",
       "      <th>calendar_last_scraped</th>\n",
       "      <th>number_of_reviews</th>\n",
       "      <th>number_of_reviews_ltm</th>\n",
       "      <th>number_of_reviews_l30d</th>\n",
       "      <th>first_review</th>\n",
       "      <th>last_review</th>\n",
       "      <th>review_scores_rating</th>\n",
       "      <th>review_scores_accuracy</th>\n",
       "      <th>review_scores_cleanliness</th>\n",
       "      <th>review_scores_checkin</th>\n",
       "      <th>review_scores_communication</th>\n",
       "      <th>review_scores_location</th>\n",
       "      <th>review_scores_value</th>\n",
       "      <th>license</th>\n",
       "      <th>instant_bookable</th>\n",
       "      <th>calculated_host_listings_count</th>\n",
       "      <th>calculated_host_listings_count_entire_homes</th>\n",
       "      <th>calculated_host_listings_count_private_rooms</th>\n",
       "      <th>calculated_host_listings_count_shared_rooms</th>\n",
       "      <th>reviews_per_month</th>\n",
       "    </tr>\n",
       "  </thead>\n",
       "  <tbody>\n",
       "    <tr>\n",
       "      <th>0</th>\n",
       "      <td>3686</td>\n",
       "      <td>https://www.airbnb.com/rooms/3686</td>\n",
       "      <td>20210710190002</td>\n",
       "      <td>2021-07-11</td>\n",
       "      <td>Vita's Hideaway</td>\n",
       "      <td>IMPORTANT NOTES&lt;br /&gt;* Carefully read and be s...</td>\n",
       "      <td>We love that our neighborhood is up and coming...</td>\n",
       "      <td>https://a0.muscache.com/pictures/61e02c7e-3d66...</td>\n",
       "      <td>4645</td>\n",
       "      <td>https://www.airbnb.com/users/show/4645</td>\n",
       "      <td>Vita</td>\n",
       "      <td>2008-11-26</td>\n",
       "      <td>Washington D.C., District of Columbia, United ...</td>\n",
       "      <td>I am a literary scholar, teacher, poet, vegan ...</td>\n",
       "      <td>within a day</td>\n",
       "      <td>80%</td>\n",
       "      <td>75%</td>\n",
       "      <td>f</td>\n",
       "      <td>https://a0.muscache.com/im/users/4645/profile_...</td>\n",
       "      <td>https://a0.muscache.com/im/users/4645/profile_...</td>\n",
       "      <td>Anacostia</td>\n",
       "      <td>2.00</td>\n",
       "      <td>2.00</td>\n",
       "      <td>['email', 'phone', 'reviews', 'jumio', 'offlin...</td>\n",
       "      <td>t</td>\n",
       "      <td>t</td>\n",
       "      <td>Washington, District of Columbia, United States</td>\n",
       "      <td>Historic Anacostia</td>\n",
       "      <td>nan</td>\n",
       "      <td>38.86</td>\n",
       "      <td>-76.99</td>\n",
       "      <td>Private room in house</td>\n",
       "      <td>Private room</td>\n",
       "      <td>1</td>\n",
       "      <td>nan</td>\n",
       "      <td>1 private bath</td>\n",
       "      <td>1.00</td>\n",
       "      <td>1.00</td>\n",
       "      <td>[\"First aid kit\", \"Long term stays allowed\", \"...</td>\n",
       "      <td>$55.00</td>\n",
       "      <td>2</td>\n",
       "      <td>365</td>\n",
       "      <td>2</td>\n",
       "      <td>2</td>\n",
       "      <td>365</td>\n",
       "      <td>365</td>\n",
       "      <td>2.00</td>\n",
       "      <td>365.00</td>\n",
       "      <td>nan</td>\n",
       "      <td>t</td>\n",
       "      <td>1</td>\n",
       "      <td>31</td>\n",
       "      <td>61</td>\n",
       "      <td>336</td>\n",
       "      <td>2021-07-11</td>\n",
       "      <td>75</td>\n",
       "      <td>3</td>\n",
       "      <td>0</td>\n",
       "      <td>2014-06-22</td>\n",
       "      <td>2021-01-12</td>\n",
       "      <td>4.59</td>\n",
       "      <td>4.71</td>\n",
       "      <td>4.44</td>\n",
       "      <td>4.89</td>\n",
       "      <td>4.82</td>\n",
       "      <td>3.80</td>\n",
       "      <td>4.58</td>\n",
       "      <td>NaN</td>\n",
       "      <td>f</td>\n",
       "      <td>2</td>\n",
       "      <td>0</td>\n",
       "      <td>2</td>\n",
       "      <td>0</td>\n",
       "      <td>0.87</td>\n",
       "    </tr>\n",
       "    <tr>\n",
       "      <th>1</th>\n",
       "      <td>3943</td>\n",
       "      <td>https://www.airbnb.com/rooms/3943</td>\n",
       "      <td>20210710190002</td>\n",
       "      <td>2021-07-11</td>\n",
       "      <td>Historic Rowhouse Near Monuments</td>\n",
       "      <td>Please contact us before booking to make sure ...</td>\n",
       "      <td>This rowhouse is centrally located in the hear...</td>\n",
       "      <td>https://a0.muscache.com/pictures/432713/fab7dd...</td>\n",
       "      <td>5059</td>\n",
       "      <td>https://www.airbnb.com/users/show/5059</td>\n",
       "      <td>Vasa</td>\n",
       "      <td>2008-12-12</td>\n",
       "      <td>Washington, District of Columbia, United States</td>\n",
       "      <td>I have been living and working in DC for the l...</td>\n",
       "      <td>within a few hours</td>\n",
       "      <td>100%</td>\n",
       "      <td>29%</td>\n",
       "      <td>f</td>\n",
       "      <td>https://a0.muscache.com/im/pictures/user/8ec69...</td>\n",
       "      <td>https://a0.muscache.com/im/pictures/user/8ec69...</td>\n",
       "      <td>Eckington</td>\n",
       "      <td>0.00</td>\n",
       "      <td>0.00</td>\n",
       "      <td>['email', 'phone', 'reviews', 'kba']</td>\n",
       "      <td>t</td>\n",
       "      <td>t</td>\n",
       "      <td>Washington, District of Columbia, United States</td>\n",
       "      <td>Edgewood, Bloomingdale, Truxton Circle, Eckington</td>\n",
       "      <td>nan</td>\n",
       "      <td>38.91</td>\n",
       "      <td>-77.00</td>\n",
       "      <td>Private room in townhouse</td>\n",
       "      <td>Private room</td>\n",
       "      <td>2</td>\n",
       "      <td>nan</td>\n",
       "      <td>1.5 shared baths</td>\n",
       "      <td>1.00</td>\n",
       "      <td>1.00</td>\n",
       "      <td>[\"Cooking basics\", \"First aid kit\", \"Dedicated...</td>\n",
       "      <td>$70.00</td>\n",
       "      <td>2</td>\n",
       "      <td>1125</td>\n",
       "      <td>2</td>\n",
       "      <td>2</td>\n",
       "      <td>1125</td>\n",
       "      <td>1125</td>\n",
       "      <td>2.00</td>\n",
       "      <td>1,125.00</td>\n",
       "      <td>nan</td>\n",
       "      <td>t</td>\n",
       "      <td>9</td>\n",
       "      <td>39</td>\n",
       "      <td>69</td>\n",
       "      <td>344</td>\n",
       "      <td>2021-07-11</td>\n",
       "      <td>429</td>\n",
       "      <td>0</td>\n",
       "      <td>0</td>\n",
       "      <td>2010-08-08</td>\n",
       "      <td>2018-08-07</td>\n",
       "      <td>4.82</td>\n",
       "      <td>4.89</td>\n",
       "      <td>4.91</td>\n",
       "      <td>4.94</td>\n",
       "      <td>4.90</td>\n",
       "      <td>4.54</td>\n",
       "      <td>4.74</td>\n",
       "      <td>NaN</td>\n",
       "      <td>f</td>\n",
       "      <td>2</td>\n",
       "      <td>0</td>\n",
       "      <td>2</td>\n",
       "      <td>0</td>\n",
       "      <td>3.22</td>\n",
       "    </tr>\n",
       "    <tr>\n",
       "      <th>2</th>\n",
       "      <td>4529</td>\n",
       "      <td>https://www.airbnb.com/rooms/4529</td>\n",
       "      <td>20210710190002</td>\n",
       "      <td>2021-07-11</td>\n",
       "      <td>Bertina's  House Part One</td>\n",
       "      <td>This is  large private  bedroom with plenty of...</td>\n",
       "      <td>Very quiet neighborhood and it is easy accessi...</td>\n",
       "      <td>https://a0.muscache.com/pictures/86072003/6709...</td>\n",
       "      <td>5803</td>\n",
       "      <td>https://www.airbnb.com/users/show/5803</td>\n",
       "      <td>Bertina'S House</td>\n",
       "      <td>2008-12-30</td>\n",
       "      <td>Washington, District of Columbia, United States</td>\n",
       "      <td>I am an easy going, laid back person who loves...</td>\n",
       "      <td>NaN</td>\n",
       "      <td>NaN</td>\n",
       "      <td>NaN</td>\n",
       "      <td>f</td>\n",
       "      <td>https://a0.muscache.com/im/users/5803/profile_...</td>\n",
       "      <td>https://a0.muscache.com/im/users/5803/profile_...</td>\n",
       "      <td>Eastland Gardens</td>\n",
       "      <td>3.00</td>\n",
       "      <td>3.00</td>\n",
       "      <td>['email', 'phone', 'facebook', 'reviews', 'jum...</td>\n",
       "      <td>t</td>\n",
       "      <td>t</td>\n",
       "      <td>Washington, District of Columbia, United States</td>\n",
       "      <td>Eastland Gardens, Kenilworth</td>\n",
       "      <td>nan</td>\n",
       "      <td>38.91</td>\n",
       "      <td>-76.94</td>\n",
       "      <td>Private room in house</td>\n",
       "      <td>Private room</td>\n",
       "      <td>4</td>\n",
       "      <td>nan</td>\n",
       "      <td>1 shared bath</td>\n",
       "      <td>1.00</td>\n",
       "      <td>1.00</td>\n",
       "      <td>[\"Cooking basics\", \"First aid kit\", \"Keypad\", ...</td>\n",
       "      <td>$54.00</td>\n",
       "      <td>30</td>\n",
       "      <td>180</td>\n",
       "      <td>30</td>\n",
       "      <td>30</td>\n",
       "      <td>180</td>\n",
       "      <td>180</td>\n",
       "      <td>30.00</td>\n",
       "      <td>180.00</td>\n",
       "      <td>nan</td>\n",
       "      <td>t</td>\n",
       "      <td>29</td>\n",
       "      <td>59</td>\n",
       "      <td>89</td>\n",
       "      <td>179</td>\n",
       "      <td>2021-07-11</td>\n",
       "      <td>102</td>\n",
       "      <td>0</td>\n",
       "      <td>0</td>\n",
       "      <td>2014-09-23</td>\n",
       "      <td>2019-07-05</td>\n",
       "      <td>4.66</td>\n",
       "      <td>4.80</td>\n",
       "      <td>4.60</td>\n",
       "      <td>4.93</td>\n",
       "      <td>4.93</td>\n",
       "      <td>4.51</td>\n",
       "      <td>4.83</td>\n",
       "      <td>NaN</td>\n",
       "      <td>f</td>\n",
       "      <td>1</td>\n",
       "      <td>0</td>\n",
       "      <td>1</td>\n",
       "      <td>0</td>\n",
       "      <td>1.23</td>\n",
       "    </tr>\n",
       "    <tr>\n",
       "      <th>3</th>\n",
       "      <td>4967</td>\n",
       "      <td>https://www.airbnb.com/rooms/4967</td>\n",
       "      <td>20210710190002</td>\n",
       "      <td>2021-07-11</td>\n",
       "      <td>DC, Near Metro</td>\n",
       "      <td>&lt;b&gt;The space&lt;/b&gt;&lt;br /&gt;Hello, my name is Seveer...</td>\n",
       "      <td>NaN</td>\n",
       "      <td>https://a0.muscache.com/pictures/2439810/bb320...</td>\n",
       "      <td>7086</td>\n",
       "      <td>https://www.airbnb.com/users/show/7086</td>\n",
       "      <td>Seveer</td>\n",
       "      <td>2009-01-26</td>\n",
       "      <td>Washington D.C., District of Columbia, United ...</td>\n",
       "      <td>I am fun, honest and very easy going and trave...</td>\n",
       "      <td>within a few hours</td>\n",
       "      <td>100%</td>\n",
       "      <td>78%</td>\n",
       "      <td>t</td>\n",
       "      <td>https://a0.muscache.com/im/pictures/user/6efb4...</td>\n",
       "      <td>https://a0.muscache.com/im/pictures/user/6efb4...</td>\n",
       "      <td>Ivy City</td>\n",
       "      <td>5.00</td>\n",
       "      <td>5.00</td>\n",
       "      <td>['email', 'phone', 'reviews', 'kba']</td>\n",
       "      <td>t</td>\n",
       "      <td>t</td>\n",
       "      <td>NaN</td>\n",
       "      <td>Ivy City, Arboretum, Trinidad, Carver Langston</td>\n",
       "      <td>nan</td>\n",
       "      <td>38.91</td>\n",
       "      <td>-76.99</td>\n",
       "      <td>Private room in house</td>\n",
       "      <td>Private room</td>\n",
       "      <td>1</td>\n",
       "      <td>nan</td>\n",
       "      <td>3 baths</td>\n",
       "      <td>1.00</td>\n",
       "      <td>1.00</td>\n",
       "      <td>[\"Cable TV\", \"TV with standard cable\", \"Kitche...</td>\n",
       "      <td>$99.00</td>\n",
       "      <td>2</td>\n",
       "      <td>365</td>\n",
       "      <td>2</td>\n",
       "      <td>2</td>\n",
       "      <td>365</td>\n",
       "      <td>365</td>\n",
       "      <td>2.00</td>\n",
       "      <td>365.00</td>\n",
       "      <td>nan</td>\n",
       "      <td>t</td>\n",
       "      <td>0</td>\n",
       "      <td>0</td>\n",
       "      <td>0</td>\n",
       "      <td>146</td>\n",
       "      <td>2021-07-11</td>\n",
       "      <td>31</td>\n",
       "      <td>0</td>\n",
       "      <td>0</td>\n",
       "      <td>2012-02-13</td>\n",
       "      <td>2016-09-22</td>\n",
       "      <td>4.74</td>\n",
       "      <td>4.68</td>\n",
       "      <td>4.89</td>\n",
       "      <td>4.93</td>\n",
       "      <td>4.93</td>\n",
       "      <td>4.21</td>\n",
       "      <td>4.64</td>\n",
       "      <td>NaN</td>\n",
       "      <td>f</td>\n",
       "      <td>3</td>\n",
       "      <td>0</td>\n",
       "      <td>3</td>\n",
       "      <td>0</td>\n",
       "      <td>0.27</td>\n",
       "    </tr>\n",
       "    <tr>\n",
       "      <th>4</th>\n",
       "      <td>5589</td>\n",
       "      <td>https://www.airbnb.com/rooms/5589</td>\n",
       "      <td>20210710190002</td>\n",
       "      <td>2021-07-11</td>\n",
       "      <td>Cozy apt in Adams Morgan</td>\n",
       "      <td>This is a 1 br (bedroom + living room in Adams...</td>\n",
       "      <td>Adams Morgan spills over with hipsters, salsa ...</td>\n",
       "      <td>https://a0.muscache.com/pictures/207249/9f1df8...</td>\n",
       "      <td>6527</td>\n",
       "      <td>https://www.airbnb.com/users/show/6527</td>\n",
       "      <td>Ami</td>\n",
       "      <td>2009-01-13</td>\n",
       "      <td>Washington D.C., District of Columbia, United ...</td>\n",
       "      <td>I am an environmentalist, and I own and operat...</td>\n",
       "      <td>within a few hours</td>\n",
       "      <td>100%</td>\n",
       "      <td>17%</td>\n",
       "      <td>f</td>\n",
       "      <td>https://a0.muscache.com/im/users/6527/profile_...</td>\n",
       "      <td>https://a0.muscache.com/im/users/6527/profile_...</td>\n",
       "      <td>Adams Morgan</td>\n",
       "      <td>4.00</td>\n",
       "      <td>4.00</td>\n",
       "      <td>['email', 'phone', 'facebook', 'reviews', 'jum...</td>\n",
       "      <td>t</td>\n",
       "      <td>t</td>\n",
       "      <td>Washington, District of Columbia, United States</td>\n",
       "      <td>Kalorama Heights, Adams Morgan, Lanier Heights</td>\n",
       "      <td>nan</td>\n",
       "      <td>38.92</td>\n",
       "      <td>-77.04</td>\n",
       "      <td>Entire apartment</td>\n",
       "      <td>Entire home/apt</td>\n",
       "      <td>3</td>\n",
       "      <td>nan</td>\n",
       "      <td>1 bath</td>\n",
       "      <td>1.00</td>\n",
       "      <td>1.00</td>\n",
       "      <td>[\"Window guards\", \"Cooking basics\", \"First aid...</td>\n",
       "      <td>$86.00</td>\n",
       "      <td>5</td>\n",
       "      <td>150</td>\n",
       "      <td>5</td>\n",
       "      <td>23</td>\n",
       "      <td>150</td>\n",
       "      <td>150</td>\n",
       "      <td>8.80</td>\n",
       "      <td>150.00</td>\n",
       "      <td>nan</td>\n",
       "      <td>t</td>\n",
       "      <td>7</td>\n",
       "      <td>32</td>\n",
       "      <td>62</td>\n",
       "      <td>121</td>\n",
       "      <td>2021-07-11</td>\n",
       "      <td>95</td>\n",
       "      <td>0</td>\n",
       "      <td>0</td>\n",
       "      <td>2010-07-30</td>\n",
       "      <td>2020-03-05</td>\n",
       "      <td>4.54</td>\n",
       "      <td>4.75</td>\n",
       "      <td>4.17</td>\n",
       "      <td>4.83</td>\n",
       "      <td>4.84</td>\n",
       "      <td>4.91</td>\n",
       "      <td>4.47</td>\n",
       "      <td>NaN</td>\n",
       "      <td>f</td>\n",
       "      <td>2</td>\n",
       "      <td>1</td>\n",
       "      <td>1</td>\n",
       "      <td>0</td>\n",
       "      <td>0.71</td>\n",
       "    </tr>\n",
       "  </tbody>\n",
       "</table>\n",
       "</div>"
      ],
      "text/plain": [
       "     id                        listing_url       scrape_id last_scraped  \\\n",
       "0  3686  https://www.airbnb.com/rooms/3686  20210710190002   2021-07-11   \n",
       "1  3943  https://www.airbnb.com/rooms/3943  20210710190002   2021-07-11   \n",
       "2  4529  https://www.airbnb.com/rooms/4529  20210710190002   2021-07-11   \n",
       "3  4967  https://www.airbnb.com/rooms/4967  20210710190002   2021-07-11   \n",
       "4  5589  https://www.airbnb.com/rooms/5589  20210710190002   2021-07-11   \n",
       "\n",
       "                               name  \\\n",
       "0                   Vita's Hideaway   \n",
       "1  Historic Rowhouse Near Monuments   \n",
       "2         Bertina's  House Part One   \n",
       "3                    DC, Near Metro   \n",
       "4          Cozy apt in Adams Morgan   \n",
       "\n",
       "                                         description  \\\n",
       "0  IMPORTANT NOTES<br />* Carefully read and be s...   \n",
       "1  Please contact us before booking to make sure ...   \n",
       "2  This is  large private  bedroom with plenty of...   \n",
       "3  <b>The space</b><br />Hello, my name is Seveer...   \n",
       "4  This is a 1 br (bedroom + living room in Adams...   \n",
       "\n",
       "                               neighborhood_overview  \\\n",
       "0  We love that our neighborhood is up and coming...   \n",
       "1  This rowhouse is centrally located in the hear...   \n",
       "2  Very quiet neighborhood and it is easy accessi...   \n",
       "3                                                NaN   \n",
       "4  Adams Morgan spills over with hipsters, salsa ...   \n",
       "\n",
       "                                         picture_url  host_id  \\\n",
       "0  https://a0.muscache.com/pictures/61e02c7e-3d66...     4645   \n",
       "1  https://a0.muscache.com/pictures/432713/fab7dd...     5059   \n",
       "2  https://a0.muscache.com/pictures/86072003/6709...     5803   \n",
       "3  https://a0.muscache.com/pictures/2439810/bb320...     7086   \n",
       "4  https://a0.muscache.com/pictures/207249/9f1df8...     6527   \n",
       "\n",
       "                                 host_url        host_name  host_since  \\\n",
       "0  https://www.airbnb.com/users/show/4645             Vita  2008-11-26   \n",
       "1  https://www.airbnb.com/users/show/5059             Vasa  2008-12-12   \n",
       "2  https://www.airbnb.com/users/show/5803  Bertina'S House  2008-12-30   \n",
       "3  https://www.airbnb.com/users/show/7086           Seveer  2009-01-26   \n",
       "4  https://www.airbnb.com/users/show/6527              Ami  2009-01-13   \n",
       "\n",
       "                                       host_location  \\\n",
       "0  Washington D.C., District of Columbia, United ...   \n",
       "1    Washington, District of Columbia, United States   \n",
       "2    Washington, District of Columbia, United States   \n",
       "3  Washington D.C., District of Columbia, United ...   \n",
       "4  Washington D.C., District of Columbia, United ...   \n",
       "\n",
       "                                          host_about  host_response_time  \\\n",
       "0  I am a literary scholar, teacher, poet, vegan ...        within a day   \n",
       "1  I have been living and working in DC for the l...  within a few hours   \n",
       "2  I am an easy going, laid back person who loves...                 NaN   \n",
       "3  I am fun, honest and very easy going and trave...  within a few hours   \n",
       "4  I am an environmentalist, and I own and operat...  within a few hours   \n",
       "\n",
       "  host_response_rate host_acceptance_rate host_is_superhost  \\\n",
       "0                80%                  75%                 f   \n",
       "1               100%                  29%                 f   \n",
       "2                NaN                  NaN                 f   \n",
       "3               100%                  78%                 t   \n",
       "4               100%                  17%                 f   \n",
       "\n",
       "                                  host_thumbnail_url  \\\n",
       "0  https://a0.muscache.com/im/users/4645/profile_...   \n",
       "1  https://a0.muscache.com/im/pictures/user/8ec69...   \n",
       "2  https://a0.muscache.com/im/users/5803/profile_...   \n",
       "3  https://a0.muscache.com/im/pictures/user/6efb4...   \n",
       "4  https://a0.muscache.com/im/users/6527/profile_...   \n",
       "\n",
       "                                    host_picture_url host_neighbourhood  \\\n",
       "0  https://a0.muscache.com/im/users/4645/profile_...          Anacostia   \n",
       "1  https://a0.muscache.com/im/pictures/user/8ec69...          Eckington   \n",
       "2  https://a0.muscache.com/im/users/5803/profile_...   Eastland Gardens   \n",
       "3  https://a0.muscache.com/im/pictures/user/6efb4...           Ivy City   \n",
       "4  https://a0.muscache.com/im/users/6527/profile_...       Adams Morgan   \n",
       "\n",
       "   host_listings_count  host_total_listings_count  \\\n",
       "0                 2.00                       2.00   \n",
       "1                 0.00                       0.00   \n",
       "2                 3.00                       3.00   \n",
       "3                 5.00                       5.00   \n",
       "4                 4.00                       4.00   \n",
       "\n",
       "                                  host_verifications host_has_profile_pic  \\\n",
       "0  ['email', 'phone', 'reviews', 'jumio', 'offlin...                    t   \n",
       "1               ['email', 'phone', 'reviews', 'kba']                    t   \n",
       "2  ['email', 'phone', 'facebook', 'reviews', 'jum...                    t   \n",
       "3               ['email', 'phone', 'reviews', 'kba']                    t   \n",
       "4  ['email', 'phone', 'facebook', 'reviews', 'jum...                    t   \n",
       "\n",
       "  host_identity_verified                                    neighbourhood  \\\n",
       "0                      t  Washington, District of Columbia, United States   \n",
       "1                      t  Washington, District of Columbia, United States   \n",
       "2                      t  Washington, District of Columbia, United States   \n",
       "3                      t                                              NaN   \n",
       "4                      t  Washington, District of Columbia, United States   \n",
       "\n",
       "                              neighbourhood_cleansed  \\\n",
       "0                                 Historic Anacostia   \n",
       "1  Edgewood, Bloomingdale, Truxton Circle, Eckington   \n",
       "2                       Eastland Gardens, Kenilworth   \n",
       "3     Ivy City, Arboretum, Trinidad, Carver Langston   \n",
       "4     Kalorama Heights, Adams Morgan, Lanier Heights   \n",
       "\n",
       "   neighbourhood_group_cleansed  latitude  longitude  \\\n",
       "0                           nan     38.86     -76.99   \n",
       "1                           nan     38.91     -77.00   \n",
       "2                           nan     38.91     -76.94   \n",
       "3                           nan     38.91     -76.99   \n",
       "4                           nan     38.92     -77.04   \n",
       "\n",
       "               property_type        room_type  accommodates  bathrooms  \\\n",
       "0      Private room in house     Private room             1        nan   \n",
       "1  Private room in townhouse     Private room             2        nan   \n",
       "2      Private room in house     Private room             4        nan   \n",
       "3      Private room in house     Private room             1        nan   \n",
       "4           Entire apartment  Entire home/apt             3        nan   \n",
       "\n",
       "     bathrooms_text  bedrooms  beds  \\\n",
       "0    1 private bath      1.00  1.00   \n",
       "1  1.5 shared baths      1.00  1.00   \n",
       "2     1 shared bath      1.00  1.00   \n",
       "3           3 baths      1.00  1.00   \n",
       "4            1 bath      1.00  1.00   \n",
       "\n",
       "                                           amenities   price  minimum_nights  \\\n",
       "0  [\"First aid kit\", \"Long term stays allowed\", \"...  $55.00               2   \n",
       "1  [\"Cooking basics\", \"First aid kit\", \"Dedicated...  $70.00               2   \n",
       "2  [\"Cooking basics\", \"First aid kit\", \"Keypad\", ...  $54.00              30   \n",
       "3  [\"Cable TV\", \"TV with standard cable\", \"Kitche...  $99.00               2   \n",
       "4  [\"Window guards\", \"Cooking basics\", \"First aid...  $86.00               5   \n",
       "\n",
       "   maximum_nights  minimum_minimum_nights  maximum_minimum_nights  \\\n",
       "0             365                       2                       2   \n",
       "1            1125                       2                       2   \n",
       "2             180                      30                      30   \n",
       "3             365                       2                       2   \n",
       "4             150                       5                      23   \n",
       "\n",
       "   minimum_maximum_nights  maximum_maximum_nights  minimum_nights_avg_ntm  \\\n",
       "0                     365                     365                    2.00   \n",
       "1                    1125                    1125                    2.00   \n",
       "2                     180                     180                   30.00   \n",
       "3                     365                     365                    2.00   \n",
       "4                     150                     150                    8.80   \n",
       "\n",
       "   maximum_nights_avg_ntm  calendar_updated has_availability  availability_30  \\\n",
       "0                  365.00               nan                t                1   \n",
       "1                1,125.00               nan                t                9   \n",
       "2                  180.00               nan                t               29   \n",
       "3                  365.00               nan                t                0   \n",
       "4                  150.00               nan                t                7   \n",
       "\n",
       "   availability_60  availability_90  availability_365 calendar_last_scraped  \\\n",
       "0               31               61               336            2021-07-11   \n",
       "1               39               69               344            2021-07-11   \n",
       "2               59               89               179            2021-07-11   \n",
       "3                0                0               146            2021-07-11   \n",
       "4               32               62               121            2021-07-11   \n",
       "\n",
       "   number_of_reviews  number_of_reviews_ltm  number_of_reviews_l30d  \\\n",
       "0                 75                      3                       0   \n",
       "1                429                      0                       0   \n",
       "2                102                      0                       0   \n",
       "3                 31                      0                       0   \n",
       "4                 95                      0                       0   \n",
       "\n",
       "  first_review last_review  review_scores_rating  review_scores_accuracy  \\\n",
       "0   2014-06-22  2021-01-12                  4.59                    4.71   \n",
       "1   2010-08-08  2018-08-07                  4.82                    4.89   \n",
       "2   2014-09-23  2019-07-05                  4.66                    4.80   \n",
       "3   2012-02-13  2016-09-22                  4.74                    4.68   \n",
       "4   2010-07-30  2020-03-05                  4.54                    4.75   \n",
       "\n",
       "   review_scores_cleanliness  review_scores_checkin  \\\n",
       "0                       4.44                   4.89   \n",
       "1                       4.91                   4.94   \n",
       "2                       4.60                   4.93   \n",
       "3                       4.89                   4.93   \n",
       "4                       4.17                   4.83   \n",
       "\n",
       "   review_scores_communication  review_scores_location  review_scores_value  \\\n",
       "0                         4.82                    3.80                 4.58   \n",
       "1                         4.90                    4.54                 4.74   \n",
       "2                         4.93                    4.51                 4.83   \n",
       "3                         4.93                    4.21                 4.64   \n",
       "4                         4.84                    4.91                 4.47   \n",
       "\n",
       "  license instant_bookable  calculated_host_listings_count  \\\n",
       "0     NaN                f                               2   \n",
       "1     NaN                f                               2   \n",
       "2     NaN                f                               1   \n",
       "3     NaN                f                               3   \n",
       "4     NaN                f                               2   \n",
       "\n",
       "   calculated_host_listings_count_entire_homes  \\\n",
       "0                                            0   \n",
       "1                                            0   \n",
       "2                                            0   \n",
       "3                                            0   \n",
       "4                                            1   \n",
       "\n",
       "   calculated_host_listings_count_private_rooms  \\\n",
       "0                                             2   \n",
       "1                                             2   \n",
       "2                                             1   \n",
       "3                                             3   \n",
       "4                                             1   \n",
       "\n",
       "   calculated_host_listings_count_shared_rooms  reviews_per_month  \n",
       "0                                            0               0.87  \n",
       "1                                            0               3.22  \n",
       "2                                            0               1.23  \n",
       "3                                            0               0.27  \n",
       "4                                            0               0.71  "
      ]
     },
     "execution_count": 5,
     "metadata": {},
     "output_type": "execute_result"
    }
   ],
   "source": [
    "## Inspecting imported dataset\n",
    "data.head(5)"
   ]
  },
  {
   "cell_type": "code",
   "execution_count": 6,
   "metadata": {
    "ExecuteTime": {
     "end_time": "2021-08-05T19:51:22.861455Z",
     "start_time": "2021-08-05T19:51:22.848457Z"
    }
   },
   "outputs": [
    {
     "data": {
      "text/plain": [
       "(8033, 74)"
      ]
     },
     "execution_count": 6,
     "metadata": {},
     "output_type": "execute_result"
    }
   ],
   "source": [
    "## Checking number of rows and columns\n",
    "data.shape"
   ]
  },
  {
   "cell_type": "markdown",
   "metadata": {},
   "source": [
    "---\n",
    "\n",
    "> The initial read of the dataset shows there are 74 features and 8,033 entries. A quick glance at the `.head()` gives a sample of the entries, showing that some of the features are not relevant to my analysis.\n",
    ">\n",
    "> I need to get a better idea of the statistics for the dataset, especially any missing values and the datatypes for each column. I need to pre-process this data before I can perform any modeling.\n",
    "\n",
    "---"
   ]
  },
  {
   "cell_type": "markdown",
   "metadata": {},
   "source": [
    "# 👨‍💻 **Interactive Investigation**"
   ]
  },
  {
   "cell_type": "markdown",
   "metadata": {},
   "source": [
    "---\n",
    "\n",
    "> To increase accessibility to the data, **I include a widget to allow the user to sort through the data interactively.** I use [**Jupyter Widgets**](https://ipywidgets.readthedocs.io/en/latest/index.html) to create this interactive report.\n",
    ">\n",
    ">**To use:** select which column by which you would like to sort from the dropdown menu, then click the \"Run Interact\" button.\n",
    ">\n",
    ">***Note about 'Drop_Cols' and Cols:*** these keyword arguments are used to allow the user to drop specific columns.\n",
    ">\n",
    "> **Only click the \"Drop_Cols\" option when specifying \"Cols\"!** Otherwise it will cause an error.\n",
    ">\n",
    ">The 'Cols' dropdown menu does not affect the resulting report; the data is filtered from the report prior to displaying the results. \n",
    ">\n",
    ">I chose to include this option for flexibility and adaptability, but it does have the unintended consequence of creating another drop-down menu. Please ignore this menu, as it does not provide any additional functionality. For future work, I will disable the menu to prevent confusion.\n",
    "\n",
    "---"
   ]
  },
  {
   "cell_type": "code",
   "execution_count": 7,
   "metadata": {
    "ExecuteTime": {
     "end_time": "2021-08-05T19:51:23.171457Z",
     "start_time": "2021-08-05T19:51:22.864457Z"
    }
   },
   "outputs": [
    {
     "data": {
      "application/vnd.jupyter.widget-view+json": {
       "model_id": "432c7924bee0493d8d255099b768d787",
       "version_major": 2,
       "version_minor": 0
      },
      "text/plain": [
       "interactive(children=(Text(value='data/listings.csv.gz', description='Source'), Dropdown(description='Sort_by'…"
      ]
     },
     "metadata": {},
     "output_type": "display_data"
    }
   ],
   "source": [
    "## Running report on unfiltered dataset\n",
    "\n",
    "interact_manual(cf.sort_report, Sort_by=list(cf.report_df(data).columns),\n",
    "                Source=source);"
   ]
  },
  {
   "cell_type": "code",
   "execution_count": 8,
   "metadata": {
    "ExecuteTime": {
     "end_time": "2021-08-05T19:51:23.264456Z",
     "start_time": "2021-08-05T19:51:23.175456Z"
    },
    "scrolled": false
   },
   "outputs": [
    {
     "data": {
      "text/html": [
       "<div>\n",
       "<style scoped>\n",
       "    .dataframe tbody tr th:only-of-type {\n",
       "        vertical-align: middle;\n",
       "    }\n",
       "\n",
       "    .dataframe tbody tr th {\n",
       "        vertical-align: top;\n",
       "    }\n",
       "\n",
       "    .dataframe thead th {\n",
       "        text-align: right;\n",
       "    }\n",
       "</style>\n",
       "<table border=\"1\" class=\"dataframe\">\n",
       "  <thead>\n",
       "    <tr style=\"text-align: right;\">\n",
       "      <th></th>\n",
       "      <th>id</th>\n",
       "      <th>listing_url</th>\n",
       "      <th>scrape_id</th>\n",
       "      <th>last_scraped</th>\n",
       "      <th>name</th>\n",
       "      <th>description</th>\n",
       "      <th>neighborhood_overview</th>\n",
       "      <th>picture_url</th>\n",
       "      <th>host_id</th>\n",
       "      <th>host_url</th>\n",
       "      <th>host_name</th>\n",
       "      <th>host_since</th>\n",
       "      <th>host_location</th>\n",
       "      <th>host_about</th>\n",
       "      <th>host_response_time</th>\n",
       "      <th>host_response_rate</th>\n",
       "      <th>host_acceptance_rate</th>\n",
       "      <th>host_is_superhost</th>\n",
       "      <th>host_thumbnail_url</th>\n",
       "      <th>host_picture_url</th>\n",
       "      <th>host_neighbourhood</th>\n",
       "      <th>host_listings_count</th>\n",
       "      <th>host_total_listings_count</th>\n",
       "      <th>host_verifications</th>\n",
       "      <th>host_has_profile_pic</th>\n",
       "      <th>host_identity_verified</th>\n",
       "      <th>neighbourhood</th>\n",
       "      <th>neighbourhood_cleansed</th>\n",
       "      <th>neighbourhood_group_cleansed</th>\n",
       "      <th>latitude</th>\n",
       "      <th>longitude</th>\n",
       "      <th>property_type</th>\n",
       "      <th>room_type</th>\n",
       "      <th>accommodates</th>\n",
       "      <th>bathrooms</th>\n",
       "      <th>bathrooms_text</th>\n",
       "      <th>bedrooms</th>\n",
       "      <th>beds</th>\n",
       "      <th>amenities</th>\n",
       "      <th>price</th>\n",
       "      <th>minimum_nights</th>\n",
       "      <th>maximum_nights</th>\n",
       "      <th>minimum_minimum_nights</th>\n",
       "      <th>maximum_minimum_nights</th>\n",
       "      <th>minimum_maximum_nights</th>\n",
       "      <th>maximum_maximum_nights</th>\n",
       "      <th>minimum_nights_avg_ntm</th>\n",
       "      <th>maximum_nights_avg_ntm</th>\n",
       "      <th>calendar_updated</th>\n",
       "      <th>has_availability</th>\n",
       "      <th>availability_30</th>\n",
       "      <th>availability_60</th>\n",
       "      <th>availability_90</th>\n",
       "      <th>availability_365</th>\n",
       "      <th>calendar_last_scraped</th>\n",
       "      <th>number_of_reviews</th>\n",
       "      <th>number_of_reviews_ltm</th>\n",
       "      <th>number_of_reviews_l30d</th>\n",
       "      <th>first_review</th>\n",
       "      <th>last_review</th>\n",
       "      <th>review_scores_rating</th>\n",
       "      <th>review_scores_accuracy</th>\n",
       "      <th>review_scores_cleanliness</th>\n",
       "      <th>review_scores_checkin</th>\n",
       "      <th>review_scores_communication</th>\n",
       "      <th>review_scores_location</th>\n",
       "      <th>review_scores_value</th>\n",
       "      <th>license</th>\n",
       "      <th>instant_bookable</th>\n",
       "      <th>calculated_host_listings_count</th>\n",
       "      <th>calculated_host_listings_count_entire_homes</th>\n",
       "      <th>calculated_host_listings_count_private_rooms</th>\n",
       "      <th>calculated_host_listings_count_shared_rooms</th>\n",
       "      <th>reviews_per_month</th>\n",
       "    </tr>\n",
       "  </thead>\n",
       "  <tbody>\n",
       "    <tr>\n",
       "      <th>0</th>\n",
       "      <td>3686</td>\n",
       "      <td>https://www.airbnb.com/rooms/3686</td>\n",
       "      <td>20210710190002</td>\n",
       "      <td>2021-07-11</td>\n",
       "      <td>Vita's Hideaway</td>\n",
       "      <td>IMPORTANT NOTES&lt;br /&gt;* Carefully read and be s...</td>\n",
       "      <td>We love that our neighborhood is up and coming...</td>\n",
       "      <td>https://a0.muscache.com/pictures/61e02c7e-3d66...</td>\n",
       "      <td>4645</td>\n",
       "      <td>https://www.airbnb.com/users/show/4645</td>\n",
       "      <td>Vita</td>\n",
       "      <td>2008-11-26</td>\n",
       "      <td>Washington D.C., District of Columbia, United ...</td>\n",
       "      <td>I am a literary scholar, teacher, poet, vegan ...</td>\n",
       "      <td>within a day</td>\n",
       "      <td>80%</td>\n",
       "      <td>75%</td>\n",
       "      <td>f</td>\n",
       "      <td>https://a0.muscache.com/im/users/4645/profile_...</td>\n",
       "      <td>https://a0.muscache.com/im/users/4645/profile_...</td>\n",
       "      <td>Anacostia</td>\n",
       "      <td>2.00</td>\n",
       "      <td>2.00</td>\n",
       "      <td>['email', 'phone', 'reviews', 'jumio', 'offlin...</td>\n",
       "      <td>t</td>\n",
       "      <td>t</td>\n",
       "      <td>Washington, District of Columbia, United States</td>\n",
       "      <td>Historic Anacostia</td>\n",
       "      <td>nan</td>\n",
       "      <td>38.86</td>\n",
       "      <td>-76.99</td>\n",
       "      <td>Private room in house</td>\n",
       "      <td>Private room</td>\n",
       "      <td>1</td>\n",
       "      <td>nan</td>\n",
       "      <td>1 private bath</td>\n",
       "      <td>1.00</td>\n",
       "      <td>1.00</td>\n",
       "      <td>[\"First aid kit\", \"Long term stays allowed\", \"...</td>\n",
       "      <td>$55.00</td>\n",
       "      <td>2</td>\n",
       "      <td>365</td>\n",
       "      <td>2</td>\n",
       "      <td>2</td>\n",
       "      <td>365</td>\n",
       "      <td>365</td>\n",
       "      <td>2.00</td>\n",
       "      <td>365.00</td>\n",
       "      <td>nan</td>\n",
       "      <td>t</td>\n",
       "      <td>1</td>\n",
       "      <td>31</td>\n",
       "      <td>61</td>\n",
       "      <td>336</td>\n",
       "      <td>2021-07-11</td>\n",
       "      <td>75</td>\n",
       "      <td>3</td>\n",
       "      <td>0</td>\n",
       "      <td>2014-06-22</td>\n",
       "      <td>2021-01-12</td>\n",
       "      <td>4.59</td>\n",
       "      <td>4.71</td>\n",
       "      <td>4.44</td>\n",
       "      <td>4.89</td>\n",
       "      <td>4.82</td>\n",
       "      <td>3.80</td>\n",
       "      <td>4.58</td>\n",
       "      <td>NaN</td>\n",
       "      <td>f</td>\n",
       "      <td>2</td>\n",
       "      <td>0</td>\n",
       "      <td>2</td>\n",
       "      <td>0</td>\n",
       "      <td>0.87</td>\n",
       "    </tr>\n",
       "    <tr>\n",
       "      <th>1</th>\n",
       "      <td>3943</td>\n",
       "      <td>https://www.airbnb.com/rooms/3943</td>\n",
       "      <td>20210710190002</td>\n",
       "      <td>2021-07-11</td>\n",
       "      <td>Historic Rowhouse Near Monuments</td>\n",
       "      <td>Please contact us before booking to make sure ...</td>\n",
       "      <td>This rowhouse is centrally located in the hear...</td>\n",
       "      <td>https://a0.muscache.com/pictures/432713/fab7dd...</td>\n",
       "      <td>5059</td>\n",
       "      <td>https://www.airbnb.com/users/show/5059</td>\n",
       "      <td>Vasa</td>\n",
       "      <td>2008-12-12</td>\n",
       "      <td>Washington, District of Columbia, United States</td>\n",
       "      <td>I have been living and working in DC for the l...</td>\n",
       "      <td>within a few hours</td>\n",
       "      <td>100%</td>\n",
       "      <td>29%</td>\n",
       "      <td>f</td>\n",
       "      <td>https://a0.muscache.com/im/pictures/user/8ec69...</td>\n",
       "      <td>https://a0.muscache.com/im/pictures/user/8ec69...</td>\n",
       "      <td>Eckington</td>\n",
       "      <td>0.00</td>\n",
       "      <td>0.00</td>\n",
       "      <td>['email', 'phone', 'reviews', 'kba']</td>\n",
       "      <td>t</td>\n",
       "      <td>t</td>\n",
       "      <td>Washington, District of Columbia, United States</td>\n",
       "      <td>Edgewood, Bloomingdale, Truxton Circle, Eckington</td>\n",
       "      <td>nan</td>\n",
       "      <td>38.91</td>\n",
       "      <td>-77.00</td>\n",
       "      <td>Private room in townhouse</td>\n",
       "      <td>Private room</td>\n",
       "      <td>2</td>\n",
       "      <td>nan</td>\n",
       "      <td>1.5 shared baths</td>\n",
       "      <td>1.00</td>\n",
       "      <td>1.00</td>\n",
       "      <td>[\"Cooking basics\", \"First aid kit\", \"Dedicated...</td>\n",
       "      <td>$70.00</td>\n",
       "      <td>2</td>\n",
       "      <td>1125</td>\n",
       "      <td>2</td>\n",
       "      <td>2</td>\n",
       "      <td>1125</td>\n",
       "      <td>1125</td>\n",
       "      <td>2.00</td>\n",
       "      <td>1,125.00</td>\n",
       "      <td>nan</td>\n",
       "      <td>t</td>\n",
       "      <td>9</td>\n",
       "      <td>39</td>\n",
       "      <td>69</td>\n",
       "      <td>344</td>\n",
       "      <td>2021-07-11</td>\n",
       "      <td>429</td>\n",
       "      <td>0</td>\n",
       "      <td>0</td>\n",
       "      <td>2010-08-08</td>\n",
       "      <td>2018-08-07</td>\n",
       "      <td>4.82</td>\n",
       "      <td>4.89</td>\n",
       "      <td>4.91</td>\n",
       "      <td>4.94</td>\n",
       "      <td>4.90</td>\n",
       "      <td>4.54</td>\n",
       "      <td>4.74</td>\n",
       "      <td>NaN</td>\n",
       "      <td>f</td>\n",
       "      <td>2</td>\n",
       "      <td>0</td>\n",
       "      <td>2</td>\n",
       "      <td>0</td>\n",
       "      <td>3.22</td>\n",
       "    </tr>\n",
       "    <tr>\n",
       "      <th>2</th>\n",
       "      <td>4529</td>\n",
       "      <td>https://www.airbnb.com/rooms/4529</td>\n",
       "      <td>20210710190002</td>\n",
       "      <td>2021-07-11</td>\n",
       "      <td>Bertina's  House Part One</td>\n",
       "      <td>This is  large private  bedroom with plenty of...</td>\n",
       "      <td>Very quiet neighborhood and it is easy accessi...</td>\n",
       "      <td>https://a0.muscache.com/pictures/86072003/6709...</td>\n",
       "      <td>5803</td>\n",
       "      <td>https://www.airbnb.com/users/show/5803</td>\n",
       "      <td>Bertina'S House</td>\n",
       "      <td>2008-12-30</td>\n",
       "      <td>Washington, District of Columbia, United States</td>\n",
       "      <td>I am an easy going, laid back person who loves...</td>\n",
       "      <td>NaN</td>\n",
       "      <td>NaN</td>\n",
       "      <td>NaN</td>\n",
       "      <td>f</td>\n",
       "      <td>https://a0.muscache.com/im/users/5803/profile_...</td>\n",
       "      <td>https://a0.muscache.com/im/users/5803/profile_...</td>\n",
       "      <td>Eastland Gardens</td>\n",
       "      <td>3.00</td>\n",
       "      <td>3.00</td>\n",
       "      <td>['email', 'phone', 'facebook', 'reviews', 'jum...</td>\n",
       "      <td>t</td>\n",
       "      <td>t</td>\n",
       "      <td>Washington, District of Columbia, United States</td>\n",
       "      <td>Eastland Gardens, Kenilworth</td>\n",
       "      <td>nan</td>\n",
       "      <td>38.91</td>\n",
       "      <td>-76.94</td>\n",
       "      <td>Private room in house</td>\n",
       "      <td>Private room</td>\n",
       "      <td>4</td>\n",
       "      <td>nan</td>\n",
       "      <td>1 shared bath</td>\n",
       "      <td>1.00</td>\n",
       "      <td>1.00</td>\n",
       "      <td>[\"Cooking basics\", \"First aid kit\", \"Keypad\", ...</td>\n",
       "      <td>$54.00</td>\n",
       "      <td>30</td>\n",
       "      <td>180</td>\n",
       "      <td>30</td>\n",
       "      <td>30</td>\n",
       "      <td>180</td>\n",
       "      <td>180</td>\n",
       "      <td>30.00</td>\n",
       "      <td>180.00</td>\n",
       "      <td>nan</td>\n",
       "      <td>t</td>\n",
       "      <td>29</td>\n",
       "      <td>59</td>\n",
       "      <td>89</td>\n",
       "      <td>179</td>\n",
       "      <td>2021-07-11</td>\n",
       "      <td>102</td>\n",
       "      <td>0</td>\n",
       "      <td>0</td>\n",
       "      <td>2014-09-23</td>\n",
       "      <td>2019-07-05</td>\n",
       "      <td>4.66</td>\n",
       "      <td>4.80</td>\n",
       "      <td>4.60</td>\n",
       "      <td>4.93</td>\n",
       "      <td>4.93</td>\n",
       "      <td>4.51</td>\n",
       "      <td>4.83</td>\n",
       "      <td>NaN</td>\n",
       "      <td>f</td>\n",
       "      <td>1</td>\n",
       "      <td>0</td>\n",
       "      <td>1</td>\n",
       "      <td>0</td>\n",
       "      <td>1.23</td>\n",
       "    </tr>\n",
       "  </tbody>\n",
       "</table>\n",
       "</div>"
      ],
      "text/plain": [
       "     id                        listing_url       scrape_id last_scraped  \\\n",
       "0  3686  https://www.airbnb.com/rooms/3686  20210710190002   2021-07-11   \n",
       "1  3943  https://www.airbnb.com/rooms/3943  20210710190002   2021-07-11   \n",
       "2  4529  https://www.airbnb.com/rooms/4529  20210710190002   2021-07-11   \n",
       "\n",
       "                               name  \\\n",
       "0                   Vita's Hideaway   \n",
       "1  Historic Rowhouse Near Monuments   \n",
       "2         Bertina's  House Part One   \n",
       "\n",
       "                                         description  \\\n",
       "0  IMPORTANT NOTES<br />* Carefully read and be s...   \n",
       "1  Please contact us before booking to make sure ...   \n",
       "2  This is  large private  bedroom with plenty of...   \n",
       "\n",
       "                               neighborhood_overview  \\\n",
       "0  We love that our neighborhood is up and coming...   \n",
       "1  This rowhouse is centrally located in the hear...   \n",
       "2  Very quiet neighborhood and it is easy accessi...   \n",
       "\n",
       "                                         picture_url  host_id  \\\n",
       "0  https://a0.muscache.com/pictures/61e02c7e-3d66...     4645   \n",
       "1  https://a0.muscache.com/pictures/432713/fab7dd...     5059   \n",
       "2  https://a0.muscache.com/pictures/86072003/6709...     5803   \n",
       "\n",
       "                                 host_url        host_name  host_since  \\\n",
       "0  https://www.airbnb.com/users/show/4645             Vita  2008-11-26   \n",
       "1  https://www.airbnb.com/users/show/5059             Vasa  2008-12-12   \n",
       "2  https://www.airbnb.com/users/show/5803  Bertina'S House  2008-12-30   \n",
       "\n",
       "                                       host_location  \\\n",
       "0  Washington D.C., District of Columbia, United ...   \n",
       "1    Washington, District of Columbia, United States   \n",
       "2    Washington, District of Columbia, United States   \n",
       "\n",
       "                                          host_about  host_response_time  \\\n",
       "0  I am a literary scholar, teacher, poet, vegan ...        within a day   \n",
       "1  I have been living and working in DC for the l...  within a few hours   \n",
       "2  I am an easy going, laid back person who loves...                 NaN   \n",
       "\n",
       "  host_response_rate host_acceptance_rate host_is_superhost  \\\n",
       "0                80%                  75%                 f   \n",
       "1               100%                  29%                 f   \n",
       "2                NaN                  NaN                 f   \n",
       "\n",
       "                                  host_thumbnail_url  \\\n",
       "0  https://a0.muscache.com/im/users/4645/profile_...   \n",
       "1  https://a0.muscache.com/im/pictures/user/8ec69...   \n",
       "2  https://a0.muscache.com/im/users/5803/profile_...   \n",
       "\n",
       "                                    host_picture_url host_neighbourhood  \\\n",
       "0  https://a0.muscache.com/im/users/4645/profile_...          Anacostia   \n",
       "1  https://a0.muscache.com/im/pictures/user/8ec69...          Eckington   \n",
       "2  https://a0.muscache.com/im/users/5803/profile_...   Eastland Gardens   \n",
       "\n",
       "   host_listings_count  host_total_listings_count  \\\n",
       "0                 2.00                       2.00   \n",
       "1                 0.00                       0.00   \n",
       "2                 3.00                       3.00   \n",
       "\n",
       "                                  host_verifications host_has_profile_pic  \\\n",
       "0  ['email', 'phone', 'reviews', 'jumio', 'offlin...                    t   \n",
       "1               ['email', 'phone', 'reviews', 'kba']                    t   \n",
       "2  ['email', 'phone', 'facebook', 'reviews', 'jum...                    t   \n",
       "\n",
       "  host_identity_verified                                    neighbourhood  \\\n",
       "0                      t  Washington, District of Columbia, United States   \n",
       "1                      t  Washington, District of Columbia, United States   \n",
       "2                      t  Washington, District of Columbia, United States   \n",
       "\n",
       "                              neighbourhood_cleansed  \\\n",
       "0                                 Historic Anacostia   \n",
       "1  Edgewood, Bloomingdale, Truxton Circle, Eckington   \n",
       "2                       Eastland Gardens, Kenilworth   \n",
       "\n",
       "   neighbourhood_group_cleansed  latitude  longitude  \\\n",
       "0                           nan     38.86     -76.99   \n",
       "1                           nan     38.91     -77.00   \n",
       "2                           nan     38.91     -76.94   \n",
       "\n",
       "               property_type     room_type  accommodates  bathrooms  \\\n",
       "0      Private room in house  Private room             1        nan   \n",
       "1  Private room in townhouse  Private room             2        nan   \n",
       "2      Private room in house  Private room             4        nan   \n",
       "\n",
       "     bathrooms_text  bedrooms  beds  \\\n",
       "0    1 private bath      1.00  1.00   \n",
       "1  1.5 shared baths      1.00  1.00   \n",
       "2     1 shared bath      1.00  1.00   \n",
       "\n",
       "                                           amenities   price  minimum_nights  \\\n",
       "0  [\"First aid kit\", \"Long term stays allowed\", \"...  $55.00               2   \n",
       "1  [\"Cooking basics\", \"First aid kit\", \"Dedicated...  $70.00               2   \n",
       "2  [\"Cooking basics\", \"First aid kit\", \"Keypad\", ...  $54.00              30   \n",
       "\n",
       "   maximum_nights  minimum_minimum_nights  maximum_minimum_nights  \\\n",
       "0             365                       2                       2   \n",
       "1            1125                       2                       2   \n",
       "2             180                      30                      30   \n",
       "\n",
       "   minimum_maximum_nights  maximum_maximum_nights  minimum_nights_avg_ntm  \\\n",
       "0                     365                     365                    2.00   \n",
       "1                    1125                    1125                    2.00   \n",
       "2                     180                     180                   30.00   \n",
       "\n",
       "   maximum_nights_avg_ntm  calendar_updated has_availability  availability_30  \\\n",
       "0                  365.00               nan                t                1   \n",
       "1                1,125.00               nan                t                9   \n",
       "2                  180.00               nan                t               29   \n",
       "\n",
       "   availability_60  availability_90  availability_365 calendar_last_scraped  \\\n",
       "0               31               61               336            2021-07-11   \n",
       "1               39               69               344            2021-07-11   \n",
       "2               59               89               179            2021-07-11   \n",
       "\n",
       "   number_of_reviews  number_of_reviews_ltm  number_of_reviews_l30d  \\\n",
       "0                 75                      3                       0   \n",
       "1                429                      0                       0   \n",
       "2                102                      0                       0   \n",
       "\n",
       "  first_review last_review  review_scores_rating  review_scores_accuracy  \\\n",
       "0   2014-06-22  2021-01-12                  4.59                    4.71   \n",
       "1   2010-08-08  2018-08-07                  4.82                    4.89   \n",
       "2   2014-09-23  2019-07-05                  4.66                    4.80   \n",
       "\n",
       "   review_scores_cleanliness  review_scores_checkin  \\\n",
       "0                       4.44                   4.89   \n",
       "1                       4.91                   4.94   \n",
       "2                       4.60                   4.93   \n",
       "\n",
       "   review_scores_communication  review_scores_location  review_scores_value  \\\n",
       "0                         4.82                    3.80                 4.58   \n",
       "1                         4.90                    4.54                 4.74   \n",
       "2                         4.93                    4.51                 4.83   \n",
       "\n",
       "  license instant_bookable  calculated_host_listings_count  \\\n",
       "0     NaN                f                               2   \n",
       "1     NaN                f                               2   \n",
       "2     NaN                f                               1   \n",
       "\n",
       "   calculated_host_listings_count_entire_homes  \\\n",
       "0                                            0   \n",
       "1                                            0   \n",
       "2                                            0   \n",
       "\n",
       "   calculated_host_listings_count_private_rooms  \\\n",
       "0                                             2   \n",
       "1                                             2   \n",
       "2                                             1   \n",
       "\n",
       "   calculated_host_listings_count_shared_rooms  reviews_per_month  \n",
       "0                                            0               0.87  \n",
       "1                                            0               3.22  \n",
       "2                                            0               1.23  "
      ]
     },
     "execution_count": 8,
     "metadata": {},
     "output_type": "execute_result"
    }
   ],
   "source": [
    "data.head(3)"
   ]
  },
  {
   "cell_type": "markdown",
   "metadata": {},
   "source": [
    "---\n",
    "\n",
    "> After reviewing my data, I see there are several features that contain irrelevant entries (URLs, source data, meta data) or values that are too complicated for simple processing (such as host and listing descriptions).\n",
    ">\n",
    "> I will drop these columns for the second report to review the remaining data for further processing.\n",
    "\n",
    "---"
   ]
  },
  {
   "cell_type": "code",
   "execution_count": 9,
   "metadata": {
    "ExecuteTime": {
     "end_time": "2021-08-05T19:51:23.280458Z",
     "start_time": "2021-08-05T19:51:23.267456Z"
    }
   },
   "outputs": [],
   "source": [
    "## Specifying columns to drop\n",
    "\n",
    "drop = ['id', 'host_id', 'name', 'description', 'neighborhood_overview', 'host_name',\n",
    "        'host_about', 'host_location', 'neighbourhood', 'property_type',\n",
    "        'listing_url', 'scrape_id', 'last_scraped', 'picture_url','host_url',\n",
    "        'host_thumbnail_url','host_picture_url','calendar_last_scraped']"
   ]
  },
  {
   "cell_type": "code",
   "execution_count": 10,
   "metadata": {
    "ExecuteTime": {
     "end_time": "2021-08-05T19:51:23.641456Z",
     "start_time": "2021-08-05T19:51:23.282455Z"
    },
    "scrolled": false
   },
   "outputs": [
    {
     "data": {
      "application/vnd.jupyter.widget-view+json": {
       "model_id": "e1642398b78e4c08a7f6a73bd1c51673",
       "version_major": 2,
       "version_minor": 0
      },
      "text/plain": [
       "interactive(children=(Text(value='data/listings.csv.gz', description='Source'), Dropdown(description='Sort_by'…"
      ]
     },
     "metadata": {},
     "output_type": "display_data"
    }
   ],
   "source": [
    "## Creating updated interactive report\n",
    "\n",
    "interact_manual(cf.sort_report, Drop_Cols = True, Cols = drop,\n",
    "                Sort_by=list(cf.report_df(data).columns), Source=source);"
   ]
  },
  {
   "cell_type": "markdown",
   "metadata": {},
   "source": [
    "---\n",
    "\n",
    "> **Interpretation:**\n",
    ">\n",
    "> The report shows that the dataset has a big problem with missing values:\n",
    ">\n",
    "> * **Empty:**\n",
    ">   * `neighbourhood_group_cleansed`\n",
    ">   * `bathrooms`\n",
    ">   * `calendar_updated`\n",
    ">\n",
    ">\n",
    "> * **Nearly empty:**\n",
    ">  * `license`\n",
    ">\n",
    ">\n",
    "> * **Missing 26-39% of data:**\n",
    ">  * `host_about`\n",
    ">  * `neighborhood_overview`\n",
    ">  * `neighbourhood`\n",
    ">  * `host_response_time`\n",
    ">  * `host_response_rate`\n",
    ">  * `review_scores_value`\n",
    ">  * `review_scores_checkin`\n",
    ">  * `review_scores_location`\n",
    ">  * `review_scores_accuracy`\n",
    ">  * `review_scores_communication`\n",
    ">  * `review_scores_cleanliness`\n",
    ">  * `host_acceptance_rate`\n",
    ">  * `reviews_per_month`\n",
    ">  * `first_review`\n",
    ">  * `review_scores_rating`\n",
    ">  * `last_review`\n",
    ">\n",
    ">---\n",
    ">\n",
    "> I will need to address these missing values before processing with the modeling. A few options include:\n",
    ">\n",
    "> * **Filling with the string \"missing\"** to indicate the value was missing.\n",
    ">    * *I would be able to treat \"missing\" as a distinct category and use it for modeling as well.*\n",
    ">\n",
    ">\n",
    "> * **Dropping the rows with missing values.**\n",
    ">    * *This may negatively impact the accuracy of my results by overfitting to the training data.*\n",
    ">\n",
    ">\n",
    "> * I could **use the `SimpleImputer` tool from SKLearn to fill the missing values** with the mean, median, or mode values for each.\n",
    ">    * *I could couple this with a `GridSearchCV` to identify the method that has the strongest positive impact on my classification metrics.*\n",
    "\n",
    "---"
   ]
  },
  {
   "cell_type": "markdown",
   "metadata": {},
   "source": [
    "---\n",
    "\n",
    "> To get a better idea of the missing values, I create a visual of the values via the 'Missingno' package. This visualization package includes several options for visualizing the missing data.\n",
    "\n",
    "---"
   ]
  },
  {
   "cell_type": "code",
   "execution_count": 11,
   "metadata": {
    "ExecuteTime": {
     "end_time": "2021-08-05T19:51:23.657456Z",
     "start_time": "2021-08-05T19:51:23.644457Z"
    },
    "scrolled": false
   },
   "outputs": [],
   "source": [
    "## Visually inspecting missing values\n",
    "if show_visualizations == True:\n",
    "    missingno.bar(data, labels=True);"
   ]
  },
  {
   "cell_type": "markdown",
   "metadata": {},
   "source": [
    "---\n",
    "\n",
    "> Based on this visualization, I see that **there is a consistent trend in missing values for review scores:** if a row is missing one review score, it seems to be missing all of them.\n",
    ">\n",
    "> Additionally, **there are many missing values for the response time, response rate, and acceptance rate.** I want to use these columns in my classification, so I will need to replace those missing values.\n",
    ">\n",
    "> After reviewing these details, **I feel more comfortable with the option of dropping those rows with missing review values.** I will drop the values as part of my overall classification process.\n",
    "\n",
    "---"
   ]
  },
  {
   "cell_type": "markdown",
   "metadata": {},
   "source": [
    "# 🧼 **Data Cleaning and EDA**"
   ]
  },
  {
   "cell_type": "markdown",
   "metadata": {},
   "source": [
    "## 🔎 Fixing Missing Values"
   ]
  },
  {
   "cell_type": "markdown",
   "metadata": {},
   "source": [
    "---\n",
    "\n",
    "> This dataset is missing a significant number of values for different columns. **In order to perform any modeling, I will need to address these missing values first.**\n",
    ">\n",
    "> Depending on the feature and the number of missing values per row, I will take different approaches to keep as much data as possible and in its original state.\n",
    "\n",
    "---"
   ]
  },
  {
   "cell_type": "code",
   "execution_count": 12,
   "metadata": {
    "ExecuteTime": {
     "end_time": "2021-08-05T19:51:23.720456Z",
     "start_time": "2021-08-05T19:51:23.659456Z"
    },
    "scrolled": false
   },
   "outputs": [
    {
     "data": {
      "text/plain": [
       "['neighborhood_overview',\n",
       " 'host_about',\n",
       " 'host_response_time',\n",
       " 'host_response_rate',\n",
       " 'host_acceptance_rate',\n",
       " 'neighbourhood',\n",
       " 'neighbourhood_group_cleansed',\n",
       " 'bathrooms',\n",
       " 'calendar_updated',\n",
       " 'first_review',\n",
       " 'last_review',\n",
       " 'review_scores_accuracy',\n",
       " 'review_scores_cleanliness',\n",
       " 'review_scores_checkin',\n",
       " 'review_scores_communication',\n",
       " 'review_scores_location',\n",
       " 'review_scores_value',\n",
       " 'license',\n",
       " 'reviews_per_month']"
      ]
     },
     "execution_count": 12,
     "metadata": {},
     "output_type": "execute_result"
    }
   ],
   "source": [
    "# Dropping features with high percentages (25%+) of missing values\n",
    "\n",
    "drop_na_cols = []\n",
    "for col in data.columns:\n",
    "    if ((data[col].isna().sum()) / len(data[col])) > .25 and col != 'review_scores_rating':\n",
    "        drop_na_cols.append(col)\n",
    "\n",
    "drop_na_cols"
   ]
  },
  {
   "cell_type": "code",
   "execution_count": 13,
   "metadata": {
    "ExecuteTime": {
     "end_time": "2021-08-05T19:51:23.735455Z",
     "start_time": "2021-08-05T19:51:23.723455Z"
    },
    "scrolled": false
   },
   "outputs": [
    {
     "data": {
      "text/plain": [
       "['neighborhood_overview',\n",
       " 'host_about',\n",
       " 'host_response_time',\n",
       " 'host_response_rate',\n",
       " 'host_acceptance_rate',\n",
       " 'neighbourhood',\n",
       " 'neighbourhood_group_cleansed',\n",
       " 'bathrooms',\n",
       " 'calendar_updated',\n",
       " 'first_review',\n",
       " 'last_review',\n",
       " 'review_scores_accuracy',\n",
       " 'review_scores_cleanliness',\n",
       " 'review_scores_checkin',\n",
       " 'review_scores_communication',\n",
       " 'review_scores_location',\n",
       " 'review_scores_value',\n",
       " 'license',\n",
       " 'reviews_per_month',\n",
       " 'id',\n",
       " 'host_id',\n",
       " 'name',\n",
       " 'description',\n",
       " 'host_name',\n",
       " 'host_location',\n",
       " 'property_type',\n",
       " 'listing_url',\n",
       " 'scrape_id',\n",
       " 'last_scraped',\n",
       " 'picture_url',\n",
       " 'host_url',\n",
       " 'host_thumbnail_url',\n",
       " 'host_picture_url',\n",
       " 'calendar_last_scraped']"
      ]
     },
     "execution_count": 13,
     "metadata": {},
     "output_type": "execute_result"
    }
   ],
   "source": [
    "## Appending previous list of columns to drop (metadata, etc.)\n",
    "\n",
    "for col in drop:\n",
    "    if col not in drop_na_cols:\n",
    "        drop_na_cols.append(col)\n",
    "\n",
    "drop_na_cols"
   ]
  },
  {
   "cell_type": "code",
   "execution_count": 14,
   "metadata": {
    "ExecuteTime": {
     "end_time": "2021-08-05T19:51:23.812458Z",
     "start_time": "2021-08-05T19:51:23.737455Z"
    },
    "collapsed": true
   },
   "outputs": [
    {
     "data": {
      "text/html": [
       "<div>\n",
       "<style scoped>\n",
       "    .dataframe tbody tr th:only-of-type {\n",
       "        vertical-align: middle;\n",
       "    }\n",
       "\n",
       "    .dataframe tbody tr th {\n",
       "        vertical-align: top;\n",
       "    }\n",
       "\n",
       "    .dataframe thead th {\n",
       "        text-align: right;\n",
       "    }\n",
       "</style>\n",
       "<table border=\"1\" class=\"dataframe\">\n",
       "  <thead>\n",
       "    <tr style=\"text-align: right;\">\n",
       "      <th></th>\n",
       "      <th>host_since</th>\n",
       "      <th>host_is_superhost</th>\n",
       "      <th>host_neighbourhood</th>\n",
       "      <th>host_listings_count</th>\n",
       "      <th>host_total_listings_count</th>\n",
       "      <th>host_verifications</th>\n",
       "      <th>host_has_profile_pic</th>\n",
       "      <th>host_identity_verified</th>\n",
       "      <th>neighbourhood_cleansed</th>\n",
       "      <th>latitude</th>\n",
       "      <th>longitude</th>\n",
       "      <th>room_type</th>\n",
       "      <th>accommodates</th>\n",
       "      <th>bathrooms_text</th>\n",
       "      <th>bedrooms</th>\n",
       "      <th>beds</th>\n",
       "      <th>amenities</th>\n",
       "      <th>price</th>\n",
       "      <th>minimum_nights</th>\n",
       "      <th>maximum_nights</th>\n",
       "      <th>minimum_minimum_nights</th>\n",
       "      <th>maximum_minimum_nights</th>\n",
       "      <th>minimum_maximum_nights</th>\n",
       "      <th>maximum_maximum_nights</th>\n",
       "      <th>minimum_nights_avg_ntm</th>\n",
       "      <th>maximum_nights_avg_ntm</th>\n",
       "      <th>has_availability</th>\n",
       "      <th>availability_30</th>\n",
       "      <th>availability_60</th>\n",
       "      <th>availability_90</th>\n",
       "      <th>availability_365</th>\n",
       "      <th>number_of_reviews</th>\n",
       "      <th>number_of_reviews_ltm</th>\n",
       "      <th>number_of_reviews_l30d</th>\n",
       "      <th>review_scores_rating</th>\n",
       "      <th>instant_bookable</th>\n",
       "      <th>calculated_host_listings_count</th>\n",
       "      <th>calculated_host_listings_count_entire_homes</th>\n",
       "      <th>calculated_host_listings_count_private_rooms</th>\n",
       "      <th>calculated_host_listings_count_shared_rooms</th>\n",
       "    </tr>\n",
       "  </thead>\n",
       "  <tbody>\n",
       "    <tr>\n",
       "      <th>0</th>\n",
       "      <td>2008-11-26</td>\n",
       "      <td>f</td>\n",
       "      <td>Anacostia</td>\n",
       "      <td>2.00</td>\n",
       "      <td>2.00</td>\n",
       "      <td>['email', 'phone', 'reviews', 'jumio', 'offlin...</td>\n",
       "      <td>t</td>\n",
       "      <td>t</td>\n",
       "      <td>Historic Anacostia</td>\n",
       "      <td>38.86</td>\n",
       "      <td>-76.99</td>\n",
       "      <td>Private room</td>\n",
       "      <td>1</td>\n",
       "      <td>1 private bath</td>\n",
       "      <td>1.00</td>\n",
       "      <td>1.00</td>\n",
       "      <td>[\"First aid kit\", \"Long term stays allowed\", \"...</td>\n",
       "      <td>$55.00</td>\n",
       "      <td>2</td>\n",
       "      <td>365</td>\n",
       "      <td>2</td>\n",
       "      <td>2</td>\n",
       "      <td>365</td>\n",
       "      <td>365</td>\n",
       "      <td>2.00</td>\n",
       "      <td>365.00</td>\n",
       "      <td>t</td>\n",
       "      <td>1</td>\n",
       "      <td>31</td>\n",
       "      <td>61</td>\n",
       "      <td>336</td>\n",
       "      <td>75</td>\n",
       "      <td>3</td>\n",
       "      <td>0</td>\n",
       "      <td>4.59</td>\n",
       "      <td>f</td>\n",
       "      <td>2</td>\n",
       "      <td>0</td>\n",
       "      <td>2</td>\n",
       "      <td>0</td>\n",
       "    </tr>\n",
       "    <tr>\n",
       "      <th>1</th>\n",
       "      <td>2008-12-12</td>\n",
       "      <td>f</td>\n",
       "      <td>Eckington</td>\n",
       "      <td>0.00</td>\n",
       "      <td>0.00</td>\n",
       "      <td>['email', 'phone', 'reviews', 'kba']</td>\n",
       "      <td>t</td>\n",
       "      <td>t</td>\n",
       "      <td>Edgewood, Bloomingdale, Truxton Circle, Eckington</td>\n",
       "      <td>38.91</td>\n",
       "      <td>-77.00</td>\n",
       "      <td>Private room</td>\n",
       "      <td>2</td>\n",
       "      <td>1.5 shared baths</td>\n",
       "      <td>1.00</td>\n",
       "      <td>1.00</td>\n",
       "      <td>[\"Cooking basics\", \"First aid kit\", \"Dedicated...</td>\n",
       "      <td>$70.00</td>\n",
       "      <td>2</td>\n",
       "      <td>1125</td>\n",
       "      <td>2</td>\n",
       "      <td>2</td>\n",
       "      <td>1125</td>\n",
       "      <td>1125</td>\n",
       "      <td>2.00</td>\n",
       "      <td>1,125.00</td>\n",
       "      <td>t</td>\n",
       "      <td>9</td>\n",
       "      <td>39</td>\n",
       "      <td>69</td>\n",
       "      <td>344</td>\n",
       "      <td>429</td>\n",
       "      <td>0</td>\n",
       "      <td>0</td>\n",
       "      <td>4.82</td>\n",
       "      <td>f</td>\n",
       "      <td>2</td>\n",
       "      <td>0</td>\n",
       "      <td>2</td>\n",
       "      <td>0</td>\n",
       "    </tr>\n",
       "    <tr>\n",
       "      <th>2</th>\n",
       "      <td>2008-12-30</td>\n",
       "      <td>f</td>\n",
       "      <td>Eastland Gardens</td>\n",
       "      <td>3.00</td>\n",
       "      <td>3.00</td>\n",
       "      <td>['email', 'phone', 'facebook', 'reviews', 'jum...</td>\n",
       "      <td>t</td>\n",
       "      <td>t</td>\n",
       "      <td>Eastland Gardens, Kenilworth</td>\n",
       "      <td>38.91</td>\n",
       "      <td>-76.94</td>\n",
       "      <td>Private room</td>\n",
       "      <td>4</td>\n",
       "      <td>1 shared bath</td>\n",
       "      <td>1.00</td>\n",
       "      <td>1.00</td>\n",
       "      <td>[\"Cooking basics\", \"First aid kit\", \"Keypad\", ...</td>\n",
       "      <td>$54.00</td>\n",
       "      <td>30</td>\n",
       "      <td>180</td>\n",
       "      <td>30</td>\n",
       "      <td>30</td>\n",
       "      <td>180</td>\n",
       "      <td>180</td>\n",
       "      <td>30.00</td>\n",
       "      <td>180.00</td>\n",
       "      <td>t</td>\n",
       "      <td>29</td>\n",
       "      <td>59</td>\n",
       "      <td>89</td>\n",
       "      <td>179</td>\n",
       "      <td>102</td>\n",
       "      <td>0</td>\n",
       "      <td>0</td>\n",
       "      <td>4.66</td>\n",
       "      <td>f</td>\n",
       "      <td>1</td>\n",
       "      <td>0</td>\n",
       "      <td>1</td>\n",
       "      <td>0</td>\n",
       "    </tr>\n",
       "    <tr>\n",
       "      <th>3</th>\n",
       "      <td>2009-01-26</td>\n",
       "      <td>t</td>\n",
       "      <td>Ivy City</td>\n",
       "      <td>5.00</td>\n",
       "      <td>5.00</td>\n",
       "      <td>['email', 'phone', 'reviews', 'kba']</td>\n",
       "      <td>t</td>\n",
       "      <td>t</td>\n",
       "      <td>Ivy City, Arboretum, Trinidad, Carver Langston</td>\n",
       "      <td>38.91</td>\n",
       "      <td>-76.99</td>\n",
       "      <td>Private room</td>\n",
       "      <td>1</td>\n",
       "      <td>3 baths</td>\n",
       "      <td>1.00</td>\n",
       "      <td>1.00</td>\n",
       "      <td>[\"Cable TV\", \"TV with standard cable\", \"Kitche...</td>\n",
       "      <td>$99.00</td>\n",
       "      <td>2</td>\n",
       "      <td>365</td>\n",
       "      <td>2</td>\n",
       "      <td>2</td>\n",
       "      <td>365</td>\n",
       "      <td>365</td>\n",
       "      <td>2.00</td>\n",
       "      <td>365.00</td>\n",
       "      <td>t</td>\n",
       "      <td>0</td>\n",
       "      <td>0</td>\n",
       "      <td>0</td>\n",
       "      <td>146</td>\n",
       "      <td>31</td>\n",
       "      <td>0</td>\n",
       "      <td>0</td>\n",
       "      <td>4.74</td>\n",
       "      <td>f</td>\n",
       "      <td>3</td>\n",
       "      <td>0</td>\n",
       "      <td>3</td>\n",
       "      <td>0</td>\n",
       "    </tr>\n",
       "    <tr>\n",
       "      <th>4</th>\n",
       "      <td>2009-01-13</td>\n",
       "      <td>f</td>\n",
       "      <td>Adams Morgan</td>\n",
       "      <td>4.00</td>\n",
       "      <td>4.00</td>\n",
       "      <td>['email', 'phone', 'facebook', 'reviews', 'jum...</td>\n",
       "      <td>t</td>\n",
       "      <td>t</td>\n",
       "      <td>Kalorama Heights, Adams Morgan, Lanier Heights</td>\n",
       "      <td>38.92</td>\n",
       "      <td>-77.04</td>\n",
       "      <td>Entire home/apt</td>\n",
       "      <td>3</td>\n",
       "      <td>1 bath</td>\n",
       "      <td>1.00</td>\n",
       "      <td>1.00</td>\n",
       "      <td>[\"Window guards\", \"Cooking basics\", \"First aid...</td>\n",
       "      <td>$86.00</td>\n",
       "      <td>5</td>\n",
       "      <td>150</td>\n",
       "      <td>5</td>\n",
       "      <td>23</td>\n",
       "      <td>150</td>\n",
       "      <td>150</td>\n",
       "      <td>8.80</td>\n",
       "      <td>150.00</td>\n",
       "      <td>t</td>\n",
       "      <td>7</td>\n",
       "      <td>32</td>\n",
       "      <td>62</td>\n",
       "      <td>121</td>\n",
       "      <td>95</td>\n",
       "      <td>0</td>\n",
       "      <td>0</td>\n",
       "      <td>4.54</td>\n",
       "      <td>f</td>\n",
       "      <td>2</td>\n",
       "      <td>1</td>\n",
       "      <td>1</td>\n",
       "      <td>0</td>\n",
       "    </tr>\n",
       "    <tr>\n",
       "      <th>...</th>\n",
       "      <td>...</td>\n",
       "      <td>...</td>\n",
       "      <td>...</td>\n",
       "      <td>...</td>\n",
       "      <td>...</td>\n",
       "      <td>...</td>\n",
       "      <td>...</td>\n",
       "      <td>...</td>\n",
       "      <td>...</td>\n",
       "      <td>...</td>\n",
       "      <td>...</td>\n",
       "      <td>...</td>\n",
       "      <td>...</td>\n",
       "      <td>...</td>\n",
       "      <td>...</td>\n",
       "      <td>...</td>\n",
       "      <td>...</td>\n",
       "      <td>...</td>\n",
       "      <td>...</td>\n",
       "      <td>...</td>\n",
       "      <td>...</td>\n",
       "      <td>...</td>\n",
       "      <td>...</td>\n",
       "      <td>...</td>\n",
       "      <td>...</td>\n",
       "      <td>...</td>\n",
       "      <td>...</td>\n",
       "      <td>...</td>\n",
       "      <td>...</td>\n",
       "      <td>...</td>\n",
       "      <td>...</td>\n",
       "      <td>...</td>\n",
       "      <td>...</td>\n",
       "      <td>...</td>\n",
       "      <td>...</td>\n",
       "      <td>...</td>\n",
       "      <td>...</td>\n",
       "      <td>...</td>\n",
       "      <td>...</td>\n",
       "      <td>...</td>\n",
       "    </tr>\n",
       "    <tr>\n",
       "      <th>8028</th>\n",
       "      <td>2020-08-03</td>\n",
       "      <td>f</td>\n",
       "      <td>Southeast Washington</td>\n",
       "      <td>0.00</td>\n",
       "      <td>0.00</td>\n",
       "      <td>['email', 'phone']</td>\n",
       "      <td>t</td>\n",
       "      <td>f</td>\n",
       "      <td>Congress Heights, Bellevue, Washington Highlands</td>\n",
       "      <td>38.83</td>\n",
       "      <td>-77.00</td>\n",
       "      <td>Entire home/apt</td>\n",
       "      <td>8</td>\n",
       "      <td>1 bath</td>\n",
       "      <td>3.00</td>\n",
       "      <td>3.00</td>\n",
       "      <td>[\"First aid kit\", \"Dedicated workspace\", \"Smok...</td>\n",
       "      <td>$400.00</td>\n",
       "      <td>2</td>\n",
       "      <td>2</td>\n",
       "      <td>2</td>\n",
       "      <td>2</td>\n",
       "      <td>1125</td>\n",
       "      <td>1125</td>\n",
       "      <td>2.00</td>\n",
       "      <td>1,125.00</td>\n",
       "      <td>t</td>\n",
       "      <td>17</td>\n",
       "      <td>43</td>\n",
       "      <td>73</td>\n",
       "      <td>348</td>\n",
       "      <td>0</td>\n",
       "      <td>0</td>\n",
       "      <td>0</td>\n",
       "      <td>nan</td>\n",
       "      <td>t</td>\n",
       "      <td>1</td>\n",
       "      <td>1</td>\n",
       "      <td>0</td>\n",
       "      <td>0</td>\n",
       "    </tr>\n",
       "    <tr>\n",
       "      <th>8029</th>\n",
       "      <td>2020-07-29</td>\n",
       "      <td>f</td>\n",
       "      <td>East Forest</td>\n",
       "      <td>125.00</td>\n",
       "      <td>125.00</td>\n",
       "      <td>['email', 'phone']</td>\n",
       "      <td>t</td>\n",
       "      <td>t</td>\n",
       "      <td>Howard University, Le Droit Park, Cardozo/Shaw</td>\n",
       "      <td>38.92</td>\n",
       "      <td>-77.02</td>\n",
       "      <td>Entire home/apt</td>\n",
       "      <td>5</td>\n",
       "      <td>2 baths</td>\n",
       "      <td>2.00</td>\n",
       "      <td>nan</td>\n",
       "      <td>[\"Cooking basics\", \"Lockbox\", \"Long term stays...</td>\n",
       "      <td>$198.00</td>\n",
       "      <td>90</td>\n",
       "      <td>365</td>\n",
       "      <td>90</td>\n",
       "      <td>90</td>\n",
       "      <td>365</td>\n",
       "      <td>365</td>\n",
       "      <td>90.00</td>\n",
       "      <td>365.00</td>\n",
       "      <td>t</td>\n",
       "      <td>30</td>\n",
       "      <td>60</td>\n",
       "      <td>90</td>\n",
       "      <td>365</td>\n",
       "      <td>0</td>\n",
       "      <td>0</td>\n",
       "      <td>0</td>\n",
       "      <td>nan</td>\n",
       "      <td>t</td>\n",
       "      <td>215</td>\n",
       "      <td>215</td>\n",
       "      <td>0</td>\n",
       "      <td>0</td>\n",
       "    </tr>\n",
       "    <tr>\n",
       "      <th>8030</th>\n",
       "      <td>2016-04-27</td>\n",
       "      <td>f</td>\n",
       "      <td>Near Northeast/H Street Corridor</td>\n",
       "      <td>32.00</td>\n",
       "      <td>32.00</td>\n",
       "      <td>['email', 'phone', 'reviews', 'jumio', 'offlin...</td>\n",
       "      <td>t</td>\n",
       "      <td>t</td>\n",
       "      <td>Kalorama Heights, Adams Morgan, Lanier Heights</td>\n",
       "      <td>38.92</td>\n",
       "      <td>-77.04</td>\n",
       "      <td>Entire home/apt</td>\n",
       "      <td>2</td>\n",
       "      <td>1 bath</td>\n",
       "      <td>1.00</td>\n",
       "      <td>2.00</td>\n",
       "      <td>[\"Cooking basics\", \"Shampoo\", \"Dedicated works...</td>\n",
       "      <td>$70.00</td>\n",
       "      <td>30</td>\n",
       "      <td>1125</td>\n",
       "      <td>30</td>\n",
       "      <td>30</td>\n",
       "      <td>1125</td>\n",
       "      <td>1125</td>\n",
       "      <td>30.00</td>\n",
       "      <td>1,125.00</td>\n",
       "      <td>t</td>\n",
       "      <td>30</td>\n",
       "      <td>60</td>\n",
       "      <td>90</td>\n",
       "      <td>364</td>\n",
       "      <td>0</td>\n",
       "      <td>0</td>\n",
       "      <td>0</td>\n",
       "      <td>nan</td>\n",
       "      <td>f</td>\n",
       "      <td>30</td>\n",
       "      <td>30</td>\n",
       "      <td>0</td>\n",
       "      <td>0</td>\n",
       "    </tr>\n",
       "    <tr>\n",
       "      <th>8031</th>\n",
       "      <td>2020-09-23</td>\n",
       "      <td>f</td>\n",
       "      <td>Cherry Creek</td>\n",
       "      <td>2,232.00</td>\n",
       "      <td>2,232.00</td>\n",
       "      <td>['email', 'phone']</td>\n",
       "      <td>t</td>\n",
       "      <td>t</td>\n",
       "      <td>Shaw, Logan Circle</td>\n",
       "      <td>38.91</td>\n",
       "      <td>-77.03</td>\n",
       "      <td>Entire home/apt</td>\n",
       "      <td>3</td>\n",
       "      <td>1 bath</td>\n",
       "      <td>1.00</td>\n",
       "      <td>nan</td>\n",
       "      <td>[\"Cooking basics\", \"Elevator\", \"Lockbox\", \"Lon...</td>\n",
       "      <td>$223.00</td>\n",
       "      <td>91</td>\n",
       "      <td>365</td>\n",
       "      <td>91</td>\n",
       "      <td>91</td>\n",
       "      <td>365</td>\n",
       "      <td>365</td>\n",
       "      <td>91.00</td>\n",
       "      <td>365.00</td>\n",
       "      <td>t</td>\n",
       "      <td>30</td>\n",
       "      <td>60</td>\n",
       "      <td>90</td>\n",
       "      <td>365</td>\n",
       "      <td>0</td>\n",
       "      <td>0</td>\n",
       "      <td>0</td>\n",
       "      <td>nan</td>\n",
       "      <td>t</td>\n",
       "      <td>50</td>\n",
       "      <td>50</td>\n",
       "      <td>0</td>\n",
       "      <td>0</td>\n",
       "    </tr>\n",
       "    <tr>\n",
       "      <th>8032</th>\n",
       "      <td>2020-09-23</td>\n",
       "      <td>f</td>\n",
       "      <td>Cherry Creek</td>\n",
       "      <td>2,232.00</td>\n",
       "      <td>2,232.00</td>\n",
       "      <td>['email', 'phone']</td>\n",
       "      <td>t</td>\n",
       "      <td>t</td>\n",
       "      <td>Columbia Heights, Mt. Pleasant, Pleasant Plain...</td>\n",
       "      <td>38.92</td>\n",
       "      <td>-77.03</td>\n",
       "      <td>Entire home/apt</td>\n",
       "      <td>3</td>\n",
       "      <td>1 bath</td>\n",
       "      <td>1.00</td>\n",
       "      <td>nan</td>\n",
       "      <td>[\"Cooking basics\", \"Elevator\", \"Lockbox\", \"Lon...</td>\n",
       "      <td>$226.00</td>\n",
       "      <td>91</td>\n",
       "      <td>365</td>\n",
       "      <td>91</td>\n",
       "      <td>91</td>\n",
       "      <td>365</td>\n",
       "      <td>365</td>\n",
       "      <td>91.00</td>\n",
       "      <td>365.00</td>\n",
       "      <td>t</td>\n",
       "      <td>23</td>\n",
       "      <td>53</td>\n",
       "      <td>83</td>\n",
       "      <td>358</td>\n",
       "      <td>0</td>\n",
       "      <td>0</td>\n",
       "      <td>0</td>\n",
       "      <td>nan</td>\n",
       "      <td>t</td>\n",
       "      <td>50</td>\n",
       "      <td>50</td>\n",
       "      <td>0</td>\n",
       "      <td>0</td>\n",
       "    </tr>\n",
       "  </tbody>\n",
       "</table>\n",
       "<p>8033 rows × 40 columns</p>\n",
       "</div>"
      ],
      "text/plain": [
       "      host_since host_is_superhost                host_neighbourhood  \\\n",
       "0     2008-11-26                 f                         Anacostia   \n",
       "1     2008-12-12                 f                         Eckington   \n",
       "2     2008-12-30                 f                  Eastland Gardens   \n",
       "3     2009-01-26                 t                          Ivy City   \n",
       "4     2009-01-13                 f                      Adams Morgan   \n",
       "...          ...               ...                               ...   \n",
       "8028  2020-08-03                 f              Southeast Washington   \n",
       "8029  2020-07-29                 f                       East Forest   \n",
       "8030  2016-04-27                 f  Near Northeast/H Street Corridor   \n",
       "8031  2020-09-23                 f                      Cherry Creek   \n",
       "8032  2020-09-23                 f                      Cherry Creek   \n",
       "\n",
       "      host_listings_count  host_total_listings_count  \\\n",
       "0                    2.00                       2.00   \n",
       "1                    0.00                       0.00   \n",
       "2                    3.00                       3.00   \n",
       "3                    5.00                       5.00   \n",
       "4                    4.00                       4.00   \n",
       "...                   ...                        ...   \n",
       "8028                 0.00                       0.00   \n",
       "8029               125.00                     125.00   \n",
       "8030                32.00                      32.00   \n",
       "8031             2,232.00                   2,232.00   \n",
       "8032             2,232.00                   2,232.00   \n",
       "\n",
       "                                     host_verifications host_has_profile_pic  \\\n",
       "0     ['email', 'phone', 'reviews', 'jumio', 'offlin...                    t   \n",
       "1                  ['email', 'phone', 'reviews', 'kba']                    t   \n",
       "2     ['email', 'phone', 'facebook', 'reviews', 'jum...                    t   \n",
       "3                  ['email', 'phone', 'reviews', 'kba']                    t   \n",
       "4     ['email', 'phone', 'facebook', 'reviews', 'jum...                    t   \n",
       "...                                                 ...                  ...   \n",
       "8028                                 ['email', 'phone']                    t   \n",
       "8029                                 ['email', 'phone']                    t   \n",
       "8030  ['email', 'phone', 'reviews', 'jumio', 'offlin...                    t   \n",
       "8031                                 ['email', 'phone']                    t   \n",
       "8032                                 ['email', 'phone']                    t   \n",
       "\n",
       "     host_identity_verified  \\\n",
       "0                         t   \n",
       "1                         t   \n",
       "2                         t   \n",
       "3                         t   \n",
       "4                         t   \n",
       "...                     ...   \n",
       "8028                      f   \n",
       "8029                      t   \n",
       "8030                      t   \n",
       "8031                      t   \n",
       "8032                      t   \n",
       "\n",
       "                                 neighbourhood_cleansed  latitude  longitude  \\\n",
       "0                                    Historic Anacostia     38.86     -76.99   \n",
       "1     Edgewood, Bloomingdale, Truxton Circle, Eckington     38.91     -77.00   \n",
       "2                          Eastland Gardens, Kenilworth     38.91     -76.94   \n",
       "3        Ivy City, Arboretum, Trinidad, Carver Langston     38.91     -76.99   \n",
       "4        Kalorama Heights, Adams Morgan, Lanier Heights     38.92     -77.04   \n",
       "...                                                 ...       ...        ...   \n",
       "8028   Congress Heights, Bellevue, Washington Highlands     38.83     -77.00   \n",
       "8029     Howard University, Le Droit Park, Cardozo/Shaw     38.92     -77.02   \n",
       "8030     Kalorama Heights, Adams Morgan, Lanier Heights     38.92     -77.04   \n",
       "8031                                 Shaw, Logan Circle     38.91     -77.03   \n",
       "8032  Columbia Heights, Mt. Pleasant, Pleasant Plain...     38.92     -77.03   \n",
       "\n",
       "            room_type  accommodates    bathrooms_text  bedrooms  beds  \\\n",
       "0        Private room             1    1 private bath      1.00  1.00   \n",
       "1        Private room             2  1.5 shared baths      1.00  1.00   \n",
       "2        Private room             4     1 shared bath      1.00  1.00   \n",
       "3        Private room             1           3 baths      1.00  1.00   \n",
       "4     Entire home/apt             3            1 bath      1.00  1.00   \n",
       "...               ...           ...               ...       ...   ...   \n",
       "8028  Entire home/apt             8            1 bath      3.00  3.00   \n",
       "8029  Entire home/apt             5           2 baths      2.00   nan   \n",
       "8030  Entire home/apt             2            1 bath      1.00  2.00   \n",
       "8031  Entire home/apt             3            1 bath      1.00   nan   \n",
       "8032  Entire home/apt             3            1 bath      1.00   nan   \n",
       "\n",
       "                                              amenities    price  \\\n",
       "0     [\"First aid kit\", \"Long term stays allowed\", \"...   $55.00   \n",
       "1     [\"Cooking basics\", \"First aid kit\", \"Dedicated...   $70.00   \n",
       "2     [\"Cooking basics\", \"First aid kit\", \"Keypad\", ...   $54.00   \n",
       "3     [\"Cable TV\", \"TV with standard cable\", \"Kitche...   $99.00   \n",
       "4     [\"Window guards\", \"Cooking basics\", \"First aid...   $86.00   \n",
       "...                                                 ...      ...   \n",
       "8028  [\"First aid kit\", \"Dedicated workspace\", \"Smok...  $400.00   \n",
       "8029  [\"Cooking basics\", \"Lockbox\", \"Long term stays...  $198.00   \n",
       "8030  [\"Cooking basics\", \"Shampoo\", \"Dedicated works...   $70.00   \n",
       "8031  [\"Cooking basics\", \"Elevator\", \"Lockbox\", \"Lon...  $223.00   \n",
       "8032  [\"Cooking basics\", \"Elevator\", \"Lockbox\", \"Lon...  $226.00   \n",
       "\n",
       "      minimum_nights  maximum_nights  minimum_minimum_nights  \\\n",
       "0                  2             365                       2   \n",
       "1                  2            1125                       2   \n",
       "2                 30             180                      30   \n",
       "3                  2             365                       2   \n",
       "4                  5             150                       5   \n",
       "...              ...             ...                     ...   \n",
       "8028               2               2                       2   \n",
       "8029              90             365                      90   \n",
       "8030              30            1125                      30   \n",
       "8031              91             365                      91   \n",
       "8032              91             365                      91   \n",
       "\n",
       "      maximum_minimum_nights  minimum_maximum_nights  maximum_maximum_nights  \\\n",
       "0                          2                     365                     365   \n",
       "1                          2                    1125                    1125   \n",
       "2                         30                     180                     180   \n",
       "3                          2                     365                     365   \n",
       "4                         23                     150                     150   \n",
       "...                      ...                     ...                     ...   \n",
       "8028                       2                    1125                    1125   \n",
       "8029                      90                     365                     365   \n",
       "8030                      30                    1125                    1125   \n",
       "8031                      91                     365                     365   \n",
       "8032                      91                     365                     365   \n",
       "\n",
       "      minimum_nights_avg_ntm  maximum_nights_avg_ntm has_availability  \\\n",
       "0                       2.00                  365.00                t   \n",
       "1                       2.00                1,125.00                t   \n",
       "2                      30.00                  180.00                t   \n",
       "3                       2.00                  365.00                t   \n",
       "4                       8.80                  150.00                t   \n",
       "...                      ...                     ...              ...   \n",
       "8028                    2.00                1,125.00                t   \n",
       "8029                   90.00                  365.00                t   \n",
       "8030                   30.00                1,125.00                t   \n",
       "8031                   91.00                  365.00                t   \n",
       "8032                   91.00                  365.00                t   \n",
       "\n",
       "      availability_30  availability_60  availability_90  availability_365  \\\n",
       "0                   1               31               61               336   \n",
       "1                   9               39               69               344   \n",
       "2                  29               59               89               179   \n",
       "3                   0                0                0               146   \n",
       "4                   7               32               62               121   \n",
       "...               ...              ...              ...               ...   \n",
       "8028               17               43               73               348   \n",
       "8029               30               60               90               365   \n",
       "8030               30               60               90               364   \n",
       "8031               30               60               90               365   \n",
       "8032               23               53               83               358   \n",
       "\n",
       "      number_of_reviews  number_of_reviews_ltm  number_of_reviews_l30d  \\\n",
       "0                    75                      3                       0   \n",
       "1                   429                      0                       0   \n",
       "2                   102                      0                       0   \n",
       "3                    31                      0                       0   \n",
       "4                    95                      0                       0   \n",
       "...                 ...                    ...                     ...   \n",
       "8028                  0                      0                       0   \n",
       "8029                  0                      0                       0   \n",
       "8030                  0                      0                       0   \n",
       "8031                  0                      0                       0   \n",
       "8032                  0                      0                       0   \n",
       "\n",
       "      review_scores_rating instant_bookable  calculated_host_listings_count  \\\n",
       "0                     4.59                f                               2   \n",
       "1                     4.82                f                               2   \n",
       "2                     4.66                f                               1   \n",
       "3                     4.74                f                               3   \n",
       "4                     4.54                f                               2   \n",
       "...                    ...              ...                             ...   \n",
       "8028                   nan                t                               1   \n",
       "8029                   nan                t                             215   \n",
       "8030                   nan                f                              30   \n",
       "8031                   nan                t                              50   \n",
       "8032                   nan                t                              50   \n",
       "\n",
       "      calculated_host_listings_count_entire_homes  \\\n",
       "0                                               0   \n",
       "1                                               0   \n",
       "2                                               0   \n",
       "3                                               0   \n",
       "4                                               1   \n",
       "...                                           ...   \n",
       "8028                                            1   \n",
       "8029                                          215   \n",
       "8030                                           30   \n",
       "8031                                           50   \n",
       "8032                                           50   \n",
       "\n",
       "      calculated_host_listings_count_private_rooms  \\\n",
       "0                                                2   \n",
       "1                                                2   \n",
       "2                                                1   \n",
       "3                                                3   \n",
       "4                                                1   \n",
       "...                                            ...   \n",
       "8028                                             0   \n",
       "8029                                             0   \n",
       "8030                                             0   \n",
       "8031                                             0   \n",
       "8032                                             0   \n",
       "\n",
       "      calculated_host_listings_count_shared_rooms  \n",
       "0                                               0  \n",
       "1                                               0  \n",
       "2                                               0  \n",
       "3                                               0  \n",
       "4                                               0  \n",
       "...                                           ...  \n",
       "8028                                            0  \n",
       "8029                                            0  \n",
       "8030                                            0  \n",
       "8031                                            0  \n",
       "8032                                            0  \n",
       "\n",
       "[8033 rows x 40 columns]"
      ]
     },
     "execution_count": 14,
     "metadata": {},
     "output_type": "execute_result"
    }
   ],
   "source": [
    "## Creating new dataframe that does not include the features to drop\n",
    "df = data.drop(columns= drop_na_cols).copy()\n",
    "df"
   ]
  },
  {
   "cell_type": "code",
   "execution_count": 15,
   "metadata": {
    "ExecuteTime": {
     "end_time": "2021-08-05T19:51:23.987457Z",
     "start_time": "2021-08-05T19:51:23.815458Z"
    },
    "scrolled": false
   },
   "outputs": [
    {
     "data": {
      "text/html": [
       "<div>\n",
       "<style scoped>\n",
       "    .dataframe tbody tr th:only-of-type {\n",
       "        vertical-align: middle;\n",
       "    }\n",
       "\n",
       "    .dataframe tbody tr th {\n",
       "        vertical-align: top;\n",
       "    }\n",
       "\n",
       "    .dataframe thead th {\n",
       "        text-align: right;\n",
       "    }\n",
       "</style>\n",
       "<table border=\"1\" class=\"dataframe\">\n",
       "  <thead>\n",
       "    <tr style=\"text-align: right;\">\n",
       "      <th></th>\n",
       "      <th>null_sum</th>\n",
       "      <th>null_pct</th>\n",
       "      <th>datatypes</th>\n",
       "      <th>num_unique</th>\n",
       "      <th>count</th>\n",
       "      <th>mean</th>\n",
       "      <th>std</th>\n",
       "      <th>min</th>\n",
       "      <th>25%</th>\n",
       "      <th>50%</th>\n",
       "      <th>75%</th>\n",
       "      <th>max</th>\n",
       "    </tr>\n",
       "  </thead>\n",
       "  <tbody>\n",
       "    <tr>\n",
       "      <th>host_since</th>\n",
       "      <td>136</td>\n",
       "      <td>0.02</td>\n",
       "      <td>object</td>\n",
       "      <td>2415</td>\n",
       "      <td>nan</td>\n",
       "      <td>nan</td>\n",
       "      <td>nan</td>\n",
       "      <td>nan</td>\n",
       "      <td>nan</td>\n",
       "      <td>nan</td>\n",
       "      <td>nan</td>\n",
       "      <td>nan</td>\n",
       "    </tr>\n",
       "    <tr>\n",
       "      <th>host_is_superhost</th>\n",
       "      <td>136</td>\n",
       "      <td>0.02</td>\n",
       "      <td>object</td>\n",
       "      <td>2</td>\n",
       "      <td>nan</td>\n",
       "      <td>nan</td>\n",
       "      <td>nan</td>\n",
       "      <td>nan</td>\n",
       "      <td>nan</td>\n",
       "      <td>nan</td>\n",
       "      <td>nan</td>\n",
       "      <td>nan</td>\n",
       "    </tr>\n",
       "    <tr>\n",
       "      <th>host_neighbourhood</th>\n",
       "      <td>741</td>\n",
       "      <td>0.09</td>\n",
       "      <td>object</td>\n",
       "      <td>183</td>\n",
       "      <td>nan</td>\n",
       "      <td>nan</td>\n",
       "      <td>nan</td>\n",
       "      <td>nan</td>\n",
       "      <td>nan</td>\n",
       "      <td>nan</td>\n",
       "      <td>nan</td>\n",
       "      <td>nan</td>\n",
       "    </tr>\n",
       "    <tr>\n",
       "      <th>host_listings_count</th>\n",
       "      <td>136</td>\n",
       "      <td>0.02</td>\n",
       "      <td>float64</td>\n",
       "      <td>57</td>\n",
       "      <td>7,897.00</td>\n",
       "      <td>86.19</td>\n",
       "      <td>334.72</td>\n",
       "      <td>0.00</td>\n",
       "      <td>1.00</td>\n",
       "      <td>2.00</td>\n",
       "      <td>6.00</td>\n",
       "      <td>3,924.00</td>\n",
       "    </tr>\n",
       "    <tr>\n",
       "      <th>host_total_listings_count</th>\n",
       "      <td>136</td>\n",
       "      <td>0.02</td>\n",
       "      <td>float64</td>\n",
       "      <td>57</td>\n",
       "      <td>7,897.00</td>\n",
       "      <td>86.19</td>\n",
       "      <td>334.72</td>\n",
       "      <td>0.00</td>\n",
       "      <td>1.00</td>\n",
       "      <td>2.00</td>\n",
       "      <td>6.00</td>\n",
       "      <td>3,924.00</td>\n",
       "    </tr>\n",
       "    <tr>\n",
       "      <th>host_verifications</th>\n",
       "      <td>0</td>\n",
       "      <td>0.00</td>\n",
       "      <td>object</td>\n",
       "      <td>297</td>\n",
       "      <td>nan</td>\n",
       "      <td>nan</td>\n",
       "      <td>nan</td>\n",
       "      <td>nan</td>\n",
       "      <td>nan</td>\n",
       "      <td>nan</td>\n",
       "      <td>nan</td>\n",
       "      <td>nan</td>\n",
       "    </tr>\n",
       "    <tr>\n",
       "      <th>host_has_profile_pic</th>\n",
       "      <td>136</td>\n",
       "      <td>0.02</td>\n",
       "      <td>object</td>\n",
       "      <td>2</td>\n",
       "      <td>nan</td>\n",
       "      <td>nan</td>\n",
       "      <td>nan</td>\n",
       "      <td>nan</td>\n",
       "      <td>nan</td>\n",
       "      <td>nan</td>\n",
       "      <td>nan</td>\n",
       "      <td>nan</td>\n",
       "    </tr>\n",
       "    <tr>\n",
       "      <th>host_identity_verified</th>\n",
       "      <td>136</td>\n",
       "      <td>0.02</td>\n",
       "      <td>object</td>\n",
       "      <td>2</td>\n",
       "      <td>nan</td>\n",
       "      <td>nan</td>\n",
       "      <td>nan</td>\n",
       "      <td>nan</td>\n",
       "      <td>nan</td>\n",
       "      <td>nan</td>\n",
       "      <td>nan</td>\n",
       "      <td>nan</td>\n",
       "    </tr>\n",
       "    <tr>\n",
       "      <th>neighbourhood_cleansed</th>\n",
       "      <td>0</td>\n",
       "      <td>0.00</td>\n",
       "      <td>object</td>\n",
       "      <td>39</td>\n",
       "      <td>nan</td>\n",
       "      <td>nan</td>\n",
       "      <td>nan</td>\n",
       "      <td>nan</td>\n",
       "      <td>nan</td>\n",
       "      <td>nan</td>\n",
       "      <td>nan</td>\n",
       "      <td>nan</td>\n",
       "    </tr>\n",
       "    <tr>\n",
       "      <th>latitude</th>\n",
       "      <td>0</td>\n",
       "      <td>0.00</td>\n",
       "      <td>float64</td>\n",
       "      <td>5113</td>\n",
       "      <td>8,033.00</td>\n",
       "      <td>38.91</td>\n",
       "      <td>0.02</td>\n",
       "      <td>38.82</td>\n",
       "      <td>38.90</td>\n",
       "      <td>38.91</td>\n",
       "      <td>38.92</td>\n",
       "      <td>39.00</td>\n",
       "    </tr>\n",
       "    <tr>\n",
       "      <th>longitude</th>\n",
       "      <td>0</td>\n",
       "      <td>0.00</td>\n",
       "      <td>float64</td>\n",
       "      <td>5472</td>\n",
       "      <td>8,033.00</td>\n",
       "      <td>-77.02</td>\n",
       "      <td>0.03</td>\n",
       "      <td>-77.11</td>\n",
       "      <td>-77.04</td>\n",
       "      <td>-77.02</td>\n",
       "      <td>-77.00</td>\n",
       "      <td>-76.91</td>\n",
       "    </tr>\n",
       "    <tr>\n",
       "      <th>room_type</th>\n",
       "      <td>0</td>\n",
       "      <td>0.00</td>\n",
       "      <td>object</td>\n",
       "      <td>4</td>\n",
       "      <td>nan</td>\n",
       "      <td>nan</td>\n",
       "      <td>nan</td>\n",
       "      <td>nan</td>\n",
       "      <td>nan</td>\n",
       "      <td>nan</td>\n",
       "      <td>nan</td>\n",
       "      <td>nan</td>\n",
       "    </tr>\n",
       "    <tr>\n",
       "      <th>accommodates</th>\n",
       "      <td>0</td>\n",
       "      <td>0.00</td>\n",
       "      <td>int64</td>\n",
       "      <td>17</td>\n",
       "      <td>8,033.00</td>\n",
       "      <td>3.53</td>\n",
       "      <td>2.20</td>\n",
       "      <td>0.00</td>\n",
       "      <td>2.00</td>\n",
       "      <td>3.00</td>\n",
       "      <td>4.00</td>\n",
       "      <td>16.00</td>\n",
       "    </tr>\n",
       "    <tr>\n",
       "      <th>bathrooms_text</th>\n",
       "      <td>9</td>\n",
       "      <td>0.00</td>\n",
       "      <td>object</td>\n",
       "      <td>30</td>\n",
       "      <td>nan</td>\n",
       "      <td>nan</td>\n",
       "      <td>nan</td>\n",
       "      <td>nan</td>\n",
       "      <td>nan</td>\n",
       "      <td>nan</td>\n",
       "      <td>nan</td>\n",
       "      <td>nan</td>\n",
       "    </tr>\n",
       "    <tr>\n",
       "      <th>bedrooms</th>\n",
       "      <td>845</td>\n",
       "      <td>0.11</td>\n",
       "      <td>float64</td>\n",
       "      <td>9</td>\n",
       "      <td>7,188.00</td>\n",
       "      <td>1.51</td>\n",
       "      <td>0.90</td>\n",
       "      <td>1.00</td>\n",
       "      <td>1.00</td>\n",
       "      <td>1.00</td>\n",
       "      <td>2.00</td>\n",
       "      <td>9.00</td>\n",
       "    </tr>\n",
       "    <tr>\n",
       "      <th>beds</th>\n",
       "      <td>297</td>\n",
       "      <td>0.04</td>\n",
       "      <td>float64</td>\n",
       "      <td>17</td>\n",
       "      <td>7,736.00</td>\n",
       "      <td>1.85</td>\n",
       "      <td>1.49</td>\n",
       "      <td>0.00</td>\n",
       "      <td>1.00</td>\n",
       "      <td>1.00</td>\n",
       "      <td>2.00</td>\n",
       "      <td>50.00</td>\n",
       "    </tr>\n",
       "    <tr>\n",
       "      <th>amenities</th>\n",
       "      <td>0</td>\n",
       "      <td>0.00</td>\n",
       "      <td>object</td>\n",
       "      <td>6979</td>\n",
       "      <td>nan</td>\n",
       "      <td>nan</td>\n",
       "      <td>nan</td>\n",
       "      <td>nan</td>\n",
       "      <td>nan</td>\n",
       "      <td>nan</td>\n",
       "      <td>nan</td>\n",
       "      <td>nan</td>\n",
       "    </tr>\n",
       "    <tr>\n",
       "      <th>price</th>\n",
       "      <td>0</td>\n",
       "      <td>0.00</td>\n",
       "      <td>object</td>\n",
       "      <td>560</td>\n",
       "      <td>nan</td>\n",
       "      <td>nan</td>\n",
       "      <td>nan</td>\n",
       "      <td>nan</td>\n",
       "      <td>nan</td>\n",
       "      <td>nan</td>\n",
       "      <td>nan</td>\n",
       "      <td>nan</td>\n",
       "    </tr>\n",
       "    <tr>\n",
       "      <th>minimum_nights</th>\n",
       "      <td>0</td>\n",
       "      <td>0.00</td>\n",
       "      <td>int64</td>\n",
       "      <td>60</td>\n",
       "      <td>8,033.00</td>\n",
       "      <td>11.98</td>\n",
       "      <td>31.50</td>\n",
       "      <td>1.00</td>\n",
       "      <td>1.00</td>\n",
       "      <td>2.00</td>\n",
       "      <td>5.00</td>\n",
       "      <td>1,125.00</td>\n",
       "    </tr>\n",
       "    <tr>\n",
       "      <th>maximum_nights</th>\n",
       "      <td>0</td>\n",
       "      <td>0.00</td>\n",
       "      <td>int64</td>\n",
       "      <td>143</td>\n",
       "      <td>8,033.00</td>\n",
       "      <td>14,302.10</td>\n",
       "      <td>1,121,278.81</td>\n",
       "      <td>1.00</td>\n",
       "      <td>30.00</td>\n",
       "      <td>365.00</td>\n",
       "      <td>1,125.00</td>\n",
       "      <td>99,999,999.00</td>\n",
       "    </tr>\n",
       "    <tr>\n",
       "      <th>minimum_minimum_nights</th>\n",
       "      <td>0</td>\n",
       "      <td>0.00</td>\n",
       "      <td>int64</td>\n",
       "      <td>63</td>\n",
       "      <td>8,033.00</td>\n",
       "      <td>12.97</td>\n",
       "      <td>43.26</td>\n",
       "      <td>1.00</td>\n",
       "      <td>1.00</td>\n",
       "      <td>2.00</td>\n",
       "      <td>5.00</td>\n",
       "      <td>1,125.00</td>\n",
       "    </tr>\n",
       "    <tr>\n",
       "      <th>maximum_minimum_nights</th>\n",
       "      <td>0</td>\n",
       "      <td>0.00</td>\n",
       "      <td>int64</td>\n",
       "      <td>64</td>\n",
       "      <td>8,033.00</td>\n",
       "      <td>23.86</td>\n",
       "      <td>96.26</td>\n",
       "      <td>1.00</td>\n",
       "      <td>2.00</td>\n",
       "      <td>2.00</td>\n",
       "      <td>6.00</td>\n",
       "      <td>1,125.00</td>\n",
       "    </tr>\n",
       "    <tr>\n",
       "      <th>minimum_maximum_nights</th>\n",
       "      <td>0</td>\n",
       "      <td>0.00</td>\n",
       "      <td>int64</td>\n",
       "      <td>118</td>\n",
       "      <td>8,033.00</td>\n",
       "      <td>14,462.16</td>\n",
       "      <td>1,121,276.84</td>\n",
       "      <td>1.00</td>\n",
       "      <td>180.00</td>\n",
       "      <td>1,125.00</td>\n",
       "      <td>1,125.00</td>\n",
       "      <td>99,999,999.00</td>\n",
       "    </tr>\n",
       "    <tr>\n",
       "      <th>maximum_maximum_nights</th>\n",
       "      <td>0</td>\n",
       "      <td>0.00</td>\n",
       "      <td>int64</td>\n",
       "      <td>119</td>\n",
       "      <td>8,033.00</td>\n",
       "      <td>10,707,768.12</td>\n",
       "      <td>151,172,585.85</td>\n",
       "      <td>1.00</td>\n",
       "      <td>182.00</td>\n",
       "      <td>1,125.00</td>\n",
       "      <td>1,125.00</td>\n",
       "      <td>2,147,483,647.00</td>\n",
       "    </tr>\n",
       "    <tr>\n",
       "      <th>minimum_nights_avg_ntm</th>\n",
       "      <td>0</td>\n",
       "      <td>0.00</td>\n",
       "      <td>float64</td>\n",
       "      <td>218</td>\n",
       "      <td>8,033.00</td>\n",
       "      <td>23.22</td>\n",
       "      <td>93.90</td>\n",
       "      <td>1.00</td>\n",
       "      <td>1.30</td>\n",
       "      <td>2.00</td>\n",
       "      <td>5.00</td>\n",
       "      <td>1,125.00</td>\n",
       "    </tr>\n",
       "    <tr>\n",
       "      <th>maximum_nights_avg_ntm</th>\n",
       "      <td>0</td>\n",
       "      <td>0.00</td>\n",
       "      <td>float64</td>\n",
       "      <td>171</td>\n",
       "      <td>8,033.00</td>\n",
       "      <td>10,683,184.89</td>\n",
       "      <td>150,825,079.71</td>\n",
       "      <td>1.00</td>\n",
       "      <td>180.00</td>\n",
       "      <td>1,125.00</td>\n",
       "      <td>1,125.00</td>\n",
       "      <td>2,142,546,905.60</td>\n",
       "    </tr>\n",
       "    <tr>\n",
       "      <th>has_availability</th>\n",
       "      <td>0</td>\n",
       "      <td>0.00</td>\n",
       "      <td>object</td>\n",
       "      <td>2</td>\n",
       "      <td>nan</td>\n",
       "      <td>nan</td>\n",
       "      <td>nan</td>\n",
       "      <td>nan</td>\n",
       "      <td>nan</td>\n",
       "      <td>nan</td>\n",
       "      <td>nan</td>\n",
       "      <td>nan</td>\n",
       "    </tr>\n",
       "    <tr>\n",
       "      <th>availability_30</th>\n",
       "      <td>0</td>\n",
       "      <td>0.00</td>\n",
       "      <td>int64</td>\n",
       "      <td>31</td>\n",
       "      <td>8,033.00</td>\n",
       "      <td>9.09</td>\n",
       "      <td>11.35</td>\n",
       "      <td>0.00</td>\n",
       "      <td>0.00</td>\n",
       "      <td>2.00</td>\n",
       "      <td>18.00</td>\n",
       "      <td>30.00</td>\n",
       "    </tr>\n",
       "    <tr>\n",
       "      <th>availability_60</th>\n",
       "      <td>0</td>\n",
       "      <td>0.00</td>\n",
       "      <td>int64</td>\n",
       "      <td>61</td>\n",
       "      <td>8,033.00</td>\n",
       "      <td>22.83</td>\n",
       "      <td>23.11</td>\n",
       "      <td>0.00</td>\n",
       "      <td>0.00</td>\n",
       "      <td>17.00</td>\n",
       "      <td>44.00</td>\n",
       "      <td>60.00</td>\n",
       "    </tr>\n",
       "    <tr>\n",
       "      <th>availability_90</th>\n",
       "      <td>0</td>\n",
       "      <td>0.00</td>\n",
       "      <td>int64</td>\n",
       "      <td>91</td>\n",
       "      <td>8,033.00</td>\n",
       "      <td>38.05</td>\n",
       "      <td>35.40</td>\n",
       "      <td>0.00</td>\n",
       "      <td>0.00</td>\n",
       "      <td>37.00</td>\n",
       "      <td>72.00</td>\n",
       "      <td>90.00</td>\n",
       "    </tr>\n",
       "    <tr>\n",
       "      <th>availability_365</th>\n",
       "      <td>0</td>\n",
       "      <td>0.00</td>\n",
       "      <td>int64</td>\n",
       "      <td>363</td>\n",
       "      <td>8,033.00</td>\n",
       "      <td>149.83</td>\n",
       "      <td>141.31</td>\n",
       "      <td>0.00</td>\n",
       "      <td>0.00</td>\n",
       "      <td>112.00</td>\n",
       "      <td>311.00</td>\n",
       "      <td>365.00</td>\n",
       "    </tr>\n",
       "    <tr>\n",
       "      <th>number_of_reviews</th>\n",
       "      <td>0</td>\n",
       "      <td>0.00</td>\n",
       "      <td>int64</td>\n",
       "      <td>377</td>\n",
       "      <td>8,033.00</td>\n",
       "      <td>36.88</td>\n",
       "      <td>69.58</td>\n",
       "      <td>0.00</td>\n",
       "      <td>0.00</td>\n",
       "      <td>6.00</td>\n",
       "      <td>40.00</td>\n",
       "      <td>662.00</td>\n",
       "    </tr>\n",
       "    <tr>\n",
       "      <th>number_of_reviews_ltm</th>\n",
       "      <td>0</td>\n",
       "      <td>0.00</td>\n",
       "      <td>int64</td>\n",
       "      <td>105</td>\n",
       "      <td>8,033.00</td>\n",
       "      <td>6.01</td>\n",
       "      <td>13.12</td>\n",
       "      <td>0.00</td>\n",
       "      <td>0.00</td>\n",
       "      <td>0.00</td>\n",
       "      <td>5.00</td>\n",
       "      <td>153.00</td>\n",
       "    </tr>\n",
       "    <tr>\n",
       "      <th>number_of_reviews_l30d</th>\n",
       "      <td>0</td>\n",
       "      <td>0.00</td>\n",
       "      <td>int64</td>\n",
       "      <td>17</td>\n",
       "      <td>8,033.00</td>\n",
       "      <td>0.70</td>\n",
       "      <td>1.58</td>\n",
       "      <td>0.00</td>\n",
       "      <td>0.00</td>\n",
       "      <td>0.00</td>\n",
       "      <td>1.00</td>\n",
       "      <td>17.00</td>\n",
       "    </tr>\n",
       "    <tr>\n",
       "      <th>review_scores_rating</th>\n",
       "      <td>2207</td>\n",
       "      <td>0.27</td>\n",
       "      <td>float64</td>\n",
       "      <td>118</td>\n",
       "      <td>5,826.00</td>\n",
       "      <td>4.68</td>\n",
       "      <td>0.70</td>\n",
       "      <td>0.00</td>\n",
       "      <td>4.67</td>\n",
       "      <td>4.86</td>\n",
       "      <td>5.00</td>\n",
       "      <td>5.00</td>\n",
       "    </tr>\n",
       "    <tr>\n",
       "      <th>instant_bookable</th>\n",
       "      <td>0</td>\n",
       "      <td>0.00</td>\n",
       "      <td>object</td>\n",
       "      <td>2</td>\n",
       "      <td>nan</td>\n",
       "      <td>nan</td>\n",
       "      <td>nan</td>\n",
       "      <td>nan</td>\n",
       "      <td>nan</td>\n",
       "      <td>nan</td>\n",
       "      <td>nan</td>\n",
       "      <td>nan</td>\n",
       "    </tr>\n",
       "    <tr>\n",
       "      <th>calculated_host_listings_count</th>\n",
       "      <td>0</td>\n",
       "      <td>0.00</td>\n",
       "      <td>int64</td>\n",
       "      <td>35</td>\n",
       "      <td>8,033.00</td>\n",
       "      <td>22.39</td>\n",
       "      <td>50.60</td>\n",
       "      <td>1.00</td>\n",
       "      <td>1.00</td>\n",
       "      <td>2.00</td>\n",
       "      <td>7.00</td>\n",
       "      <td>215.00</td>\n",
       "    </tr>\n",
       "    <tr>\n",
       "      <th>calculated_host_listings_count_entire_homes</th>\n",
       "      <td>0</td>\n",
       "      <td>0.00</td>\n",
       "      <td>int64</td>\n",
       "      <td>27</td>\n",
       "      <td>8,033.00</td>\n",
       "      <td>17.53</td>\n",
       "      <td>47.88</td>\n",
       "      <td>0.00</td>\n",
       "      <td>1.00</td>\n",
       "      <td>1.00</td>\n",
       "      <td>3.00</td>\n",
       "      <td>215.00</td>\n",
       "    </tr>\n",
       "    <tr>\n",
       "      <th>calculated_host_listings_count_private_rooms</th>\n",
       "      <td>0</td>\n",
       "      <td>0.00</td>\n",
       "      <td>int64</td>\n",
       "      <td>19</td>\n",
       "      <td>8,033.00</td>\n",
       "      <td>4.45</td>\n",
       "      <td>19.80</td>\n",
       "      <td>0.00</td>\n",
       "      <td>0.00</td>\n",
       "      <td>0.00</td>\n",
       "      <td>1.00</td>\n",
       "      <td>136.00</td>\n",
       "    </tr>\n",
       "    <tr>\n",
       "      <th>calculated_host_listings_count_shared_rooms</th>\n",
       "      <td>0</td>\n",
       "      <td>0.00</td>\n",
       "      <td>int64</td>\n",
       "      <td>12</td>\n",
       "      <td>8,033.00</td>\n",
       "      <td>0.29</td>\n",
       "      <td>2.09</td>\n",
       "      <td>0.00</td>\n",
       "      <td>0.00</td>\n",
       "      <td>0.00</td>\n",
       "      <td>0.00</td>\n",
       "      <td>20.00</td>\n",
       "    </tr>\n",
       "  </tbody>\n",
       "</table>\n",
       "</div>"
      ],
      "text/plain": [
       "                                              null_sum  null_pct datatypes  \\\n",
       "host_since                                         136      0.02    object   \n",
       "host_is_superhost                                  136      0.02    object   \n",
       "host_neighbourhood                                 741      0.09    object   \n",
       "host_listings_count                                136      0.02   float64   \n",
       "host_total_listings_count                          136      0.02   float64   \n",
       "host_verifications                                   0      0.00    object   \n",
       "host_has_profile_pic                               136      0.02    object   \n",
       "host_identity_verified                             136      0.02    object   \n",
       "neighbourhood_cleansed                               0      0.00    object   \n",
       "latitude                                             0      0.00   float64   \n",
       "longitude                                            0      0.00   float64   \n",
       "room_type                                            0      0.00    object   \n",
       "accommodates                                         0      0.00     int64   \n",
       "bathrooms_text                                       9      0.00    object   \n",
       "bedrooms                                           845      0.11   float64   \n",
       "beds                                               297      0.04   float64   \n",
       "amenities                                            0      0.00    object   \n",
       "price                                                0      0.00    object   \n",
       "minimum_nights                                       0      0.00     int64   \n",
       "maximum_nights                                       0      0.00     int64   \n",
       "minimum_minimum_nights                               0      0.00     int64   \n",
       "maximum_minimum_nights                               0      0.00     int64   \n",
       "minimum_maximum_nights                               0      0.00     int64   \n",
       "maximum_maximum_nights                               0      0.00     int64   \n",
       "minimum_nights_avg_ntm                               0      0.00   float64   \n",
       "maximum_nights_avg_ntm                               0      0.00   float64   \n",
       "has_availability                                     0      0.00    object   \n",
       "availability_30                                      0      0.00     int64   \n",
       "availability_60                                      0      0.00     int64   \n",
       "availability_90                                      0      0.00     int64   \n",
       "availability_365                                     0      0.00     int64   \n",
       "number_of_reviews                                    0      0.00     int64   \n",
       "number_of_reviews_ltm                                0      0.00     int64   \n",
       "number_of_reviews_l30d                               0      0.00     int64   \n",
       "review_scores_rating                              2207      0.27   float64   \n",
       "instant_bookable                                     0      0.00    object   \n",
       "calculated_host_listings_count                       0      0.00     int64   \n",
       "calculated_host_listings_count_entire_homes          0      0.00     int64   \n",
       "calculated_host_listings_count_private_rooms         0      0.00     int64   \n",
       "calculated_host_listings_count_shared_rooms          0      0.00     int64   \n",
       "\n",
       "                                              num_unique    count  \\\n",
       "host_since                                          2415      nan   \n",
       "host_is_superhost                                      2      nan   \n",
       "host_neighbourhood                                   183      nan   \n",
       "host_listings_count                                   57 7,897.00   \n",
       "host_total_listings_count                             57 7,897.00   \n",
       "host_verifications                                   297      nan   \n",
       "host_has_profile_pic                                   2      nan   \n",
       "host_identity_verified                                 2      nan   \n",
       "neighbourhood_cleansed                                39      nan   \n",
       "latitude                                            5113 8,033.00   \n",
       "longitude                                           5472 8,033.00   \n",
       "room_type                                              4      nan   \n",
       "accommodates                                          17 8,033.00   \n",
       "bathrooms_text                                        30      nan   \n",
       "bedrooms                                               9 7,188.00   \n",
       "beds                                                  17 7,736.00   \n",
       "amenities                                           6979      nan   \n",
       "price                                                560      nan   \n",
       "minimum_nights                                        60 8,033.00   \n",
       "maximum_nights                                       143 8,033.00   \n",
       "minimum_minimum_nights                                63 8,033.00   \n",
       "maximum_minimum_nights                                64 8,033.00   \n",
       "minimum_maximum_nights                               118 8,033.00   \n",
       "maximum_maximum_nights                               119 8,033.00   \n",
       "minimum_nights_avg_ntm                               218 8,033.00   \n",
       "maximum_nights_avg_ntm                               171 8,033.00   \n",
       "has_availability                                       2      nan   \n",
       "availability_30                                       31 8,033.00   \n",
       "availability_60                                       61 8,033.00   \n",
       "availability_90                                       91 8,033.00   \n",
       "availability_365                                     363 8,033.00   \n",
       "number_of_reviews                                    377 8,033.00   \n",
       "number_of_reviews_ltm                                105 8,033.00   \n",
       "number_of_reviews_l30d                                17 8,033.00   \n",
       "review_scores_rating                                 118 5,826.00   \n",
       "instant_bookable                                       2      nan   \n",
       "calculated_host_listings_count                        35 8,033.00   \n",
       "calculated_host_listings_count_entire_homes           27 8,033.00   \n",
       "calculated_host_listings_count_private_rooms          19 8,033.00   \n",
       "calculated_host_listings_count_shared_rooms           12 8,033.00   \n",
       "\n",
       "                                                      mean            std  \\\n",
       "host_since                                             nan            nan   \n",
       "host_is_superhost                                      nan            nan   \n",
       "host_neighbourhood                                     nan            nan   \n",
       "host_listings_count                                  86.19         334.72   \n",
       "host_total_listings_count                            86.19         334.72   \n",
       "host_verifications                                     nan            nan   \n",
       "host_has_profile_pic                                   nan            nan   \n",
       "host_identity_verified                                 nan            nan   \n",
       "neighbourhood_cleansed                                 nan            nan   \n",
       "latitude                                             38.91           0.02   \n",
       "longitude                                           -77.02           0.03   \n",
       "room_type                                              nan            nan   \n",
       "accommodates                                          3.53           2.20   \n",
       "bathrooms_text                                         nan            nan   \n",
       "bedrooms                                              1.51           0.90   \n",
       "beds                                                  1.85           1.49   \n",
       "amenities                                              nan            nan   \n",
       "price                                                  nan            nan   \n",
       "minimum_nights                                       11.98          31.50   \n",
       "maximum_nights                                   14,302.10   1,121,278.81   \n",
       "minimum_minimum_nights                               12.97          43.26   \n",
       "maximum_minimum_nights                               23.86          96.26   \n",
       "minimum_maximum_nights                           14,462.16   1,121,276.84   \n",
       "maximum_maximum_nights                       10,707,768.12 151,172,585.85   \n",
       "minimum_nights_avg_ntm                               23.22          93.90   \n",
       "maximum_nights_avg_ntm                       10,683,184.89 150,825,079.71   \n",
       "has_availability                                       nan            nan   \n",
       "availability_30                                       9.09          11.35   \n",
       "availability_60                                      22.83          23.11   \n",
       "availability_90                                      38.05          35.40   \n",
       "availability_365                                    149.83         141.31   \n",
       "number_of_reviews                                    36.88          69.58   \n",
       "number_of_reviews_ltm                                 6.01          13.12   \n",
       "number_of_reviews_l30d                                0.70           1.58   \n",
       "review_scores_rating                                  4.68           0.70   \n",
       "instant_bookable                                       nan            nan   \n",
       "calculated_host_listings_count                       22.39          50.60   \n",
       "calculated_host_listings_count_entire_homes          17.53          47.88   \n",
       "calculated_host_listings_count_private_rooms          4.45          19.80   \n",
       "calculated_host_listings_count_shared_rooms           0.29           2.09   \n",
       "\n",
       "                                                min    25%      50%      75%  \\\n",
       "host_since                                      nan    nan      nan      nan   \n",
       "host_is_superhost                               nan    nan      nan      nan   \n",
       "host_neighbourhood                              nan    nan      nan      nan   \n",
       "host_listings_count                            0.00   1.00     2.00     6.00   \n",
       "host_total_listings_count                      0.00   1.00     2.00     6.00   \n",
       "host_verifications                              nan    nan      nan      nan   \n",
       "host_has_profile_pic                            nan    nan      nan      nan   \n",
       "host_identity_verified                          nan    nan      nan      nan   \n",
       "neighbourhood_cleansed                          nan    nan      nan      nan   \n",
       "latitude                                      38.82  38.90    38.91    38.92   \n",
       "longitude                                    -77.11 -77.04   -77.02   -77.00   \n",
       "room_type                                       nan    nan      nan      nan   \n",
       "accommodates                                   0.00   2.00     3.00     4.00   \n",
       "bathrooms_text                                  nan    nan      nan      nan   \n",
       "bedrooms                                       1.00   1.00     1.00     2.00   \n",
       "beds                                           0.00   1.00     1.00     2.00   \n",
       "amenities                                       nan    nan      nan      nan   \n",
       "price                                           nan    nan      nan      nan   \n",
       "minimum_nights                                 1.00   1.00     2.00     5.00   \n",
       "maximum_nights                                 1.00  30.00   365.00 1,125.00   \n",
       "minimum_minimum_nights                         1.00   1.00     2.00     5.00   \n",
       "maximum_minimum_nights                         1.00   2.00     2.00     6.00   \n",
       "minimum_maximum_nights                         1.00 180.00 1,125.00 1,125.00   \n",
       "maximum_maximum_nights                         1.00 182.00 1,125.00 1,125.00   \n",
       "minimum_nights_avg_ntm                         1.00   1.30     2.00     5.00   \n",
       "maximum_nights_avg_ntm                         1.00 180.00 1,125.00 1,125.00   \n",
       "has_availability                                nan    nan      nan      nan   \n",
       "availability_30                                0.00   0.00     2.00    18.00   \n",
       "availability_60                                0.00   0.00    17.00    44.00   \n",
       "availability_90                                0.00   0.00    37.00    72.00   \n",
       "availability_365                               0.00   0.00   112.00   311.00   \n",
       "number_of_reviews                              0.00   0.00     6.00    40.00   \n",
       "number_of_reviews_ltm                          0.00   0.00     0.00     5.00   \n",
       "number_of_reviews_l30d                         0.00   0.00     0.00     1.00   \n",
       "review_scores_rating                           0.00   4.67     4.86     5.00   \n",
       "instant_bookable                                nan    nan      nan      nan   \n",
       "calculated_host_listings_count                 1.00   1.00     2.00     7.00   \n",
       "calculated_host_listings_count_entire_homes    0.00   1.00     1.00     3.00   \n",
       "calculated_host_listings_count_private_rooms   0.00   0.00     0.00     1.00   \n",
       "calculated_host_listings_count_shared_rooms    0.00   0.00     0.00     0.00   \n",
       "\n",
       "                                                          max  \n",
       "host_since                                                nan  \n",
       "host_is_superhost                                         nan  \n",
       "host_neighbourhood                                        nan  \n",
       "host_listings_count                                  3,924.00  \n",
       "host_total_listings_count                            3,924.00  \n",
       "host_verifications                                        nan  \n",
       "host_has_profile_pic                                      nan  \n",
       "host_identity_verified                                    nan  \n",
       "neighbourhood_cleansed                                    nan  \n",
       "latitude                                                39.00  \n",
       "longitude                                              -76.91  \n",
       "room_type                                                 nan  \n",
       "accommodates                                            16.00  \n",
       "bathrooms_text                                            nan  \n",
       "bedrooms                                                 9.00  \n",
       "beds                                                    50.00  \n",
       "amenities                                                 nan  \n",
       "price                                                     nan  \n",
       "minimum_nights                                       1,125.00  \n",
       "maximum_nights                                  99,999,999.00  \n",
       "minimum_minimum_nights                               1,125.00  \n",
       "maximum_minimum_nights                               1,125.00  \n",
       "minimum_maximum_nights                          99,999,999.00  \n",
       "maximum_maximum_nights                       2,147,483,647.00  \n",
       "minimum_nights_avg_ntm                               1,125.00  \n",
       "maximum_nights_avg_ntm                       2,142,546,905.60  \n",
       "has_availability                                          nan  \n",
       "availability_30                                         30.00  \n",
       "availability_60                                         60.00  \n",
       "availability_90                                         90.00  \n",
       "availability_365                                       365.00  \n",
       "number_of_reviews                                      662.00  \n",
       "number_of_reviews_ltm                                  153.00  \n",
       "number_of_reviews_l30d                                  17.00  \n",
       "review_scores_rating                                     5.00  \n",
       "instant_bookable                                          nan  \n",
       "calculated_host_listings_count                         215.00  \n",
       "calculated_host_listings_count_entire_homes            215.00  \n",
       "calculated_host_listings_count_private_rooms           136.00  \n",
       "calculated_host_listings_count_shared_rooms             20.00  "
      ]
     },
     "execution_count": 15,
     "metadata": {},
     "output_type": "execute_result"
    }
   ],
   "source": [
    "## Inspecting values prior to dropping\n",
    "cf.report_df(df)"
   ]
  },
  {
   "cell_type": "markdown",
   "metadata": {},
   "source": [
    "# Dropping Rows W/O Target"
   ]
  },
  {
   "cell_type": "code",
   "execution_count": 16,
   "metadata": {
    "ExecuteTime": {
     "end_time": "2021-08-05T19:51:24.003456Z",
     "start_time": "2021-08-05T19:51:23.989459Z"
    }
   },
   "outputs": [
    {
     "data": {
      "text/plain": [
       "0       False\n",
       "1       False\n",
       "2       False\n",
       "3       False\n",
       "4       False\n",
       "        ...  \n",
       "8028     True\n",
       "8029     True\n",
       "8030     True\n",
       "8031     True\n",
       "8032     True\n",
       "Name: review_scores_rating, Length: 8033, dtype: bool"
      ]
     },
     "execution_count": 16,
     "metadata": {},
     "output_type": "execute_result"
    }
   ],
   "source": [
    "## Checking for rows missing target values\n",
    "\n",
    "nan_index = df['review_scores_rating'].isna()\n",
    "nan_index"
   ]
  },
  {
   "cell_type": "code",
   "execution_count": 17,
   "metadata": {
    "ExecuteTime": {
     "end_time": "2021-08-05T19:51:24.065455Z",
     "start_time": "2021-08-05T19:51:24.005456Z"
    }
   },
   "outputs": [
    {
     "data": {
      "text/html": [
       "<div>\n",
       "<style scoped>\n",
       "    .dataframe tbody tr th:only-of-type {\n",
       "        vertical-align: middle;\n",
       "    }\n",
       "\n",
       "    .dataframe tbody tr th {\n",
       "        vertical-align: top;\n",
       "    }\n",
       "\n",
       "    .dataframe thead th {\n",
       "        text-align: right;\n",
       "    }\n",
       "</style>\n",
       "<table border=\"1\" class=\"dataframe\">\n",
       "  <thead>\n",
       "    <tr style=\"text-align: right;\">\n",
       "      <th></th>\n",
       "      <th>host_since</th>\n",
       "      <th>host_is_superhost</th>\n",
       "      <th>host_neighbourhood</th>\n",
       "      <th>host_listings_count</th>\n",
       "      <th>host_total_listings_count</th>\n",
       "      <th>host_verifications</th>\n",
       "      <th>host_has_profile_pic</th>\n",
       "      <th>host_identity_verified</th>\n",
       "      <th>neighbourhood_cleansed</th>\n",
       "      <th>latitude</th>\n",
       "      <th>longitude</th>\n",
       "      <th>room_type</th>\n",
       "      <th>accommodates</th>\n",
       "      <th>bathrooms_text</th>\n",
       "      <th>bedrooms</th>\n",
       "      <th>beds</th>\n",
       "      <th>amenities</th>\n",
       "      <th>price</th>\n",
       "      <th>minimum_nights</th>\n",
       "      <th>maximum_nights</th>\n",
       "      <th>minimum_minimum_nights</th>\n",
       "      <th>maximum_minimum_nights</th>\n",
       "      <th>minimum_maximum_nights</th>\n",
       "      <th>maximum_maximum_nights</th>\n",
       "      <th>minimum_nights_avg_ntm</th>\n",
       "      <th>maximum_nights_avg_ntm</th>\n",
       "      <th>has_availability</th>\n",
       "      <th>availability_30</th>\n",
       "      <th>availability_60</th>\n",
       "      <th>availability_90</th>\n",
       "      <th>availability_365</th>\n",
       "      <th>number_of_reviews</th>\n",
       "      <th>number_of_reviews_ltm</th>\n",
       "      <th>number_of_reviews_l30d</th>\n",
       "      <th>review_scores_rating</th>\n",
       "      <th>instant_bookable</th>\n",
       "      <th>calculated_host_listings_count</th>\n",
       "      <th>calculated_host_listings_count_entire_homes</th>\n",
       "      <th>calculated_host_listings_count_private_rooms</th>\n",
       "      <th>calculated_host_listings_count_shared_rooms</th>\n",
       "    </tr>\n",
       "  </thead>\n",
       "  <tbody>\n",
       "    <tr>\n",
       "      <th>40</th>\n",
       "      <td>2011-07-22</td>\n",
       "      <td>f</td>\n",
       "      <td>Manor Park</td>\n",
       "      <td>2.00</td>\n",
       "      <td>2.00</td>\n",
       "      <td>['email', 'phone', 'reviews', 'kba']</td>\n",
       "      <td>t</td>\n",
       "      <td>t</td>\n",
       "      <td>Takoma, Brightwood, Manor Park</td>\n",
       "      <td>38.96</td>\n",
       "      <td>-77.02</td>\n",
       "      <td>Private room</td>\n",
       "      <td>1</td>\n",
       "      <td>1.5 shared baths</td>\n",
       "      <td>1.00</td>\n",
       "      <td>4.00</td>\n",
       "      <td>[\"Cable TV\", \"TV with standard cable\", \"Kitche...</td>\n",
       "      <td>$399.00</td>\n",
       "      <td>1</td>\n",
       "      <td>730</td>\n",
       "      <td>1</td>\n",
       "      <td>1</td>\n",
       "      <td>730</td>\n",
       "      <td>730</td>\n",
       "      <td>1.00</td>\n",
       "      <td>730.00</td>\n",
       "      <td>t</td>\n",
       "      <td>30</td>\n",
       "      <td>60</td>\n",
       "      <td>90</td>\n",
       "      <td>365</td>\n",
       "      <td>0</td>\n",
       "      <td>0</td>\n",
       "      <td>0</td>\n",
       "      <td>nan</td>\n",
       "      <td>f</td>\n",
       "      <td>2</td>\n",
       "      <td>1</td>\n",
       "      <td>1</td>\n",
       "      <td>0</td>\n",
       "    </tr>\n",
       "    <tr>\n",
       "      <th>70</th>\n",
       "      <td>2012-01-25</td>\n",
       "      <td>f</td>\n",
       "      <td>Near Northeast</td>\n",
       "      <td>2.00</td>\n",
       "      <td>2.00</td>\n",
       "      <td>['email', 'phone']</td>\n",
       "      <td>t</td>\n",
       "      <td>f</td>\n",
       "      <td>Union Station, Stanton Park, Kingman Park</td>\n",
       "      <td>38.90</td>\n",
       "      <td>-77.00</td>\n",
       "      <td>Entire home/apt</td>\n",
       "      <td>4</td>\n",
       "      <td>2 baths</td>\n",
       "      <td>2.00</td>\n",
       "      <td>2.00</td>\n",
       "      <td>[\"Refrigerator\", \"Long term stays allowed\", \"C...</td>\n",
       "      <td>$125.00</td>\n",
       "      <td>5</td>\n",
       "      <td>1125</td>\n",
       "      <td>5</td>\n",
       "      <td>5</td>\n",
       "      <td>1125</td>\n",
       "      <td>1125</td>\n",
       "      <td>5.00</td>\n",
       "      <td>1,125.00</td>\n",
       "      <td>t</td>\n",
       "      <td>17</td>\n",
       "      <td>38</td>\n",
       "      <td>68</td>\n",
       "      <td>343</td>\n",
       "      <td>0</td>\n",
       "      <td>0</td>\n",
       "      <td>0</td>\n",
       "      <td>nan</td>\n",
       "      <td>f</td>\n",
       "      <td>2</td>\n",
       "      <td>2</td>\n",
       "      <td>0</td>\n",
       "      <td>0</td>\n",
       "    </tr>\n",
       "    <tr>\n",
       "      <th>80</th>\n",
       "      <td>2012-04-24</td>\n",
       "      <td>f</td>\n",
       "      <td>Logan Circle</td>\n",
       "      <td>0.00</td>\n",
       "      <td>0.00</td>\n",
       "      <td>['email', 'phone', 'reviews', 'kba']</td>\n",
       "      <td>t</td>\n",
       "      <td>t</td>\n",
       "      <td>Downtown, Chinatown, Penn Quarters, Mount Vern...</td>\n",
       "      <td>38.91</td>\n",
       "      <td>-77.03</td>\n",
       "      <td>Entire home/apt</td>\n",
       "      <td>1</td>\n",
       "      <td>1.5 baths</td>\n",
       "      <td>1.00</td>\n",
       "      <td>1.00</td>\n",
       "      <td>[\"Elevator\", \"Cable TV\", \"TV with standard cab...</td>\n",
       "      <td>$99.00</td>\n",
       "      <td>150</td>\n",
       "      <td>1125</td>\n",
       "      <td>150</td>\n",
       "      <td>150</td>\n",
       "      <td>1125</td>\n",
       "      <td>1125</td>\n",
       "      <td>150.00</td>\n",
       "      <td>1,125.00</td>\n",
       "      <td>t</td>\n",
       "      <td>29</td>\n",
       "      <td>59</td>\n",
       "      <td>89</td>\n",
       "      <td>364</td>\n",
       "      <td>0</td>\n",
       "      <td>0</td>\n",
       "      <td>0</td>\n",
       "      <td>nan</td>\n",
       "      <td>f</td>\n",
       "      <td>1</td>\n",
       "      <td>1</td>\n",
       "      <td>0</td>\n",
       "      <td>0</td>\n",
       "    </tr>\n",
       "    <tr>\n",
       "      <th>120</th>\n",
       "      <td>2009-11-26</td>\n",
       "      <td>f</td>\n",
       "      <td>Capitol Hill</td>\n",
       "      <td>1.00</td>\n",
       "      <td>1.00</td>\n",
       "      <td>['email', 'phone', 'reviews', 'kba']</td>\n",
       "      <td>t</td>\n",
       "      <td>t</td>\n",
       "      <td>Capitol Hill, Lincoln Park</td>\n",
       "      <td>38.89</td>\n",
       "      <td>-76.99</td>\n",
       "      <td>Entire home/apt</td>\n",
       "      <td>6</td>\n",
       "      <td>NaN</td>\n",
       "      <td>3.00</td>\n",
       "      <td>nan</td>\n",
       "      <td>[]</td>\n",
       "      <td>$2,000.00</td>\n",
       "      <td>4</td>\n",
       "      <td>4</td>\n",
       "      <td>4</td>\n",
       "      <td>4</td>\n",
       "      <td>4</td>\n",
       "      <td>4</td>\n",
       "      <td>4.00</td>\n",
       "      <td>4.00</td>\n",
       "      <td>t</td>\n",
       "      <td>30</td>\n",
       "      <td>60</td>\n",
       "      <td>90</td>\n",
       "      <td>365</td>\n",
       "      <td>0</td>\n",
       "      <td>0</td>\n",
       "      <td>0</td>\n",
       "      <td>nan</td>\n",
       "      <td>f</td>\n",
       "      <td>1</td>\n",
       "      <td>1</td>\n",
       "      <td>0</td>\n",
       "      <td>0</td>\n",
       "    </tr>\n",
       "    <tr>\n",
       "      <th>145</th>\n",
       "      <td>2013-04-24</td>\n",
       "      <td>f</td>\n",
       "      <td>Adams Morgan</td>\n",
       "      <td>1.00</td>\n",
       "      <td>1.00</td>\n",
       "      <td>['email', 'phone', 'reviews', 'kba', 'work_ema...</td>\n",
       "      <td>t</td>\n",
       "      <td>t</td>\n",
       "      <td>Kalorama Heights, Adams Morgan, Lanier Heights</td>\n",
       "      <td>38.92</td>\n",
       "      <td>-77.04</td>\n",
       "      <td>Entire home/apt</td>\n",
       "      <td>2</td>\n",
       "      <td>2 baths</td>\n",
       "      <td>2.00</td>\n",
       "      <td>2.00</td>\n",
       "      <td>[\"Cable TV\", \"TV with standard cable\", \"Kitche...</td>\n",
       "      <td>$120.00</td>\n",
       "      <td>180</td>\n",
       "      <td>180</td>\n",
       "      <td>180</td>\n",
       "      <td>180</td>\n",
       "      <td>180</td>\n",
       "      <td>180</td>\n",
       "      <td>180.00</td>\n",
       "      <td>180.00</td>\n",
       "      <td>f</td>\n",
       "      <td>0</td>\n",
       "      <td>0</td>\n",
       "      <td>0</td>\n",
       "      <td>0</td>\n",
       "      <td>0</td>\n",
       "      <td>0</td>\n",
       "      <td>0</td>\n",
       "      <td>nan</td>\n",
       "      <td>f</td>\n",
       "      <td>1</td>\n",
       "      <td>1</td>\n",
       "      <td>0</td>\n",
       "      <td>0</td>\n",
       "    </tr>\n",
       "    <tr>\n",
       "      <th>...</th>\n",
       "      <td>...</td>\n",
       "      <td>...</td>\n",
       "      <td>...</td>\n",
       "      <td>...</td>\n",
       "      <td>...</td>\n",
       "      <td>...</td>\n",
       "      <td>...</td>\n",
       "      <td>...</td>\n",
       "      <td>...</td>\n",
       "      <td>...</td>\n",
       "      <td>...</td>\n",
       "      <td>...</td>\n",
       "      <td>...</td>\n",
       "      <td>...</td>\n",
       "      <td>...</td>\n",
       "      <td>...</td>\n",
       "      <td>...</td>\n",
       "      <td>...</td>\n",
       "      <td>...</td>\n",
       "      <td>...</td>\n",
       "      <td>...</td>\n",
       "      <td>...</td>\n",
       "      <td>...</td>\n",
       "      <td>...</td>\n",
       "      <td>...</td>\n",
       "      <td>...</td>\n",
       "      <td>...</td>\n",
       "      <td>...</td>\n",
       "      <td>...</td>\n",
       "      <td>...</td>\n",
       "      <td>...</td>\n",
       "      <td>...</td>\n",
       "      <td>...</td>\n",
       "      <td>...</td>\n",
       "      <td>...</td>\n",
       "      <td>...</td>\n",
       "      <td>...</td>\n",
       "      <td>...</td>\n",
       "      <td>...</td>\n",
       "      <td>...</td>\n",
       "    </tr>\n",
       "    <tr>\n",
       "      <th>8028</th>\n",
       "      <td>2020-08-03</td>\n",
       "      <td>f</td>\n",
       "      <td>Southeast Washington</td>\n",
       "      <td>0.00</td>\n",
       "      <td>0.00</td>\n",
       "      <td>['email', 'phone']</td>\n",
       "      <td>t</td>\n",
       "      <td>f</td>\n",
       "      <td>Congress Heights, Bellevue, Washington Highlands</td>\n",
       "      <td>38.83</td>\n",
       "      <td>-77.00</td>\n",
       "      <td>Entire home/apt</td>\n",
       "      <td>8</td>\n",
       "      <td>1 bath</td>\n",
       "      <td>3.00</td>\n",
       "      <td>3.00</td>\n",
       "      <td>[\"First aid kit\", \"Dedicated workspace\", \"Smok...</td>\n",
       "      <td>$400.00</td>\n",
       "      <td>2</td>\n",
       "      <td>2</td>\n",
       "      <td>2</td>\n",
       "      <td>2</td>\n",
       "      <td>1125</td>\n",
       "      <td>1125</td>\n",
       "      <td>2.00</td>\n",
       "      <td>1,125.00</td>\n",
       "      <td>t</td>\n",
       "      <td>17</td>\n",
       "      <td>43</td>\n",
       "      <td>73</td>\n",
       "      <td>348</td>\n",
       "      <td>0</td>\n",
       "      <td>0</td>\n",
       "      <td>0</td>\n",
       "      <td>nan</td>\n",
       "      <td>t</td>\n",
       "      <td>1</td>\n",
       "      <td>1</td>\n",
       "      <td>0</td>\n",
       "      <td>0</td>\n",
       "    </tr>\n",
       "    <tr>\n",
       "      <th>8029</th>\n",
       "      <td>2020-07-29</td>\n",
       "      <td>f</td>\n",
       "      <td>East Forest</td>\n",
       "      <td>125.00</td>\n",
       "      <td>125.00</td>\n",
       "      <td>['email', 'phone']</td>\n",
       "      <td>t</td>\n",
       "      <td>t</td>\n",
       "      <td>Howard University, Le Droit Park, Cardozo/Shaw</td>\n",
       "      <td>38.92</td>\n",
       "      <td>-77.02</td>\n",
       "      <td>Entire home/apt</td>\n",
       "      <td>5</td>\n",
       "      <td>2 baths</td>\n",
       "      <td>2.00</td>\n",
       "      <td>nan</td>\n",
       "      <td>[\"Cooking basics\", \"Lockbox\", \"Long term stays...</td>\n",
       "      <td>$198.00</td>\n",
       "      <td>90</td>\n",
       "      <td>365</td>\n",
       "      <td>90</td>\n",
       "      <td>90</td>\n",
       "      <td>365</td>\n",
       "      <td>365</td>\n",
       "      <td>90.00</td>\n",
       "      <td>365.00</td>\n",
       "      <td>t</td>\n",
       "      <td>30</td>\n",
       "      <td>60</td>\n",
       "      <td>90</td>\n",
       "      <td>365</td>\n",
       "      <td>0</td>\n",
       "      <td>0</td>\n",
       "      <td>0</td>\n",
       "      <td>nan</td>\n",
       "      <td>t</td>\n",
       "      <td>215</td>\n",
       "      <td>215</td>\n",
       "      <td>0</td>\n",
       "      <td>0</td>\n",
       "    </tr>\n",
       "    <tr>\n",
       "      <th>8030</th>\n",
       "      <td>2016-04-27</td>\n",
       "      <td>f</td>\n",
       "      <td>Near Northeast/H Street Corridor</td>\n",
       "      <td>32.00</td>\n",
       "      <td>32.00</td>\n",
       "      <td>['email', 'phone', 'reviews', 'jumio', 'offlin...</td>\n",
       "      <td>t</td>\n",
       "      <td>t</td>\n",
       "      <td>Kalorama Heights, Adams Morgan, Lanier Heights</td>\n",
       "      <td>38.92</td>\n",
       "      <td>-77.04</td>\n",
       "      <td>Entire home/apt</td>\n",
       "      <td>2</td>\n",
       "      <td>1 bath</td>\n",
       "      <td>1.00</td>\n",
       "      <td>2.00</td>\n",
       "      <td>[\"Cooking basics\", \"Shampoo\", \"Dedicated works...</td>\n",
       "      <td>$70.00</td>\n",
       "      <td>30</td>\n",
       "      <td>1125</td>\n",
       "      <td>30</td>\n",
       "      <td>30</td>\n",
       "      <td>1125</td>\n",
       "      <td>1125</td>\n",
       "      <td>30.00</td>\n",
       "      <td>1,125.00</td>\n",
       "      <td>t</td>\n",
       "      <td>30</td>\n",
       "      <td>60</td>\n",
       "      <td>90</td>\n",
       "      <td>364</td>\n",
       "      <td>0</td>\n",
       "      <td>0</td>\n",
       "      <td>0</td>\n",
       "      <td>nan</td>\n",
       "      <td>f</td>\n",
       "      <td>30</td>\n",
       "      <td>30</td>\n",
       "      <td>0</td>\n",
       "      <td>0</td>\n",
       "    </tr>\n",
       "    <tr>\n",
       "      <th>8031</th>\n",
       "      <td>2020-09-23</td>\n",
       "      <td>f</td>\n",
       "      <td>Cherry Creek</td>\n",
       "      <td>2,232.00</td>\n",
       "      <td>2,232.00</td>\n",
       "      <td>['email', 'phone']</td>\n",
       "      <td>t</td>\n",
       "      <td>t</td>\n",
       "      <td>Shaw, Logan Circle</td>\n",
       "      <td>38.91</td>\n",
       "      <td>-77.03</td>\n",
       "      <td>Entire home/apt</td>\n",
       "      <td>3</td>\n",
       "      <td>1 bath</td>\n",
       "      <td>1.00</td>\n",
       "      <td>nan</td>\n",
       "      <td>[\"Cooking basics\", \"Elevator\", \"Lockbox\", \"Lon...</td>\n",
       "      <td>$223.00</td>\n",
       "      <td>91</td>\n",
       "      <td>365</td>\n",
       "      <td>91</td>\n",
       "      <td>91</td>\n",
       "      <td>365</td>\n",
       "      <td>365</td>\n",
       "      <td>91.00</td>\n",
       "      <td>365.00</td>\n",
       "      <td>t</td>\n",
       "      <td>30</td>\n",
       "      <td>60</td>\n",
       "      <td>90</td>\n",
       "      <td>365</td>\n",
       "      <td>0</td>\n",
       "      <td>0</td>\n",
       "      <td>0</td>\n",
       "      <td>nan</td>\n",
       "      <td>t</td>\n",
       "      <td>50</td>\n",
       "      <td>50</td>\n",
       "      <td>0</td>\n",
       "      <td>0</td>\n",
       "    </tr>\n",
       "    <tr>\n",
       "      <th>8032</th>\n",
       "      <td>2020-09-23</td>\n",
       "      <td>f</td>\n",
       "      <td>Cherry Creek</td>\n",
       "      <td>2,232.00</td>\n",
       "      <td>2,232.00</td>\n",
       "      <td>['email', 'phone']</td>\n",
       "      <td>t</td>\n",
       "      <td>t</td>\n",
       "      <td>Columbia Heights, Mt. Pleasant, Pleasant Plain...</td>\n",
       "      <td>38.92</td>\n",
       "      <td>-77.03</td>\n",
       "      <td>Entire home/apt</td>\n",
       "      <td>3</td>\n",
       "      <td>1 bath</td>\n",
       "      <td>1.00</td>\n",
       "      <td>nan</td>\n",
       "      <td>[\"Cooking basics\", \"Elevator\", \"Lockbox\", \"Lon...</td>\n",
       "      <td>$226.00</td>\n",
       "      <td>91</td>\n",
       "      <td>365</td>\n",
       "      <td>91</td>\n",
       "      <td>91</td>\n",
       "      <td>365</td>\n",
       "      <td>365</td>\n",
       "      <td>91.00</td>\n",
       "      <td>365.00</td>\n",
       "      <td>t</td>\n",
       "      <td>23</td>\n",
       "      <td>53</td>\n",
       "      <td>83</td>\n",
       "      <td>358</td>\n",
       "      <td>0</td>\n",
       "      <td>0</td>\n",
       "      <td>0</td>\n",
       "      <td>nan</td>\n",
       "      <td>t</td>\n",
       "      <td>50</td>\n",
       "      <td>50</td>\n",
       "      <td>0</td>\n",
       "      <td>0</td>\n",
       "    </tr>\n",
       "  </tbody>\n",
       "</table>\n",
       "<p>2207 rows × 40 columns</p>\n",
       "</div>"
      ],
      "text/plain": [
       "      host_since host_is_superhost                host_neighbourhood  \\\n",
       "40    2011-07-22                 f                        Manor Park   \n",
       "70    2012-01-25                 f                    Near Northeast   \n",
       "80    2012-04-24                 f                      Logan Circle   \n",
       "120   2009-11-26                 f                      Capitol Hill   \n",
       "145   2013-04-24                 f                      Adams Morgan   \n",
       "...          ...               ...                               ...   \n",
       "8028  2020-08-03                 f              Southeast Washington   \n",
       "8029  2020-07-29                 f                       East Forest   \n",
       "8030  2016-04-27                 f  Near Northeast/H Street Corridor   \n",
       "8031  2020-09-23                 f                      Cherry Creek   \n",
       "8032  2020-09-23                 f                      Cherry Creek   \n",
       "\n",
       "      host_listings_count  host_total_listings_count  \\\n",
       "40                   2.00                       2.00   \n",
       "70                   2.00                       2.00   \n",
       "80                   0.00                       0.00   \n",
       "120                  1.00                       1.00   \n",
       "145                  1.00                       1.00   \n",
       "...                   ...                        ...   \n",
       "8028                 0.00                       0.00   \n",
       "8029               125.00                     125.00   \n",
       "8030                32.00                      32.00   \n",
       "8031             2,232.00                   2,232.00   \n",
       "8032             2,232.00                   2,232.00   \n",
       "\n",
       "                                     host_verifications host_has_profile_pic  \\\n",
       "40                 ['email', 'phone', 'reviews', 'kba']                    t   \n",
       "70                                   ['email', 'phone']                    t   \n",
       "80                 ['email', 'phone', 'reviews', 'kba']                    t   \n",
       "120                ['email', 'phone', 'reviews', 'kba']                    t   \n",
       "145   ['email', 'phone', 'reviews', 'kba', 'work_ema...                    t   \n",
       "...                                                 ...                  ...   \n",
       "8028                                 ['email', 'phone']                    t   \n",
       "8029                                 ['email', 'phone']                    t   \n",
       "8030  ['email', 'phone', 'reviews', 'jumio', 'offlin...                    t   \n",
       "8031                                 ['email', 'phone']                    t   \n",
       "8032                                 ['email', 'phone']                    t   \n",
       "\n",
       "     host_identity_verified  \\\n",
       "40                        t   \n",
       "70                        f   \n",
       "80                        t   \n",
       "120                       t   \n",
       "145                       t   \n",
       "...                     ...   \n",
       "8028                      f   \n",
       "8029                      t   \n",
       "8030                      t   \n",
       "8031                      t   \n",
       "8032                      t   \n",
       "\n",
       "                                 neighbourhood_cleansed  latitude  longitude  \\\n",
       "40                       Takoma, Brightwood, Manor Park     38.96     -77.02   \n",
       "70            Union Station, Stanton Park, Kingman Park     38.90     -77.00   \n",
       "80    Downtown, Chinatown, Penn Quarters, Mount Vern...     38.91     -77.03   \n",
       "120                          Capitol Hill, Lincoln Park     38.89     -76.99   \n",
       "145      Kalorama Heights, Adams Morgan, Lanier Heights     38.92     -77.04   \n",
       "...                                                 ...       ...        ...   \n",
       "8028   Congress Heights, Bellevue, Washington Highlands     38.83     -77.00   \n",
       "8029     Howard University, Le Droit Park, Cardozo/Shaw     38.92     -77.02   \n",
       "8030     Kalorama Heights, Adams Morgan, Lanier Heights     38.92     -77.04   \n",
       "8031                                 Shaw, Logan Circle     38.91     -77.03   \n",
       "8032  Columbia Heights, Mt. Pleasant, Pleasant Plain...     38.92     -77.03   \n",
       "\n",
       "            room_type  accommodates    bathrooms_text  bedrooms  beds  \\\n",
       "40       Private room             1  1.5 shared baths      1.00  4.00   \n",
       "70    Entire home/apt             4           2 baths      2.00  2.00   \n",
       "80    Entire home/apt             1         1.5 baths      1.00  1.00   \n",
       "120   Entire home/apt             6               NaN      3.00   nan   \n",
       "145   Entire home/apt             2           2 baths      2.00  2.00   \n",
       "...               ...           ...               ...       ...   ...   \n",
       "8028  Entire home/apt             8            1 bath      3.00  3.00   \n",
       "8029  Entire home/apt             5           2 baths      2.00   nan   \n",
       "8030  Entire home/apt             2            1 bath      1.00  2.00   \n",
       "8031  Entire home/apt             3            1 bath      1.00   nan   \n",
       "8032  Entire home/apt             3            1 bath      1.00   nan   \n",
       "\n",
       "                                              amenities      price  \\\n",
       "40    [\"Cable TV\", \"TV with standard cable\", \"Kitche...    $399.00   \n",
       "70    [\"Refrigerator\", \"Long term stays allowed\", \"C...    $125.00   \n",
       "80    [\"Elevator\", \"Cable TV\", \"TV with standard cab...     $99.00   \n",
       "120                                                  []  $2,000.00   \n",
       "145   [\"Cable TV\", \"TV with standard cable\", \"Kitche...    $120.00   \n",
       "...                                                 ...        ...   \n",
       "8028  [\"First aid kit\", \"Dedicated workspace\", \"Smok...    $400.00   \n",
       "8029  [\"Cooking basics\", \"Lockbox\", \"Long term stays...    $198.00   \n",
       "8030  [\"Cooking basics\", \"Shampoo\", \"Dedicated works...     $70.00   \n",
       "8031  [\"Cooking basics\", \"Elevator\", \"Lockbox\", \"Lon...    $223.00   \n",
       "8032  [\"Cooking basics\", \"Elevator\", \"Lockbox\", \"Lon...    $226.00   \n",
       "\n",
       "      minimum_nights  maximum_nights  minimum_minimum_nights  \\\n",
       "40                 1             730                       1   \n",
       "70                 5            1125                       5   \n",
       "80               150            1125                     150   \n",
       "120                4               4                       4   \n",
       "145              180             180                     180   \n",
       "...              ...             ...                     ...   \n",
       "8028               2               2                       2   \n",
       "8029              90             365                      90   \n",
       "8030              30            1125                      30   \n",
       "8031              91             365                      91   \n",
       "8032              91             365                      91   \n",
       "\n",
       "      maximum_minimum_nights  minimum_maximum_nights  maximum_maximum_nights  \\\n",
       "40                         1                     730                     730   \n",
       "70                         5                    1125                    1125   \n",
       "80                       150                    1125                    1125   \n",
       "120                        4                       4                       4   \n",
       "145                      180                     180                     180   \n",
       "...                      ...                     ...                     ...   \n",
       "8028                       2                    1125                    1125   \n",
       "8029                      90                     365                     365   \n",
       "8030                      30                    1125                    1125   \n",
       "8031                      91                     365                     365   \n",
       "8032                      91                     365                     365   \n",
       "\n",
       "      minimum_nights_avg_ntm  maximum_nights_avg_ntm has_availability  \\\n",
       "40                      1.00                  730.00                t   \n",
       "70                      5.00                1,125.00                t   \n",
       "80                    150.00                1,125.00                t   \n",
       "120                     4.00                    4.00                t   \n",
       "145                   180.00                  180.00                f   \n",
       "...                      ...                     ...              ...   \n",
       "8028                    2.00                1,125.00                t   \n",
       "8029                   90.00                  365.00                t   \n",
       "8030                   30.00                1,125.00                t   \n",
       "8031                   91.00                  365.00                t   \n",
       "8032                   91.00                  365.00                t   \n",
       "\n",
       "      availability_30  availability_60  availability_90  availability_365  \\\n",
       "40                 30               60               90               365   \n",
       "70                 17               38               68               343   \n",
       "80                 29               59               89               364   \n",
       "120                30               60               90               365   \n",
       "145                 0                0                0                 0   \n",
       "...               ...              ...              ...               ...   \n",
       "8028               17               43               73               348   \n",
       "8029               30               60               90               365   \n",
       "8030               30               60               90               364   \n",
       "8031               30               60               90               365   \n",
       "8032               23               53               83               358   \n",
       "\n",
       "      number_of_reviews  number_of_reviews_ltm  number_of_reviews_l30d  \\\n",
       "40                    0                      0                       0   \n",
       "70                    0                      0                       0   \n",
       "80                    0                      0                       0   \n",
       "120                   0                      0                       0   \n",
       "145                   0                      0                       0   \n",
       "...                 ...                    ...                     ...   \n",
       "8028                  0                      0                       0   \n",
       "8029                  0                      0                       0   \n",
       "8030                  0                      0                       0   \n",
       "8031                  0                      0                       0   \n",
       "8032                  0                      0                       0   \n",
       "\n",
       "      review_scores_rating instant_bookable  calculated_host_listings_count  \\\n",
       "40                     nan                f                               2   \n",
       "70                     nan                f                               2   \n",
       "80                     nan                f                               1   \n",
       "120                    nan                f                               1   \n",
       "145                    nan                f                               1   \n",
       "...                    ...              ...                             ...   \n",
       "8028                   nan                t                               1   \n",
       "8029                   nan                t                             215   \n",
       "8030                   nan                f                              30   \n",
       "8031                   nan                t                              50   \n",
       "8032                   nan                t                              50   \n",
       "\n",
       "      calculated_host_listings_count_entire_homes  \\\n",
       "40                                              1   \n",
       "70                                              2   \n",
       "80                                              1   \n",
       "120                                             1   \n",
       "145                                             1   \n",
       "...                                           ...   \n",
       "8028                                            1   \n",
       "8029                                          215   \n",
       "8030                                           30   \n",
       "8031                                           50   \n",
       "8032                                           50   \n",
       "\n",
       "      calculated_host_listings_count_private_rooms  \\\n",
       "40                                               1   \n",
       "70                                               0   \n",
       "80                                               0   \n",
       "120                                              0   \n",
       "145                                              0   \n",
       "...                                            ...   \n",
       "8028                                             0   \n",
       "8029                                             0   \n",
       "8030                                             0   \n",
       "8031                                             0   \n",
       "8032                                             0   \n",
       "\n",
       "      calculated_host_listings_count_shared_rooms  \n",
       "40                                              0  \n",
       "70                                              0  \n",
       "80                                              0  \n",
       "120                                             0  \n",
       "145                                             0  \n",
       "...                                           ...  \n",
       "8028                                            0  \n",
       "8029                                            0  \n",
       "8030                                            0  \n",
       "8031                                            0  \n",
       "8032                                            0  \n",
       "\n",
       "[2207 rows x 40 columns]"
      ]
     },
     "execution_count": 17,
     "metadata": {},
     "output_type": "execute_result"
    }
   ],
   "source": [
    "## Inspecting rows to be dropped for missing the target feature\n",
    "df[nan_index]"
   ]
  },
  {
   "cell_type": "code",
   "execution_count": 18,
   "metadata": {
    "ExecuteTime": {
     "end_time": "2021-08-05T19:51:24.081455Z",
     "start_time": "2021-08-05T19:51:24.068457Z"
    }
   },
   "outputs": [],
   "source": [
    "## Dropping rows from main dataframe\n",
    "df.drop(df[nan_index].index, inplace=True)"
   ]
  },
  {
   "cell_type": "code",
   "execution_count": 19,
   "metadata": {
    "ExecuteTime": {
     "end_time": "2021-08-05T19:51:24.223456Z",
     "start_time": "2021-08-05T19:51:24.083458Z"
    }
   },
   "outputs": [
    {
     "data": {
      "text/html": [
       "<div>\n",
       "<style scoped>\n",
       "    .dataframe tbody tr th:only-of-type {\n",
       "        vertical-align: middle;\n",
       "    }\n",
       "\n",
       "    .dataframe tbody tr th {\n",
       "        vertical-align: top;\n",
       "    }\n",
       "\n",
       "    .dataframe thead th {\n",
       "        text-align: right;\n",
       "    }\n",
       "</style>\n",
       "<table border=\"1\" class=\"dataframe\">\n",
       "  <thead>\n",
       "    <tr style=\"text-align: right;\">\n",
       "      <th></th>\n",
       "      <th>null_sum</th>\n",
       "      <th>null_pct</th>\n",
       "      <th>datatypes</th>\n",
       "      <th>num_unique</th>\n",
       "      <th>count</th>\n",
       "      <th>mean</th>\n",
       "      <th>std</th>\n",
       "      <th>min</th>\n",
       "      <th>25%</th>\n",
       "      <th>50%</th>\n",
       "      <th>75%</th>\n",
       "      <th>max</th>\n",
       "    </tr>\n",
       "  </thead>\n",
       "  <tbody>\n",
       "    <tr>\n",
       "      <th>host_since</th>\n",
       "      <td>10</td>\n",
       "      <td>0.00</td>\n",
       "      <td>object</td>\n",
       "      <td>2164</td>\n",
       "      <td>nan</td>\n",
       "      <td>nan</td>\n",
       "      <td>nan</td>\n",
       "      <td>nan</td>\n",
       "      <td>nan</td>\n",
       "      <td>nan</td>\n",
       "      <td>nan</td>\n",
       "      <td>nan</td>\n",
       "    </tr>\n",
       "    <tr>\n",
       "      <th>host_is_superhost</th>\n",
       "      <td>10</td>\n",
       "      <td>0.00</td>\n",
       "      <td>object</td>\n",
       "      <td>2</td>\n",
       "      <td>nan</td>\n",
       "      <td>nan</td>\n",
       "      <td>nan</td>\n",
       "      <td>nan</td>\n",
       "      <td>nan</td>\n",
       "      <td>nan</td>\n",
       "      <td>nan</td>\n",
       "      <td>nan</td>\n",
       "    </tr>\n",
       "    <tr>\n",
       "      <th>host_neighbourhood</th>\n",
       "      <td>488</td>\n",
       "      <td>0.08</td>\n",
       "      <td>object</td>\n",
       "      <td>169</td>\n",
       "      <td>nan</td>\n",
       "      <td>nan</td>\n",
       "      <td>nan</td>\n",
       "      <td>nan</td>\n",
       "      <td>nan</td>\n",
       "      <td>nan</td>\n",
       "      <td>nan</td>\n",
       "      <td>nan</td>\n",
       "    </tr>\n",
       "    <tr>\n",
       "      <th>host_listings_count</th>\n",
       "      <td>10</td>\n",
       "      <td>0.00</td>\n",
       "      <td>float64</td>\n",
       "      <td>48</td>\n",
       "      <td>5,816.00</td>\n",
       "      <td>43.93</td>\n",
       "      <td>206.60</td>\n",
       "      <td>0.00</td>\n",
       "      <td>1.00</td>\n",
       "      <td>2.00</td>\n",
       "      <td>4.00</td>\n",
       "      <td>1,683.00</td>\n",
       "    </tr>\n",
       "    <tr>\n",
       "      <th>host_total_listings_count</th>\n",
       "      <td>10</td>\n",
       "      <td>0.00</td>\n",
       "      <td>float64</td>\n",
       "      <td>48</td>\n",
       "      <td>5,816.00</td>\n",
       "      <td>43.93</td>\n",
       "      <td>206.60</td>\n",
       "      <td>0.00</td>\n",
       "      <td>1.00</td>\n",
       "      <td>2.00</td>\n",
       "      <td>4.00</td>\n",
       "      <td>1,683.00</td>\n",
       "    </tr>\n",
       "    <tr>\n",
       "      <th>host_verifications</th>\n",
       "      <td>0</td>\n",
       "      <td>0.00</td>\n",
       "      <td>object</td>\n",
       "      <td>269</td>\n",
       "      <td>nan</td>\n",
       "      <td>nan</td>\n",
       "      <td>nan</td>\n",
       "      <td>nan</td>\n",
       "      <td>nan</td>\n",
       "      <td>nan</td>\n",
       "      <td>nan</td>\n",
       "      <td>nan</td>\n",
       "    </tr>\n",
       "    <tr>\n",
       "      <th>host_has_profile_pic</th>\n",
       "      <td>10</td>\n",
       "      <td>0.00</td>\n",
       "      <td>object</td>\n",
       "      <td>2</td>\n",
       "      <td>nan</td>\n",
       "      <td>nan</td>\n",
       "      <td>nan</td>\n",
       "      <td>nan</td>\n",
       "      <td>nan</td>\n",
       "      <td>nan</td>\n",
       "      <td>nan</td>\n",
       "      <td>nan</td>\n",
       "    </tr>\n",
       "    <tr>\n",
       "      <th>host_identity_verified</th>\n",
       "      <td>10</td>\n",
       "      <td>0.00</td>\n",
       "      <td>object</td>\n",
       "      <td>2</td>\n",
       "      <td>nan</td>\n",
       "      <td>nan</td>\n",
       "      <td>nan</td>\n",
       "      <td>nan</td>\n",
       "      <td>nan</td>\n",
       "      <td>nan</td>\n",
       "      <td>nan</td>\n",
       "      <td>nan</td>\n",
       "    </tr>\n",
       "    <tr>\n",
       "      <th>neighbourhood_cleansed</th>\n",
       "      <td>0</td>\n",
       "      <td>0.00</td>\n",
       "      <td>object</td>\n",
       "      <td>39</td>\n",
       "      <td>nan</td>\n",
       "      <td>nan</td>\n",
       "      <td>nan</td>\n",
       "      <td>nan</td>\n",
       "      <td>nan</td>\n",
       "      <td>nan</td>\n",
       "      <td>nan</td>\n",
       "      <td>nan</td>\n",
       "    </tr>\n",
       "    <tr>\n",
       "      <th>latitude</th>\n",
       "      <td>0</td>\n",
       "      <td>0.00</td>\n",
       "      <td>float64</td>\n",
       "      <td>4077</td>\n",
       "      <td>5,826.00</td>\n",
       "      <td>38.91</td>\n",
       "      <td>0.02</td>\n",
       "      <td>38.82</td>\n",
       "      <td>38.90</td>\n",
       "      <td>38.91</td>\n",
       "      <td>38.92</td>\n",
       "      <td>38.99</td>\n",
       "    </tr>\n",
       "    <tr>\n",
       "      <th>longitude</th>\n",
       "      <td>0</td>\n",
       "      <td>0.00</td>\n",
       "      <td>float64</td>\n",
       "      <td>4364</td>\n",
       "      <td>5,826.00</td>\n",
       "      <td>-77.02</td>\n",
       "      <td>0.03</td>\n",
       "      <td>-77.11</td>\n",
       "      <td>-77.04</td>\n",
       "      <td>-77.02</td>\n",
       "      <td>-77.00</td>\n",
       "      <td>-76.91</td>\n",
       "    </tr>\n",
       "    <tr>\n",
       "      <th>room_type</th>\n",
       "      <td>0</td>\n",
       "      <td>0.00</td>\n",
       "      <td>object</td>\n",
       "      <td>4</td>\n",
       "      <td>nan</td>\n",
       "      <td>nan</td>\n",
       "      <td>nan</td>\n",
       "      <td>nan</td>\n",
       "      <td>nan</td>\n",
       "      <td>nan</td>\n",
       "      <td>nan</td>\n",
       "      <td>nan</td>\n",
       "    </tr>\n",
       "    <tr>\n",
       "      <th>accommodates</th>\n",
       "      <td>0</td>\n",
       "      <td>0.00</td>\n",
       "      <td>int64</td>\n",
       "      <td>17</td>\n",
       "      <td>5,826.00</td>\n",
       "      <td>3.65</td>\n",
       "      <td>2.26</td>\n",
       "      <td>0.00</td>\n",
       "      <td>2.00</td>\n",
       "      <td>3.00</td>\n",
       "      <td>4.00</td>\n",
       "      <td>16.00</td>\n",
       "    </tr>\n",
       "    <tr>\n",
       "      <th>bathrooms_text</th>\n",
       "      <td>4</td>\n",
       "      <td>0.00</td>\n",
       "      <td>object</td>\n",
       "      <td>25</td>\n",
       "      <td>nan</td>\n",
       "      <td>nan</td>\n",
       "      <td>nan</td>\n",
       "      <td>nan</td>\n",
       "      <td>nan</td>\n",
       "      <td>nan</td>\n",
       "      <td>nan</td>\n",
       "      <td>nan</td>\n",
       "    </tr>\n",
       "    <tr>\n",
       "      <th>bedrooms</th>\n",
       "      <td>597</td>\n",
       "      <td>0.10</td>\n",
       "      <td>float64</td>\n",
       "      <td>9</td>\n",
       "      <td>5,229.00</td>\n",
       "      <td>1.53</td>\n",
       "      <td>0.92</td>\n",
       "      <td>1.00</td>\n",
       "      <td>1.00</td>\n",
       "      <td>1.00</td>\n",
       "      <td>2.00</td>\n",
       "      <td>9.00</td>\n",
       "    </tr>\n",
       "    <tr>\n",
       "      <th>beds</th>\n",
       "      <td>22</td>\n",
       "      <td>0.00</td>\n",
       "      <td>float64</td>\n",
       "      <td>16</td>\n",
       "      <td>5,804.00</td>\n",
       "      <td>1.91</td>\n",
       "      <td>1.44</td>\n",
       "      <td>0.00</td>\n",
       "      <td>1.00</td>\n",
       "      <td>2.00</td>\n",
       "      <td>2.00</td>\n",
       "      <td>19.00</td>\n",
       "    </tr>\n",
       "    <tr>\n",
       "      <th>amenities</th>\n",
       "      <td>0</td>\n",
       "      <td>0.00</td>\n",
       "      <td>object</td>\n",
       "      <td>5501</td>\n",
       "      <td>nan</td>\n",
       "      <td>nan</td>\n",
       "      <td>nan</td>\n",
       "      <td>nan</td>\n",
       "      <td>nan</td>\n",
       "      <td>nan</td>\n",
       "      <td>nan</td>\n",
       "      <td>nan</td>\n",
       "    </tr>\n",
       "    <tr>\n",
       "      <th>price</th>\n",
       "      <td>0</td>\n",
       "      <td>0.00</td>\n",
       "      <td>object</td>\n",
       "      <td>466</td>\n",
       "      <td>nan</td>\n",
       "      <td>nan</td>\n",
       "      <td>nan</td>\n",
       "      <td>nan</td>\n",
       "      <td>nan</td>\n",
       "      <td>nan</td>\n",
       "      <td>nan</td>\n",
       "      <td>nan</td>\n",
       "    </tr>\n",
       "    <tr>\n",
       "      <th>minimum_nights</th>\n",
       "      <td>0</td>\n",
       "      <td>0.00</td>\n",
       "      <td>int64</td>\n",
       "      <td>52</td>\n",
       "      <td>5,826.00</td>\n",
       "      <td>7.35</td>\n",
       "      <td>26.64</td>\n",
       "      <td>1.00</td>\n",
       "      <td>1.00</td>\n",
       "      <td>2.00</td>\n",
       "      <td>3.00</td>\n",
       "      <td>1,125.00</td>\n",
       "    </tr>\n",
       "    <tr>\n",
       "      <th>maximum_nights</th>\n",
       "      <td>0</td>\n",
       "      <td>0.00</td>\n",
       "      <td>int64</td>\n",
       "      <td>137</td>\n",
       "      <td>5,826.00</td>\n",
       "      <td>19,510.01</td>\n",
       "      <td>1,316,634.17</td>\n",
       "      <td>1.00</td>\n",
       "      <td>30.00</td>\n",
       "      <td>1,000.00</td>\n",
       "      <td>1,125.00</td>\n",
       "      <td>99,999,999.00</td>\n",
       "    </tr>\n",
       "    <tr>\n",
       "      <th>minimum_minimum_nights</th>\n",
       "      <td>0</td>\n",
       "      <td>0.00</td>\n",
       "      <td>int64</td>\n",
       "      <td>55</td>\n",
       "      <td>5,826.00</td>\n",
       "      <td>7.18</td>\n",
       "      <td>29.14</td>\n",
       "      <td>1.00</td>\n",
       "      <td>1.00</td>\n",
       "      <td>2.00</td>\n",
       "      <td>3.00</td>\n",
       "      <td>1,125.00</td>\n",
       "    </tr>\n",
       "    <tr>\n",
       "      <th>maximum_minimum_nights</th>\n",
       "      <td>0</td>\n",
       "      <td>0.00</td>\n",
       "      <td>int64</td>\n",
       "      <td>57</td>\n",
       "      <td>5,826.00</td>\n",
       "      <td>10.85</td>\n",
       "      <td>54.28</td>\n",
       "      <td>1.00</td>\n",
       "      <td>2.00</td>\n",
       "      <td>2.00</td>\n",
       "      <td>4.00</td>\n",
       "      <td>1,125.00</td>\n",
       "    </tr>\n",
       "    <tr>\n",
       "      <th>minimum_maximum_nights</th>\n",
       "      <td>0</td>\n",
       "      <td>0.00</td>\n",
       "      <td>int64</td>\n",
       "      <td>108</td>\n",
       "      <td>5,826.00</td>\n",
       "      <td>19,701.64</td>\n",
       "      <td>1,316,631.40</td>\n",
       "      <td>1.00</td>\n",
       "      <td>360.00</td>\n",
       "      <td>1,125.00</td>\n",
       "      <td>1,125.00</td>\n",
       "      <td>99,999,999.00</td>\n",
       "    </tr>\n",
       "    <tr>\n",
       "      <th>maximum_maximum_nights</th>\n",
       "      <td>0</td>\n",
       "      <td>0.00</td>\n",
       "      <td>int64</td>\n",
       "      <td>109</td>\n",
       "      <td>5,826.00</td>\n",
       "      <td>8,128,977.04</td>\n",
       "      <td>131,731,427.05</td>\n",
       "      <td>1.00</td>\n",
       "      <td>365.00</td>\n",
       "      <td>1,125.00</td>\n",
       "      <td>1,125.00</td>\n",
       "      <td>2,147,483,647.00</td>\n",
       "    </tr>\n",
       "    <tr>\n",
       "      <th>minimum_nights_avg_ntm</th>\n",
       "      <td>0</td>\n",
       "      <td>0.00</td>\n",
       "      <td>float64</td>\n",
       "      <td>191</td>\n",
       "      <td>5,826.00</td>\n",
       "      <td>10.33</td>\n",
       "      <td>52.88</td>\n",
       "      <td>1.00</td>\n",
       "      <td>1.30</td>\n",
       "      <td>2.00</td>\n",
       "      <td>3.90</td>\n",
       "      <td>1,125.00</td>\n",
       "    </tr>\n",
       "    <tr>\n",
       "      <th>maximum_nights_avg_ntm</th>\n",
       "      <td>0</td>\n",
       "      <td>0.00</td>\n",
       "      <td>float64</td>\n",
       "      <td>146</td>\n",
       "      <td>5,826.00</td>\n",
       "      <td>8,110,333.91</td>\n",
       "      <td>131,428,623.91</td>\n",
       "      <td>1.00</td>\n",
       "      <td>365.00</td>\n",
       "      <td>1,125.00</td>\n",
       "      <td>1,125.00</td>\n",
       "      <td>2,142,546,905.60</td>\n",
       "    </tr>\n",
       "    <tr>\n",
       "      <th>has_availability</th>\n",
       "      <td>0</td>\n",
       "      <td>0.00</td>\n",
       "      <td>object</td>\n",
       "      <td>2</td>\n",
       "      <td>nan</td>\n",
       "      <td>nan</td>\n",
       "      <td>nan</td>\n",
       "      <td>nan</td>\n",
       "      <td>nan</td>\n",
       "      <td>nan</td>\n",
       "      <td>nan</td>\n",
       "      <td>nan</td>\n",
       "    </tr>\n",
       "    <tr>\n",
       "      <th>availability_30</th>\n",
       "      <td>0</td>\n",
       "      <td>0.00</td>\n",
       "      <td>int64</td>\n",
       "      <td>31</td>\n",
       "      <td>5,826.00</td>\n",
       "      <td>7.83</td>\n",
       "      <td>10.13</td>\n",
       "      <td>0.00</td>\n",
       "      <td>0.00</td>\n",
       "      <td>2.00</td>\n",
       "      <td>13.00</td>\n",
       "      <td>30.00</td>\n",
       "    </tr>\n",
       "    <tr>\n",
       "      <th>availability_60</th>\n",
       "      <td>0</td>\n",
       "      <td>0.00</td>\n",
       "      <td>int64</td>\n",
       "      <td>61</td>\n",
       "      <td>5,826.00</td>\n",
       "      <td>20.87</td>\n",
       "      <td>21.28</td>\n",
       "      <td>0.00</td>\n",
       "      <td>0.00</td>\n",
       "      <td>15.00</td>\n",
       "      <td>39.00</td>\n",
       "      <td>60.00</td>\n",
       "    </tr>\n",
       "    <tr>\n",
       "      <th>availability_90</th>\n",
       "      <td>0</td>\n",
       "      <td>0.00</td>\n",
       "      <td>int64</td>\n",
       "      <td>91</td>\n",
       "      <td>5,826.00</td>\n",
       "      <td>35.59</td>\n",
       "      <td>33.17</td>\n",
       "      <td>0.00</td>\n",
       "      <td>0.00</td>\n",
       "      <td>33.00</td>\n",
       "      <td>67.00</td>\n",
       "      <td>90.00</td>\n",
       "    </tr>\n",
       "    <tr>\n",
       "      <th>availability_365</th>\n",
       "      <td>0</td>\n",
       "      <td>0.00</td>\n",
       "      <td>int64</td>\n",
       "      <td>363</td>\n",
       "      <td>5,826.00</td>\n",
       "      <td>136.40</td>\n",
       "      <td>132.77</td>\n",
       "      <td>0.00</td>\n",
       "      <td>0.00</td>\n",
       "      <td>95.50</td>\n",
       "      <td>265.00</td>\n",
       "      <td>365.00</td>\n",
       "    </tr>\n",
       "    <tr>\n",
       "      <th>number_of_reviews</th>\n",
       "      <td>0</td>\n",
       "      <td>0.00</td>\n",
       "      <td>int64</td>\n",
       "      <td>376</td>\n",
       "      <td>5,826.00</td>\n",
       "      <td>50.85</td>\n",
       "      <td>77.23</td>\n",
       "      <td>1.00</td>\n",
       "      <td>4.00</td>\n",
       "      <td>17.00</td>\n",
       "      <td>66.00</td>\n",
       "      <td>662.00</td>\n",
       "    </tr>\n",
       "    <tr>\n",
       "      <th>number_of_reviews_ltm</th>\n",
       "      <td>0</td>\n",
       "      <td>0.00</td>\n",
       "      <td>int64</td>\n",
       "      <td>105</td>\n",
       "      <td>5,826.00</td>\n",
       "      <td>8.29</td>\n",
       "      <td>14.78</td>\n",
       "      <td>0.00</td>\n",
       "      <td>0.00</td>\n",
       "      <td>2.00</td>\n",
       "      <td>10.00</td>\n",
       "      <td>153.00</td>\n",
       "    </tr>\n",
       "    <tr>\n",
       "      <th>number_of_reviews_l30d</th>\n",
       "      <td>0</td>\n",
       "      <td>0.00</td>\n",
       "      <td>int64</td>\n",
       "      <td>17</td>\n",
       "      <td>5,826.00</td>\n",
       "      <td>0.97</td>\n",
       "      <td>1.79</td>\n",
       "      <td>0.00</td>\n",
       "      <td>0.00</td>\n",
       "      <td>0.00</td>\n",
       "      <td>1.00</td>\n",
       "      <td>17.00</td>\n",
       "    </tr>\n",
       "    <tr>\n",
       "      <th>review_scores_rating</th>\n",
       "      <td>0</td>\n",
       "      <td>0.00</td>\n",
       "      <td>float64</td>\n",
       "      <td>118</td>\n",
       "      <td>5,826.00</td>\n",
       "      <td>4.68</td>\n",
       "      <td>0.70</td>\n",
       "      <td>0.00</td>\n",
       "      <td>4.67</td>\n",
       "      <td>4.86</td>\n",
       "      <td>5.00</td>\n",
       "      <td>5.00</td>\n",
       "    </tr>\n",
       "    <tr>\n",
       "      <th>instant_bookable</th>\n",
       "      <td>0</td>\n",
       "      <td>0.00</td>\n",
       "      <td>object</td>\n",
       "      <td>2</td>\n",
       "      <td>nan</td>\n",
       "      <td>nan</td>\n",
       "      <td>nan</td>\n",
       "      <td>nan</td>\n",
       "      <td>nan</td>\n",
       "      <td>nan</td>\n",
       "      <td>nan</td>\n",
       "      <td>nan</td>\n",
       "    </tr>\n",
       "    <tr>\n",
       "      <th>calculated_host_listings_count</th>\n",
       "      <td>0</td>\n",
       "      <td>0.00</td>\n",
       "      <td>int64</td>\n",
       "      <td>33</td>\n",
       "      <td>5,826.00</td>\n",
       "      <td>11.32</td>\n",
       "      <td>32.14</td>\n",
       "      <td>1.00</td>\n",
       "      <td>1.00</td>\n",
       "      <td>1.00</td>\n",
       "      <td>4.00</td>\n",
       "      <td>170.00</td>\n",
       "    </tr>\n",
       "    <tr>\n",
       "      <th>calculated_host_listings_count_entire_homes</th>\n",
       "      <td>0</td>\n",
       "      <td>0.00</td>\n",
       "      <td>int64</td>\n",
       "      <td>25</td>\n",
       "      <td>5,826.00</td>\n",
       "      <td>9.31</td>\n",
       "      <td>31.18</td>\n",
       "      <td>0.00</td>\n",
       "      <td>1.00</td>\n",
       "      <td>1.00</td>\n",
       "      <td>2.00</td>\n",
       "      <td>170.00</td>\n",
       "    </tr>\n",
       "    <tr>\n",
       "      <th>calculated_host_listings_count_private_rooms</th>\n",
       "      <td>0</td>\n",
       "      <td>0.00</td>\n",
       "      <td>int64</td>\n",
       "      <td>19</td>\n",
       "      <td>5,826.00</td>\n",
       "      <td>1.58</td>\n",
       "      <td>7.43</td>\n",
       "      <td>0.00</td>\n",
       "      <td>0.00</td>\n",
       "      <td>0.00</td>\n",
       "      <td>1.00</td>\n",
       "      <td>136.00</td>\n",
       "    </tr>\n",
       "    <tr>\n",
       "      <th>calculated_host_listings_count_shared_rooms</th>\n",
       "      <td>0</td>\n",
       "      <td>0.00</td>\n",
       "      <td>int64</td>\n",
       "      <td>11</td>\n",
       "      <td>5,826.00</td>\n",
       "      <td>0.27</td>\n",
       "      <td>2.02</td>\n",
       "      <td>0.00</td>\n",
       "      <td>0.00</td>\n",
       "      <td>0.00</td>\n",
       "      <td>0.00</td>\n",
       "      <td>20.00</td>\n",
       "    </tr>\n",
       "  </tbody>\n",
       "</table>\n",
       "</div>"
      ],
      "text/plain": [
       "                                              null_sum  null_pct datatypes  \\\n",
       "host_since                                          10      0.00    object   \n",
       "host_is_superhost                                   10      0.00    object   \n",
       "host_neighbourhood                                 488      0.08    object   \n",
       "host_listings_count                                 10      0.00   float64   \n",
       "host_total_listings_count                           10      0.00   float64   \n",
       "host_verifications                                   0      0.00    object   \n",
       "host_has_profile_pic                                10      0.00    object   \n",
       "host_identity_verified                              10      0.00    object   \n",
       "neighbourhood_cleansed                               0      0.00    object   \n",
       "latitude                                             0      0.00   float64   \n",
       "longitude                                            0      0.00   float64   \n",
       "room_type                                            0      0.00    object   \n",
       "accommodates                                         0      0.00     int64   \n",
       "bathrooms_text                                       4      0.00    object   \n",
       "bedrooms                                           597      0.10   float64   \n",
       "beds                                                22      0.00   float64   \n",
       "amenities                                            0      0.00    object   \n",
       "price                                                0      0.00    object   \n",
       "minimum_nights                                       0      0.00     int64   \n",
       "maximum_nights                                       0      0.00     int64   \n",
       "minimum_minimum_nights                               0      0.00     int64   \n",
       "maximum_minimum_nights                               0      0.00     int64   \n",
       "minimum_maximum_nights                               0      0.00     int64   \n",
       "maximum_maximum_nights                               0      0.00     int64   \n",
       "minimum_nights_avg_ntm                               0      0.00   float64   \n",
       "maximum_nights_avg_ntm                               0      0.00   float64   \n",
       "has_availability                                     0      0.00    object   \n",
       "availability_30                                      0      0.00     int64   \n",
       "availability_60                                      0      0.00     int64   \n",
       "availability_90                                      0      0.00     int64   \n",
       "availability_365                                     0      0.00     int64   \n",
       "number_of_reviews                                    0      0.00     int64   \n",
       "number_of_reviews_ltm                                0      0.00     int64   \n",
       "number_of_reviews_l30d                               0      0.00     int64   \n",
       "review_scores_rating                                 0      0.00   float64   \n",
       "instant_bookable                                     0      0.00    object   \n",
       "calculated_host_listings_count                       0      0.00     int64   \n",
       "calculated_host_listings_count_entire_homes          0      0.00     int64   \n",
       "calculated_host_listings_count_private_rooms         0      0.00     int64   \n",
       "calculated_host_listings_count_shared_rooms          0      0.00     int64   \n",
       "\n",
       "                                              num_unique    count  \\\n",
       "host_since                                          2164      nan   \n",
       "host_is_superhost                                      2      nan   \n",
       "host_neighbourhood                                   169      nan   \n",
       "host_listings_count                                   48 5,816.00   \n",
       "host_total_listings_count                             48 5,816.00   \n",
       "host_verifications                                   269      nan   \n",
       "host_has_profile_pic                                   2      nan   \n",
       "host_identity_verified                                 2      nan   \n",
       "neighbourhood_cleansed                                39      nan   \n",
       "latitude                                            4077 5,826.00   \n",
       "longitude                                           4364 5,826.00   \n",
       "room_type                                              4      nan   \n",
       "accommodates                                          17 5,826.00   \n",
       "bathrooms_text                                        25      nan   \n",
       "bedrooms                                               9 5,229.00   \n",
       "beds                                                  16 5,804.00   \n",
       "amenities                                           5501      nan   \n",
       "price                                                466      nan   \n",
       "minimum_nights                                        52 5,826.00   \n",
       "maximum_nights                                       137 5,826.00   \n",
       "minimum_minimum_nights                                55 5,826.00   \n",
       "maximum_minimum_nights                                57 5,826.00   \n",
       "minimum_maximum_nights                               108 5,826.00   \n",
       "maximum_maximum_nights                               109 5,826.00   \n",
       "minimum_nights_avg_ntm                               191 5,826.00   \n",
       "maximum_nights_avg_ntm                               146 5,826.00   \n",
       "has_availability                                       2      nan   \n",
       "availability_30                                       31 5,826.00   \n",
       "availability_60                                       61 5,826.00   \n",
       "availability_90                                       91 5,826.00   \n",
       "availability_365                                     363 5,826.00   \n",
       "number_of_reviews                                    376 5,826.00   \n",
       "number_of_reviews_ltm                                105 5,826.00   \n",
       "number_of_reviews_l30d                                17 5,826.00   \n",
       "review_scores_rating                                 118 5,826.00   \n",
       "instant_bookable                                       2      nan   \n",
       "calculated_host_listings_count                        33 5,826.00   \n",
       "calculated_host_listings_count_entire_homes           25 5,826.00   \n",
       "calculated_host_listings_count_private_rooms          19 5,826.00   \n",
       "calculated_host_listings_count_shared_rooms           11 5,826.00   \n",
       "\n",
       "                                                     mean            std  \\\n",
       "host_since                                            nan            nan   \n",
       "host_is_superhost                                     nan            nan   \n",
       "host_neighbourhood                                    nan            nan   \n",
       "host_listings_count                                 43.93         206.60   \n",
       "host_total_listings_count                           43.93         206.60   \n",
       "host_verifications                                    nan            nan   \n",
       "host_has_profile_pic                                  nan            nan   \n",
       "host_identity_verified                                nan            nan   \n",
       "neighbourhood_cleansed                                nan            nan   \n",
       "latitude                                            38.91           0.02   \n",
       "longitude                                          -77.02           0.03   \n",
       "room_type                                             nan            nan   \n",
       "accommodates                                         3.65           2.26   \n",
       "bathrooms_text                                        nan            nan   \n",
       "bedrooms                                             1.53           0.92   \n",
       "beds                                                 1.91           1.44   \n",
       "amenities                                             nan            nan   \n",
       "price                                                 nan            nan   \n",
       "minimum_nights                                       7.35          26.64   \n",
       "maximum_nights                                  19,510.01   1,316,634.17   \n",
       "minimum_minimum_nights                               7.18          29.14   \n",
       "maximum_minimum_nights                              10.85          54.28   \n",
       "minimum_maximum_nights                          19,701.64   1,316,631.40   \n",
       "maximum_maximum_nights                       8,128,977.04 131,731,427.05   \n",
       "minimum_nights_avg_ntm                              10.33          52.88   \n",
       "maximum_nights_avg_ntm                       8,110,333.91 131,428,623.91   \n",
       "has_availability                                      nan            nan   \n",
       "availability_30                                      7.83          10.13   \n",
       "availability_60                                     20.87          21.28   \n",
       "availability_90                                     35.59          33.17   \n",
       "availability_365                                   136.40         132.77   \n",
       "number_of_reviews                                   50.85          77.23   \n",
       "number_of_reviews_ltm                                8.29          14.78   \n",
       "number_of_reviews_l30d                               0.97           1.79   \n",
       "review_scores_rating                                 4.68           0.70   \n",
       "instant_bookable                                      nan            nan   \n",
       "calculated_host_listings_count                      11.32          32.14   \n",
       "calculated_host_listings_count_entire_homes          9.31          31.18   \n",
       "calculated_host_listings_count_private_rooms         1.58           7.43   \n",
       "calculated_host_listings_count_shared_rooms          0.27           2.02   \n",
       "\n",
       "                                                min    25%      50%      75%  \\\n",
       "host_since                                      nan    nan      nan      nan   \n",
       "host_is_superhost                               nan    nan      nan      nan   \n",
       "host_neighbourhood                              nan    nan      nan      nan   \n",
       "host_listings_count                            0.00   1.00     2.00     4.00   \n",
       "host_total_listings_count                      0.00   1.00     2.00     4.00   \n",
       "host_verifications                              nan    nan      nan      nan   \n",
       "host_has_profile_pic                            nan    nan      nan      nan   \n",
       "host_identity_verified                          nan    nan      nan      nan   \n",
       "neighbourhood_cleansed                          nan    nan      nan      nan   \n",
       "latitude                                      38.82  38.90    38.91    38.92   \n",
       "longitude                                    -77.11 -77.04   -77.02   -77.00   \n",
       "room_type                                       nan    nan      nan      nan   \n",
       "accommodates                                   0.00   2.00     3.00     4.00   \n",
       "bathrooms_text                                  nan    nan      nan      nan   \n",
       "bedrooms                                       1.00   1.00     1.00     2.00   \n",
       "beds                                           0.00   1.00     2.00     2.00   \n",
       "amenities                                       nan    nan      nan      nan   \n",
       "price                                           nan    nan      nan      nan   \n",
       "minimum_nights                                 1.00   1.00     2.00     3.00   \n",
       "maximum_nights                                 1.00  30.00 1,000.00 1,125.00   \n",
       "minimum_minimum_nights                         1.00   1.00     2.00     3.00   \n",
       "maximum_minimum_nights                         1.00   2.00     2.00     4.00   \n",
       "minimum_maximum_nights                         1.00 360.00 1,125.00 1,125.00   \n",
       "maximum_maximum_nights                         1.00 365.00 1,125.00 1,125.00   \n",
       "minimum_nights_avg_ntm                         1.00   1.30     2.00     3.90   \n",
       "maximum_nights_avg_ntm                         1.00 365.00 1,125.00 1,125.00   \n",
       "has_availability                                nan    nan      nan      nan   \n",
       "availability_30                                0.00   0.00     2.00    13.00   \n",
       "availability_60                                0.00   0.00    15.00    39.00   \n",
       "availability_90                                0.00   0.00    33.00    67.00   \n",
       "availability_365                               0.00   0.00    95.50   265.00   \n",
       "number_of_reviews                              1.00   4.00    17.00    66.00   \n",
       "number_of_reviews_ltm                          0.00   0.00     2.00    10.00   \n",
       "number_of_reviews_l30d                         0.00   0.00     0.00     1.00   \n",
       "review_scores_rating                           0.00   4.67     4.86     5.00   \n",
       "instant_bookable                                nan    nan      nan      nan   \n",
       "calculated_host_listings_count                 1.00   1.00     1.00     4.00   \n",
       "calculated_host_listings_count_entire_homes    0.00   1.00     1.00     2.00   \n",
       "calculated_host_listings_count_private_rooms   0.00   0.00     0.00     1.00   \n",
       "calculated_host_listings_count_shared_rooms    0.00   0.00     0.00     0.00   \n",
       "\n",
       "                                                          max  \n",
       "host_since                                                nan  \n",
       "host_is_superhost                                         nan  \n",
       "host_neighbourhood                                        nan  \n",
       "host_listings_count                                  1,683.00  \n",
       "host_total_listings_count                            1,683.00  \n",
       "host_verifications                                        nan  \n",
       "host_has_profile_pic                                      nan  \n",
       "host_identity_verified                                    nan  \n",
       "neighbourhood_cleansed                                    nan  \n",
       "latitude                                                38.99  \n",
       "longitude                                              -76.91  \n",
       "room_type                                                 nan  \n",
       "accommodates                                            16.00  \n",
       "bathrooms_text                                            nan  \n",
       "bedrooms                                                 9.00  \n",
       "beds                                                    19.00  \n",
       "amenities                                                 nan  \n",
       "price                                                     nan  \n",
       "minimum_nights                                       1,125.00  \n",
       "maximum_nights                                  99,999,999.00  \n",
       "minimum_minimum_nights                               1,125.00  \n",
       "maximum_minimum_nights                               1,125.00  \n",
       "minimum_maximum_nights                          99,999,999.00  \n",
       "maximum_maximum_nights                       2,147,483,647.00  \n",
       "minimum_nights_avg_ntm                               1,125.00  \n",
       "maximum_nights_avg_ntm                       2,142,546,905.60  \n",
       "has_availability                                          nan  \n",
       "availability_30                                         30.00  \n",
       "availability_60                                         60.00  \n",
       "availability_90                                         90.00  \n",
       "availability_365                                       365.00  \n",
       "number_of_reviews                                      662.00  \n",
       "number_of_reviews_ltm                                  153.00  \n",
       "number_of_reviews_l30d                                  17.00  \n",
       "review_scores_rating                                     5.00  \n",
       "instant_bookable                                          nan  \n",
       "calculated_host_listings_count                         170.00  \n",
       "calculated_host_listings_count_entire_homes            170.00  \n",
       "calculated_host_listings_count_private_rooms           136.00  \n",
       "calculated_host_listings_count_shared_rooms             20.00  "
      ]
     },
     "execution_count": 19,
     "metadata": {},
     "output_type": "execute_result"
    }
   ],
   "source": [
    "cf.report_df(df)"
   ]
  },
  {
   "cell_type": "markdown",
   "metadata": {},
   "source": [
    "# Inspecting Review Ratings"
   ]
  },
  {
   "cell_type": "markdown",
   "metadata": {},
   "source": [
    "---\n",
    "\n",
    "> Now that I dropped most of my missing values, I review the distribution of my ratings.\n",
    ">\n",
    "> Our target threshold score is 4.8/5.0, \n",
    "\n",
    "---\n"
   ]
  },
  {
   "cell_type": "code",
   "execution_count": 21,
   "metadata": {
    "ExecuteTime": {
     "end_time": "2021-08-05T19:52:15.952196Z",
     "start_time": "2021-08-05T19:52:15.941223Z"
    }
   },
   "outputs": [
    {
     "data": {
      "text/plain": [
       "0"
      ]
     },
     "execution_count": 21,
     "metadata": {},
     "output_type": "execute_result"
    }
   ],
   "source": [
    "df['review_scores_rating'].isna().sum()"
   ]
  },
  {
   "cell_type": "code",
   "execution_count": 22,
   "metadata": {
    "ExecuteTime": {
     "end_time": "2021-08-05T19:57:23.087233Z",
     "start_time": "2021-08-05T19:57:23.063232Z"
    },
    "scrolled": false
   },
   "outputs": [
    {
     "data": {
      "text/plain": [
       "(-0.006, 0.2]   0.01\n",
       "(0.2, 0.4]      0.00\n",
       "(0.4, 0.6]      0.00\n",
       "(0.6, 0.8]      0.00\n",
       "(0.8, 1.0]      0.00\n",
       "(1.0, 1.2]      0.00\n",
       "(1.2, 1.4]      0.00\n",
       "(1.4, 1.6]      0.00\n",
       "(1.6, 1.8]      0.00\n",
       "(1.8, 2.0]      0.00\n",
       "(2.0, 2.2]      0.00\n",
       "(2.2, 2.4]      0.00\n",
       "(2.4, 2.6]      0.00\n",
       "(2.6, 2.8]      0.00\n",
       "(2.8, 3.0]      0.01\n",
       "(3.0, 3.2]      0.00\n",
       "(3.2, 3.4]      0.00\n",
       "(3.4, 3.6]      0.00\n",
       "(3.6, 3.8]      0.01\n",
       "(3.8, 4.0]      0.02\n",
       "(4.0, 4.2]      0.01\n",
       "(4.2, 4.4]      0.03\n",
       "(4.4, 4.6]      0.09\n",
       "(4.6, 4.8]      0.21\n",
       "(4.8, 5.0]      0.59\n",
       "Name: review_scores_rating, dtype: float64"
      ]
     },
     "execution_count": 22,
     "metadata": {},
     "output_type": "execute_result"
    }
   ],
   "source": [
    "## Inspecting the totals for each range of values\n",
    "\n",
    "df['review_scores_rating'].value_counts(dropna=False, bins=25, sort=False,\n",
    "                                          normalize = True)"
   ]
  },
  {
   "cell_type": "code",
   "execution_count": null,
   "metadata": {},
   "outputs": [],
   "source": []
  },
  {
   "cell_type": "code",
   "execution_count": 23,
   "metadata": {
    "ExecuteTime": {
     "end_time": "2021-08-05T19:52:17.199216Z",
     "start_time": "2021-08-05T19:52:17.189225Z"
    }
   },
   "outputs": [
    {
     "data": {
      "text/plain": [
       "4.75   0.02\n",
       "5.00   0.26\n",
       "4.50   0.02\n",
       "4.00   0.02\n",
       "0.00   0.01\n",
       "       ... \n",
       "4.11   0.00\n",
       "4.28   0.00\n",
       "4.49   0.00\n",
       "4.40   0.00\n",
       "4.95   0.02\n",
       "Name: review_scores_rating, Length: 118, dtype: float64"
      ]
     },
     "execution_count": 23,
     "metadata": {},
     "output_type": "execute_result"
    }
   ],
   "source": []
  },
  {
   "cell_type": "markdown",
   "metadata": {},
   "source": [
    "# Inspecting Review Ratings"
   ]
  },
  {
   "cell_type": "code",
   "execution_count": 45,
   "metadata": {
    "ExecuteTime": {
     "end_time": "2021-08-05T19:57:23.087233Z",
     "start_time": "2021-08-05T19:57:23.063232Z"
    }
   },
   "outputs": [
    {
     "data": {
      "text/plain": [
       "(4.8, 5.0]   0.59\n",
       "Name: review_scores_rating, dtype: float64"
      ]
     },
     "execution_count": 45,
     "metadata": {},
     "output_type": "execute_result"
    }
   ],
   "source": [
    "df['review_scores_rating'].value_counts(bins = 25, dropna=False, sort=False,\n",
    "                                        normalize=True)[-1:]"
   ]
  },
  {
   "cell_type": "code",
   "execution_count": 29,
   "metadata": {
    "ExecuteTime": {
     "end_time": "2021-08-05T19:53:49.194929Z",
     "start_time": "2021-08-05T19:53:48.882930Z"
    }
   },
   "outputs": [
    {
     "data": {
      "image/png": "[encoded data removed]",
      "text/plain": [
       "<Figure size 748.8x514.8 with 1 Axes>"
      ]
     },
     "metadata": {
      "needs_background": "light"
     },
     "output_type": "display_data"
    }
   ],
   "source": [
    "## Visualizing the distribution of ratings\n",
    "\n",
    "ax = sns.histplot(data = data['review_scores_rating'], bins = 20)\n",
    "\n",
    "ax.set(title = 'Distribution of Review Ratings',\n",
    "       xlabel = 'Rating Score', ylabel = 'Number of Ratings')\n",
    "\n",
    "median = df['review_scores_rating'].median()\n",
    "\n",
    "ax.axvline(median, label = f'Median Score: {median}', color='k')\n",
    "\n",
    "ax.axvline(4.8, label = 'Score Threshold: 4.8', color='red')\n",
    "\n",
    "ax.legend(fontsize= 'large',title = 'Score Thresholds',\n",
    "          title_fontsize = 'large');"
   ]
  },
  {
   "cell_type": "markdown",
   "metadata": {},
   "source": [
    "---\n",
    "\n",
    "> Based on the results above, I see that **59% of the reviews are at or below our target threshold of 4.8.**\n",
    ">\n",
    "> These scores show that there's a reasonable balance of scores that are meeting our threshold for being a Superhost vs. those that are not. This balance is very important for the modeling process later in my workflow.\n",
    "\n",
    "---"
   ]
  },
  {
   "cell_type": "markdown",
   "metadata": {},
   "source": [
    "## Filling Beds"
   ]
  },
  {
   "cell_type": "code",
   "execution_count": null,
   "metadata": {
    "ExecuteTime": {
     "end_time": "2021-08-05T16:49:40.692694Z",
     "start_time": "2021-08-05T16:49:40.678693Z"
    }
   },
   "outputs": [],
   "source": [
    "## Filling missing values for 'beds' with values for 'bedrooms'\n",
    "\n",
    "for idx in list(df['beds'][df['beds'].isna()].index):\n",
    "    if df['bedrooms'][idx] > 0:\n",
    "        df['beds'][idx] = df['bedrooms'][idx]"
   ]
  },
  {
   "cell_type": "code",
   "execution_count": null,
   "metadata": {
    "ExecuteTime": {
     "end_time": "2021-08-05T16:49:40.754730Z",
     "start_time": "2021-08-05T16:49:40.694695Z"
    },
    "scrolled": false
   },
   "outputs": [],
   "source": [
    "## Filling missing values for 'bedrooms' with values for 'beds'\n",
    "\n",
    "for idx in list(df['bedrooms'][df['bedrooms'].isna()].index):\n",
    "    if df['beds'][idx] > 0:\n",
    "        df['bedrooms'][idx] = df['beds'][idx]"
   ]
  },
  {
   "cell_type": "code",
   "execution_count": null,
   "metadata": {
    "ExecuteTime": {
     "end_time": "2021-08-05T16:49:40.894723Z",
     "start_time": "2021-08-05T16:49:40.758724Z"
    },
    "scrolled": true
   },
   "outputs": [],
   "source": [
    "## Confirming reduction in missing values for 'beds' and 'bedrooms'\n",
    "\n",
    "rpt_clean  = cf.report_df(df)\n",
    "rpt_clean[rpt_clean['null_sum'] >0]"
   ]
  },
  {
   "cell_type": "code",
   "execution_count": null,
   "metadata": {
    "ExecuteTime": {
     "end_time": "2021-08-05T16:49:40.940723Z",
     "start_time": "2021-08-05T16:49:40.898725Z"
    },
    "scrolled": false
   },
   "outputs": [],
   "source": [
    "## Removing rows with 6+ null values\n",
    "\n",
    "df = df[df.isna().sum(axis=1) < 6]\n",
    "df.head(5)"
   ]
  },
  {
   "cell_type": "code",
   "execution_count": null,
   "metadata": {
    "ExecuteTime": {
     "end_time": "2021-08-05T19:33:47.669101Z",
     "start_time": "2021-08-05T19:33:47.641073Z"
    },
    "scrolled": false
   },
   "outputs": [],
   "source": [
    "## Reviewing remaining \n",
    "\n",
    "df.isna().sum()[df.isna().sum() > 0]"
   ]
  },
  {
   "cell_type": "code",
   "execution_count": null,
   "metadata": {
    "ExecuteTime": {
     "end_time": "2021-08-05T16:49:41.097722Z",
     "start_time": "2021-08-05T16:49:40.974724Z"
    },
    "scrolled": false
   },
   "outputs": [],
   "source": [
    "cf.report_df(df)"
   ]
  },
  {
   "cell_type": "code",
   "execution_count": null,
   "metadata": {
    "ExecuteTime": {
     "end_time": "2021-08-05T16:49:41.113722Z",
     "start_time": "2021-08-05T16:49:41.100726Z"
    }
   },
   "outputs": [],
   "source": [
    "## Resetting the index after dropping rows\n",
    "\n",
    "df.reset_index(drop=True, inplace=True)"
   ]
  },
  {
   "cell_type": "code",
   "execution_count": null,
   "metadata": {
    "ExecuteTime": {
     "end_time": "2021-08-05T16:49:41.128722Z",
     "start_time": "2021-08-05T16:49:41.116724Z"
    }
   },
   "outputs": [],
   "source": [
    "print(len(df) == len(df.index),\"\\n\")\n",
    "print(len(df),len(df.index))"
   ]
  },
  {
   "cell_type": "markdown",
   "metadata": {
    "ExecuteTime": {
     "end_time": "2021-08-02T19:24:46.416827Z",
     "start_time": "2021-08-02T19:24:46.402822Z"
    }
   },
   "source": [
    "---\n",
    "\n",
    "> At this point, **I cleaned up most of the null values via dropping columns with 25%+ missing values and dropping rows with 6+ missing values.**\n",
    ">\n",
    ">Additionally, **I filled missing values for 'beds'/'bedrooms' by checking the missing values for each column against the values in the other for each row.** If a row had a value in one of the columns but not the other, I filled the missing value with the value from the other column.\n",
    ">\n",
    "> At this point, I addressed most of the missing values in my dataset by dropping columns and filling missing values. There are still a few columns with missing values, but I will use a SimpleImputer combined with a GridSearchCV to determine the best method by which to fill those values.\n",
    ">\n",
    "> Now I will review the remaining data and determine if there are any other issues with my data.\n",
    "\n",
    "---"
   ]
  },
  {
   "cell_type": "code",
   "execution_count": null,
   "metadata": {
    "ExecuteTime": {
     "end_time": "2021-08-05T16:49:41.144724Z",
     "start_time": "2021-08-05T16:49:41.130724Z"
    }
   },
   "outputs": [],
   "source": [
    "len(df) == len(df.index)"
   ]
  },
  {
   "cell_type": "markdown",
   "metadata": {},
   "source": [
    "# **COMMENT:** What else to clean?? "
   ]
  },
  {
   "cell_type": "markdown",
   "metadata": {},
   "source": [
    "* DONE: T/F columns to 1/0\n",
    "\n",
    "\n",
    "* DONE: 'host_since' to DT\n",
    "\n",
    "\n",
    "* DONE: 'price' -$, to float\n",
    "\n",
    "\n",
    "* DONE: 'neighbourhood_cleansed' split on \", \" and convert to binary columns, then drop host_neighbourhood\n",
    "\n",
    "\n",
    "* DONE: 'bathrooms_text' split on space, keep 1st part, convert to int\n",
    "\n",
    "\n",
    "* 'host_verifications' - single string, needs extensive work in order to MLB"
   ]
  },
  {
   "cell_type": "markdown",
   "metadata": {},
   "source": [
    "## Converting True/False Columns to Binary Values"
   ]
  },
  {
   "cell_type": "code",
   "execution_count": null,
   "metadata": {
    "ExecuteTime": {
     "end_time": "2021-08-05T16:49:41.159724Z",
     "start_time": "2021-08-05T16:49:41.147726Z"
    }
   },
   "outputs": [],
   "source": [
    "## Creating list of true/false features to convert to 1/0, respectively\n",
    "\n",
    "t_f_xf = ['host_is_superhost','host_has_profile_pic','host_identity_verified',\n",
    "          'has_availability','instant_bookable']\n",
    "t_f_xf"
   ]
  },
  {
   "cell_type": "code",
   "execution_count": null,
   "metadata": {
    "ExecuteTime": {
     "end_time": "2021-08-05T16:49:41.190724Z",
     "start_time": "2021-08-05T16:49:41.162726Z"
    }
   },
   "outputs": [],
   "source": [
    "## Converting datatype to \"string\" to replace values\n",
    "\n",
    "df[t_f_xf] = df[t_f_xf].astype('str')\n",
    "df[t_f_xf].dtypes"
   ]
  },
  {
   "cell_type": "code",
   "execution_count": null,
   "metadata": {
    "ExecuteTime": {
     "end_time": "2021-08-05T16:49:41.222723Z",
     "start_time": "2021-08-05T16:49:41.193726Z"
    }
   },
   "outputs": [],
   "source": [
    "df[t_f_xf]"
   ]
  },
  {
   "cell_type": "code",
   "execution_count": null,
   "metadata": {
    "ExecuteTime": {
     "end_time": "2021-08-05T16:49:41.252723Z",
     "start_time": "2021-08-05T16:49:41.225727Z"
    }
   },
   "outputs": [],
   "source": [
    "## Converting t/f to 1/0, respectively\n",
    "\n",
    "df[t_f_xf] = df[t_f_xf].replace({ 't' : 1, 'f' : 0})"
   ]
  },
  {
   "cell_type": "code",
   "execution_count": null,
   "metadata": {
    "ExecuteTime": {
     "end_time": "2021-08-05T16:49:41.284723Z",
     "start_time": "2021-08-05T16:49:41.254724Z"
    }
   },
   "outputs": [],
   "source": [
    "df[t_f_xf]"
   ]
  },
  {
   "cell_type": "code",
   "execution_count": null,
   "metadata": {
    "ExecuteTime": {
     "end_time": "2021-08-05T16:49:41.299723Z",
     "start_time": "2021-08-05T16:49:41.286724Z"
    }
   },
   "outputs": [],
   "source": [
    "df[t_f_xf] = df[t_f_xf].astype(int)"
   ]
  },
  {
   "cell_type": "code",
   "execution_count": null,
   "metadata": {
    "ExecuteTime": {
     "end_time": "2021-08-05T16:49:41.346724Z",
     "start_time": "2021-08-05T16:49:41.301724Z"
    }
   },
   "outputs": [],
   "source": [
    "## Verifying results\n",
    "\n",
    "cf.report_df(df[t_f_xf])"
   ]
  },
  {
   "cell_type": "markdown",
   "metadata": {},
   "source": [
    "## Converting Price to Float "
   ]
  },
  {
   "cell_type": "code",
   "execution_count": null,
   "metadata": {
    "ExecuteTime": {
     "end_time": "2021-08-05T16:49:41.362725Z",
     "start_time": "2021-08-05T16:49:41.348725Z"
    }
   },
   "outputs": [],
   "source": [
    "## Converting each value into a float for processing\n",
    "\n",
    "df['price'] = df['price'].map(lambda price: price[1:].replace(',','')).astype('float')\n",
    "df['price'][0]"
   ]
  },
  {
   "cell_type": "code",
   "execution_count": null,
   "metadata": {
    "ExecuteTime": {
     "end_time": "2021-08-05T16:49:41.378723Z",
     "start_time": "2021-08-05T16:49:41.364723Z"
    }
   },
   "outputs": [],
   "source": [
    "df['price'].describe()"
   ]
  },
  {
   "cell_type": "markdown",
   "metadata": {},
   "source": [
    "## Creating \"Years_Hosting\""
   ]
  },
  {
   "cell_type": "markdown",
   "metadata": {},
   "source": [
    "---\n",
    "\n",
    "> Since the 'host_since' feature is clearly a date, I will create a separate feature for how many years of activity for each host.\n",
    "\n",
    "---"
   ]
  },
  {
   "cell_type": "code",
   "execution_count": null,
   "metadata": {
    "ExecuteTime": {
     "end_time": "2021-08-05T16:49:41.408731Z",
     "start_time": "2021-08-05T16:49:41.381725Z"
    }
   },
   "outputs": [],
   "source": [
    "df['years_hosting'] = df[\"host_since\"].map(lambda x: 2021- int(x.split(\"-\")[0]))\n",
    "df['years_hosting']"
   ]
  },
  {
   "cell_type": "code",
   "execution_count": null,
   "metadata": {
    "ExecuteTime": {
     "end_time": "2021-08-05T16:49:41.424724Z",
     "start_time": "2021-08-05T16:49:41.411728Z"
    },
    "scrolled": true
   },
   "outputs": [],
   "source": [
    "df['years_hosting'].value_counts()"
   ]
  },
  {
   "cell_type": "code",
   "execution_count": null,
   "metadata": {
    "ExecuteTime": {
     "end_time": "2021-08-05T16:49:41.440725Z",
     "start_time": "2021-08-05T16:49:41.427725Z"
    }
   },
   "outputs": [],
   "source": [
    "df['years_hosting'].describe()"
   ]
  },
  {
   "cell_type": "markdown",
   "metadata": {},
   "source": [
    "---\n",
    "\n",
    "> I successfully created the new feature to represent how long each host is active (up to 2021). I will be curious to see the impact of the years of experience on the overall rating at the end of my modeling process.\n",
    "\n",
    "---"
   ]
  },
  {
   "cell_type": "markdown",
   "metadata": {},
   "source": [
    "## Bathrooms_Text to Num_Bathrooms"
   ]
  },
  {
   "cell_type": "markdown",
   "metadata": {},
   "source": [
    "---\n",
    "\n",
    "> In the raw data, the original \"bathrooms\" feature was empty and was dropped as part of processing missing data.\n",
    ">\n",
    "> **My goal is to convert the \"bathrooms_text\" feature into a new \"num_bathrooms\" feature to indicate the number of bathrooms at a host property.**\n",
    ">\n",
    "> I assume the number of bathrooms would have an impact on the rating . More bathrooms could mean more space/comfort for the guest, but could also cause an increase in price.\n",
    "\n",
    "\n",
    "---"
   ]
  },
  {
   "cell_type": "code",
   "execution_count": null,
   "metadata": {
    "ExecuteTime": {
     "end_time": "2021-08-05T16:49:41.471724Z",
     "start_time": "2021-08-05T16:49:41.442725Z"
    }
   },
   "outputs": [],
   "source": [
    "## Checking current dataframe contents\n",
    "df.head(3)"
   ]
  },
  {
   "cell_type": "code",
   "execution_count": null,
   "metadata": {
    "ExecuteTime": {
     "end_time": "2021-08-05T16:49:41.502723Z",
     "start_time": "2021-08-05T16:49:41.473723Z"
    },
    "scrolled": false
   },
   "outputs": [],
   "source": [
    "## Checking for null values overall\n",
    "df.isna().sum()[df.isna().sum() > 0]"
   ]
  },
  {
   "cell_type": "code",
   "execution_count": null,
   "metadata": {
    "ExecuteTime": {
     "end_time": "2021-08-05T16:49:41.518724Z",
     "start_time": "2021-08-05T16:49:41.505725Z"
    },
    "scrolled": false
   },
   "outputs": [],
   "source": [
    "## Inspecting a selection of values from the column to understand the values\n",
    "df.loc[:,'bathrooms_text'][:21]"
   ]
  },
  {
   "cell_type": "code",
   "execution_count": null,
   "metadata": {
    "ExecuteTime": {
     "end_time": "2021-08-05T16:49:41.564723Z",
     "start_time": "2021-08-05T16:49:41.521726Z"
    }
   },
   "outputs": [],
   "source": [
    "## Inspecting the rows in which there are null values\n",
    "df[df['bathrooms_text'].isna()]"
   ]
  },
  {
   "cell_type": "code",
   "execution_count": null,
   "metadata": {
    "ExecuteTime": {
     "end_time": "2021-08-05T16:49:41.580727Z",
     "start_time": "2021-08-05T16:49:41.566726Z"
    }
   },
   "outputs": [],
   "source": [
    "## Filling null values with unique string ('Baths' not present otherwise)\n",
    "## Unique string can be used later to check for any other zero baths\n",
    "\n",
    "df.loc[:,'bathrooms_text'].fillna('0 Baths', inplace=True)"
   ]
  },
  {
   "cell_type": "code",
   "execution_count": null,
   "metadata": {
    "ExecuteTime": {
     "end_time": "2021-08-05T16:49:41.596728Z",
     "start_time": "2021-08-05T16:49:41.583725Z"
    },
    "scrolled": false
   },
   "outputs": [],
   "source": [
    "## Verifying all null values are filled\n",
    "df.isna().sum()[df.isna().sum() > 0]"
   ]
  },
  {
   "cell_type": "code",
   "execution_count": null,
   "metadata": {
    "ExecuteTime": {
     "end_time": "2021-08-05T16:49:41.612723Z",
     "start_time": "2021-08-05T16:49:41.598724Z"
    },
    "scrolled": true
   },
   "outputs": [],
   "source": [
    "df.loc[:,'bathrooms_text'].isna().sum()"
   ]
  },
  {
   "cell_type": "code",
   "execution_count": null,
   "metadata": {
    "ExecuteTime": {
     "end_time": "2021-08-05T16:49:41.642727Z",
     "start_time": "2021-08-05T16:49:41.614732Z"
    },
    "scrolled": false
   },
   "outputs": [],
   "source": [
    "## Splitting each list into separate strings\n",
    "df['num_bathrooms'] = df['bathrooms_text'].map(lambda x: x.split(' ')[0])\n",
    "df['num_bathrooms'].value_counts()"
   ]
  },
  {
   "cell_type": "code",
   "execution_count": null,
   "metadata": {
    "ExecuteTime": {
     "end_time": "2021-08-05T16:49:41.673649Z",
     "start_time": "2021-08-05T16:49:41.645724Z"
    },
    "scrolled": false
   },
   "outputs": [],
   "source": [
    "## Inspecting results that are phrases, not numbers\n",
    "\n",
    "replace = ['Half-bath', 'Shared', 'Private']\n",
    "\n",
    "for x in df['bathrooms_text']:\n",
    "    for i in replace:\n",
    "        if i in x:\n",
    "            print(x)"
   ]
  },
  {
   "cell_type": "markdown",
   "metadata": {},
   "source": [
    "---\n",
    "\n",
    "> **I will replace these values with the numeric value .5 as they are half-baths.** This will allow me to convert the column datatype to a float and use the column more easily in my modeling.\n",
    "\n",
    "---"
   ]
  },
  {
   "cell_type": "code",
   "execution_count": null,
   "metadata": {
    "ExecuteTime": {
     "end_time": "2021-08-05T16:49:41.688647Z",
     "start_time": "2021-08-05T16:49:41.675650Z"
    },
    "scrolled": true
   },
   "outputs": [],
   "source": [
    "## Replacing string values with .5 to represent half-bathrooms\n",
    "\n",
    "replace = {'Half-bath': .5, 'Shared': .5, 'Private': .5}\n",
    "\n",
    "df['num_bathrooms'].replace(replace, inplace = True)\n",
    "\n",
    "df['num_bathrooms'] = df['num_bathrooms'].astype(float)"
   ]
  },
  {
   "cell_type": "code",
   "execution_count": null,
   "metadata": {
    "ExecuteTime": {
     "end_time": "2021-08-05T16:49:41.704661Z",
     "start_time": "2021-08-05T16:49:41.690648Z"
    }
   },
   "outputs": [],
   "source": [
    "## Inspecting resulting values\n",
    "\n",
    "df['num_bathrooms'].value_counts(dropna=False)"
   ]
  },
  {
   "cell_type": "code",
   "execution_count": null,
   "metadata": {
    "ExecuteTime": {
     "end_time": "2021-08-05T16:49:41.751648Z",
     "start_time": "2021-08-05T16:49:41.707651Z"
    },
    "scrolled": false
   },
   "outputs": [],
   "source": [
    "## Inspecting listings with more than 10 rooms\n",
    "\n",
    "df[df['num_bathrooms'] >10]"
   ]
  },
  {
   "cell_type": "markdown",
   "metadata": {},
   "source": [
    "---\n",
    "\n",
    "> After taking a look at the locations listed above on Google Maps (using their latitude/longitude), I feel like these three listings with more than 10 bathrooms are either duplicates or incorrect values (for 50 baths).\n",
    ">\n",
    "> Due to the questionable nature of these values, I will drop these rows to prevent these outliers from impacting my results.\n",
    "\n",
    "---"
   ]
  },
  {
   "cell_type": "code",
   "execution_count": null,
   "metadata": {
    "ExecuteTime": {
     "end_time": "2021-08-05T16:49:41.798649Z",
     "start_time": "2021-08-05T16:49:41.754650Z"
    },
    "scrolled": true
   },
   "outputs": [],
   "source": [
    "## Inspecting rows where 'num_bathrooms' is zero to validate data\n",
    "\n",
    "df[df['num_bathrooms'] ==0]"
   ]
  },
  {
   "cell_type": "code",
   "execution_count": null,
   "metadata": {
    "ExecuteTime": {
     "end_time": "2021-08-05T16:49:41.814647Z",
     "start_time": "2021-08-05T16:49:41.800651Z"
    }
   },
   "outputs": [],
   "source": [
    "## Removing old column post-conversion\n",
    "\n",
    "df = df.drop(columns = 'bathrooms_text')"
   ]
  },
  {
   "cell_type": "code",
   "execution_count": null,
   "metadata": {
    "ExecuteTime": {
     "end_time": "2021-08-05T16:49:41.830649Z",
     "start_time": "2021-08-05T16:49:41.817649Z"
    }
   },
   "outputs": [],
   "source": [
    "## Confirming removal\n",
    "\n",
    "'bathrooms_text' in df.columns"
   ]
  },
  {
   "cell_type": "markdown",
   "metadata": {},
   "source": [
    "---\n",
    "\n",
    "> My review of the original bathroom text for the zero bathrooms column shows that the listings are associated with a private room. This would make sense as the listings may not include an option such as a shared bath, etc..\n",
    ">\n",
    "> Additionally I did fill 9 instances of missing values with \"0 Baths,\" which would contribute slightly to this count.\n",
    ">\n",
    "> Overall, I feel the data is valid and I will use it for my modeling.\n",
    "\n",
    "---"
   ]
  },
  {
   "cell_type": "markdown",
   "metadata": {},
   "source": [
    "## Cleaning Room_Type"
   ]
  },
  {
   "cell_type": "code",
   "execution_count": null,
   "metadata": {
    "ExecuteTime": {
     "end_time": "2021-08-05T16:49:41.846651Z",
     "start_time": "2021-08-05T16:49:41.833650Z"
    }
   },
   "outputs": [],
   "source": [
    "df['room_type'].value_counts()"
   ]
  },
  {
   "cell_type": "code",
   "execution_count": null,
   "metadata": {
    "ExecuteTime": {
     "end_time": "2021-08-05T16:49:41.862650Z",
     "start_time": "2021-08-05T16:49:41.848648Z"
    }
   },
   "outputs": [],
   "source": [
    "replace_rooms = {'Entire home/apt': 'entire_home', \n",
    "                 'Private room': 'private_room',\n",
    "                 'Shared room': 'shared_room',\n",
    "                 'Hotel room': 'hotel_room'\n",
    "                }\n",
    "\n",
    "df['room_type'].replace(replace_rooms, inplace=True)\n",
    "df['room_type'].value_counts(dropna=False)"
   ]
  },
  {
   "cell_type": "markdown",
   "metadata": {},
   "source": [
    "## Binarizing Neighbourhood_Cleansed"
   ]
  },
  {
   "cell_type": "markdown",
   "metadata": {},
   "source": [
    "---\n",
    "\n",
    "> The current values for \"neighbourhood_cleansed\" are a single string value. **I will separate each neighborhood and convert them into a binary column to represent whether or not that neighborhood is included in the listing, then drop the old column.**\n",
    "\n",
    "---"
   ]
  },
  {
   "cell_type": "code",
   "execution_count": null,
   "metadata": {
    "ExecuteTime": {
     "end_time": "2021-08-05T16:49:41.878648Z",
     "start_time": "2021-08-05T16:49:41.865650Z"
    },
    "scrolled": true
   },
   "outputs": [],
   "source": [
    "## Inspecting feature\n",
    "df.loc[:,'neighbourhood_cleansed']"
   ]
  },
  {
   "cell_type": "code",
   "execution_count": null,
   "metadata": {
    "ExecuteTime": {
     "end_time": "2021-08-05T16:49:41.894648Z",
     "start_time": "2021-08-05T16:49:41.881648Z"
    }
   },
   "outputs": [],
   "source": [
    "## Identifying datatype\n",
    "df.loc[:,'neighbourhood_cleansed'].dtype"
   ]
  },
  {
   "cell_type": "code",
   "execution_count": null,
   "metadata": {
    "ExecuteTime": {
     "end_time": "2021-08-05T16:49:41.910650Z",
     "start_time": "2021-08-05T16:49:41.896649Z"
    }
   },
   "outputs": [],
   "source": [
    "## Testing the splitting between neighborhoods\n",
    "\n",
    "df.loc[:,'neighbourhood_cleansed'][1].split(', ')"
   ]
  },
  {
   "cell_type": "code",
   "execution_count": null,
   "metadata": {
    "ExecuteTime": {
     "end_time": "2021-08-05T16:49:41.941650Z",
     "start_time": "2021-08-05T16:49:41.913649Z"
    }
   },
   "outputs": [],
   "source": [
    "## Converting values into a list of strings of neighborhoods\n",
    "\n",
    "df['neighbourhood_cleansed'] = df['neighbourhood_cleansed'] \\\n",
    "                                    .apply(lambda x: x.split(', '))\n",
    "\n",
    "display(df.loc[:,'neighbourhood_cleansed'])"
   ]
  },
  {
   "cell_type": "markdown",
   "metadata": {},
   "source": [
    "---\n",
    "\n",
    "> The following code snippet is adapted from [here](https://stackoverflow.com/questions/45312377/how-to-one-hot-encode-from-a-pandas-column-containing-a-list#:~:text=Sparse%20solution%20(for%20Pandas%20v0.25.0%2B)) by the user [Maxu](https://stackoverflow.com/users/5741205/maxu).\n",
    "\n",
    "---"
   ]
  },
  {
   "cell_type": "code",
   "execution_count": null,
   "metadata": {
    "ExecuteTime": {
     "end_time": "2021-08-05T16:49:41.987650Z",
     "start_time": "2021-08-05T16:49:41.945650Z"
    }
   },
   "outputs": [],
   "source": [
    "## Converting each neighborhood into a binary column and dropping old column\n",
    "\n",
    "mlb = MultiLabelBinarizer()\n",
    "\n",
    "df = df.join(pd.DataFrame(mlb.fit_transform(df.pop('neighbourhood_cleansed')),\n",
    "                              columns=mlb.classes_,index=df.index))"
   ]
  },
  {
   "cell_type": "code",
   "execution_count": null,
   "metadata": {
    "ExecuteTime": {
     "end_time": "2021-08-05T16:49:42.095654Z",
     "start_time": "2021-08-05T16:49:41.990650Z"
    },
    "scrolled": true
   },
   "outputs": [],
   "source": [
    "## Inspecting results\n",
    "\n",
    "df.head(3)"
   ]
  },
  {
   "cell_type": "markdown",
   "metadata": {},
   "source": [
    "---\n",
    "\n",
    "> After using the MultiLabelBinarizer, I successfully added a column for each neighborhood, indicating whether or not that neighborhood was included in the listing.\n",
    ">\n",
    "> This enables me to use the presence/absence of a  neighborhood as a category in my modeling.\n",
    "\n",
    "---"
   ]
  },
  {
   "cell_type": "markdown",
   "metadata": {},
   "source": [
    "## Host_Verifications to Binary Columns"
   ]
  },
  {
   "cell_type": "markdown",
   "metadata": {},
   "source": [
    "---\n",
    "\n",
    "> For the \"host_verifications\" and \"amenities\" features, the values are a single string with several items within the string.\n",
    ">\n",
    "> It is somewhat similar to the \"neighborhoods_cleaned\" feature in the sense that I will need to filter out the individual items from the string. However, there is an added complication as I need to remove the brackets and quotations from the strings.\n",
    ">\n",
    "> Once I filter out the items, I will be able to use the MultiLabelBinarizer again to create more categories for each amenity.\n",
    "\n",
    "---"
   ]
  },
  {
   "cell_type": "code",
   "execution_count": null,
   "metadata": {
    "ExecuteTime": {
     "end_time": "2021-08-05T16:49:42.110652Z",
     "start_time": "2021-08-05T16:49:42.097651Z"
    }
   },
   "outputs": [],
   "source": [
    "## Inspecting contents\n",
    "df['host_verifications'][:10]"
   ]
  },
  {
   "cell_type": "code",
   "execution_count": null,
   "metadata": {
    "ExecuteTime": {
     "end_time": "2021-08-05T16:49:42.126650Z",
     "start_time": "2021-08-05T16:49:42.113653Z"
    }
   },
   "outputs": [],
   "source": [
    "## Testing the splitting between items\n",
    "\n",
    "df.loc[:,'host_verifications'][1]"
   ]
  },
  {
   "cell_type": "code",
   "execution_count": null,
   "metadata": {
    "ExecuteTime": {
     "end_time": "2021-08-05T16:49:42.174648Z",
     "start_time": "2021-08-05T16:49:42.129663Z"
    }
   },
   "outputs": [],
   "source": [
    "## Removing e'host_verifications'tra characters and splitting items\n",
    "\n",
    "df['host_verifications'] = df['host_verifications'].str.replace('[', '')\n",
    "df['host_verifications'] = df['host_verifications'].str.replace(']', '')\n",
    "df['host_verifications'] = df['host_verifications'].str.replace(\"'\", '')\n",
    "df['host_verifications'] = df['host_verifications'].str.replace('\"', '')\n",
    "df['host_verifications'] = df['host_verifications'].apply(lambda x: x.split(', '))"
   ]
  },
  {
   "cell_type": "code",
   "execution_count": null,
   "metadata": {
    "ExecuteTime": {
     "end_time": "2021-08-05T16:49:42.206648Z",
     "start_time": "2021-08-05T16:49:42.184651Z"
    }
   },
   "outputs": [],
   "source": [
    "df['host_verifications']"
   ]
  },
  {
   "cell_type": "code",
   "execution_count": null,
   "metadata": {
    "ExecuteTime": {
     "end_time": "2021-08-05T16:49:42.407649Z",
     "start_time": "2021-08-05T16:49:42.210651Z"
    }
   },
   "outputs": [],
   "source": [
    "## Converting each value into a binary column and dropping old column\n",
    "\n",
    "mlb2 = MultiLabelBinarizer()\n",
    "    \n",
    "df = df.join(pd.DataFrame(mlb2.fit_transform(df.pop('host_verifications')),\n",
    "                                  columns=mlb2.classes_,index=df.index))\n",
    "\n",
    "df"
   ]
  },
  {
   "cell_type": "markdown",
   "metadata": {},
   "source": [
    "---\n",
    "\n",
    "> At this point, I successfully processed the 'host_verification' feature into distinct categories for modeling.\n",
    ">\n",
    "> In the future, I may attempt to do the same for the 'amenities' feature, but I don't want to create too many columns before my initial modeling.\n",
    "\n",
    "---"
   ]
  },
  {
   "cell_type": "markdown",
   "metadata": {},
   "source": [
    "## ❌ ERROR ❌ Binarizing Room_Type"
   ]
  },
  {
   "cell_type": "markdown",
   "metadata": {},
   "source": [
    "---\n",
    "\n",
    "> **Can't get MLB/OHE to work for individual property types.**\n",
    "\n",
    "---"
   ]
  },
  {
   "cell_type": "code",
   "execution_count": null,
   "metadata": {
    "ExecuteTime": {
     "end_time": "2021-08-05T16:49:42.422648Z",
     "start_time": "2021-08-05T16:49:42.409649Z"
    }
   },
   "outputs": [],
   "source": [
    "# df['room_type'].describe()"
   ]
  },
  {
   "cell_type": "code",
   "execution_count": null,
   "metadata": {
    "ExecuteTime": {
     "end_time": "2021-08-05T16:49:42.438648Z",
     "start_time": "2021-08-05T16:49:42.425650Z"
    },
    "scrolled": true
   },
   "outputs": [],
   "source": [
    "# df['room_type'].value_counts(dropna=False)"
   ]
  },
  {
   "cell_type": "code",
   "execution_count": null,
   "metadata": {
    "ExecuteTime": {
     "end_time": "2021-08-05T16:49:42.454650Z",
     "start_time": "2021-08-05T16:49:42.441651Z"
    }
   },
   "outputs": [],
   "source": [
    "# df['room_type'] = df['room_type'].replace('Entire home/apt', 'Home/Apt')"
   ]
  },
  {
   "cell_type": "code",
   "execution_count": null,
   "metadata": {
    "ExecuteTime": {
     "end_time": "2021-08-05T16:49:42.470649Z",
     "start_time": "2021-08-05T16:49:42.456653Z"
    }
   },
   "outputs": [],
   "source": [
    "# df['room_type'] = df['room_type'].map(lambda x: x.split(' ')[0])"
   ]
  },
  {
   "cell_type": "code",
   "execution_count": null,
   "metadata": {
    "ExecuteTime": {
     "end_time": "2021-08-05T16:49:42.485648Z",
     "start_time": "2021-08-05T16:49:42.472652Z"
    }
   },
   "outputs": [],
   "source": [
    "# df['room_type'].value_counts(dropna=False)"
   ]
  },
  {
   "cell_type": "code",
   "execution_count": null,
   "metadata": {
    "ExecuteTime": {
     "end_time": "2021-08-05T16:49:42.500652Z",
     "start_time": "2021-08-05T16:49:42.488650Z"
    }
   },
   "outputs": [],
   "source": [
    "# ohe = OneHotEncoder(sparse=False)\n",
    "\n",
    "# df_ohe = ohe.fit_transform([df['room_type']])\n",
    "# df_ohe"
   ]
  },
  {
   "cell_type": "code",
   "execution_count": null,
   "metadata": {
    "ExecuteTime": {
     "end_time": "2021-08-05T16:49:42.516697Z",
     "start_time": "2021-08-05T16:49:42.503651Z"
    },
    "scrolled": true
   },
   "outputs": [],
   "source": [
    "# pd.DataFrame(df_ohe)"
   ]
  },
  {
   "cell_type": "markdown",
   "metadata": {},
   "source": [
    "## ❌ ERROR ❌ Converting Amenities\n"
   ]
  },
  {
   "cell_type": "markdown",
   "metadata": {},
   "source": [
    "---\n",
    "\n",
    "> same issue as w/ room type\n",
    "\n",
    "---"
   ]
  },
  {
   "cell_type": "code",
   "execution_count": null,
   "metadata": {
    "ExecuteTime": {
     "end_time": "2021-08-05T16:49:42.532649Z",
     "start_time": "2021-08-05T16:49:42.518653Z"
    }
   },
   "outputs": [],
   "source": [
    "# for x in ['host_verifications', 'amenities']:\n",
    "#     print(df[x])"
   ]
  },
  {
   "cell_type": "code",
   "execution_count": null,
   "metadata": {
    "ExecuteTime": {
     "end_time": "2021-08-05T16:49:42.547651Z",
     "start_time": "2021-08-05T16:49:42.535651Z"
    }
   },
   "outputs": [],
   "source": [
    "# df['amenities'][:10]"
   ]
  },
  {
   "cell_type": "code",
   "execution_count": null,
   "metadata": {
    "ExecuteTime": {
     "end_time": "2021-08-05T16:49:42.563663Z",
     "start_time": "2021-08-05T16:49:42.550650Z"
    }
   },
   "outputs": [],
   "source": [
    "# for x in ['host_verifications', 'amenities']:\n",
    "#     df[x] = df[x].str.replace('and', '')"
   ]
  },
  {
   "cell_type": "code",
   "execution_count": null,
   "metadata": {
    "ExecuteTime": {
     "end_time": "2021-08-05T16:49:42.578652Z",
     "start_time": "2021-08-05T16:49:42.566650Z"
    }
   },
   "outputs": [],
   "source": [
    "# ## Converting each value into a binary column and dropping old column\n",
    "\n",
    "# mlb = MultiLabelBinarizer()\n",
    "    \n",
    "# df = df.join(pd.DataFrame(mlb.fit_transform(df.pop('amenities')),\n",
    "#                                   columns=mlb.classes_,index=df.index))"
   ]
  },
  {
   "cell_type": "code",
   "execution_count": null,
   "metadata": {
    "ExecuteTime": {
     "end_time": "2021-08-05T16:49:42.594648Z",
     "start_time": "2021-08-05T16:49:42.581651Z"
    }
   },
   "outputs": [],
   "source": [
    "# df.loc[:,'host_verifications'] = df.loc[:,'host_verifications'].str.replace('[', '')\n",
    "# df.loc[:,'host_verifications'] = df.loc[:,'host_verifications'].str.replace(']', '')\n",
    "# df.loc[:,'host_verifications'] = df.loc[:,'host_verifications'].str.replace(\"'\", '')"
   ]
  },
  {
   "cell_type": "code",
   "execution_count": null,
   "metadata": {
    "ExecuteTime": {
     "end_time": "2021-08-05T16:49:42.610650Z",
     "start_time": "2021-08-05T16:49:42.597651Z"
    },
    "scrolled": true
   },
   "outputs": [],
   "source": [
    "# df.loc[:,'host_verifications']"
   ]
  },
  {
   "cell_type": "code",
   "execution_count": null,
   "metadata": {
    "ExecuteTime": {
     "end_time": "2021-08-05T16:49:42.626650Z",
     "start_time": "2021-08-05T16:49:42.612650Z"
    }
   },
   "outputs": [],
   "source": [
    "# df['amenities'] = df['amenities'].str.replace('[', '')\n",
    "# df['amenities'] = df['amenities'].str.replace(']', '')\n",
    "# df['amenities'] = df['amenities'].str.replace('\"', '')"
   ]
  },
  {
   "cell_type": "code",
   "execution_count": null,
   "metadata": {
    "ExecuteTime": {
     "end_time": "2021-08-05T16:49:42.642655Z",
     "start_time": "2021-08-05T16:49:42.629650Z"
    },
    "scrolled": true
   },
   "outputs": [],
   "source": [
    "# df['amenities']"
   ]
  },
  {
   "cell_type": "code",
   "execution_count": null,
   "metadata": {
    "ExecuteTime": {
     "end_time": "2021-08-05T16:49:42.658650Z",
     "start_time": "2021-08-05T16:49:42.645651Z"
    }
   },
   "outputs": [],
   "source": [
    "# df['amenities'] = df['amenities'].apply(lambda x: x.split(', '))"
   ]
  },
  {
   "cell_type": "code",
   "execution_count": null,
   "metadata": {
    "ExecuteTime": {
     "end_time": "2021-08-05T16:49:42.673656Z",
     "start_time": "2021-08-05T16:49:42.660650Z"
    }
   },
   "outputs": [],
   "source": [
    "# df['amenities'][0]"
   ]
  },
  {
   "cell_type": "code",
   "execution_count": null,
   "metadata": {
    "ExecuteTime": {
     "end_time": "2021-08-05T16:49:42.688665Z",
     "start_time": "2021-08-05T16:49:42.675649Z"
    }
   },
   "outputs": [],
   "source": [
    "# df['host_verifications'] = df['host_verifications'].apply(lambda x: x.split(', '))"
   ]
  },
  {
   "cell_type": "code",
   "execution_count": null,
   "metadata": {
    "ExecuteTime": {
     "end_time": "2021-08-05T16:49:42.704650Z",
     "start_time": "2021-08-05T16:49:42.691650Z"
    }
   },
   "outputs": [],
   "source": [
    "# df['host_verifications'][0][0]"
   ]
  },
  {
   "cell_type": "code",
   "execution_count": null,
   "metadata": {
    "ExecuteTime": {
     "end_time": "2021-08-05T16:49:42.719651Z",
     "start_time": "2021-08-05T16:49:42.707649Z"
    }
   },
   "outputs": [],
   "source": [
    "# def convert_to_col(df, list_cols):\n",
    "#     '''For a given list of column names, separates each string value in the\n",
    "#     column by the comma/space pattern to return new strings of single values.\n",
    "    \n",
    "#     Then, instantiates a MultiLabelBinarizer to create new columns for each \n",
    "#     new string to indicate the presence or absence of that string in the \n",
    "#     original column.'''\n",
    "    \n",
    "# #     mlb = MultiLabelBinarizer()\n",
    "    \n",
    "#     for x in list_cols:\n",
    "#         try:\n",
    "#             df[x] = df[x].apply(lambda x: x.split(', '))\n",
    "#             print(f'Successfully split values in column \"{x}\"')\n",
    "            \n",
    "#         except Exception:\n",
    "#             print('\\nValues are already processed and saved.')\n",
    "#             print(f\"\\nSample value: {df.loc[:,x][3]}\")\n",
    "            \n",
    "# #         try:\n",
    "# #             df = df.join(pd.DataFrame(mlb.fit_transform(df.pop(x)),\n",
    "# #                                       columns=mlb.classes_,index=df.index))\n",
    "# #         except Exception:\n",
    "# #                 print('\\nValues are already processed and saved.')\n",
    "                \n",
    "#     return df"
   ]
  },
  {
   "cell_type": "code",
   "execution_count": null,
   "metadata": {
    "ExecuteTime": {
     "end_time": "2021-08-05T16:49:42.734648Z",
     "start_time": "2021-08-05T16:49:42.722651Z"
    },
    "scrolled": false
   },
   "outputs": [],
   "source": [
    "# binarize_cols = ['host_verifications', 'amenities'] \n",
    "\n",
    "# convert_to_col(df, binarize_cols)"
   ]
  },
  {
   "cell_type": "code",
   "execution_count": null,
   "metadata": {
    "ExecuteTime": {
     "end_time": "2021-08-05T16:49:42.750650Z",
     "start_time": "2021-08-05T16:49:42.736649Z"
    }
   },
   "outputs": [],
   "source": [
    "# ## Converting each value into a binary column and dropping old column\n",
    "\n",
    "# mlb = MultiLabelBinarizer()\n",
    "    \n",
    "# df = df.join(pd.DataFrame(mlb.fit_transform(df.pop('amenities')),\n",
    "#                                   columns=mlb.classes_,index=df.index))"
   ]
  },
  {
   "cell_type": "code",
   "execution_count": null,
   "metadata": {
    "ExecuteTime": {
     "end_time": "2021-08-05T16:49:42.766649Z",
     "start_time": "2021-08-05T16:49:42.752653Z"
    }
   },
   "outputs": [],
   "source": [
    "# # mlb = MultiLabelBinarizer()\n",
    "    \n",
    "# df = df.join(pd.DataFrame(mlb.fit_transform(df.pop('amenities')),\n",
    "#                                   columns=mlb.classes_,index=df.index))"
   ]
  },
  {
   "cell_type": "code",
   "execution_count": null,
   "metadata": {
    "ExecuteTime": {
     "end_time": "2021-08-05T16:49:42.782647Z",
     "start_time": "2021-08-05T16:49:42.768649Z"
    }
   },
   "outputs": [],
   "source": [
    "# ## Converting values into a list of strings for each neighborhood\n",
    "\n",
    "# try:\n",
    "#     df['host_verifications'] = df['host_verifications'] \\\n",
    "#                                                 .apply(lambda x: x.split(', '))\n",
    "#     display(df.loc[:,'host_verifications'])\n",
    "# except Exception:\n",
    "#     print('\\nValues are already processed and saved. No changes necessary.')\n",
    "#     print(f\"\\nSample value: {df.loc[:,'host_verifications'][3]}\")\n",
    "    \n",
    "    "
   ]
  },
  {
   "cell_type": "code",
   "execution_count": null,
   "metadata": {
    "ExecuteTime": {
     "end_time": "2021-08-05T16:49:42.797648Z",
     "start_time": "2021-08-05T16:49:42.784650Z"
    },
    "scrolled": true
   },
   "outputs": [],
   "source": [
    "# ## Inspecting results\n",
    "\n",
    "# df.head(3)"
   ]
  },
  {
   "cell_type": "code",
   "execution_count": null,
   "metadata": {
    "ExecuteTime": {
     "end_time": "2021-08-05T16:49:42.812649Z",
     "start_time": "2021-08-05T16:49:42.799650Z"
    }
   },
   "outputs": [],
   "source": [
    "# test3 = df['host_verifications'][0]\n",
    "# test3[1:-1].replace('\"', \"'\").split(\",\")"
   ]
  },
  {
   "cell_type": "code",
   "execution_count": null,
   "metadata": {
    "ExecuteTime": {
     "end_time": "2021-08-05T16:49:42.828649Z",
     "start_time": "2021-08-05T16:49:42.814650Z"
    }
   },
   "outputs": [],
   "source": [
    "# # df['Tags'] = df.Tags.apply(lambda x: x[1:-1].split(','))\n",
    "\n",
    "# df['host_verifications'].apply(lambda x: x.split(','))[0]"
   ]
  },
  {
   "cell_type": "markdown",
   "metadata": {},
   "source": [
    "# Pre-Pipeline Review"
   ]
  },
  {
   "cell_type": "code",
   "execution_count": null,
   "metadata": {
    "ExecuteTime": {
     "end_time": "2021-08-05T16:49:42.936652Z",
     "start_time": "2021-08-05T16:49:42.830650Z"
    },
    "scrolled": false
   },
   "outputs": [],
   "source": [
    "## Review remaining data\n",
    "df.head(3)"
   ]
  },
  {
   "cell_type": "code",
   "execution_count": null,
   "metadata": {
    "ExecuteTime": {
     "end_time": "2021-08-05T16:49:42.968648Z",
     "start_time": "2021-08-05T16:49:42.939651Z"
    }
   },
   "outputs": [],
   "source": [
    "## Removing columns with no impact on modeling\n",
    "\n",
    "df.drop(columns = ['host_since', 'host_neighbourhood', 'amenities'], inplace=True)"
   ]
  },
  {
   "cell_type": "code",
   "execution_count": null,
   "metadata": {
    "ExecuteTime": {
     "end_time": "2021-08-05T16:49:43.514652Z",
     "start_time": "2021-08-05T16:49:42.971650Z"
    },
    "scrolled": false
   },
   "outputs": [],
   "source": [
    "## Final review\n",
    "\n",
    "df.describe()"
   ]
  },
  {
   "cell_type": "markdown",
   "metadata": {},
   "source": [
    "## Converting Remaining Datatypes"
   ]
  },
  {
   "cell_type": "code",
   "execution_count": null,
   "metadata": {
    "ExecuteTime": {
     "end_time": "2021-08-05T16:49:43.530651Z",
     "start_time": "2021-08-05T16:49:43.516649Z"
    },
    "scrolled": false
   },
   "outputs": [],
   "source": [
    "df.dtypes[:40]"
   ]
  },
  {
   "cell_type": "code",
   "execution_count": null,
   "metadata": {
    "ExecuteTime": {
     "end_time": "2021-08-05T16:49:43.560674Z",
     "start_time": "2021-08-05T16:49:43.532649Z"
    },
    "scrolled": true
   },
   "outputs": [],
   "source": [
    "df.isna().sum()[df.isna().sum() > 0]"
   ]
  },
  {
   "cell_type": "markdown",
   "metadata": {},
   "source": [
    "# 🪓 **Train/Test Split**"
   ]
  },
  {
   "cell_type": "markdown",
   "metadata": {},
   "source": [
    "---\n",
    "\n",
    "> Before I run any further pre-processing, I split my data into training and test sets to allow me to test my model's performance.\n",
    ">\n",
    "> **In order to split my classification target feature properly, I will convert the original values to binary values.** Since my goal is to determine whether or not a given host property will have a high score (4+), I assign all values greater-than or equal-to 4 to '1' and anything less than 4 as '0.'\n",
    ">\n",
    "> **This conversion also allows me to use the \"stratify\" parameter in my train/test split,** which will preserve the class balance when I split my data. This will be key for proper evaluation of my models.\n",
    "\n",
    "---"
   ]
  },
  {
   "cell_type": "code",
   "execution_count": null,
   "metadata": {
    "ExecuteTime": {
     "end_time": "2021-08-05T16:49:43.575676Z",
     "start_time": "2021-08-05T16:49:43.562681Z"
    }
   },
   "outputs": [],
   "source": [
    "## Using np.select to reassign target values based on conditional evaluations\n",
    "\n",
    "cond = [df['review_scores_rating'] >= 4.5,\n",
    "        df['review_scores_rating'] < 4.5\n",
    "       ]\n",
    "\n",
    "choice = [1,0]\n",
    "\n",
    "df['review_scores_rating'] = np.select(cond, choice, 0)"
   ]
  },
  {
   "cell_type": "code",
   "execution_count": null,
   "metadata": {
    "ExecuteTime": {
     "end_time": "2021-08-05T16:49:43.591673Z",
     "start_time": "2021-08-05T16:49:43.577675Z"
    }
   },
   "outputs": [],
   "source": [
    "## Reviewing results to confirm only 0/1 values\n",
    "df['review_scores_rating'].value_counts(dropna=False)"
   ]
  },
  {
   "cell_type": "code",
   "execution_count": null,
   "metadata": {
    "ExecuteTime": {
     "end_time": "2021-08-05T16:49:43.621675Z",
     "start_time": "2021-08-05T16:49:43.593675Z"
    }
   },
   "outputs": [],
   "source": [
    "## Creating features/target for dataset\n",
    "target = 'review_scores_rating'\n",
    "\n",
    "X = df.drop(columns = target).copy()\n",
    "y = df[target].copy()"
   ]
  },
  {
   "cell_type": "code",
   "execution_count": null,
   "metadata": {
    "ExecuteTime": {
     "end_time": "2021-08-05T16:49:43.637676Z",
     "start_time": "2021-08-05T16:49:43.623675Z"
    }
   },
   "outputs": [],
   "source": [
    "## Confirming same number of rows\n",
    "X.shape[0] == y.shape[0]"
   ]
  },
  {
   "cell_type": "code",
   "execution_count": null,
   "metadata": {
    "ExecuteTime": {
     "end_time": "2021-08-05T16:49:43.668676Z",
     "start_time": "2021-08-05T16:49:43.639675Z"
    }
   },
   "outputs": [],
   "source": [
    "## Splitting to prevent data leakage\n",
    "X_train, X_test, y_train, y_test = train_test_split(X, y, test_size = .3, \n",
    "                                                    random_state=42, \n",
    "                                                    stratify=y)"
   ]
  },
  {
   "cell_type": "markdown",
   "metadata": {},
   "source": [
    "# 🚿 **Preprocessing Pipeline**"
   ]
  },
  {
   "cell_type": "code",
   "execution_count": null,
   "metadata": {
    "ExecuteTime": {
     "end_time": "2021-08-05T16:49:43.684675Z",
     "start_time": "2021-08-05T16:49:43.672677Z"
    },
    "scrolled": false
   },
   "outputs": [],
   "source": [
    "num_cols = X_train.select_dtypes(include=[int, float]).columns.to_list()\n",
    "# num_cols"
   ]
  },
  {
   "cell_type": "code",
   "execution_count": null,
   "metadata": {
    "ExecuteTime": {
     "end_time": "2021-08-05T16:49:43.699674Z",
     "start_time": "2021-08-05T16:49:43.687678Z"
    },
    "scrolled": true
   },
   "outputs": [],
   "source": [
    "cat_cols = ['room_type']\n",
    "cat_cols"
   ]
  },
  {
   "cell_type": "code",
   "execution_count": null,
   "metadata": {
    "ExecuteTime": {
     "end_time": "2021-08-05T16:49:43.730675Z",
     "start_time": "2021-08-05T16:49:43.701675Z"
    }
   },
   "outputs": [],
   "source": [
    "## Checking missing X-values for imputation\n",
    "X_train.isna().sum()[X_train.isna().sum() > 0]"
   ]
  },
  {
   "cell_type": "markdown",
   "metadata": {},
   "source": [
    "## Preprocessor"
   ]
  },
  {
   "cell_type": "code",
   "execution_count": null,
   "metadata": {
    "ExecuteTime": {
     "end_time": "2021-08-05T16:49:43.778673Z",
     "start_time": "2021-08-05T16:49:43.733676Z"
    }
   },
   "outputs": [],
   "source": [
    "## Creating ColumnTransformer and sub-transformers for imputation and encoding\n",
    "\n",
    "### --- Creating column transformers --- ###\n",
    "\n",
    "# Filling missing values in \"Beds\" and \"Bedrooms\"\n",
    "miss_num_transformer = SimpleImputer(strategy='mean')\n",
    "\n",
    "## Encoding categoricals - ignoring errors to prevent issues w/ test set\n",
    "categorical_transformer = OneHotEncoder(handle_unknown='ignore', sparse=False)\n",
    "\n",
    "\n",
    "### --- Creating column pipelines --- ###\n",
    "\n",
    "cat_pipe = Pipeline(steps=[('ohe', categorical_transformer)])\n",
    "\n",
    "num_pipe = Pipeline(steps=[('imputer', miss_num_transformer),\n",
    "                           ('scaler', StandardScaler())])\n",
    "\n",
    "## Instantiating the ColumnTransformer and including all transformers\n",
    "preprocessor = ColumnTransformer(\n",
    "    transformers=[('nums', num_pipe, num_cols),\n",
    "                  ('cats', cat_pipe, cat_cols)])\n",
    "\n",
    "preprocessor"
   ]
  },
  {
   "cell_type": "code",
   "execution_count": null,
   "metadata": {
    "ExecuteTime": {
     "end_time": "2021-08-05T16:49:43.855677Z",
     "start_time": "2021-08-05T16:49:43.780676Z"
    }
   },
   "outputs": [],
   "source": [
    "## Fitting feature preprocessor\n",
    "preprocessor.fit(X_train)\n",
    "\n",
    "## Getting feature names from OHE\n",
    "ohe_cat_names = preprocessor.named_transformers_['cats'].named_steps['ohe'].get_feature_names(cat_cols)\n",
    "\n",
    "## Generating list for column index\n",
    "final_cols = [*num_cols, *ohe_cat_names]"
   ]
  },
  {
   "cell_type": "code",
   "execution_count": null,
   "metadata": {
    "ExecuteTime": {
     "end_time": "2021-08-05T16:49:44.110677Z",
     "start_time": "2021-08-05T16:49:43.858674Z"
    },
    "scrolled": false
   },
   "outputs": [],
   "source": [
    "## Transform the data via the ColumnTransformer preprocessor\n",
    "\n",
    "X_train_tf = preprocessor.transform(X_train)\n",
    "X_train_tf_df = pd.DataFrame(X_train_tf, columns=final_cols, index=X_train.index)\n",
    "\n",
    "X_test_tf = preprocessor.transform(X_test)\n",
    "X_test_tf_df = pd.DataFrame(X_test_tf, columns=final_cols, index=X_test.index)\n",
    "\n",
    "display(X_train_tf_df.head(5),X_test_tf_df.head(5))"
   ]
  },
  {
   "cell_type": "markdown",
   "metadata": {},
   "source": [
    "# Identifying columns with outliers to improve classification results"
   ]
  },
  {
   "cell_type": "code",
   "execution_count": null,
   "metadata": {
    "ExecuteTime": {
     "end_time": "2021-08-05T16:49:46.653678Z",
     "start_time": "2021-08-05T16:49:44.113674Z"
    },
    "scrolled": false
   },
   "outputs": [],
   "source": [
    "## Heatmap to visualize presence/absence of outliers\n",
    "idx_train = (np.abs(X_train_tf_df) >= 3)\n",
    "sns.heatmap(idx_train)"
   ]
  },
  {
   "cell_type": "code",
   "execution_count": null,
   "metadata": {
    "ExecuteTime": {
     "end_time": "2021-08-05T16:49:47.241677Z",
     "start_time": "2021-08-05T16:49:46.655676Z"
    },
    "scrolled": true
   },
   "outputs": [],
   "source": [
    "## Looking at the min/max values to ID extreme z-scores\n",
    "\n",
    "X_train_tf_df.describe().loc[['min','50%', 'max']]"
   ]
  },
  {
   "cell_type": "code",
   "execution_count": null,
   "metadata": {
    "ExecuteTime": {
     "end_time": "2021-08-05T16:49:47.879675Z",
     "start_time": "2021-08-05T16:49:47.243676Z"
    }
   },
   "outputs": [],
   "source": [
    "X_train_tf_df.describe().loc[['min','50%', 'max']].max()"
   ]
  },
  {
   "cell_type": "code",
   "execution_count": null,
   "metadata": {
    "ExecuteTime": {
     "end_time": "2021-08-05T16:49:49.192675Z",
     "start_time": "2021-08-05T16:49:47.882676Z"
    }
   },
   "outputs": [],
   "source": [
    "## Visualizing max values for each feature\n",
    "\n",
    "display(X_train_tf_df.describe().loc[['min','50%', 'max']].max())\n",
    "\n",
    "sns.boxplot(x=X_train_tf_df.describe().loc[['min','50%', 'max']].max());"
   ]
  },
  {
   "cell_type": "code",
   "execution_count": null,
   "metadata": {
    "ExecuteTime": {
     "end_time": "2021-08-05T16:49:50.440674Z",
     "start_time": "2021-08-05T16:49:49.195675Z"
    },
    "scrolled": false
   },
   "outputs": [],
   "source": [
    "## Visualizing min values for each feature\n",
    "\n",
    "display(X_train_tf_df.describe().loc[['min','50%', 'max']].min())\n",
    "\n",
    "sns.boxplot(x=X_train_tf_df.describe().loc[['min','50%', 'max']].min());"
   ]
  },
  {
   "cell_type": "markdown",
   "metadata": {},
   "source": [
    "## Next Step"
   ]
  },
  {
   "cell_type": "markdown",
   "metadata": {},
   "source": [
    "Goal: ID features with extreme z-scores"
   ]
  },
  {
   "cell_type": "markdown",
   "metadata": {},
   "source": [
    "# Baseline Model"
   ]
  },
  {
   "cell_type": "code",
   "execution_count": null,
   "metadata": {
    "ExecuteTime": {
     "end_time": "2021-08-05T16:49:51.418556Z",
     "start_time": "2021-08-05T16:49:50.443675Z"
    }
   },
   "outputs": [],
   "source": [
    "## Creating baseline classifier model\n",
    "\n",
    "clf = DummyClassifier(strategy='stratified')\n",
    "\n",
    "clf.fit(X_train_tf_df, y_train)\n",
    "\n",
    "cf.evaluate_classification(clf,X_train = X_train_tf_df, y_train = y_train,\n",
    "                           X_test = X_test_tf_df, y_test = y_test, \n",
    "                           metric = 'accuracy',)"
   ]
  },
  {
   "cell_type": "markdown",
   "metadata": {},
   "source": [
    "---\n",
    "\n",
    "**Interpretation**\n",
    "\n",
    "> High log loss, very poor AUC (worse than random chance).\n",
    "\n",
    "---"
   ]
  },
  {
   "cell_type": "markdown",
   "metadata": {},
   "source": [
    "#  Logistic Regression Models"
   ]
  },
  {
   "cell_type": "code",
   "execution_count": null,
   "metadata": {
    "ExecuteTime": {
     "end_time": "2021-08-05T16:49:55.517398Z",
     "start_time": "2021-08-05T16:49:51.420559Z"
    }
   },
   "outputs": [],
   "source": [
    "## Running logistic regression model to determine performance\n",
    "\n",
    "clf = LogisticRegression(max_iter=350, n_jobs=-1, class_weight='balanced',\n",
    "                         random_state = 42)\n",
    "\n",
    "clf.fit(X_train_tf_df, y_train)\n",
    "\n",
    "cf.evaluate_classification(clf, X_train = X_train_tf_df, y_train = y_train,\n",
    "                           X_test = X_test_tf_df, y_test = y_test,\n",
    "                          metric = 'accuracy')"
   ]
  },
  {
   "cell_type": "code",
   "execution_count": null,
   "metadata": {
    "ExecuteTime": {
     "end_time": "2021-08-05T16:49:59.469465Z",
     "start_time": "2021-08-05T16:49:55.519400Z"
    }
   },
   "outputs": [],
   "source": [
    "## Testing LogRegCV model to compare\n",
    "\n",
    "clf = LogisticRegressionCV(max_iter=350, n_jobs=-1, class_weight='balanced',\n",
    "                          random_state = 42)\n",
    "\n",
    "clf.fit(X_train_tf_df, y_train)\n",
    "\n",
    "cf.evaluate_classification(clf, X_train = X_train_tf_df, y_train = y_train,\n",
    "                           X_test = X_test_tf_df, y_test = y_test,\n",
    "                          metric = 'accuracy')"
   ]
  },
  {
   "cell_type": "markdown",
   "metadata": {},
   "source": [
    "---\n",
    "\n",
    "**Interpretation**\n",
    "\n",
    "> Log loss increased by .12/.08 and AUC decreased by .05/.04 for training/test sets, respectively.\n",
    ">\n",
    "> The LogisticRegressionCV model is performing slightly worse than the normal model.\n",
    ">\n",
    "> I will test a different model type to see if I can get better scores with different modeling methods.\n",
    "\n",
    "---"
   ]
  },
  {
   "cell_type": "markdown",
   "metadata": {},
   "source": [
    "# KNN Model"
   ]
  },
  {
   "cell_type": "code",
   "execution_count": null,
   "metadata": {
    "ExecuteTime": {
     "end_time": "2021-08-05T16:49:59.485449Z",
     "start_time": "2021-08-05T16:49:59.471451Z"
    }
   },
   "outputs": [],
   "source": [
    "knn = KNeighborsClassifier(n_neighbors=3, n_jobs=-1)"
   ]
  },
  {
   "cell_type": "code",
   "execution_count": null,
   "metadata": {
    "ExecuteTime": {
     "end_time": "2021-08-05T16:50:06.471460Z",
     "start_time": "2021-08-05T16:49:59.487454Z"
    }
   },
   "outputs": [],
   "source": [
    "knn.fit(X_train_tf_df, y_train)\n",
    "\n",
    "cf.evaluate_classification(knn, X_train = X_train_tf_df, y_train = y_train,\n",
    "                           X_test = X_test_tf_df, y_test = y_test,\n",
    "                          metric = 'accuracy', normalize=None)"
   ]
  },
  {
   "cell_type": "markdown",
   "metadata": {},
   "source": [
    "# Decision Tree Model"
   ]
  },
  {
   "cell_type": "code",
   "execution_count": null,
   "metadata": {
    "ExecuteTime": {
     "end_time": "2021-08-05T16:50:06.487460Z",
     "start_time": "2021-08-05T16:50:06.473460Z"
    }
   },
   "outputs": [],
   "source": [
    "dtc = DecisionTreeClassifier(class_weight = 'balanced')"
   ]
  },
  {
   "cell_type": "code",
   "execution_count": null,
   "metadata": {
    "ExecuteTime": {
     "end_time": "2021-08-05T16:50:07.422462Z",
     "start_time": "2021-08-05T16:50:06.489490Z"
    }
   },
   "outputs": [],
   "source": [
    "dtc.fit(X_train_tf_df, y_train)\n",
    "\n",
    "cf.evaluate_classification(dtc, X_train = X_train_tf_df, y_train = y_train,\n",
    "                           X_test = X_test_tf_df, y_test = y_test,\n",
    "                          metric = 'accuracy', normalize=None)"
   ]
  },
  {
   "cell_type": "code",
   "execution_count": null,
   "metadata": {
    "ExecuteTime": {
     "end_time": "2021-08-05T16:50:07.437461Z",
     "start_time": "2021-08-05T16:50:07.424475Z"
    }
   },
   "outputs": [],
   "source": [
    "dtc.get_depth()"
   ]
  },
  {
   "cell_type": "markdown",
   "metadata": {},
   "source": [
    "# RandomForestClassifier"
   ]
  },
  {
   "cell_type": "code",
   "execution_count": null,
   "metadata": {
    "ExecuteTime": {
     "end_time": "2021-08-05T16:50:07.452471Z",
     "start_time": "2021-08-05T16:50:07.439465Z"
    }
   },
   "outputs": [],
   "source": [
    "rfc = RandomForestClassifier(class_weight = 'balanced',\n",
    "                            n_jobs=-1)"
   ]
  },
  {
   "cell_type": "code",
   "execution_count": null,
   "metadata": {
    "ExecuteTime": {
     "end_time": "2021-08-05T16:50:07.780460Z",
     "start_time": "2021-08-05T16:50:07.454468Z"
    }
   },
   "outputs": [],
   "source": [
    "rfc.fit(X_train_tf_df, y_train)"
   ]
  },
  {
   "cell_type": "code",
   "execution_count": null,
   "metadata": {
    "ExecuteTime": {
     "end_time": "2021-08-05T16:50:09.151507Z",
     "start_time": "2021-08-05T16:50:07.783462Z"
    }
   },
   "outputs": [],
   "source": [
    "cf.evaluate_classification(rfc, X_train = X_train_tf_df, y_train = y_train,\n",
    "                           X_test = X_test_tf_df, y_test = y_test,\n",
    "                          metric = 'accuracy', normalize=None)"
   ]
  },
  {
   "cell_type": "code",
   "execution_count": null,
   "metadata": {
    "ExecuteTime": {
     "end_time": "2021-08-05T16:50:09.166461Z",
     "start_time": "2021-08-05T16:50:09.154461Z"
    }
   },
   "outputs": [],
   "source": [
    "def plot_depths(fitted_model, verbose = False):\n",
    "    depths = []\n",
    "\n",
    "    for i in fitted_model.estimators_:\n",
    "        depths.append(i.get_depth())\n",
    "\n",
    "    print(f'\\nThe maximum depth is: {np.max(depths)}\\n')\n",
    "\n",
    "    ax = sns.histplot(depths)\n",
    "\n",
    "    ax.set(title = 'Tree Depths Used in RandomForestClassifier',\n",
    "           xlabel = 'Depths', ylabel = 'Number of Trees')\n",
    "    ax.axvline(np.mean(depths), label = f'Mean: {np.mean(depths):.0f}',\n",
    "               color='k')\n",
    "\n",
    "    plt.legend(loc=0);\n",
    "    plt.show\n",
    "    \n",
    "    if verbose == True:\n",
    "        return depths"
   ]
  },
  {
   "cell_type": "code",
   "execution_count": null,
   "metadata": {
    "ExecuteTime": {
     "end_time": "2021-08-05T16:50:09.431467Z",
     "start_time": "2021-08-05T16:50:09.168462Z"
    }
   },
   "outputs": [],
   "source": [
    "plot_depths(rfc)"
   ]
  },
  {
   "cell_type": "code",
   "execution_count": null,
   "metadata": {
    "ExecuteTime": {
     "end_time": "2021-08-05T16:50:09.649460Z",
     "start_time": "2021-08-05T16:50:09.434461Z"
    }
   },
   "outputs": [],
   "source": [
    "cf.plot_importances(rfc, X_train_tf_df, count=5)"
   ]
  },
  {
   "cell_type": "markdown",
   "metadata": {},
   "source": [
    "## Visualizing Feature Importances"
   ]
  },
  {
   "cell_type": "markdown",
   "metadata": {},
   "source": [
    "---\n",
    "\n",
    "> Now that I have the feature importances from my model, I interpret the results via visualizing the most important features and the target feature.\n",
    "\n",
    "---"
   ]
  },
  {
   "cell_type": "code",
   "execution_count": null,
   "metadata": {
    "ExecuteTime": {
     "end_time": "2021-08-05T16:50:09.962489Z",
     "start_time": "2021-08-05T16:50:09.652460Z"
    },
    "code_folding": []
   },
   "outputs": [],
   "source": [
    "## Comparing top feature against target\n",
    "\n",
    "ax = sns.countplot(data=df, hue='review_scores_rating', x='host_is_superhost')\n",
    "\n",
    "ax.set(title = 'Comparing Effects of Superhost Status on Rating',\n",
    "       xlabel = 'Superhost Status', ylabel = 'Number of Host Properties')\n",
    "plt.xticks([0, 1], ['No', 'Yes'])\n",
    "\n",
    "ax.legend(('Less than 4', '4 or Greater'),fontsize= 'medium', \n",
    "          title = 'Rating', title_fontsize = 'large');\n",
    "\n",
    "# plt.savefig('super_importance.png');"
   ]
  },
  {
   "cell_type": "code",
   "execution_count": null,
   "metadata": {
    "ExecuteTime": {
     "end_time": "2021-08-05T16:50:09.978462Z",
     "start_time": "2021-08-05T16:50:09.964469Z"
    }
   },
   "outputs": [],
   "source": [
    "def plot_comparison_count(feature, dataframe= df, target = 'review_scores_rating',\n",
    "                    save_fig=False):\n",
    "\n",
    "    feature_name = feature.replace(\"_\", \" \").replace(\"'\", \"\").title()\n",
    "    target_name = target.replace(\"_\", \" \").replace(\"'\", \"\").title()\n",
    "    \n",
    "    if len(list(dataframe[feature].unique())) > 10:\n",
    "        ax = sns.countplot(data=dataframe, x= feature,\n",
    "                          hue = target)\n",
    "    else:\n",
    "        ax = sns.countplot(data=dataframe, x= feature, hue = target)\n",
    "    \n",
    "    if list((dataframe[feature].unique())) == [0,1]:\n",
    "        plt.xticks([0, 1], ['No', 'Yes'])\n",
    "\n",
    "    ax.set(title = f'Comparing Effects of {feature_name} on {target_name}',\n",
    "           xlabel = feature_name,ylabel = f'Count of {target_name}')\n",
    "        \n",
    "    ax.legend(('Less than 4', '4 or Greater'),fontsize= 'medium', \n",
    "              title = 'Rating', title_fontsize = 'large', loc = 0);\n",
    "\n",
    "    if save_fig == True:\n",
    "        plt.savefig(f'{feature}_importance.png');"
   ]
  },
  {
   "cell_type": "code",
   "execution_count": null,
   "metadata": {
    "ExecuteTime": {
     "end_time": "2021-08-05T16:50:09.993469Z",
     "start_time": "2021-08-05T16:50:09.980462Z"
    }
   },
   "outputs": [],
   "source": [
    "def plot_comparison_hist(feature, dataframe= df, target = 'review_scores_rating',\n",
    "                    save_fig=False):\n",
    "\n",
    "    feature_name = feature.replace(\"_\", \" \").replace(\"'\", \"\").title()\n",
    "    target_name = target.replace(\"_\", \" \").replace(\"'\", \"\").title()\n",
    "    \n",
    "    if len(list(dataframe[feature].unique())) > 10:\n",
    "        ax = sns.histplot(data=dataframe, x= dataframe[feature] \\\n",
    "                           .value_counts(ascending=False).iloc[:30],\n",
    "                          hue = target)\n",
    "    else:\n",
    "        ax = sns.histplot(data=dataframe, x= feature, hue = target)\n",
    "    \n",
    "    if list((dataframe[feature].unique())) == [0,1]:\n",
    "        plt.xticks([0, 1], ['No', 'Yes'])\n",
    "\n",
    "    ax.set(title = f'Comparing Effects of {feature_name} on {target_name}',\n",
    "           xlabel = feature_name,ylabel = f'Count of {target_name}')\n",
    "        \n",
    "    ax.legend(('Less than 4', '4 or Greater'),fontsize= 'medium', \n",
    "              title = 'Rating', title_fontsize = 'large', loc = 0);\n",
    "\n",
    "    if save_fig == True:\n",
    "        plt.savefig(f'{feature}_importance.png');"
   ]
  },
  {
   "cell_type": "code",
   "execution_count": null,
   "metadata": {
    "ExecuteTime": {
     "end_time": "2021-08-05T16:50:10.308459Z",
     "start_time": "2021-08-05T16:50:09.995465Z"
    },
    "scrolled": false
   },
   "outputs": [],
   "source": [
    "plot_comparison_hist('minimum_nights_avg_ntm')"
   ]
  },
  {
   "cell_type": "code",
   "execution_count": null,
   "metadata": {
    "ExecuteTime": {
     "end_time": "2021-08-05T16:50:10.323461Z",
     "start_time": "2021-08-05T16:50:10.311464Z"
    },
    "scrolled": true
   },
   "outputs": [],
   "source": [
    "## Creating a list of the most frequent number of max nights\n",
    "\n",
    "top_nights = list(df['minimum_nights_avg_ntm'].value_counts(ascending=False).index[:10])\n",
    "top_nights"
   ]
  },
  {
   "cell_type": "code",
   "execution_count": null,
   "metadata": {
    "ExecuteTime": {
     "end_time": "2021-08-05T16:50:10.400460Z",
     "start_time": "2021-08-05T16:50:10.326460Z"
    }
   },
   "outputs": [],
   "source": [
    "## Creating a dictionary for each list item containing the counts \n",
    "## of whether or not the host property score is above 4\n",
    "\n",
    "nights_dict = {}\n",
    "for i in top_nights:\n",
    "   \n",
    "    nights_dict[i]=[{list(df['review_scores_rating']\\\n",
    "                         [df['minimum_nights_avg_ntm'] == i].value_counts()\\\n",
    "                         .index)[1]:list(df['review_scores_rating']\\\n",
    "                                         [df['minimum_nights_avg_ntm'] == i]\\\n",
    "                                         .value_counts().values)[1]},\n",
    "    {list(df['review_scores_rating'][df['minimum_nights_avg_ntm'] == i]\\\n",
    "          .value_counts().index)[0]:list(df['review_scores_rating']\\\n",
    "                                         [df['minimum_nights_avg_ntm'] == i]\\\n",
    "                                         .value_counts().values)[0]}]\n",
    "nights_dict  "
   ]
  },
  {
   "cell_type": "markdown",
   "metadata": {},
   "source": [
    "# AdaBoostClassifier"
   ]
  },
  {
   "cell_type": "code",
   "execution_count": null,
   "metadata": {
    "ExecuteTime": {
     "end_time": "2021-08-05T16:50:10.415460Z",
     "start_time": "2021-08-05T16:50:10.403462Z"
    }
   },
   "outputs": [],
   "source": [
    "abc = AdaBoostClassifier(n_estimators=100, random_state=42)"
   ]
  },
  {
   "cell_type": "code",
   "execution_count": null,
   "metadata": {
    "ExecuteTime": {
     "end_time": "2021-08-05T16:50:14.703461Z",
     "start_time": "2021-08-05T16:50:10.418461Z"
    },
    "scrolled": false
   },
   "outputs": [],
   "source": [
    "abc.fit(X_train_tf_df, y_train)\n",
    "\n",
    "cf.evaluate_classification(abc, X_train = X_train_tf_df, y_train = y_train,\n",
    "                           X_test = X_test_tf_df, y_test = y_test,\n",
    "                          metric = 'accuracy')"
   ]
  },
  {
   "cell_type": "code",
   "execution_count": null,
   "metadata": {},
   "outputs": [],
   "source": []
  },
  {
   "cell_type": "markdown",
   "metadata": {},
   "source": [
    "# Gradient Boosting"
   ]
  },
  {
   "cell_type": "code",
   "execution_count": null,
   "metadata": {
    "ExecuteTime": {
     "end_time": "2021-08-05T16:50:14.718462Z",
     "start_time": "2021-08-05T16:50:14.706461Z"
    }
   },
   "outputs": [],
   "source": [
    "gbc = GradientBoostingClassifier(learning_rate=1.0, max_depth=1, random_state=42)"
   ]
  },
  {
   "cell_type": "code",
   "execution_count": null,
   "metadata": {
    "ExecuteTime": {
     "end_time": "2021-08-05T16:50:16.420463Z",
     "start_time": "2021-08-05T16:50:14.721465Z"
    },
    "scrolled": true
   },
   "outputs": [],
   "source": [
    "gbc.fit(X_train_tf_df, y_train)\n",
    "\n",
    "cf.evaluate_classification(gbc, X_train = X_train_tf_df, y_train = y_train,\n",
    "                           X_test = X_test_tf_df, y_test = y_test,\n",
    "                          metric = 'accuracy')"
   ]
  },
  {
   "cell_type": "markdown",
   "metadata": {},
   "source": [
    "# GridSearchCV"
   ]
  },
  {
   "cell_type": "code",
   "execution_count": null,
   "metadata": {
    "ExecuteTime": {
     "end_time": "2021-08-05T16:50:16.436460Z",
     "start_time": "2021-08-05T16:50:16.422461Z"
    }
   },
   "outputs": [],
   "source": [
    "import warnings\n",
    "warnings.filterwarnings('ignore')"
   ]
  },
  {
   "cell_type": "code",
   "execution_count": null,
   "metadata": {
    "ExecuteTime": {
     "end_time": "2021-08-05T16:50:16.451466Z",
     "start_time": "2021-08-05T16:50:16.438460Z"
    }
   },
   "outputs": [],
   "source": [
    "lr_params = {\n",
    " 'C': [.001, .01, .1, 1, 10, 100, 1000],\n",
    " 'class_weight': ['balanced', None],\n",
    "    'penalty':['l1', 'l2', 'elasticnet', 'none'],\n",
    " 'solver':['newton-cg', 'lbfgs', 'liblinear', 'sag', 'saga'],\n",
    "  'max_iter':[100, 200, 300, 400]}"
   ]
  },
  {
   "cell_type": "code",
   "execution_count": null,
   "metadata": {
    "ExecuteTime": {
     "end_time": "2021-08-05T16:50:16.466460Z",
     "start_time": "2021-08-05T16:50:16.453461Z"
    }
   },
   "outputs": [],
   "source": [
    "gscv = GridSearchCV(LogisticRegression(), lr_params, scoring = 'balanced_accuracy', cv=3,\n",
    "                    n_jobs = -1)\n",
    "gscv"
   ]
  },
  {
   "cell_type": "code",
   "execution_count": null,
   "metadata": {
    "ExecuteTime": {
     "end_time": "2021-08-05T16:50:16.482461Z",
     "start_time": "2021-08-05T16:50:16.468467Z"
    }
   },
   "outputs": [],
   "source": [
    "# gscv.fit(X_train_tf_df, y_train)"
   ]
  },
  {
   "cell_type": "code",
   "execution_count": null,
   "metadata": {
    "ExecuteTime": {
     "end_time": "2021-08-05T16:50:16.497460Z",
     "start_time": "2021-08-05T16:50:16.484462Z"
    }
   },
   "outputs": [],
   "source": [
    "# logreg_params = gscv.best_params_\n",
    "\n",
    "# logreg_params"
   ]
  },
  {
   "cell_type": "markdown",
   "metadata": {},
   "source": [
    "## Best LogReg params"
   ]
  },
  {
   "cell_type": "markdown",
   "metadata": {},
   "source": [
    "logreg_params = `{'C': 0.1,\n",
    "  'class_weight': 'balanced',\n",
    "  'max_iter': 100,\n",
    "  'penalty': 'l1',\n",
    "  'solver': 'saga'}`"
   ]
  },
  {
   "cell_type": "code",
   "execution_count": null,
   "metadata": {
    "ExecuteTime": {
     "end_time": "2021-08-05T16:50:16.512461Z",
     "start_time": "2021-08-05T16:50:16.500462Z"
    }
   },
   "outputs": [],
   "source": [
    "# gscv.best_estimator_"
   ]
  },
  {
   "cell_type": "code",
   "execution_count": null,
   "metadata": {
    "ExecuteTime": {
     "end_time": "2021-08-05T16:50:16.528460Z",
     "start_time": "2021-08-05T16:50:16.515461Z"
    }
   },
   "outputs": [],
   "source": [
    "# cf.evaluate_classification(gscv.best_estimator_, X_train = X_train_tf_df, y_train = y_train,\n",
    "#                            X_test = X_test_tf_df, y_test = y_test,\n",
    "#                           metric = 'balanced accuracy')"
   ]
  },
  {
   "cell_type": "markdown",
   "metadata": {},
   "source": [
    "## GSCV: RFC"
   ]
  },
  {
   "cell_type": "code",
   "execution_count": null,
   "metadata": {
    "ExecuteTime": {
     "end_time": "2021-08-05T16:50:16.544462Z",
     "start_time": "2021-08-05T16:50:16.531464Z"
    }
   },
   "outputs": [],
   "source": [
    "rfc_params = {\n",
    "    'n_estimators':[100, 125, 150,],\n",
    "    'max_depth': [10,20,30,40],\n",
    "    'min_samples_split': [2,3,4],\n",
    "    'min_samples_leaf': [1,2,3]\n",
    "}"
   ]
  },
  {
   "cell_type": "code",
   "execution_count": null,
   "metadata": {
    "ExecuteTime": {
     "end_time": "2021-08-05T16:50:16.560460Z",
     "start_time": "2021-08-05T16:50:16.546462Z"
    }
   },
   "outputs": [],
   "source": [
    "rfc = RandomForestClassifier(class_weight = 'balanced',\n",
    "                            n_jobs=-1, random_state=42)"
   ]
  },
  {
   "cell_type": "code",
   "execution_count": null,
   "metadata": {
    "ExecuteTime": {
     "end_time": "2021-08-05T16:50:16.575473Z",
     "start_time": "2021-08-05T16:50:16.562459Z"
    }
   },
   "outputs": [],
   "source": [
    "rfgs = GridSearchCV(rfc, rfc_params, scoring = 'balanced_accuracy', cv=3,\n",
    "                    n_jobs = -1)\n",
    "rfgs"
   ]
  },
  {
   "cell_type": "code",
   "execution_count": null,
   "metadata": {
    "ExecuteTime": {
     "end_time": "2021-08-05T16:51:12.267536Z",
     "start_time": "2021-08-05T16:50:16.577460Z"
    },
    "scrolled": true
   },
   "outputs": [],
   "source": [
    "rfgs.fit(X_train_tf_df, y_train)"
   ]
  },
  {
   "cell_type": "code",
   "execution_count": null,
   "metadata": {
    "ExecuteTime": {
     "end_time": "2021-08-05T16:51:12.283537Z",
     "start_time": "2021-08-05T16:51:12.269539Z"
    }
   },
   "outputs": [],
   "source": [
    "rfc_params = rfgs.best_params_\n",
    "\n",
    "rfc_params"
   ]
  },
  {
   "cell_type": "code",
   "execution_count": null,
   "metadata": {
    "ExecuteTime": {
     "end_time": "2021-08-05T16:51:12.298536Z",
     "start_time": "2021-08-05T16:51:12.285538Z"
    }
   },
   "outputs": [],
   "source": [
    "rfgs.best_score_"
   ]
  },
  {
   "cell_type": "code",
   "execution_count": null,
   "metadata": {
    "ExecuteTime": {
     "end_time": "2021-08-05T16:51:12.314539Z",
     "start_time": "2021-08-05T16:51:12.300538Z"
    }
   },
   "outputs": [],
   "source": [
    "rfc_new = rfgs.best_estimator_"
   ]
  },
  {
   "cell_type": "code",
   "execution_count": null,
   "metadata": {
    "ExecuteTime": {
     "end_time": "2021-08-05T16:51:13.923563Z",
     "start_time": "2021-08-05T16:51:12.316538Z"
    }
   },
   "outputs": [],
   "source": [
    "cf.evaluate_classification(rfc_new, X_train_tf_df, y_train, X_test_tf_df, \n",
    "                           y_test, 'recall (macro)')"
   ]
  },
  {
   "cell_type": "code",
   "execution_count": null,
   "metadata": {},
   "outputs": [],
   "source": []
  },
  {
   "cell_type": "code",
   "execution_count": null,
   "metadata": {},
   "outputs": [],
   "source": []
  }
 ],
 "metadata": {
  "kernelspec": {
   "display_name": "Python (learn-env-bmc)",
   "language": "python",
   "name": "learn-env-bmc"
  },
  "language_info": {
   "codemirror_mode": {
    "name": "ipython",
    "version": 3
   },
   "file_extension": ".py",
   "mimetype": "text/x-python",
   "name": "python",
   "nbconvert_exporter": "python",
   "pygments_lexer": "ipython3",
   "version": "3.8.5"
  },
  "toc": {
   "base_numbering": 1,
   "nav_menu": {},
   "number_sections": true,
   "sideBar": true,
   "skip_h1_title": false,
   "title_cell": "Table of Contents",
   "title_sidebar": "Contents",
   "toc_cell": false,
   "toc_position": {
    "height": "calc(100% - 180px)",
    "left": "10px",
    "top": "150px",
    "width": "188.977px"
   },
   "toc_section_display": true,
   "toc_window_display": true
  }
 },
 "nbformat": 4,
 "nbformat_minor": 4
}
