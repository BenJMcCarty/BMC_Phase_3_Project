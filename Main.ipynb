{
 "cells": [
  {
   "cell_type": "markdown",
   "metadata": {},
   "source": [
    "# 🔻 [Return to workflow](#leftoff)"
   ]
  },
  {
   "cell_type": "markdown",
   "metadata": {},
   "source": [
    "⚓ ANCHOR FOR RETURN TO WORKFLOW LINK <a name=\"leftoff\"></a>"
   ]
  },
  {
   "cell_type": "markdown",
   "metadata": {},
   "source": [
    "# 🏡 **“ODD” ASPECTS OF AIRBNB** 🏨"
   ]
  },
  {
   "cell_type": "markdown",
   "metadata": {},
   "source": [
    "# ❌ Update target audience and guiding questions"
   ]
  },
  {
   "cell_type": "markdown",
   "metadata": {},
   "source": [
    "---\n",
    "\n",
    "**Who?**\n",
    ">* 🏢 **AirBNB Corporate** interested in maximizing customer satisfaction to increase repeat guests and encourage new guests to stay with AirBNB hosts\n",
    ">\n",
    ">\n",
    ">* 🏡**AirBNB hosts** interested in maximizing the ratings\n",
    "\n",
    "**Why?**\n",
    ">* 💰 **Revenue Management:** \n",
    ">\n",
    ">\n",
    ">\n",
    ">* 🤝 **Sales:**\n",
    ">\n",
    ">\n",
    ">\n",
    ">* 🛌 **Rooms Ops:**\n",
    "\n",
    ">\n",
    ">\n",
    ">\n",
    "\n",
    "**What?**\n",
    ">* 🧾 Dataset comprised of... \n",
    ">  * different features\n",
    ">  * reservation records\n",
    ">  * Source cited in Readme\n",
    "\n",
    "❌ **How?**\n",
    ">* Which models/methods?\n",
    ">* Data prep and feature engineering\n",
    "\n",
    "---"
   ]
  },
  {
   "cell_type": "markdown",
   "metadata": {},
   "source": [
    "# 🎯  **Goal:**"
   ]
  },
  {
   "cell_type": "markdown",
   "metadata": {},
   "source": [
    "Determining whether or not a host location would receive a score greater than or equal to 4/5 (defined by `'review_scores_rating'`)."
   ]
  },
  {
   "cell_type": "markdown",
   "metadata": {},
   "source": [
    "# 📌 **To-Do**"
   ]
  },
  {
   "cell_type": "markdown",
   "metadata": {},
   "source": [
    "---\n",
    "\n",
    "- [ ] [TD1](#td1)\n",
    "- [ ] [TD2](#td2)\n",
    "- [ ] [TD3](#td3)\n",
    "- [ ] [todo4](#td4)\n",
    "- [ ] [todo5](#td5)\n",
    "- [ ] [todo6](#td6)\n",
    "- [ ] [todo7](#td7)\n",
    "\n",
    "---"
   ]
  },
  {
   "cell_type": "markdown",
   "metadata": {},
   "source": [
    "# 📂 **Imports and Settings**"
   ]
  },
  {
   "cell_type": "code",
   "execution_count": null,
   "metadata": {
    "ExecuteTime": {
     "end_time": "2021-08-05T03:55:31.620383Z",
     "start_time": "2021-08-05T03:55:29.949729Z"
    },
    "code_folding": []
   },
   "outputs": [],
   "source": [
    "## Data Handling\n",
    "import pandas as pd\n",
    "import numpy as np\n",
    "from scipy import stats\n",
    "\n",
    "\n",
    "## Visualizations\n",
    "import matplotlib as mpl\n",
    "import matplotlib.pyplot as plt\n",
    "import seaborn as sns\n",
    "from ipywidgets import interact_manual\n",
    "import missingno\n",
    "\n",
    "## SKLearn\n",
    "from sklearn.preprocessing import Binarizer, MultiLabelBinarizer, \\\n",
    "                                    OneHotEncoder, StandardScaler\n",
    "from sklearn.model_selection import train_test_split, GridSearchCV,\\\n",
    "                                    RandomizedSearchCV\n",
    "from sklearn.impute import SimpleImputer\n",
    "from sklearn.compose import ColumnTransformer\n",
    "from sklearn.pipeline import Pipeline\n",
    "from sklearn.dummy import DummyClassifier\n",
    "from sklearn.linear_model import LogisticRegression, LogisticRegressionCV \n",
    "from sklearn.tree import DecisionTreeClassifier\n",
    "from sklearn.neighbors import KNeighborsClassifier\n",
    "from sklearn.ensemble import RandomForestClassifier, ExtraTreesClassifier, \\\n",
    "                                AdaBoostClassifier,GradientBoostingClassifier \n",
    "from sklearn import set_config\n",
    "set_config(display='diagram')\n",
    "\n",
    "from imblearn.over_sampling import SMOTE,SMOTENC\n",
    "\n",
    "\n",
    "## Settings\n",
    "%matplotlib inline\n",
    "plt.style.use('seaborn-talk')\n",
    "pd.set_option('display.max_columns', None)\n",
    "pd.set_option('display.float_format', lambda x: f'{x:,.2f}')\n",
    "pd.set_option('max_rows', 100)"
   ]
  },
  {
   "cell_type": "code",
   "execution_count": null,
   "metadata": {
    "ExecuteTime": {
     "end_time": "2021-08-05T03:55:32.116104Z",
     "start_time": "2021-08-05T03:55:31.622381Z"
    },
    "code_folding": [
     0
    ]
   },
   "outputs": [],
   "source": [
    "## Personal functions\n",
    "import clf_functions.functions as cf\n",
    "%load_ext autoreload\n",
    "%autoreload 1\n",
    "%aimport clf_functions.functions"
   ]
  },
  {
   "cell_type": "markdown",
   "metadata": {},
   "source": [
    "## ✅ Show Visualizations Setting"
   ]
  },
  {
   "cell_type": "code",
   "execution_count": null,
   "metadata": {
    "ExecuteTime": {
     "end_time": "2021-08-05T03:55:32.131886Z",
     "start_time": "2021-08-05T03:55:32.119880Z"
    }
   },
   "outputs": [],
   "source": [
    "## Controlling whether or not to show visualizations\n",
    "show_visualizations = False"
   ]
  },
  {
   "cell_type": "markdown",
   "metadata": {},
   "source": [
    "# 📖 **Read Data**"
   ]
  },
  {
   "cell_type": "code",
   "execution_count": null,
   "metadata": {
    "ExecuteTime": {
     "end_time": "2021-08-05T03:55:32.523902Z",
     "start_time": "2021-08-05T03:55:32.133879Z"
    }
   },
   "outputs": [],
   "source": [
    "## Reading data and saving to a DataFrame\n",
    "\n",
    "source = 'data/listings.csv.gz'\n",
    "\n",
    "data = pd.read_csv(source)"
   ]
  },
  {
   "cell_type": "code",
   "execution_count": null,
   "metadata": {
    "ExecuteTime": {
     "end_time": "2021-08-05T03:55:32.600905Z",
     "start_time": "2021-08-05T03:55:32.525905Z"
    },
    "code_folding": []
   },
   "outputs": [],
   "source": [
    "## Inspecting imported dataset\n",
    "data.head(5)"
   ]
  },
  {
   "cell_type": "code",
   "execution_count": null,
   "metadata": {
    "ExecuteTime": {
     "end_time": "2021-08-05T03:55:32.616941Z",
     "start_time": "2021-08-05T03:55:32.602935Z"
    }
   },
   "outputs": [],
   "source": [
    "## Checking number of rows and columns\n",
    "data.shape"
   ]
  },
  {
   "cell_type": "markdown",
   "metadata": {},
   "source": [
    "---\n",
    "\n",
    "> The initial read of the dataset shows there are 74 features and 8,033 entries. A quick glance at the `.head()` gives a sample of the entries, showing that some of the features are not relevant to my analysis.\n",
    ">\n",
    "> I need to get a better idea of the statistics for the dataset, especially any missing values and the datatypes for each column. I need to pre-process this data before I can perform any modeling.\n",
    "\n",
    "---"
   ]
  },
  {
   "cell_type": "markdown",
   "metadata": {},
   "source": [
    "# 👨‍💻 **Interactive Investigation**"
   ]
  },
  {
   "cell_type": "markdown",
   "metadata": {},
   "source": [
    "---\n",
    "\n",
    "> To increase accessibility to the data, **I include a widget to allow the user to sort through the data interactively.** I use [**Jupyter Widgets**](https://ipywidgets.readthedocs.io/en/latest/index.html) to create this interactive report.\n",
    ">\n",
    ">**To use:** select which column by which you would like to sort from the dropdown menu, then click the \"Run Interact\" button.\n",
    ">\n",
    ">***Note about 'Drop_Cols' and Cols:*** these keyword arguments are used to allow the user to drop specific columns.\n",
    ">\n",
    "> **Only click the \"Drop_Cols\" option when specifying \"Cols\"!** Otherwise it will cause an error.\n",
    ">\n",
    ">The 'Cols' dropdown menu does not affect the resulting report; the data is filtered from the report prior to displaying the results. \n",
    ">\n",
    ">I chose to include this option for flexibility and adaptability, but it does have the unintended consequence of creating another drop-down menu. Please ignore this menu, as it does not provide any additional functionality. For future work, I will disable the menu to prevent confusion.\n",
    "\n",
    "---"
   ]
  },
  {
   "cell_type": "code",
   "execution_count": null,
   "metadata": {
    "ExecuteTime": {
     "end_time": "2021-08-05T03:55:32.867927Z",
     "start_time": "2021-08-05T03:55:32.618911Z"
    }
   },
   "outputs": [],
   "source": [
    "## Running report on unfiltered dataset\n",
    "\n",
    "interact_manual(cf.sort_report, Sort_by=list(cf.report_df(data).columns),\n",
    "                Source=source);"
   ]
  },
  {
   "cell_type": "code",
   "execution_count": null,
   "metadata": {
    "ExecuteTime": {
     "end_time": "2021-08-05T03:55:32.945927Z",
     "start_time": "2021-08-05T03:55:32.871925Z"
    },
    "scrolled": false
   },
   "outputs": [],
   "source": [
    "data.head(3)"
   ]
  },
  {
   "cell_type": "markdown",
   "metadata": {},
   "source": [
    "---\n",
    "\n",
    "> After reviewing my data, I see there are several features that contain irrelevant entries (URLs, source data, meta data) or values that are too complicated for simple processing (such as host and listing descriptions).\n",
    ">\n",
    "> I will drop these columns for the second report to review the remaining data for further processing.\n",
    "\n",
    "---"
   ]
  },
  {
   "cell_type": "code",
   "execution_count": null,
   "metadata": {
    "ExecuteTime": {
     "end_time": "2021-08-05T03:55:32.961955Z",
     "start_time": "2021-08-05T03:55:32.948928Z"
    }
   },
   "outputs": [],
   "source": [
    "## Specifying columns to drop\n",
    "\n",
    "drop = ['id', 'host_id', 'name', 'description', 'neighborhood_overview', 'host_name',\n",
    "        'host_about', 'host_location', 'neighbourhood', 'property_type',\n",
    "        'listing_url', 'scrape_id', 'last_scraped', 'picture_url','host_url',\n",
    "        'host_thumbnail_url','host_picture_url','calendar_last_scraped']"
   ]
  },
  {
   "cell_type": "code",
   "execution_count": null,
   "metadata": {
    "ExecuteTime": {
     "end_time": "2021-08-05T03:55:33.223953Z",
     "start_time": "2021-08-05T03:55:32.963942Z"
    },
    "scrolled": false
   },
   "outputs": [],
   "source": [
    "## Creating updated interactive report\n",
    "\n",
    "interact_manual(cf.sort_report, Drop_Cols = True, Cols = drop,\n",
    "                Sort_by=list(cf.report_df(data).columns), Source=source);"
   ]
  },
  {
   "cell_type": "markdown",
   "metadata": {},
   "source": [
    "---\n",
    "\n",
    "> **Interpretation:**\n",
    ">\n",
    "> The report shows that the dataset has a big problem with missing values:\n",
    ">\n",
    "> * **Empty:**\n",
    ">   * `neighbourhood_group_cleansed`\n",
    ">   * `bathrooms`\n",
    ">   * `calendar_updated`\n",
    ">\n",
    ">\n",
    "> * **Nearly empty:**\n",
    ">  * `license`\n",
    ">\n",
    ">\n",
    "> * **Missing 26-39% of data:**\n",
    ">  * `host_about`\n",
    ">  * `neighborhood_overview`\n",
    ">  * `neighbourhood`\n",
    ">  * `host_response_time`\n",
    ">  * `host_response_rate`\n",
    ">  * `review_scores_value`\n",
    ">  * `review_scores_checkin`\n",
    ">  * `review_scores_location`\n",
    ">  * `review_scores_accuracy`\n",
    ">  * `review_scores_communication`\n",
    ">  * `review_scores_cleanliness`\n",
    ">  * `host_acceptance_rate`\n",
    ">  * `reviews_per_month`\n",
    ">  * `first_review`\n",
    ">  * `review_scores_rating`\n",
    ">  * `last_review`\n",
    ">\n",
    ">---\n",
    ">\n",
    "> I will need to address these missing values before processing with the modeling. A few options include:\n",
    ">\n",
    "> * **Filling with the string \"missing\"** to indicate the value was missing.\n",
    ">    * *I would be able to treat \"missing\" as a distinct category and use it for modeling as well.*\n",
    ">\n",
    ">\n",
    "> * **Dropping the rows with missing values.**\n",
    ">    * *This may negatively impact the accuracy of my results by overfitting to the training data.*\n",
    ">\n",
    ">\n",
    "> * I could **use the `SimpleImputer` tool from SKLearn to fill the missing values** with the mean, median, or mode values for each.\n",
    ">    * *I could couple this with a `GridSearchCV` to identify the method that has the strongest positive impact on my classification metrics.*\n",
    "\n",
    "---"
   ]
  },
  {
   "cell_type": "markdown",
   "metadata": {},
   "source": [
    "---\n",
    "\n",
    "> To get a better idea of the missing values, I create a visual of the values via the 'Missingno' package. This visualization package includes several options for visualizing the missing data.\n",
    "\n",
    "---"
   ]
  },
  {
   "cell_type": "code",
   "execution_count": null,
   "metadata": {
    "ExecuteTime": {
     "end_time": "2021-08-05T03:55:33.239952Z",
     "start_time": "2021-08-05T03:55:33.225944Z"
    },
    "scrolled": false
   },
   "outputs": [],
   "source": [
    "## Visually inspecting missing values\n",
    "if show_visualizations == True:\n",
    "    missingno.bar(data, labels=True);"
   ]
  },
  {
   "cell_type": "markdown",
   "metadata": {},
   "source": [
    "---\n",
    "\n",
    "> Based on this visualization, I see that **there is a consistent trend in missing values for review scores:** if a row is missing one review score, it seems to be missing all of them.\n",
    ">\n",
    "> Additionally, **there are many missing values for the response time, response rate, and acceptance rate.** I want to use these columns in my classification, so I will need to replace those missing values.\n",
    ">\n",
    "> After reviewing these details, **I feel more comfortable with the option of dropping those rows with missing review values.** I will drop the values as part of my overall classification process.\n",
    "\n",
    "---"
   ]
  },
  {
   "cell_type": "markdown",
   "metadata": {},
   "source": [
    "# 🧼 **Data Cleaning and EDA**"
   ]
  },
  {
   "cell_type": "code",
   "execution_count": null,
   "metadata": {
    "ExecuteTime": {
     "end_time": "2021-08-05T03:55:33.726002Z",
     "start_time": "2021-08-05T03:55:33.241942Z"
    }
   },
   "outputs": [],
   "source": [
    "ax = sns.histplot(data['review_scores_rating'])\n",
    "ax.axvline(data['review_scores_rating'].median(), label = 'median', color='k')\n",
    "ax.axvline(4.5, label = '4.5', color='red')"
   ]
  },
  {
   "cell_type": "markdown",
   "metadata": {},
   "source": [
    "## 🔎 Fixing Missing Values"
   ]
  },
  {
   "cell_type": "markdown",
   "metadata": {},
   "source": [
    "---\n",
    "\n",
    "> This dataset is missing a significant number of values for different columns. **In order to perform any modeling, I will need to address these missing values first.**\n",
    ">\n",
    "> Depending on the feature and the number of missing values per row, I will take different approaches to keep as much data as possible and in its original state.\n",
    "\n",
    "---"
   ]
  },
  {
   "cell_type": "code",
   "execution_count": null,
   "metadata": {
    "ExecuteTime": {
     "end_time": "2021-08-05T03:55:33.772978Z",
     "start_time": "2021-08-05T03:55:33.727971Z"
    },
    "scrolled": false
   },
   "outputs": [],
   "source": [
    "# Dropping features with high percentages (25%+) of missing values\n",
    "\n",
    "drop_na_cols = []\n",
    "for col in data.columns:\n",
    "    if ((data[col].isna().sum()) / len(data[col])) > .25 and col != 'review_scores_rating':\n",
    "        drop_na_cols.append(col)\n",
    "\n",
    "drop_na_cols"
   ]
  },
  {
   "cell_type": "code",
   "execution_count": null,
   "metadata": {
    "ExecuteTime": {
     "end_time": "2021-08-05T03:55:33.788002Z",
     "start_time": "2021-08-05T03:55:33.774977Z"
    },
    "scrolled": false
   },
   "outputs": [],
   "source": [
    "## Appending previous list of columns to drop (metadata, etc.)\n",
    "\n",
    "for col in drop:\n",
    "    if col not in drop_na_cols:\n",
    "        drop_na_cols.append(col)\n",
    "\n",
    "drop_na_cols"
   ]
  },
  {
   "cell_type": "code",
   "execution_count": null,
   "metadata": {
    "ExecuteTime": {
     "end_time": "2021-08-05T03:55:33.851005Z",
     "start_time": "2021-08-05T03:55:33.790976Z"
    },
    "scrolled": false
   },
   "outputs": [],
   "source": [
    "## Creating new dataframe that does not include the features to drop\n",
    "df = data.drop(columns= drop_na_cols).copy()\n",
    "df"
   ]
  },
  {
   "cell_type": "code",
   "execution_count": null,
   "metadata": {
    "ExecuteTime": {
     "end_time": "2021-08-05T03:55:33.988990Z",
     "start_time": "2021-08-05T03:55:33.852978Z"
    },
    "scrolled": false
   },
   "outputs": [],
   "source": [
    "## Inspecting values prior to dropping\n",
    "cf.report_df(df)"
   ]
  },
  {
   "cell_type": "markdown",
   "metadata": {},
   "source": [
    "# Dropping Rows W/O Target"
   ]
  },
  {
   "cell_type": "code",
   "execution_count": null,
   "metadata": {
    "ExecuteTime": {
     "end_time": "2021-08-05T03:55:34.003986Z",
     "start_time": "2021-08-05T03:55:33.990987Z"
    }
   },
   "outputs": [],
   "source": [
    "## Checking for rows missing target values\n",
    "\n",
    "nan_index = df['review_scores_rating'].isna()\n",
    "nan_index"
   ]
  },
  {
   "cell_type": "code",
   "execution_count": null,
   "metadata": {
    "ExecuteTime": {
     "end_time": "2021-08-05T03:55:34.050003Z",
     "start_time": "2021-08-05T03:55:34.005987Z"
    }
   },
   "outputs": [],
   "source": [
    "## Inspecting rows to be dropped for missing the target feature\n",
    "df[nan_index]"
   ]
  },
  {
   "cell_type": "code",
   "execution_count": null,
   "metadata": {
    "ExecuteTime": {
     "end_time": "2021-08-05T03:55:34.065989Z",
     "start_time": "2021-08-05T03:55:34.051988Z"
    }
   },
   "outputs": [],
   "source": [
    "## Dropping rows from main dataframe\n",
    "df.drop(df[nan_index].index, inplace=True)"
   ]
  },
  {
   "cell_type": "code",
   "execution_count": null,
   "metadata": {
    "ExecuteTime": {
     "end_time": "2021-08-05T03:55:34.205997Z",
     "start_time": "2021-08-05T03:55:34.067993Z"
    },
    "scrolled": true
   },
   "outputs": [],
   "source": [
    "cf.report_df(df)"
   ]
  },
  {
   "cell_type": "markdown",
   "metadata": {},
   "source": [
    "## Filling Beds"
   ]
  },
  {
   "cell_type": "code",
   "execution_count": null,
   "metadata": {
    "ExecuteTime": {
     "end_time": "2021-08-05T02:32:16.856206Z",
     "start_time": "2021-08-05T02:32:16.844196Z"
    }
   },
   "outputs": [],
   "source": [
    "## Filling missing values for 'beds' with values for 'bedrooms'\n",
    "\n",
    "for idx in list(df['beds'][df['beds'].isna()].index):\n",
    "    if df['bedrooms'][idx] > 0:\n",
    "        df['beds'][idx] = df['bedrooms'][idx]"
   ]
  },
  {
   "cell_type": "code",
   "execution_count": null,
   "metadata": {
    "ExecuteTime": {
     "end_time": "2021-08-05T02:32:16.934198Z",
     "start_time": "2021-08-05T02:32:16.859197Z"
    },
    "scrolled": false
   },
   "outputs": [],
   "source": [
    "## Filling missing values for 'bedrooms' with values for 'beds'\n",
    "\n",
    "for idx in list(df['bedrooms'][df['bedrooms'].isna()].index):\n",
    "    if df['beds'][idx] > 0:\n",
    "        df['bedrooms'][idx] = df['beds'][idx]"
   ]
  },
  {
   "cell_type": "code",
   "execution_count": null,
   "metadata": {
    "ExecuteTime": {
     "end_time": "2021-08-05T02:32:17.072237Z",
     "start_time": "2021-08-05T02:32:16.937225Z"
    },
    "scrolled": true
   },
   "outputs": [],
   "source": [
    "## Confirming reduction in missing values for 'beds' and 'bedrooms'\n",
    "\n",
    "rpt_clean  = cf.report_df(df)\n",
    "rpt_clean[rpt_clean['null_sum'] >0]"
   ]
  },
  {
   "cell_type": "code",
   "execution_count": null,
   "metadata": {
    "ExecuteTime": {
     "end_time": "2021-08-05T02:32:17.118204Z",
     "start_time": "2021-08-05T02:32:17.074214Z"
    },
    "scrolled": false
   },
   "outputs": [],
   "source": [
    "## Removing rows with 6+ null values\n",
    "\n",
    "df = df[df.isna().sum(axis=1) < 6]\n",
    "df.head(5)"
   ]
  },
  {
   "cell_type": "code",
   "execution_count": null,
   "metadata": {
    "ExecuteTime": {
     "end_time": "2021-08-05T02:32:17.134204Z",
     "start_time": "2021-08-05T02:32:17.120203Z"
    },
    "scrolled": false
   },
   "outputs": [],
   "source": [
    "df.isna().sum()"
   ]
  },
  {
   "cell_type": "code",
   "execution_count": null,
   "metadata": {
    "ExecuteTime": {
     "end_time": "2021-08-05T02:32:17.242233Z",
     "start_time": "2021-08-05T02:32:17.136206Z"
    },
    "scrolled": false
   },
   "outputs": [],
   "source": [
    "cf.report_df(df)"
   ]
  },
  {
   "cell_type": "code",
   "execution_count": null,
   "metadata": {
    "ExecuteTime": {
     "end_time": "2021-08-05T02:32:17.257231Z",
     "start_time": "2021-08-05T02:32:17.244216Z"
    }
   },
   "outputs": [],
   "source": [
    "## Resetting the index after dropping rows\n",
    "\n",
    "df.reset_index(drop=True, inplace=True)"
   ]
  },
  {
   "cell_type": "code",
   "execution_count": null,
   "metadata": {
    "ExecuteTime": {
     "end_time": "2021-08-05T02:32:17.273205Z",
     "start_time": "2021-08-05T02:32:17.259206Z"
    }
   },
   "outputs": [],
   "source": [
    "print(len(df) == len(df.index),\"\\n\")\n",
    "print(len(df),len(df.index))"
   ]
  },
  {
   "cell_type": "markdown",
   "metadata": {
    "ExecuteTime": {
     "end_time": "2021-08-02T19:24:46.416827Z",
     "start_time": "2021-08-02T19:24:46.402822Z"
    }
   },
   "source": [
    "---\n",
    "\n",
    "> At this point, **I cleaned up most of the null values via dropping columns with 25%+ missing values and dropping rows with 6+ missing values.**\n",
    ">\n",
    ">Additionally, **I filled missing values for 'beds'/'bedrooms' by checking the missing values for each column against the values in the other for each row.** If a row had a value in one of the columns but not the other, I filled the missing value with the value from the other column.\n",
    ">\n",
    "> At this point, I addressed most of the missing values in my dataset by dropping columns and filling missing values. There are still a few columns with missing values, but I will use a SimpleImputer combined with a GridSearchCV to determine the best method by which to fill those values.\n",
    ">\n",
    "> Now I will review the remaining data and determine if there are any other issues with my data.\n",
    "\n",
    "---"
   ]
  },
  {
   "cell_type": "code",
   "execution_count": null,
   "metadata": {
    "ExecuteTime": {
     "end_time": "2021-08-05T02:32:17.288232Z",
     "start_time": "2021-08-05T02:32:17.275219Z"
    }
   },
   "outputs": [],
   "source": [
    "len(df) == len(df.index)"
   ]
  },
  {
   "cell_type": "markdown",
   "metadata": {},
   "source": [
    "# **COMMENT:** What else to clean?? "
   ]
  },
  {
   "cell_type": "markdown",
   "metadata": {},
   "source": [
    "* DONE: T/F columns to 1/0\n",
    "\n",
    "\n",
    "* DONE: 'host_since' to DT\n",
    "\n",
    "\n",
    "* DONE: 'price' -$, to float\n",
    "\n",
    "\n",
    "* DONE: 'neighbourhood_cleansed' split on \", \" and convert to binary columns, then drop host_neighbourhood\n",
    "\n",
    "\n",
    "* DONE: 'bathrooms_text' split on space, keep 1st part, convert to int\n",
    "\n",
    "\n",
    "* 'host_verifications' - single string, needs extensive work in order to MLB"
   ]
  },
  {
   "cell_type": "markdown",
   "metadata": {},
   "source": [
    "## Converting True/False Columns to Binary Values"
   ]
  },
  {
   "cell_type": "code",
   "execution_count": null,
   "metadata": {
    "ExecuteTime": {
     "end_time": "2021-08-05T02:32:17.304204Z",
     "start_time": "2021-08-05T02:32:17.290205Z"
    }
   },
   "outputs": [],
   "source": [
    "## Creating list of true/false features to convert to 1/0, respectively\n",
    "\n",
    "t_f_xf = ['host_is_superhost','host_has_profile_pic','host_identity_verified',\n",
    "          'has_availability','instant_bookable']\n",
    "t_f_xf"
   ]
  },
  {
   "cell_type": "code",
   "execution_count": null,
   "metadata": {
    "ExecuteTime": {
     "end_time": "2021-08-05T02:32:17.334205Z",
     "start_time": "2021-08-05T02:32:17.306205Z"
    }
   },
   "outputs": [],
   "source": [
    "## Converting datatype to \"string\" to replace values\n",
    "\n",
    "df[t_f_xf] = df[t_f_xf].astype('str')\n",
    "df[t_f_xf].dtypes"
   ]
  },
  {
   "cell_type": "code",
   "execution_count": null,
   "metadata": {
    "ExecuteTime": {
     "end_time": "2021-08-05T02:32:17.350207Z",
     "start_time": "2021-08-05T02:32:17.336207Z"
    }
   },
   "outputs": [],
   "source": [
    "df[t_f_xf]"
   ]
  },
  {
   "cell_type": "code",
   "execution_count": null,
   "metadata": {
    "ExecuteTime": {
     "end_time": "2021-08-05T02:32:17.382206Z",
     "start_time": "2021-08-05T02:32:17.352207Z"
    }
   },
   "outputs": [],
   "source": [
    "## Converting t/f to 1/0, respectively\n",
    "\n",
    "df[t_f_xf] = df[t_f_xf].replace({ 't' : 1, 'f' : 0})"
   ]
  },
  {
   "cell_type": "code",
   "execution_count": null,
   "metadata": {
    "ExecuteTime": {
     "end_time": "2021-08-05T02:32:17.412208Z",
     "start_time": "2021-08-05T02:32:17.384207Z"
    }
   },
   "outputs": [],
   "source": [
    "df[t_f_xf]"
   ]
  },
  {
   "cell_type": "code",
   "execution_count": null,
   "metadata": {
    "ExecuteTime": {
     "end_time": "2021-08-05T02:32:17.428209Z",
     "start_time": "2021-08-05T02:32:17.414208Z"
    }
   },
   "outputs": [],
   "source": [
    "df[t_f_xf] = df[t_f_xf].astype(int)"
   ]
  },
  {
   "cell_type": "code",
   "execution_count": null,
   "metadata": {
    "ExecuteTime": {
     "end_time": "2021-08-05T02:32:17.459208Z",
     "start_time": "2021-08-05T02:32:17.430216Z"
    }
   },
   "outputs": [],
   "source": [
    "## Verifying results\n",
    "\n",
    "cf.report_df(df[t_f_xf])"
   ]
  },
  {
   "cell_type": "markdown",
   "metadata": {},
   "source": [
    "## Converting Price to Float "
   ]
  },
  {
   "cell_type": "code",
   "execution_count": null,
   "metadata": {
    "ExecuteTime": {
     "end_time": "2021-08-05T02:32:17.475207Z",
     "start_time": "2021-08-05T02:32:17.461210Z"
    }
   },
   "outputs": [],
   "source": [
    "## Converting each value into a float for processing\n",
    "\n",
    "df['price'] = df['price'].map(lambda price: price[1:].replace(',','')).astype('float')\n",
    "df['price'][0]"
   ]
  },
  {
   "cell_type": "code",
   "execution_count": null,
   "metadata": {
    "ExecuteTime": {
     "end_time": "2021-08-05T02:32:17.490242Z",
     "start_time": "2021-08-05T02:32:17.478208Z"
    }
   },
   "outputs": [],
   "source": [
    "df['price'].describe()"
   ]
  },
  {
   "cell_type": "markdown",
   "metadata": {},
   "source": [
    "## Creating \"Years_Hosting\""
   ]
  },
  {
   "cell_type": "markdown",
   "metadata": {},
   "source": [
    "---\n",
    "\n",
    "> Since the 'host_since' feature is clearly a date, I will create a separate feature for how many years of activity for each host.\n",
    "\n",
    "---"
   ]
  },
  {
   "cell_type": "code",
   "execution_count": null,
   "metadata": {
    "ExecuteTime": {
     "end_time": "2021-08-05T02:32:17.506209Z",
     "start_time": "2021-08-05T02:32:17.492209Z"
    }
   },
   "outputs": [],
   "source": [
    "df['years_hosting'] = df[\"host_since\"].map(lambda x: 2021- int(x.split(\"-\")[0]))\n",
    "df['years_hosting']"
   ]
  },
  {
   "cell_type": "code",
   "execution_count": null,
   "metadata": {
    "ExecuteTime": {
     "end_time": "2021-08-05T02:32:17.521210Z",
     "start_time": "2021-08-05T02:32:17.508210Z"
    },
    "scrolled": true
   },
   "outputs": [],
   "source": [
    "df['years_hosting'].value_counts()"
   ]
  },
  {
   "cell_type": "code",
   "execution_count": null,
   "metadata": {
    "ExecuteTime": {
     "end_time": "2021-08-05T02:32:17.536237Z",
     "start_time": "2021-08-05T02:32:17.523211Z"
    }
   },
   "outputs": [],
   "source": [
    "df['years_hosting'].describe()"
   ]
  },
  {
   "cell_type": "markdown",
   "metadata": {},
   "source": [
    "---\n",
    "\n",
    "> I successfully created the new feature to represent how long each host is active (up to 2021). I will be curious to see the impact of the years of experience on the overall rating at the end of my modeling process.\n",
    "\n",
    "---"
   ]
  },
  {
   "cell_type": "markdown",
   "metadata": {},
   "source": [
    "## Bathrooms_Text to Num_Bathrooms"
   ]
  },
  {
   "cell_type": "markdown",
   "metadata": {},
   "source": [
    "---\n",
    "\n",
    "> In the raw data, the original \"bathrooms\" feature was empty and was dropped as part of processing missing data.\n",
    ">\n",
    "> **My goal is to convert the \"bathrooms_text\" feature into a new \"num_bathrooms\" feature to indicate the number of bathrooms at a host property.**\n",
    ">\n",
    "> I assume the number of bathrooms would have an impact on the rating . More bathrooms could mean more space/comfort for the guest, but could also cause an increase in price.\n",
    "\n",
    "\n",
    "---"
   ]
  },
  {
   "cell_type": "code",
   "execution_count": null,
   "metadata": {
    "ExecuteTime": {
     "end_time": "2021-08-05T02:32:17.567210Z",
     "start_time": "2021-08-05T02:32:17.538237Z"
    }
   },
   "outputs": [],
   "source": [
    "## Checking current dataframe contents\n",
    "df.head(3)"
   ]
  },
  {
   "cell_type": "code",
   "execution_count": null,
   "metadata": {
    "ExecuteTime": {
     "end_time": "2021-08-05T02:32:17.598211Z",
     "start_time": "2021-08-05T02:32:17.569214Z"
    },
    "scrolled": false
   },
   "outputs": [],
   "source": [
    "## Checking for null values overall\n",
    "df.isna().sum()[df.isna().sum() > 0]"
   ]
  },
  {
   "cell_type": "code",
   "execution_count": null,
   "metadata": {
    "ExecuteTime": {
     "end_time": "2021-08-05T02:32:17.613209Z",
     "start_time": "2021-08-05T02:32:17.601211Z"
    },
    "scrolled": false
   },
   "outputs": [],
   "source": [
    "## Inspecting a selection of values from the column to understand the values\n",
    "df.loc[:,'bathrooms_text'][:21]"
   ]
  },
  {
   "cell_type": "code",
   "execution_count": null,
   "metadata": {
    "ExecuteTime": {
     "end_time": "2021-08-05T02:32:17.644212Z",
     "start_time": "2021-08-05T02:32:17.616212Z"
    }
   },
   "outputs": [],
   "source": [
    "## Inspecting the rows in which there are null values\n",
    "df[df['bathrooms_text'].isna()]"
   ]
  },
  {
   "cell_type": "code",
   "execution_count": null,
   "metadata": {
    "ExecuteTime": {
     "end_time": "2021-08-05T02:32:17.660215Z",
     "start_time": "2021-08-05T02:32:17.646216Z"
    }
   },
   "outputs": [],
   "source": [
    "## Filling null values with unique string ('Baths' not present otherwise)\n",
    "## Unique string can be used later to check for any other zero baths\n",
    "\n",
    "df.loc[:,'bathrooms_text'].fillna('0 Baths', inplace=True)"
   ]
  },
  {
   "cell_type": "code",
   "execution_count": null,
   "metadata": {
    "ExecuteTime": {
     "end_time": "2021-08-05T02:32:17.692211Z",
     "start_time": "2021-08-05T02:32:17.662212Z"
    },
    "scrolled": false
   },
   "outputs": [],
   "source": [
    "## Verifying all null values are filled\n",
    "df.isna().sum()[df.isna().sum() > 0]"
   ]
  },
  {
   "cell_type": "code",
   "execution_count": null,
   "metadata": {
    "ExecuteTime": {
     "end_time": "2021-08-05T02:32:17.707214Z",
     "start_time": "2021-08-05T02:32:17.695215Z"
    },
    "scrolled": true
   },
   "outputs": [],
   "source": [
    "df.loc[:,'bathrooms_text'].isna().sum()"
   ]
  },
  {
   "cell_type": "code",
   "execution_count": null,
   "metadata": {
    "ExecuteTime": {
     "end_time": "2021-08-05T02:32:17.723216Z",
     "start_time": "2021-08-05T02:32:17.709223Z"
    },
    "scrolled": false
   },
   "outputs": [],
   "source": [
    "## Splitting each list into separate strings\n",
    "df['num_bathrooms'] = df['bathrooms_text'].map(lambda x: x.split(' ')[0])\n",
    "df['num_bathrooms'].value_counts()"
   ]
  },
  {
   "cell_type": "code",
   "execution_count": null,
   "metadata": {
    "ExecuteTime": {
     "end_time": "2021-08-05T02:32:17.738242Z",
     "start_time": "2021-08-05T02:32:17.725228Z"
    },
    "scrolled": false
   },
   "outputs": [],
   "source": [
    "## Inspecting results that are phrases, not numbers\n",
    "\n",
    "replace = ['Half-bath', 'Shared', 'Private']\n",
    "\n",
    "for x in df['bathrooms_text']:\n",
    "    for i in replace:\n",
    "        if i in x:\n",
    "            print(x)"
   ]
  },
  {
   "cell_type": "markdown",
   "metadata": {},
   "source": [
    "---\n",
    "\n",
    "> **I will replace these values with the numeric value .5 as they are half-baths.** This will allow me to convert the column datatype to a float and use the column more easily in my modeling.\n",
    "\n",
    "---"
   ]
  },
  {
   "cell_type": "code",
   "execution_count": null,
   "metadata": {
    "ExecuteTime": {
     "end_time": "2021-08-05T02:32:17.754245Z",
     "start_time": "2021-08-05T02:32:17.740228Z"
    },
    "scrolled": true
   },
   "outputs": [],
   "source": [
    "## Replacing string values with .5 to represent half-bathrooms\n",
    "\n",
    "replace = {'Half-bath': .5, 'Shared': .5, 'Private': .5}\n",
    "\n",
    "df['num_bathrooms'].replace(replace, inplace = True)\n",
    "\n",
    "df['num_bathrooms'] = df['num_bathrooms'].astype(float)"
   ]
  },
  {
   "cell_type": "code",
   "execution_count": null,
   "metadata": {
    "ExecuteTime": {
     "end_time": "2021-08-05T02:32:17.770217Z",
     "start_time": "2021-08-05T02:32:17.756213Z"
    }
   },
   "outputs": [],
   "source": [
    "## Inspecting resulting values\n",
    "\n",
    "df['num_bathrooms'].value_counts(dropna=False)"
   ]
  },
  {
   "cell_type": "code",
   "execution_count": null,
   "metadata": {
    "ExecuteTime": {
     "end_time": "2021-08-05T02:32:17.801247Z",
     "start_time": "2021-08-05T02:32:17.772213Z"
    },
    "scrolled": false
   },
   "outputs": [],
   "source": [
    "## Inspecting listings with more than 10 rooms\n",
    "\n",
    "df[df['num_bathrooms'] >10]"
   ]
  },
  {
   "cell_type": "markdown",
   "metadata": {},
   "source": [
    "---\n",
    "\n",
    "> After taking a look at the locations listed above on Google Maps (using their latitude/longitude), I feel like these three listings with more than 10 bathrooms are either duplicates or incorrect values (for 50 baths).\n",
    ">\n",
    "> Due to the questionable nature of these values, I will drop these rows to prevent these outliers from impacting my results.\n",
    "\n",
    "---"
   ]
  },
  {
   "cell_type": "code",
   "execution_count": null,
   "metadata": {
    "ExecuteTime": {
     "end_time": "2021-08-05T02:32:17.848277Z",
     "start_time": "2021-08-05T02:32:17.803215Z"
    },
    "scrolled": true
   },
   "outputs": [],
   "source": [
    "## Inspecting rows where 'num_bathrooms' is zero to validate data\n",
    "\n",
    "df[df['num_bathrooms'] ==0]"
   ]
  },
  {
   "cell_type": "code",
   "execution_count": null,
   "metadata": {
    "ExecuteTime": {
     "end_time": "2021-08-05T02:32:17.864245Z",
     "start_time": "2021-08-05T02:32:17.850217Z"
    }
   },
   "outputs": [],
   "source": [
    "## Removing old column post-conversion\n",
    "\n",
    "df = df.drop(columns = 'bathrooms_text')"
   ]
  },
  {
   "cell_type": "code",
   "execution_count": null,
   "metadata": {
    "ExecuteTime": {
     "end_time": "2021-08-05T02:32:17.879248Z",
     "start_time": "2021-08-05T02:32:17.866216Z"
    }
   },
   "outputs": [],
   "source": [
    "## Confirming removal\n",
    "\n",
    "'bathrooms_text' in df.columns"
   ]
  },
  {
   "cell_type": "markdown",
   "metadata": {},
   "source": [
    "---\n",
    "\n",
    "> My review of the original bathroom text for the zero bathrooms column shows that the listings are associated with a private room. This would make sense as the listings may not include an option such as a shared bath, etc..\n",
    ">\n",
    "> Additionally I did fill 9 instances of missing values with \"0 Baths,\" which would contribute slightly to this count.\n",
    ">\n",
    "> Overall, I feel the data is valid and I will use it for my modeling.\n",
    "\n",
    "---"
   ]
  },
  {
   "cell_type": "markdown",
   "metadata": {},
   "source": [
    "## Cleaning Room_Type"
   ]
  },
  {
   "cell_type": "code",
   "execution_count": null,
   "metadata": {
    "ExecuteTime": {
     "end_time": "2021-08-05T02:32:17.894217Z",
     "start_time": "2021-08-05T02:32:17.881218Z"
    }
   },
   "outputs": [],
   "source": [
    "df['room_type'].value_counts()"
   ]
  },
  {
   "cell_type": "code",
   "execution_count": null,
   "metadata": {
    "ExecuteTime": {
     "end_time": "2021-08-05T02:32:17.910244Z",
     "start_time": "2021-08-05T02:32:17.897217Z"
    }
   },
   "outputs": [],
   "source": [
    "replace_rooms = {'Entire home/apt': 'entire_home', \n",
    "                 'Private room': 'private_room',\n",
    "                 'Shared room': 'shared_room',\n",
    "                 'Hotel room': 'hotel_room'\n",
    "                }\n",
    "\n",
    "df['room_type'].replace(replace_rooms, inplace=True)\n",
    "df['room_type'].value_counts(dropna=False)"
   ]
  },
  {
   "cell_type": "markdown",
   "metadata": {},
   "source": [
    "## Binarizing Neighbourhood_Cleansed"
   ]
  },
  {
   "cell_type": "markdown",
   "metadata": {},
   "source": [
    "---\n",
    "\n",
    "> The current values for \"neighbourhood_cleansed\" are a single string value. **I will separate each neighborhood and convert them into a binary column to represent whether or not that neighborhood is included in the listing, then drop the old column.**\n",
    "\n",
    "---"
   ]
  },
  {
   "cell_type": "code",
   "execution_count": null,
   "metadata": {
    "ExecuteTime": {
     "end_time": "2021-08-05T02:32:17.926246Z",
     "start_time": "2021-08-05T02:32:17.912217Z"
    },
    "scrolled": true
   },
   "outputs": [],
   "source": [
    "## Inspecting feature\n",
    "df.loc[:,'neighbourhood_cleansed']"
   ]
  },
  {
   "cell_type": "code",
   "execution_count": null,
   "metadata": {
    "ExecuteTime": {
     "end_time": "2021-08-05T02:32:17.942242Z",
     "start_time": "2021-08-05T02:32:17.928219Z"
    }
   },
   "outputs": [],
   "source": [
    "## Identifying datatype\n",
    "df.loc[:,'neighbourhood_cleansed'].dtype"
   ]
  },
  {
   "cell_type": "code",
   "execution_count": null,
   "metadata": {
    "ExecuteTime": {
     "end_time": "2021-08-05T02:32:17.957245Z",
     "start_time": "2021-08-05T02:32:17.944233Z"
    }
   },
   "outputs": [],
   "source": [
    "## Testing the splitting between neighborhoods\n",
    "\n",
    "df.loc[:,'neighbourhood_cleansed'][1].split(', ')"
   ]
  },
  {
   "cell_type": "code",
   "execution_count": null,
   "metadata": {
    "ExecuteTime": {
     "end_time": "2021-08-05T02:32:17.972243Z",
     "start_time": "2021-08-05T02:32:17.959218Z"
    }
   },
   "outputs": [],
   "source": [
    "## Converting values into a list of strings of neighborhoods\n",
    "\n",
    "df['neighbourhood_cleansed'] = df['neighbourhood_cleansed'] \\\n",
    "                                    .apply(lambda x: x.split(', '))\n",
    "\n",
    "display(df.loc[:,'neighbourhood_cleansed'])"
   ]
  },
  {
   "cell_type": "markdown",
   "metadata": {},
   "source": [
    "---\n",
    "\n",
    "> The following code snippet is adapted from [here](https://stackoverflow.com/questions/45312377/how-to-one-hot-encode-from-a-pandas-column-containing-a-list#:~:text=Sparse%20solution%20(for%20Pandas%20v0.25.0%2B)) by the user [Maxu](https://stackoverflow.com/users/5741205/maxu).\n",
    "\n",
    "---"
   ]
  },
  {
   "cell_type": "code",
   "execution_count": null,
   "metadata": {
    "ExecuteTime": {
     "end_time": "2021-08-05T02:32:18.004220Z",
     "start_time": "2021-08-05T02:32:17.974221Z"
    }
   },
   "outputs": [],
   "source": [
    "## Converting each neighborhood into a binary column and dropping old column\n",
    "\n",
    "mlb = MultiLabelBinarizer()\n",
    "\n",
    "df = df.join(pd.DataFrame(mlb.fit_transform(df.pop('neighbourhood_cleansed')),\n",
    "                              columns=mlb.classes_,index=df.index))"
   ]
  },
  {
   "cell_type": "code",
   "execution_count": null,
   "metadata": {
    "ExecuteTime": {
     "end_time": "2021-08-05T02:32:18.082282Z",
     "start_time": "2021-08-05T02:32:18.007221Z"
    },
    "scrolled": true
   },
   "outputs": [],
   "source": [
    "## Inspecting results\n",
    "\n",
    "df.head(3)"
   ]
  },
  {
   "cell_type": "markdown",
   "metadata": {},
   "source": [
    "---\n",
    "\n",
    "> After using the MultiLabelBinarizer, I successfully added a column for each neighborhood, indicating whether or not that neighborhood was included in the listing.\n",
    ">\n",
    "> This enables me to use the presence/absence of a  neighborhood as a category in my modeling.\n",
    "\n",
    "---"
   ]
  },
  {
   "cell_type": "markdown",
   "metadata": {},
   "source": [
    "## Host_Verifications to Binary Columns"
   ]
  },
  {
   "cell_type": "markdown",
   "metadata": {},
   "source": [
    "---\n",
    "\n",
    "> For the \"host_verifications\" and \"amenities\" features, the values are a single string with several items within the string.\n",
    ">\n",
    "> It is somewhat similar to the \"neighborhoods_cleaned\" feature in the sense that I will need to filter out the individual items from the string. However, there is an added complication as I need to remove the brackets and quotations from the strings.\n",
    ">\n",
    "> Once I filter out the items, I will be able to use the MultiLabelBinarizer again to create more categories for each amenity.\n",
    "\n",
    "---"
   ]
  },
  {
   "cell_type": "code",
   "execution_count": null,
   "metadata": {
    "ExecuteTime": {
     "end_time": "2021-08-05T02:32:18.113254Z",
     "start_time": "2021-08-05T02:32:18.092223Z"
    }
   },
   "outputs": [],
   "source": [
    "## Inspecting contents\n",
    "df['host_verifications'][:10]"
   ]
  },
  {
   "cell_type": "code",
   "execution_count": null,
   "metadata": {
    "ExecuteTime": {
     "end_time": "2021-08-05T02:32:18.128254Z",
     "start_time": "2021-08-05T02:32:18.117251Z"
    }
   },
   "outputs": [],
   "source": [
    "## Testing the splitting between items\n",
    "\n",
    "df.loc[:,'host_verifications'][1]"
   ]
  },
  {
   "cell_type": "code",
   "execution_count": null,
   "metadata": {
    "ExecuteTime": {
     "end_time": "2021-08-05T02:32:18.160256Z",
     "start_time": "2021-08-05T02:32:18.130222Z"
    }
   },
   "outputs": [],
   "source": [
    "## Removing e'host_verifications'tra characters and splitting items\n",
    "\n",
    "df['host_verifications'] = df['host_verifications'].str.replace('[', '')\n",
    "df['host_verifications'] = df['host_verifications'].str.replace(']', '')\n",
    "df['host_verifications'] = df['host_verifications'].str.replace(\"'\", '')\n",
    "df['host_verifications'] = df['host_verifications'].str.replace('\"', '')\n",
    "df['host_verifications'] = df['host_verifications'].apply(lambda x: x.split(', '))"
   ]
  },
  {
   "cell_type": "code",
   "execution_count": null,
   "metadata": {
    "ExecuteTime": {
     "end_time": "2021-08-05T02:32:18.176250Z",
     "start_time": "2021-08-05T02:32:18.161272Z"
    }
   },
   "outputs": [],
   "source": [
    "df['host_verifications']"
   ]
  },
  {
   "cell_type": "code",
   "execution_count": null,
   "metadata": {
    "ExecuteTime": {
     "end_time": "2021-08-05T02:32:18.332227Z",
     "start_time": "2021-08-05T02:32:18.178222Z"
    }
   },
   "outputs": [],
   "source": [
    "## Converting each value into a binary column and dropping old column\n",
    "\n",
    "mlb2 = MultiLabelBinarizer()\n",
    "    \n",
    "df = df.join(pd.DataFrame(mlb2.fit_transform(df.pop('host_verifications')),\n",
    "                                  columns=mlb2.classes_,index=df.index))\n",
    "\n",
    "df"
   ]
  },
  {
   "cell_type": "markdown",
   "metadata": {},
   "source": [
    "---\n",
    "\n",
    "> At this point, I successfully processed the 'host_verification' feature into distinct categories for modeling.\n",
    ">\n",
    "> In the future, I may attempt to do the same for the 'amenities' feature, but I don't want to create too many columns before my initial modeling.\n",
    "\n",
    "---"
   ]
  },
  {
   "cell_type": "markdown",
   "metadata": {},
   "source": [
    "## ❌ ERROR ❌ Binarizing Room_Type"
   ]
  },
  {
   "cell_type": "markdown",
   "metadata": {},
   "source": [
    "---\n",
    "\n",
    "> **Can't get MLB/OHE to work for individual property types.**\n",
    "\n",
    "---"
   ]
  },
  {
   "cell_type": "code",
   "execution_count": null,
   "metadata": {
    "ExecuteTime": {
     "end_time": "2021-08-05T02:32:18.348228Z",
     "start_time": "2021-08-05T02:32:18.334227Z"
    }
   },
   "outputs": [],
   "source": [
    "# df['room_type'].describe()"
   ]
  },
  {
   "cell_type": "code",
   "execution_count": null,
   "metadata": {
    "ExecuteTime": {
     "end_time": "2021-08-05T02:32:18.364228Z",
     "start_time": "2021-08-05T02:32:18.350227Z"
    },
    "scrolled": true
   },
   "outputs": [],
   "source": [
    "# df['room_type'].value_counts(dropna=False)"
   ]
  },
  {
   "cell_type": "code",
   "execution_count": null,
   "metadata": {
    "ExecuteTime": {
     "end_time": "2021-08-05T02:32:18.380227Z",
     "start_time": "2021-08-05T02:32:18.366229Z"
    }
   },
   "outputs": [],
   "source": [
    "# df['room_type'] = df['room_type'].replace('Entire home/apt', 'Home/Apt')"
   ]
  },
  {
   "cell_type": "code",
   "execution_count": null,
   "metadata": {
    "ExecuteTime": {
     "end_time": "2021-08-05T02:32:18.396256Z",
     "start_time": "2021-08-05T02:32:18.382227Z"
    }
   },
   "outputs": [],
   "source": [
    "# df['room_type'] = df['room_type'].map(lambda x: x.split(' ')[0])"
   ]
  },
  {
   "cell_type": "code",
   "execution_count": null,
   "metadata": {
    "ExecuteTime": {
     "end_time": "2021-08-05T02:32:18.412230Z",
     "start_time": "2021-08-05T02:32:18.399231Z"
    }
   },
   "outputs": [],
   "source": [
    "# df['room_type'].value_counts(dropna=False)"
   ]
  },
  {
   "cell_type": "code",
   "execution_count": null,
   "metadata": {
    "ExecuteTime": {
     "end_time": "2021-08-05T02:32:18.428227Z",
     "start_time": "2021-08-05T02:32:18.415231Z"
    }
   },
   "outputs": [],
   "source": [
    "# ohe = OneHotEncoder(sparse=False)\n",
    "\n",
    "# df_ohe = ohe.fit_transform([df['room_type']])\n",
    "# df_ohe"
   ]
  },
  {
   "cell_type": "code",
   "execution_count": null,
   "metadata": {
    "ExecuteTime": {
     "end_time": "2021-08-05T02:32:18.443228Z",
     "start_time": "2021-08-05T02:32:18.430228Z"
    },
    "scrolled": true
   },
   "outputs": [],
   "source": [
    "# pd.DataFrame(df_ohe)"
   ]
  },
  {
   "cell_type": "markdown",
   "metadata": {},
   "source": [
    "## ❌ ERROR ❌ Converting Amenities\n"
   ]
  },
  {
   "cell_type": "markdown",
   "metadata": {},
   "source": [
    "---\n",
    "\n",
    "> same issue as w/ room type\n",
    "\n",
    "---"
   ]
  },
  {
   "cell_type": "code",
   "execution_count": null,
   "metadata": {
    "ExecuteTime": {
     "end_time": "2021-08-05T02:32:18.458258Z",
     "start_time": "2021-08-05T02:32:18.445234Z"
    }
   },
   "outputs": [],
   "source": [
    "# for x in ['host_verifications', 'amenities']:\n",
    "#     print(df[x])"
   ]
  },
  {
   "cell_type": "code",
   "execution_count": null,
   "metadata": {
    "ExecuteTime": {
     "end_time": "2021-08-05T02:32:18.474254Z",
     "start_time": "2021-08-05T02:32:18.460228Z"
    }
   },
   "outputs": [],
   "source": [
    "# df['amenities'][:10]"
   ]
  },
  {
   "cell_type": "code",
   "execution_count": null,
   "metadata": {
    "ExecuteTime": {
     "end_time": "2021-08-05T02:32:18.489228Z",
     "start_time": "2021-08-05T02:32:18.476246Z"
    }
   },
   "outputs": [],
   "source": [
    "# for x in ['host_verifications', 'amenities']:\n",
    "#     df[x] = df[x].str.replace('and', '')"
   ]
  },
  {
   "cell_type": "code",
   "execution_count": null,
   "metadata": {
    "ExecuteTime": {
     "end_time": "2021-08-05T02:32:18.504227Z",
     "start_time": "2021-08-05T02:32:18.491229Z"
    }
   },
   "outputs": [],
   "source": [
    "# ## Converting each value into a binary column and dropping old column\n",
    "\n",
    "# mlb = MultiLabelBinarizer()\n",
    "    \n",
    "# df = df.join(pd.DataFrame(mlb.fit_transform(df.pop('amenities')),\n",
    "#                                   columns=mlb.classes_,index=df.index))"
   ]
  },
  {
   "cell_type": "code",
   "execution_count": null,
   "metadata": {
    "ExecuteTime": {
     "end_time": "2021-08-05T02:32:18.520255Z",
     "start_time": "2021-08-05T02:32:18.506228Z"
    }
   },
   "outputs": [],
   "source": [
    "# df.loc[:,'host_verifications'] = df.loc[:,'host_verifications'].str.replace('[', '')\n",
    "# df.loc[:,'host_verifications'] = df.loc[:,'host_verifications'].str.replace(']', '')\n",
    "# df.loc[:,'host_verifications'] = df.loc[:,'host_verifications'].str.replace(\"'\", '')"
   ]
  },
  {
   "cell_type": "code",
   "execution_count": null,
   "metadata": {
    "ExecuteTime": {
     "end_time": "2021-08-05T02:32:18.536255Z",
     "start_time": "2021-08-05T02:32:18.522229Z"
    },
    "scrolled": true
   },
   "outputs": [],
   "source": [
    "# df.loc[:,'host_verifications']"
   ]
  },
  {
   "cell_type": "code",
   "execution_count": null,
   "metadata": {
    "ExecuteTime": {
     "end_time": "2021-08-05T02:32:18.551259Z",
     "start_time": "2021-08-05T02:32:18.538255Z"
    }
   },
   "outputs": [],
   "source": [
    "# df['amenities'] = df['amenities'].str.replace('[', '')\n",
    "# df['amenities'] = df['amenities'].str.replace(']', '')\n",
    "# df['amenities'] = df['amenities'].str.replace('\"', '')"
   ]
  },
  {
   "cell_type": "code",
   "execution_count": null,
   "metadata": {
    "ExecuteTime": {
     "end_time": "2021-08-05T02:32:18.566231Z",
     "start_time": "2021-08-05T02:32:18.553240Z"
    },
    "scrolled": true
   },
   "outputs": [],
   "source": [
    "# df['amenities']"
   ]
  },
  {
   "cell_type": "code",
   "execution_count": null,
   "metadata": {
    "ExecuteTime": {
     "end_time": "2021-08-05T02:32:18.582259Z",
     "start_time": "2021-08-05T02:32:18.568229Z"
    }
   },
   "outputs": [],
   "source": [
    "# df['amenities'] = df['amenities'].apply(lambda x: x.split(', '))"
   ]
  },
  {
   "cell_type": "code",
   "execution_count": null,
   "metadata": {
    "ExecuteTime": {
     "end_time": "2021-08-05T02:32:18.598233Z",
     "start_time": "2021-08-05T02:32:18.585231Z"
    }
   },
   "outputs": [],
   "source": [
    "# df['amenities'][0]"
   ]
  },
  {
   "cell_type": "code",
   "execution_count": null,
   "metadata": {
    "ExecuteTime": {
     "end_time": "2021-08-05T02:32:18.613229Z",
     "start_time": "2021-08-05T02:32:18.600240Z"
    }
   },
   "outputs": [],
   "source": [
    "# df['host_verifications'] = df['host_verifications'].apply(lambda x: x.split(', '))"
   ]
  },
  {
   "cell_type": "code",
   "execution_count": null,
   "metadata": {
    "ExecuteTime": {
     "end_time": "2021-08-05T02:32:18.628230Z",
     "start_time": "2021-08-05T02:32:18.615252Z"
    }
   },
   "outputs": [],
   "source": [
    "# df['host_verifications'][0][0]"
   ]
  },
  {
   "cell_type": "code",
   "execution_count": null,
   "metadata": {
    "ExecuteTime": {
     "end_time": "2021-08-05T02:32:18.644262Z",
     "start_time": "2021-08-05T02:32:18.630231Z"
    }
   },
   "outputs": [],
   "source": [
    "# def convert_to_col(df, list_cols):\n",
    "#     '''For a given list of column names, separates each string value in the\n",
    "#     column by the comma/space pattern to return new strings of single values.\n",
    "    \n",
    "#     Then, instantiates a MultiLabelBinarizer to create new columns for each \n",
    "#     new string to indicate the presence or absence of that string in the \n",
    "#     original column.'''\n",
    "    \n",
    "# #     mlb = MultiLabelBinarizer()\n",
    "    \n",
    "#     for x in list_cols:\n",
    "#         try:\n",
    "#             df[x] = df[x].apply(lambda x: x.split(', '))\n",
    "#             print(f'Successfully split values in column \"{x}\"')\n",
    "            \n",
    "#         except Exception:\n",
    "#             print('\\nValues are already processed and saved.')\n",
    "#             print(f\"\\nSample value: {df.loc[:,x][3]}\")\n",
    "            \n",
    "# #         try:\n",
    "# #             df = df.join(pd.DataFrame(mlb.fit_transform(df.pop(x)),\n",
    "# #                                       columns=mlb.classes_,index=df.index))\n",
    "# #         except Exception:\n",
    "# #                 print('\\nValues are already processed and saved.')\n",
    "                \n",
    "#     return df"
   ]
  },
  {
   "cell_type": "code",
   "execution_count": null,
   "metadata": {
    "ExecuteTime": {
     "end_time": "2021-08-05T02:32:18.660265Z",
     "start_time": "2021-08-05T02:32:18.646234Z"
    },
    "scrolled": false
   },
   "outputs": [],
   "source": [
    "# binarize_cols = ['host_verifications', 'amenities'] \n",
    "\n",
    "# convert_to_col(df, binarize_cols)"
   ]
  },
  {
   "cell_type": "code",
   "execution_count": null,
   "metadata": {
    "ExecuteTime": {
     "end_time": "2021-08-05T02:32:18.676262Z",
     "start_time": "2021-08-05T02:32:18.662240Z"
    }
   },
   "outputs": [],
   "source": [
    "# ## Converting each value into a binary column and dropping old column\n",
    "\n",
    "# mlb = MultiLabelBinarizer()\n",
    "    \n",
    "# df = df.join(pd.DataFrame(mlb.fit_transform(df.pop('amenities')),\n",
    "#                                   columns=mlb.classes_,index=df.index))"
   ]
  },
  {
   "cell_type": "code",
   "execution_count": null,
   "metadata": {
    "ExecuteTime": {
     "end_time": "2021-08-05T02:32:18.692232Z",
     "start_time": "2021-08-05T02:32:18.678242Z"
    }
   },
   "outputs": [],
   "source": [
    "# # mlb = MultiLabelBinarizer()\n",
    "    \n",
    "# df = df.join(pd.DataFrame(mlb.fit_transform(df.pop('amenities')),\n",
    "#                                   columns=mlb.classes_,index=df.index))"
   ]
  },
  {
   "cell_type": "code",
   "execution_count": null,
   "metadata": {
    "ExecuteTime": {
     "end_time": "2021-08-05T02:32:18.707259Z",
     "start_time": "2021-08-05T02:32:18.694232Z"
    }
   },
   "outputs": [],
   "source": [
    "# ## Converting values into a list of strings for each neighborhood\n",
    "\n",
    "# try:\n",
    "#     df['host_verifications'] = df['host_verifications'] \\\n",
    "#                                                 .apply(lambda x: x.split(', '))\n",
    "#     display(df.loc[:,'host_verifications'])\n",
    "# except Exception:\n",
    "#     print('\\nValues are already processed and saved. No changes necessary.')\n",
    "#     print(f\"\\nSample value: {df.loc[:,'host_verifications'][3]}\")\n",
    "    \n",
    "    "
   ]
  },
  {
   "cell_type": "code",
   "execution_count": null,
   "metadata": {
    "ExecuteTime": {
     "end_time": "2021-08-05T02:32:18.723259Z",
     "start_time": "2021-08-05T02:32:18.709232Z"
    },
    "scrolled": true
   },
   "outputs": [],
   "source": [
    "# ## Inspecting results\n",
    "\n",
    "# df.head(3)"
   ]
  },
  {
   "cell_type": "code",
   "execution_count": null,
   "metadata": {
    "ExecuteTime": {
     "end_time": "2021-08-05T02:32:18.738259Z",
     "start_time": "2021-08-05T02:32:18.725244Z"
    }
   },
   "outputs": [],
   "source": [
    "# test3 = df['host_verifications'][0]\n",
    "# test3[1:-1].replace('\"', \"'\").split(\",\")"
   ]
  },
  {
   "cell_type": "code",
   "execution_count": null,
   "metadata": {
    "ExecuteTime": {
     "end_time": "2021-08-05T02:32:18.754260Z",
     "start_time": "2021-08-05T02:32:18.740233Z"
    }
   },
   "outputs": [],
   "source": [
    "# # df['Tags'] = df.Tags.apply(lambda x: x[1:-1].split(','))\n",
    "\n",
    "# df['host_verifications'].apply(lambda x: x.split(','))[0]"
   ]
  },
  {
   "cell_type": "markdown",
   "metadata": {},
   "source": [
    "# Pre-Pipeline Review"
   ]
  },
  {
   "cell_type": "code",
   "execution_count": null,
   "metadata": {
    "ExecuteTime": {
     "end_time": "2021-08-05T02:32:18.831247Z",
     "start_time": "2021-08-05T02:32:18.756235Z"
    },
    "scrolled": false
   },
   "outputs": [],
   "source": [
    "## Review remaining data\n",
    "df.head(3)"
   ]
  },
  {
   "cell_type": "code",
   "execution_count": null,
   "metadata": {
    "ExecuteTime": {
     "end_time": "2021-08-05T02:32:18.847234Z",
     "start_time": "2021-08-05T02:32:18.834235Z"
    }
   },
   "outputs": [],
   "source": [
    "## Removing columns with no impact on modeling\n",
    "\n",
    "df.drop(columns = ['host_since', 'host_neighbourhood', 'amenities'], inplace=True)"
   ]
  },
  {
   "cell_type": "code",
   "execution_count": null,
   "metadata": {
    "ExecuteTime": {
     "end_time": "2021-08-05T02:32:19.251276Z",
     "start_time": "2021-08-05T02:32:18.849235Z"
    },
    "scrolled": false
   },
   "outputs": [],
   "source": [
    "## Final review\n",
    "\n",
    "df.describe()"
   ]
  },
  {
   "cell_type": "markdown",
   "metadata": {},
   "source": [
    "## Converting Remaining Datatypes"
   ]
  },
  {
   "cell_type": "code",
   "execution_count": null,
   "metadata": {
    "ExecuteTime": {
     "end_time": "2021-08-05T02:32:19.266271Z",
     "start_time": "2021-08-05T02:32:19.253242Z"
    },
    "scrolled": false
   },
   "outputs": [],
   "source": [
    "df.dtypes[:40]"
   ]
  },
  {
   "cell_type": "code",
   "execution_count": null,
   "metadata": {
    "ExecuteTime": {
     "end_time": "2021-08-05T02:32:19.297277Z",
     "start_time": "2021-08-05T02:32:19.268244Z"
    },
    "scrolled": true
   },
   "outputs": [],
   "source": [
    "df.isna().sum()[df.isna().sum() > 0]"
   ]
  },
  {
   "cell_type": "markdown",
   "metadata": {},
   "source": [
    "# 🪓 **Train/Test Split**"
   ]
  },
  {
   "cell_type": "markdown",
   "metadata": {},
   "source": [
    "---\n",
    "\n",
    "> Before I run any further pre-processing, I split my data into training and test sets to allow me to test my model's performance.\n",
    ">\n",
    "> **In order to split my classification target feature properly, I will convert the original values to binary values.** Since my goal is to determine whether or not a given host property will have a high score (4+), I assign all values greater-than or equal-to 4 to '1' and anything less than 4 as '0.'\n",
    ">\n",
    "> **This conversion also allows me to use the \"stratify\" parameter in my train/test split,** which will preserve the class balance when I split my data. This will be key for proper evaluation of my models.\n",
    "\n",
    "---"
   ]
  },
  {
   "cell_type": "code",
   "execution_count": null,
   "metadata": {
    "ExecuteTime": {
     "end_time": "2021-08-05T02:32:19.312277Z",
     "start_time": "2021-08-05T02:32:19.299244Z"
    }
   },
   "outputs": [],
   "source": [
    "## Using np.select to reassign target values based on conditional evaluations\n",
    "\n",
    "cond = [df['review_scores_rating'] >= 4.5,\n",
    "        df['review_scores_rating'] < 4.5\n",
    "       ]\n",
    "\n",
    "choice = [1,0]\n",
    "\n",
    "df['review_scores_rating'] = np.select(cond, choice, 0)"
   ]
  },
  {
   "cell_type": "code",
   "execution_count": null,
   "metadata": {
    "ExecuteTime": {
     "end_time": "2021-08-05T02:32:19.328247Z",
     "start_time": "2021-08-05T02:32:19.314243Z"
    }
   },
   "outputs": [],
   "source": [
    "## Reviewing results to confirm only 0/1 values\n",
    "df['review_scores_rating'].value_counts(dropna=False)"
   ]
  },
  {
   "cell_type": "code",
   "execution_count": null,
   "metadata": {
    "ExecuteTime": {
     "end_time": "2021-08-05T02:32:19.344277Z",
     "start_time": "2021-08-05T02:32:19.330245Z"
    }
   },
   "outputs": [],
   "source": [
    "## Creating features/target for dataset\n",
    "target = 'review_scores_rating'\n",
    "\n",
    "X = df.drop(columns = target).copy()\n",
    "y = df[target].copy()"
   ]
  },
  {
   "cell_type": "code",
   "execution_count": null,
   "metadata": {
    "ExecuteTime": {
     "end_time": "2021-08-05T02:32:19.360245Z",
     "start_time": "2021-08-05T02:32:19.347248Z"
    }
   },
   "outputs": [],
   "source": [
    "## Confirming same number of rows\n",
    "X.shape[0] == y.shape[0]"
   ]
  },
  {
   "cell_type": "code",
   "execution_count": null,
   "metadata": {
    "ExecuteTime": {
     "end_time": "2021-08-05T02:32:19.390246Z",
     "start_time": "2021-08-05T02:32:19.362249Z"
    }
   },
   "outputs": [],
   "source": [
    "## Splitting to prevent data leakage\n",
    "X_train, X_test, y_train, y_test = train_test_split(X, y, test_size = .3, \n",
    "                                                    random_state=42, \n",
    "                                                    stratify=y)"
   ]
  },
  {
   "cell_type": "markdown",
   "metadata": {},
   "source": [
    "# 🚿 **Preprocessing Pipeline**"
   ]
  },
  {
   "cell_type": "code",
   "execution_count": null,
   "metadata": {
    "ExecuteTime": {
     "end_time": "2021-08-05T02:32:19.405246Z",
     "start_time": "2021-08-05T02:32:19.392245Z"
    },
    "scrolled": false
   },
   "outputs": [],
   "source": [
    "num_cols = X_train.select_dtypes(include=[int, float]).columns.to_list()\n",
    "# num_cols"
   ]
  },
  {
   "cell_type": "code",
   "execution_count": null,
   "metadata": {
    "ExecuteTime": {
     "end_time": "2021-08-05T02:32:19.421245Z",
     "start_time": "2021-08-05T02:32:19.408247Z"
    },
    "scrolled": true
   },
   "outputs": [],
   "source": [
    "cat_cols = ['room_type']\n",
    "cat_cols"
   ]
  },
  {
   "cell_type": "code",
   "execution_count": null,
   "metadata": {
    "ExecuteTime": {
     "end_time": "2021-08-05T02:32:19.436277Z",
     "start_time": "2021-08-05T02:32:19.423247Z"
    }
   },
   "outputs": [],
   "source": [
    "## Checking missing X-values for imputation\n",
    "X_train.isna().sum()[X_train.isna().sum() > 0]"
   ]
  },
  {
   "cell_type": "markdown",
   "metadata": {},
   "source": [
    "## Preprocessor"
   ]
  },
  {
   "cell_type": "code",
   "execution_count": null,
   "metadata": {
    "ExecuteTime": {
     "end_time": "2021-08-05T02:32:19.482248Z",
     "start_time": "2021-08-05T02:32:19.438275Z"
    }
   },
   "outputs": [],
   "source": [
    "## Creating ColumnTransformer and sub-transformers for imputation and encoding\n",
    "\n",
    "### --- Creating column transformers --- ###\n",
    "\n",
    "# Filling missing values in \"Beds\" and \"Bedrooms\"\n",
    "miss_num_transformer = SimpleImputer(strategy='mean')\n",
    "\n",
    "## Encoding categoricals - ignoring errors to prevent issues w/ test set\n",
    "categorical_transformer = OneHotEncoder(handle_unknown='ignore', sparse=False)\n",
    "\n",
    "\n",
    "### --- Creating column pipelines --- ###\n",
    "\n",
    "cat_pipe = Pipeline(steps=[('ohe', categorical_transformer)])\n",
    "\n",
    "num_pipe = Pipeline(steps=[('imputer', miss_num_transformer),\n",
    "                           ('scaler', StandardScaler())])\n",
    "\n",
    "## Instantiating the ColumnTransformer and including all transformers\n",
    "preprocessor = ColumnTransformer(\n",
    "    transformers=[('nums', num_pipe, num_cols),\n",
    "                  ('cats', cat_pipe, cat_cols)])\n",
    "\n",
    "preprocessor"
   ]
  },
  {
   "cell_type": "code",
   "execution_count": null,
   "metadata": {
    "ExecuteTime": {
     "end_time": "2021-08-05T02:32:19.560249Z",
     "start_time": "2021-08-05T02:32:19.485251Z"
    }
   },
   "outputs": [],
   "source": [
    "## Fitting feature preprocessor\n",
    "preprocessor.fit(X_train)\n",
    "\n",
    "## Getting feature names from OHE\n",
    "ohe_cat_names = preprocessor.named_transformers_['cats'].named_steps['ohe'].get_feature_names(cat_cols)\n",
    "\n",
    "## Generating list for column index\n",
    "final_cols = [*num_cols, *ohe_cat_names]"
   ]
  },
  {
   "cell_type": "code",
   "execution_count": null,
   "metadata": {
    "ExecuteTime": {
     "end_time": "2021-08-05T02:32:19.732287Z",
     "start_time": "2021-08-05T02:32:19.562251Z"
    },
    "scrolled": false
   },
   "outputs": [],
   "source": [
    "## Transform the data via the ColumnTransformer preprocessor\n",
    "\n",
    "X_train_tf = preprocessor.transform(X_train)\n",
    "X_train_tf_df = pd.DataFrame(X_train_tf, columns=final_cols, index=X_train.index)\n",
    "\n",
    "X_test_tf = preprocessor.transform(X_test)\n",
    "X_test_tf_df = pd.DataFrame(X_test_tf, columns=final_cols, index=X_test.index)\n",
    "\n",
    "display(X_train_tf_df.head(5),X_test_tf_df.head(5))"
   ]
  },
  {
   "cell_type": "markdown",
   "metadata": {},
   "source": [
    "# Identifying columns with outliers to improve classification results"
   ]
  },
  {
   "cell_type": "code",
   "execution_count": null,
   "metadata": {
    "ExecuteTime": {
     "end_time": "2021-08-05T02:32:21.497316Z",
     "start_time": "2021-08-05T02:32:19.735277Z"
    },
    "scrolled": false
   },
   "outputs": [],
   "source": [
    "## Heatmap to visualize presence/absence of outliers\n",
    "idx_train = (np.abs(X_train_tf_df) >= 3)\n",
    "sns.heatmap(idx_train)"
   ]
  },
  {
   "cell_type": "code",
   "execution_count": null,
   "metadata": {
    "ExecuteTime": {
     "end_time": "2021-08-05T02:32:21.858330Z",
     "start_time": "2021-08-05T02:32:21.499289Z"
    },
    "scrolled": true
   },
   "outputs": [],
   "source": [
    "## Looking at the min/max values to ID extreme z-scores\n",
    "\n",
    "X_train_tf_df.describe().loc[['min','50%', 'max']]"
   ]
  },
  {
   "cell_type": "code",
   "execution_count": null,
   "metadata": {
    "ExecuteTime": {
     "end_time": "2021-08-05T02:32:22.182300Z",
     "start_time": "2021-08-05T02:32:21.860294Z"
    }
   },
   "outputs": [],
   "source": [
    "X_train_tf_df.describe().loc[['min','50%', 'max']].max()"
   ]
  },
  {
   "cell_type": "code",
   "execution_count": null,
   "metadata": {
    "ExecuteTime": {
     "end_time": "2021-08-05T02:32:22.944314Z",
     "start_time": "2021-08-05T02:32:22.184303Z"
    }
   },
   "outputs": [],
   "source": [
    "## Visualizing max values for each feature\n",
    "\n",
    "display(X_train_tf_df.describe().loc[['min','50%', 'max']].max())\n",
    "\n",
    "sns.boxplot(x=X_train_tf_df.describe().loc[['min','50%', 'max']].max());"
   ]
  },
  {
   "cell_type": "code",
   "execution_count": null,
   "metadata": {
    "ExecuteTime": {
     "end_time": "2021-08-05T02:32:23.643328Z",
     "start_time": "2021-08-05T02:32:22.946314Z"
    },
    "scrolled": false
   },
   "outputs": [],
   "source": [
    "## Visualizing min values for each feature\n",
    "\n",
    "display(X_train_tf_df.describe().loc[['min','50%', 'max']].min())\n",
    "\n",
    "sns.boxplot(x=X_train_tf_df.describe().loc[['min','50%', 'max']].min());"
   ]
  },
  {
   "cell_type": "markdown",
   "metadata": {},
   "source": [
    "## Next Step"
   ]
  },
  {
   "cell_type": "markdown",
   "metadata": {},
   "source": [
    "Goal: ID features with extreme z-scores"
   ]
  },
  {
   "cell_type": "markdown",
   "metadata": {},
   "source": [
    "# Baseline Model"
   ]
  },
  {
   "cell_type": "code",
   "execution_count": null,
   "metadata": {
    "ExecuteTime": {
     "end_time": "2021-08-05T02:32:24.451373Z",
     "start_time": "2021-08-05T02:32:23.645327Z"
    }
   },
   "outputs": [],
   "source": [
    "## Creating baseline classifier model\n",
    "\n",
    "clf = DummyClassifier(strategy='stratified')\n",
    "\n",
    "clf.fit(X_train_tf_df, y_train)\n",
    "\n",
    "cf.evaluate_classification(clf,X_train = X_train_tf_df, y_train = y_train,\n",
    "                           X_test = X_test_tf_df, y_test = y_test, \n",
    "                           metric = 'accuracy',)"
   ]
  },
  {
   "cell_type": "markdown",
   "metadata": {},
   "source": [
    "---\n",
    "\n",
    "**Interpretation**\n",
    "\n",
    "> High log loss, very poor AUC (worse than random chance).\n",
    "\n",
    "---"
   ]
  },
  {
   "cell_type": "markdown",
   "metadata": {},
   "source": [
    "#  Logistic Regression Models"
   ]
  },
  {
   "cell_type": "code",
   "execution_count": null,
   "metadata": {
    "ExecuteTime": {
     "end_time": "2021-08-05T02:32:28.074414Z",
     "start_time": "2021-08-05T02:32:24.453346Z"
    }
   },
   "outputs": [],
   "source": [
    "## Running logistic regression model to determine performance\n",
    "\n",
    "clf = LogisticRegression(max_iter=350, n_jobs=-1, class_weight='balanced',\n",
    "                         random_state = 42)\n",
    "\n",
    "clf.fit(X_train_tf_df, y_train)\n",
    "\n",
    "cf.evaluate_classification(clf, X_train = X_train_tf_df, y_train = y_train,\n",
    "                           X_test = X_test_tf_df, y_test = y_test,\n",
    "                          metric = 'accuracy')"
   ]
  },
  {
   "cell_type": "code",
   "execution_count": null,
   "metadata": {
    "ExecuteTime": {
     "end_time": "2021-08-05T02:32:31.470515Z",
     "start_time": "2021-08-05T02:32:28.077415Z"
    }
   },
   "outputs": [],
   "source": [
    "## Testing LogRegCV model to compare\n",
    "\n",
    "clf = LogisticRegressionCV(max_iter=350, n_jobs=-1, class_weight='balanced',\n",
    "                          random_state = 42)\n",
    "\n",
    "clf.fit(X_train_tf_df, y_train)\n",
    "\n",
    "cf.evaluate_classification(clf, X_train = X_train_tf_df, y_train = y_train,\n",
    "                           X_test = X_test_tf_df, y_test = y_test,\n",
    "                          metric = 'accuracy')"
   ]
  },
  {
   "cell_type": "markdown",
   "metadata": {},
   "source": [
    "---\n",
    "\n",
    "**Interpretation**\n",
    "\n",
    "> Log loss increased by .12/.08 and AUC decreased by .05/.04 for training/test sets, respectively.\n",
    ">\n",
    "> The LogisticRegressionCV model is performing slightly worse than the normal model.\n",
    ">\n",
    "> I will test a different model type to see if I can get better scores with different modeling methods.\n",
    "\n",
    "---"
   ]
  },
  {
   "cell_type": "markdown",
   "metadata": {},
   "source": [
    "# KNN Model"
   ]
  },
  {
   "cell_type": "code",
   "execution_count": null,
   "metadata": {
    "ExecuteTime": {
     "end_time": "2021-08-05T02:32:31.486493Z",
     "start_time": "2021-08-05T02:32:31.472482Z"
    }
   },
   "outputs": [],
   "source": [
    "knn = KNeighborsClassifier(n_neighbors=3, n_jobs=-1)"
   ]
  },
  {
   "cell_type": "code",
   "execution_count": null,
   "metadata": {
    "ExecuteTime": {
     "end_time": "2021-08-05T02:32:37.385267Z",
     "start_time": "2021-08-05T02:32:31.489480Z"
    }
   },
   "outputs": [],
   "source": [
    "knn.fit(X_train_tf_df, y_train)\n",
    "\n",
    "cf.evaluate_classification(knn, X_train = X_train_tf_df, y_train = y_train,\n",
    "                           X_test = X_test_tf_df, y_test = y_test,\n",
    "                          metric = 'accuracy', normalize=None)"
   ]
  },
  {
   "cell_type": "markdown",
   "metadata": {},
   "source": [
    "# Decision Tree Model"
   ]
  },
  {
   "cell_type": "code",
   "execution_count": null,
   "metadata": {
    "ExecuteTime": {
     "end_time": "2021-08-05T02:32:37.401238Z",
     "start_time": "2021-08-05T02:32:37.388239Z"
    }
   },
   "outputs": [],
   "source": [
    "dtc = DecisionTreeClassifier(class_weight = 'balanced')"
   ]
  },
  {
   "cell_type": "code",
   "execution_count": null,
   "metadata": {
    "ExecuteTime": {
     "end_time": "2021-08-05T02:32:38.315399Z",
     "start_time": "2021-08-05T02:32:37.404240Z"
    },
    "scrolled": true
   },
   "outputs": [],
   "source": [
    "dtc.fit(X_train_tf_df, y_train)\n",
    "\n",
    "cf.evaluate_classification(dtc, X_train = X_train_tf_df, y_train = y_train,\n",
    "                           X_test = X_test_tf_df, y_test = y_test,\n",
    "                          metric = 'accuracy', normalize=None)"
   ]
  },
  {
   "cell_type": "code",
   "execution_count": null,
   "metadata": {
    "ExecuteTime": {
     "end_time": "2021-08-05T02:32:38.331290Z",
     "start_time": "2021-08-05T02:32:38.317256Z"
    }
   },
   "outputs": [],
   "source": [
    "dtc.get_depth()"
   ]
  },
  {
   "cell_type": "markdown",
   "metadata": {},
   "source": [
    "# RandomForestClassifier"
   ]
  },
  {
   "cell_type": "code",
   "execution_count": null,
   "metadata": {
    "ExecuteTime": {
     "end_time": "2021-08-05T02:32:38.347257Z",
     "start_time": "2021-08-05T02:32:38.334259Z"
    }
   },
   "outputs": [],
   "source": [
    "rfc = RandomForestClassifier(class_weight = 'balanced',\n",
    "                            n_jobs=-1)"
   ]
  },
  {
   "cell_type": "code",
   "execution_count": null,
   "metadata": {
    "ExecuteTime": {
     "end_time": "2021-08-05T02:32:39.917286Z",
     "start_time": "2021-08-05T02:32:38.350262Z"
    },
    "scrolled": false
   },
   "outputs": [],
   "source": [
    "rfc.fit(X_train_tf_df, y_train)\n",
    "\n",
    "cf.evaluate_classification(rfc, X_train = X_train_tf_df, y_train = y_train,\n",
    "                           X_test = X_test_tf_df, y_test = y_test,\n",
    "                          metric = 'accuracy', normalize=None)"
   ]
  },
  {
   "cell_type": "code",
   "execution_count": null,
   "metadata": {
    "ExecuteTime": {
     "end_time": "2021-08-05T02:32:39.933287Z",
     "start_time": "2021-08-05T02:32:39.919289Z"
    }
   },
   "outputs": [],
   "source": [
    "depths = []\n",
    "\n",
    "for i in rfc.estimators_:\n",
    "    depths.append(i.get_depth())"
   ]
  },
  {
   "cell_type": "code",
   "execution_count": null,
   "metadata": {
    "ExecuteTime": {
     "end_time": "2021-08-05T02:32:39.949289Z",
     "start_time": "2021-08-05T02:32:39.935289Z"
    }
   },
   "outputs": [],
   "source": [
    "np.max(depths)"
   ]
  },
  {
   "cell_type": "code",
   "execution_count": null,
   "metadata": {
    "ExecuteTime": {
     "end_time": "2021-08-05T02:33:27.053248Z",
     "start_time": "2021-08-05T02:33:26.840242Z"
    },
    "scrolled": false
   },
   "outputs": [],
   "source": [
    "sns.histplot(depths)"
   ]
  },
  {
   "cell_type": "code",
   "execution_count": null,
   "metadata": {
    "ExecuteTime": {
     "end_time": "2021-08-05T02:38:51.332579Z",
     "start_time": "2021-08-05T02:38:51.130572Z"
    }
   },
   "outputs": [],
   "source": [
    "cf.plot_importances(rfc, X_train_tf_df, count=5)"
   ]
  },
  {
   "cell_type": "code",
   "execution_count": null,
   "metadata": {
    "ExecuteTime": {
     "end_time": "2021-08-05T02:33:36.160418Z",
     "start_time": "2021-08-05T02:33:36.146418Z"
    }
   },
   "outputs": [],
   "source": [
    "df['review_scores_rating']"
   ]
  },
  {
   "cell_type": "markdown",
   "metadata": {},
   "source": [
    "## Visualizing Feature Importances"
   ]
  },
  {
   "cell_type": "markdown",
   "metadata": {},
   "source": [
    "---\n",
    "\n",
    "> Now that I have the feature importances from my model, I interpret the results via visualizing the most important features and the target feature.\n",
    "\n",
    "---"
   ]
  },
  {
   "cell_type": "code",
   "execution_count": null,
   "metadata": {
    "ExecuteTime": {
     "end_time": "2021-08-05T02:33:36.362425Z",
     "start_time": "2021-08-05T02:33:36.162418Z"
    }
   },
   "outputs": [],
   "source": [
    "## Comparing top feature against target\n",
    "\n",
    "sns.countplot(data=df, hue='review_scores_rating', x='host_is_superhost')"
   ]
  },
  {
   "cell_type": "markdown",
   "metadata": {},
   "source": [
    "---\n",
    "\n",
    "> The countplot above shows that if a host is not a \"Superhost,\" there is a much greater chance that they will not receive a 4+ rating vs. those hosts who are \"Superhosts.\"\n",
    ">\n",
    "> The **blue bars** represent the *number of host properties that **did not receive a 4+ rating**.* \n",
    ">\n",
    "> The **orange bars** shows the *number of host properties that **did receive a 4+ rating**.*\n",
    "\n",
    "---"
   ]
  },
  {
   "cell_type": "markdown",
   "metadata": {},
   "source": [
    "# ExtraTreesClassifier"
   ]
  },
  {
   "cell_type": "code",
   "execution_count": null,
   "metadata": {
    "ExecuteTime": {
     "end_time": "2021-08-05T02:33:36.378424Z",
     "start_time": "2021-08-05T02:33:36.365426Z"
    }
   },
   "outputs": [],
   "source": [
    "xtc = ExtraTreesClassifier(class_weight = 'balanced', random_state = 42,\n",
    "                            n_jobs=-1)"
   ]
  },
  {
   "cell_type": "code",
   "execution_count": null,
   "metadata": {
    "ExecuteTime": {
     "end_time": "2021-08-05T02:33:38.056457Z",
     "start_time": "2021-08-05T02:33:36.380424Z"
    },
    "scrolled": true
   },
   "outputs": [],
   "source": [
    "xtc.fit(X_train_tf_df, y_train)\n",
    "\n",
    "cf.evaluate_classification(xtc, X_train = X_train_tf_df, y_train = y_train,\n",
    "                           X_test = X_test_tf_df, y_test = y_test,\n",
    "                          metric = 'accuracy')"
   ]
  },
  {
   "cell_type": "markdown",
   "metadata": {},
   "source": [
    "# AdaBoostClassifier"
   ]
  },
  {
   "cell_type": "code",
   "execution_count": null,
   "metadata": {
    "ExecuteTime": {
     "end_time": "2021-08-05T02:33:38.071456Z",
     "start_time": "2021-08-05T02:33:38.058455Z"
    }
   },
   "outputs": [],
   "source": [
    "abc = AdaBoostClassifier(n_estimators=100, random_state=42)"
   ]
  },
  {
   "cell_type": "code",
   "execution_count": null,
   "metadata": {
    "ExecuteTime": {
     "end_time": "2021-08-05T02:33:42.777576Z",
     "start_time": "2021-08-05T02:33:38.074456Z"
    },
    "scrolled": false
   },
   "outputs": [],
   "source": [
    "abc.fit(X_train_tf_df, y_train)\n",
    "\n",
    "cf.evaluate_classification(abc, X_train = X_train_tf_df, y_train = y_train,\n",
    "                           X_test = X_test_tf_df, y_test = y_test,\n",
    "                          metric = 'accuracy')"
   ]
  },
  {
   "cell_type": "code",
   "execution_count": null,
   "metadata": {},
   "outputs": [],
   "source": []
  },
  {
   "cell_type": "markdown",
   "metadata": {},
   "source": [
    "# Gradient Boosting"
   ]
  },
  {
   "cell_type": "code",
   "execution_count": null,
   "metadata": {
    "ExecuteTime": {
     "end_time": "2021-08-05T02:33:42.792594Z",
     "start_time": "2021-08-05T02:33:42.779548Z"
    }
   },
   "outputs": [],
   "source": [
    "gbc = GradientBoostingClassifier(learning_rate=1.0, max_depth=1, random_state=42)"
   ]
  },
  {
   "cell_type": "code",
   "execution_count": null,
   "metadata": {
    "ExecuteTime": {
     "end_time": "2021-08-05T02:33:44.323580Z",
     "start_time": "2021-08-05T02:33:42.794547Z"
    },
    "scrolled": true
   },
   "outputs": [],
   "source": [
    "gbc.fit(X_train_tf_df, y_train)\n",
    "\n",
    "cf.evaluate_classification(gbc, X_train = X_train_tf_df, y_train = y_train,\n",
    "                           X_test = X_test_tf_df, y_test = y_test,\n",
    "                          metric = 'accuracy')"
   ]
  },
  {
   "cell_type": "markdown",
   "metadata": {},
   "source": [
    "# GridSearchCV"
   ]
  },
  {
   "cell_type": "code",
   "execution_count": null,
   "metadata": {
    "ExecuteTime": {
     "end_time": "2021-08-05T02:33:44.339576Z",
     "start_time": "2021-08-05T02:33:44.325575Z"
    }
   },
   "outputs": [],
   "source": [
    "import warnings\n",
    "warnings.filterwarnings('ignore')"
   ]
  },
  {
   "cell_type": "code",
   "execution_count": null,
   "metadata": {
    "ExecuteTime": {
     "end_time": "2021-08-05T02:33:44.371600Z",
     "start_time": "2021-08-05T02:33:44.358576Z"
    }
   },
   "outputs": [],
   "source": [
    "lr_params = {\n",
    " 'C': [.001, .01, .1, 1, 10, 100, 1000],\n",
    " 'class_weight': ['balanced', None],\n",
    "    'penalty':['l1', 'l2', 'elasticnet', 'none'],\n",
    " 'solver':['newton-cg', 'lbfgs', 'liblinear', 'sag', 'saga'],\n",
    "  'max_iter':[100, 200, 300, 400]}"
   ]
  },
  {
   "cell_type": "code",
   "execution_count": null,
   "metadata": {
    "ExecuteTime": {
     "end_time": "2021-08-05T02:33:44.403595Z",
     "start_time": "2021-08-05T02:33:44.373581Z"
    }
   },
   "outputs": [],
   "source": [
    "gscv = GridSearchCV(LogisticRegression(), lr_params, scoring = 'balanced_accuracy', cv=3,\n",
    "                    n_jobs = -1)\n",
    "gscv"
   ]
  },
  {
   "cell_type": "code",
   "execution_count": null,
   "metadata": {
    "ExecuteTime": {
     "end_time": "2021-08-05T02:33:44.419577Z",
     "start_time": "2021-08-05T02:33:44.406579Z"
    }
   },
   "outputs": [],
   "source": [
    "# gscv.fit(X_train_tf_df, y_train)"
   ]
  },
  {
   "cell_type": "code",
   "execution_count": null,
   "metadata": {
    "ExecuteTime": {
     "end_time": "2021-08-05T02:33:44.434577Z",
     "start_time": "2021-08-05T02:33:44.421592Z"
    }
   },
   "outputs": [],
   "source": [
    "# logreg_params = gscv.best_params_\n",
    "\n",
    "# logreg_params"
   ]
  },
  {
   "cell_type": "markdown",
   "metadata": {},
   "source": [
    "## Best LogReg params"
   ]
  },
  {
   "cell_type": "markdown",
   "metadata": {},
   "source": [
    "logreg_params = `{'C': 0.1,\n",
    "  'class_weight': 'balanced',\n",
    "  'max_iter': 100,\n",
    "  'penalty': 'l1',\n",
    "  'solver': 'saga'}`"
   ]
  },
  {
   "cell_type": "code",
   "execution_count": null,
   "metadata": {
    "ExecuteTime": {
     "end_time": "2021-08-05T02:33:44.450582Z",
     "start_time": "2021-08-05T02:33:44.436578Z"
    }
   },
   "outputs": [],
   "source": [
    "# gscv.best_estimator_"
   ]
  },
  {
   "cell_type": "code",
   "execution_count": null,
   "metadata": {
    "ExecuteTime": {
     "end_time": "2021-08-05T02:33:44.465602Z",
     "start_time": "2021-08-05T02:33:44.453584Z"
    }
   },
   "outputs": [],
   "source": [
    "# cf.evaluate_classification(gscv.best_estimator_, X_train = X_train_tf_df, y_train = y_train,\n",
    "#                            X_test = X_test_tf_df, y_test = y_test,\n",
    "#                           metric = 'balanced accuracy')"
   ]
  },
  {
   "cell_type": "markdown",
   "metadata": {},
   "source": [
    "## GSCV: RFC"
   ]
  },
  {
   "cell_type": "code",
   "execution_count": null,
   "metadata": {
    "ExecuteTime": {
     "end_time": "2021-08-05T02:57:18.070736Z",
     "start_time": "2021-08-05T02:57:18.060756Z"
    }
   },
   "outputs": [],
   "source": [
    "rfc_params = {\n",
    "    'n_estimators':[100, 125, 150,],\n",
    "    'max_depth': [10,20,30,40],\n",
    "    'min_samples_split': [2,3,4],\n",
    "    'min_samples_leaf': [1,2,3]\n",
    "}"
   ]
  },
  {
   "cell_type": "code",
   "execution_count": null,
   "metadata": {
    "ExecuteTime": {
     "end_time": "2021-08-05T03:06:17.356645Z",
     "start_time": "2021-08-05T03:06:17.341643Z"
    }
   },
   "outputs": [],
   "source": [
    "rfc = RandomForestClassifier(class_weight = 'balanced',\n",
    "                            n_jobs=-1, random_state=42)"
   ]
  },
  {
   "cell_type": "code",
   "execution_count": null,
   "metadata": {
    "ExecuteTime": {
     "end_time": "2021-08-05T02:57:18.675572Z",
     "start_time": "2021-08-05T02:57:18.652567Z"
    }
   },
   "outputs": [],
   "source": [
    "rfgs = GridSearchCV(rfc, rfc_params, scoring = 'balanced_accuracy', cv=3,\n",
    "                    n_jobs = -1)\n",
    "rfgs"
   ]
  },
  {
   "cell_type": "code",
   "execution_count": null,
   "metadata": {
    "ExecuteTime": {
     "end_time": "2021-08-05T02:58:12.847524Z",
     "start_time": "2021-08-05T02:57:22.725578Z"
    },
    "scrolled": true
   },
   "outputs": [],
   "source": [
    "rfgs.fit(X_train_tf_df, y_train)"
   ]
  },
  {
   "cell_type": "code",
   "execution_count": null,
   "metadata": {
    "ExecuteTime": {
     "end_time": "2021-08-05T03:03:05.959096Z",
     "start_time": "2021-08-05T03:03:05.947093Z"
    }
   },
   "outputs": [],
   "source": [
    "rfc_params = rfgs.best_params_\n",
    "\n",
    "rfc_params"
   ]
  },
  {
   "cell_type": "code",
   "execution_count": null,
   "metadata": {
    "ExecuteTime": {
     "end_time": "2021-08-05T03:03:43.989772Z",
     "start_time": "2021-08-05T03:03:43.982775Z"
    }
   },
   "outputs": [],
   "source": [
    "rfgs.best_score_\n"
   ]
  },
  {
   "cell_type": "code",
   "execution_count": null,
   "metadata": {
    "ExecuteTime": {
     "end_time": "2021-08-05T03:05:45.430706Z",
     "start_time": "2021-08-05T03:05:45.417679Z"
    }
   },
   "outputs": [],
   "source": [
    "rfc_new = rfgs.best_estimator_"
   ]
  },
  {
   "cell_type": "code",
   "execution_count": null,
   "metadata": {
    "ExecuteTime": {
     "end_time": "2021-08-05T03:05:47.254381Z",
     "start_time": "2021-08-05T03:05:45.819510Z"
    }
   },
   "outputs": [],
   "source": [
    "cf.evaluate_classification(rfc_new, X_train_tf_df, y_train, X_test_tf_df, \n",
    "                           y_test, 'recall (macro)')"
   ]
  },
  {
   "cell_type": "code",
   "execution_count": null,
   "metadata": {},
   "outputs": [],
   "source": []
  }
 ],
 "metadata": {
  "kernelspec": {
   "display_name": "Python (learn-env-bmc)",
   "language": "python",
   "name": "learn-env-bmc"
  },
  "language_info": {
   "codemirror_mode": {
    "name": "ipython",
    "version": 3
   },
   "file_extension": ".py",
   "mimetype": "text/x-python",
   "name": "python",
   "nbconvert_exporter": "python",
   "pygments_lexer": "ipython3",
   "version": "3.8.5"
  },
  "toc": {
   "base_numbering": 1,
   "nav_menu": {},
   "number_sections": true,
   "sideBar": true,
   "skip_h1_title": false,
   "title_cell": "Table of Contents",
   "title_sidebar": "Contents",
   "toc_cell": false,
   "toc_position": {
    "height": "calc(100% - 180px)",
    "left": "10px",
    "top": "150px",
    "width": "280.994px"
   },
   "toc_section_display": true,
   "toc_window_display": true
  }
 },
 "nbformat": 4,
 "nbformat_minor": 4
}
