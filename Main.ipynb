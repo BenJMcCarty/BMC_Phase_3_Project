{
 "cells": [
  {
   "cell_type": "markdown",
   "metadata": {},
   "source": [
    "# 🔻 [Return to workflow](#leftoff)"
   ]
  },
  {
   "cell_type": "markdown",
   "metadata": {},
   "source": [
    "# 🏡 **AirBNB Dataset Review** 🏨"
   ]
  },
  {
   "cell_type": "markdown",
   "metadata": {},
   "source": [
    "# ❌ Update target audience and guiding questions"
   ]
  },
  {
   "cell_type": "markdown",
   "metadata": {},
   "source": [
    "**Who?**\n",
    ">* 🏢 **AirBNB Corporate** interested in maximizing customer satisfaction to increase repeat guests and encourage new guests to stay with AirBNB hosts\n",
    ">\n",
    ">\n",
    ">* **AirBNB hosts** interested in maximizing the ratings\n",
    "\n",
    "**Why?**\n",
    ">* 💰 **Revenue Management:** \n",
    ">\n",
    ">\n",
    ">\n",
    ">* 🤝 **Sales:**\n",
    ">\n",
    ">\n",
    ">\n",
    ">* 🛌 **Rooms Ops:**\n",
    ">\n",
    ">\n",
    ">\n",
    ">* 🍰 ☕ **Food and Beverage:**\n",
    ">\n",
    ">\n",
    ">\n",
    "\n",
    "**What?**\n",
    ">* 🧾 Dataset comprised of... \n",
    ">  * 32 different features\n",
    ">  * Nearly 120,000 reservation records\n",
    ">  * Source cited in Readme\n",
    "\n",
    "❌ **How?**\n",
    ">* Which models/methods? \n",
    ">* Data prep and feature engineering"
   ]
  },
  {
   "cell_type": "markdown",
   "metadata": {},
   "source": [
    "# 🎯  **Goal:**"
   ]
  },
  {
   "cell_type": "markdown",
   "metadata": {},
   "source": [
    "Determining whether or not a host location would receive a score greater than or equal to 4/5 (defined by `'review_scores_rating'`)."
   ]
  },
  {
   "cell_type": "markdown",
   "metadata": {},
   "source": [
    "# 📌 **To-Do**"
   ]
  },
  {
   "cell_type": "markdown",
   "metadata": {},
   "source": [
    "---\n",
    "\n",
    "- [ ] [TD1](#td1)\n",
    "- [ ] [TD2](#td2)\n",
    "- [ ] [TD3](#td3)\n",
    "- [ ] [todo4](#td4)\n",
    "- [ ] [todo5](#td5)\n",
    "- [ ] [todo6](#td6)\n",
    "- [ ] [todo7](#td7)\n",
    "\n",
    "---"
   ]
  },
  {
   "cell_type": "markdown",
   "metadata": {},
   "source": [
    "# 📂 **Imports**"
   ]
  },
  {
   "cell_type": "code",
   "execution_count": null,
   "metadata": {
    "ExecuteTime": {
     "end_time": "2021-08-02T20:46:57.944368Z",
     "start_time": "2021-08-02T20:46:57.919366Z"
    },
    "code_folding": [
     0
    ]
   },
   "outputs": [],
   "source": [
    "## Data Handling\n",
    "import pandas as pd\n",
    "import numpy as np\n",
    "from scipy import stats\n",
    "\n",
    "## Visualizations\n",
    "import matplotlib as mpl\n",
    "import matplotlib.pyplot as plt\n",
    "import seaborn as sns\n",
    "from ipywidgets import interact_manual\n",
    "import missingno\n",
    "\n",
    "## Modeling - SKLearn\n",
    "from sklearn.linear_model import LogisticRegression\n",
    "from sklearn.preprocessing import StandardScaler, OneHotEncoder, FunctionTransformer\n",
    "from sklearn.model_selection import train_test_split, cross_val_score\n",
    "from sklearn.impute import SimpleImputer\n",
    "from sklearn.compose import ColumnTransformer\n",
    "from sklearn.pipeline import Pipeline\n",
    "from sklearn.dummy import DummyRegressor\n",
    "from sklearn import set_config\n",
    "set_config(display='diagram')\n",
    "\n",
    "# from sklearn.naive_bayes import MultinomialNB # for naive bayes model\n",
    "\n",
    "## Settings\n",
    "%matplotlib inline\n",
    "plt.style.use('seaborn-talk')\n",
    "pd.set_option('display.max_columns', None)\n",
    "pd.set_option('display.float_format', lambda x: f'{x:,.2f}')\n",
    "pd.set_option('max_rows', 100)"
   ]
  },
  {
   "cell_type": "code",
   "execution_count": null,
   "metadata": {
    "ExecuteTime": {
     "end_time": "2021-08-02T20:46:57.959367Z",
     "start_time": "2021-08-02T20:46:57.947366Z"
    },
    "code_folding": [
     0
    ]
   },
   "outputs": [],
   "source": [
    "## Personal functions\n",
    "import clf_functions.functions as cf\n",
    "%load_ext autoreload\n",
    "%autoreload 1\n",
    "%aimport clf_functions.functions"
   ]
  },
  {
   "cell_type": "markdown",
   "metadata": {},
   "source": [
    "## ❓ FSDS"
   ]
  },
  {
   "cell_type": "code",
   "execution_count": null,
   "metadata": {
    "ExecuteTime": {
     "end_time": "2021-08-02T20:46:57.975366Z",
     "start_time": "2021-08-02T20:46:57.962367Z"
    }
   },
   "outputs": [],
   "source": [
    "# import fsds as fs"
   ]
  },
  {
   "cell_type": "code",
   "execution_count": null,
   "metadata": {
    "ExecuteTime": {
     "end_time": "2021-08-02T20:46:57.991367Z",
     "start_time": "2021-08-02T20:46:57.978368Z"
    },
    "scrolled": false
   },
   "outputs": [],
   "source": [
    "# fs.ihelp_menu([fs.ihelp_menu, sort_report])"
   ]
  },
  {
   "cell_type": "markdown",
   "metadata": {},
   "source": [
    "# 📖 **Read Data**"
   ]
  },
  {
   "cell_type": "code",
   "execution_count": null,
   "metadata": {
    "ExecuteTime": {
     "end_time": "2021-08-02T20:47:00.442868Z",
     "start_time": "2021-08-02T20:46:57.994375Z"
    }
   },
   "outputs": [],
   "source": [
    "## Reading data and saving to a DataFrame\n",
    "\n",
    "source = 'http://data.insideairbnb.com/united-states/dc/washington-dc/2021-07-10/data/listings.csv.gz'\n",
    "\n",
    "data = pd.read_csv(source)"
   ]
  },
  {
   "cell_type": "code",
   "execution_count": null,
   "metadata": {
    "ExecuteTime": {
     "end_time": "2021-08-02T20:47:00.519864Z",
     "start_time": "2021-08-02T20:47:00.444864Z"
    },
    "code_folding": []
   },
   "outputs": [],
   "source": [
    "## Inspecting imported dataset\n",
    "data.head(5)"
   ]
  },
  {
   "cell_type": "code",
   "execution_count": null,
   "metadata": {
    "ExecuteTime": {
     "end_time": "2021-08-02T20:47:00.534890Z",
     "start_time": "2021-08-02T20:47:00.522865Z"
    }
   },
   "outputs": [],
   "source": [
    "## Checking number of rows and columns\n",
    "data.shape"
   ]
  },
  {
   "cell_type": "markdown",
   "metadata": {},
   "source": [
    "---\n",
    "\n",
    "> The initial read of the dataset shows there are 74 features and 8,033 entries. A quick glance at the `.head()` gives a sample of the entries, showing that some of the features are not relevant to my analysis.\n",
    ">\n",
    "> I need to get a better idea of the statistics for the dataset, especially any missing values and the datatypes for each column. I need to pre-process this data before I can perform any modeling.\n",
    "\n",
    "---"
   ]
  },
  {
   "cell_type": "markdown",
   "metadata": {},
   "source": [
    "# 🔎 **Interactive Investigation**"
   ]
  },
  {
   "cell_type": "markdown",
   "metadata": {},
   "source": [
    "---\n",
    "\n",
    "> To increase accessibility to the data, **I include a widget to allow the user to sort through the data interactively.** I use [**Jupyter Widgets**](https://ipywidgets.readthedocs.io/en/latest/index.html) to create this interactive report.\n",
    ">\n",
    ">**To use:** select which column by which you would like to sort from the dropdown menu, then click the \"Run Interact\" button.\n",
    ">\n",
    ">***Note about 'Drop_Cols' and Cols:*** these keyword arguments are used to allow the user to drop specific columns. The 'Cols' dropdown menu does not affect the resulting report; the data is filtered from the report prior to displaying the results. \n",
    ">\n",
    ">I chose to include this option for flexibility and adaptability, but it does have the unintended consequence of creating another drop-down menu. Please ignore this menu, as it does not provide any additional functionality. For future work, I will disable the menu to prevent confusion.\n",
    "\n",
    "---"
   ]
  },
  {
   "cell_type": "code",
   "execution_count": null,
   "metadata": {
    "ExecuteTime": {
     "end_time": "2021-08-02T20:47:00.779865Z",
     "start_time": "2021-08-02T20:47:00.538867Z"
    }
   },
   "outputs": [],
   "source": [
    "## Running report on unfiltered dataset\n",
    "\n",
    "interact_manual(cf.sort_report, Sort_by=list(cf.report_df(data).columns),\n",
    "                Source=source);"
   ]
  },
  {
   "cell_type": "code",
   "execution_count": null,
   "metadata": {
    "ExecuteTime": {
     "end_time": "2021-08-02T20:47:00.842891Z",
     "start_time": "2021-08-02T20:47:00.782895Z"
    },
    "scrolled": false
   },
   "outputs": [],
   "source": [
    "data.head(3)"
   ]
  },
  {
   "cell_type": "markdown",
   "metadata": {},
   "source": [
    "---\n",
    "\n",
    "> After reviewing my data, I see there are several features that contain irrelevant entries (URLs, source data, meta data) or values that are too complicated for simple processing (such as host and listing descriptions).\n",
    ">\n",
    "> I will drop these columns for the second report to review the remaining data for further processing.\n",
    "\n",
    "---"
   ]
  },
  {
   "cell_type": "code",
   "execution_count": null,
   "metadata": {
    "ExecuteTime": {
     "end_time": "2021-08-02T20:47:00.858863Z",
     "start_time": "2021-08-02T20:47:00.844866Z"
    }
   },
   "outputs": [],
   "source": [
    "## Specifying columns to drop\n",
    "\n",
    "drop = ['id', 'host_id', 'name', 'description', 'neighborhood_overview', 'host_name',\n",
    "        'host_about', 'host_location', 'neighbourhood', 'property_type',\n",
    "        'listing_url', 'scrape_id', 'last_scraped', 'picture_url','host_url',\n",
    "        'host_thumbnail_url','host_picture_url','calendar_last_scraped']"
   ]
  },
  {
   "cell_type": "code",
   "execution_count": null,
   "metadata": {
    "ExecuteTime": {
     "end_time": "2021-08-02T20:47:01.139864Z",
     "start_time": "2021-08-02T20:47:00.860867Z"
    },
    "scrolled": false
   },
   "outputs": [],
   "source": [
    "## Creating updated interactive report\n",
    "\n",
    "interact_manual(cf.sort_report, Drop_Cols = True, Cols = drop,\n",
    "                Sort_by=list(cf.report_df(data).columns), Source=source);"
   ]
  },
  {
   "cell_type": "markdown",
   "metadata": {},
   "source": [
    "---\n",
    "\n",
    "> **Interpretation:**\n",
    ">\n",
    "> The report shows that the dataset has a big problem with missing values:\n",
    ">\n",
    "> * **Empty:**\n",
    ">   * `neighbourhood_group_cleansed`\n",
    ">   * `bathrooms`\n",
    ">   * `calendar_updated`\n",
    ">\n",
    ">\n",
    "> * **Nearly empty:**\n",
    ">  * `license`\n",
    ">\n",
    ">\n",
    "> * **Missing 26-39% of data:**\n",
    ">  * `host_about`\n",
    ">  * `neighborhood_overview`\n",
    ">  * `neighbourhood`\n",
    ">  * `host_response_time`\n",
    ">  * `host_response_rate`\n",
    ">  * `review_scores_value`\n",
    ">  * `review_scores_checkin`\n",
    ">  * `review_scores_location`\n",
    ">  * `review_scores_accuracy`\n",
    ">  * `review_scores_communication`\n",
    ">  * `review_scores_cleanliness`\n",
    ">  * `host_acceptance_rate`\n",
    ">  * `reviews_per_month`\n",
    ">  * `first_review`\n",
    ">  * `review_scores_rating`\n",
    ">  * `last_review`\n",
    ">\n",
    ">---\n",
    ">\n",
    "> I will need to address these missing values before processing with the modeling. A few options include:\n",
    ">\n",
    "> * **Filling with the string \"missing\"** to indicate the value was missing.\n",
    ">    * *I would be able to treat \"missing\" as a distinct category and use it for modeling as well.*\n",
    ">\n",
    ">\n",
    "> * **Dropping the rows with missing values.**\n",
    ">    * *This may negatively impact the accuracy of my results by overfitting to the training data.*\n",
    ">\n",
    ">\n",
    "> * I could **use the `SimpleImputer` tool from SKLearn to fill the missing values** with the mean, median, or mode values for each.\n",
    ">    * *I could couple this with a `GridSearchCV` to identify the method that has the strongest positive impact on my classification metrics.*\n",
    "\n",
    "---"
   ]
  },
  {
   "cell_type": "markdown",
   "metadata": {},
   "source": [
    "---\n",
    "\n",
    "> To get a better idea of the missing values, I create a visual of the values via the 'Missingno' package. This visualization package includes several options for visualizing the missing data.\n",
    "\n",
    "---"
   ]
  },
  {
   "cell_type": "code",
   "execution_count": null,
   "metadata": {
    "ExecuteTime": {
     "end_time": "2021-08-02T20:47:21.120872Z",
     "start_time": "2021-08-02T20:47:01.141865Z"
    },
    "scrolled": false
   },
   "outputs": [],
   "source": [
    "## Visually inspecting missing values\n",
    "\n",
    "missingno.bar(data, labels=True);"
   ]
  },
  {
   "cell_type": "markdown",
   "metadata": {},
   "source": [
    "---\n",
    "\n",
    "> Based on this visualization, I see that **there is a consistent trend in missing values for review scores:** if a row is missing one review score, it seems to be missing all of them.\n",
    ">\n",
    "> Additionally, **there are many missing values for the response time, response rate, and acceptance rate.** I want to use these columns in my classification, so I will need to replace those missing values.\n",
    ">\n",
    "> After reviewing these details, **I feel more comfortable with the option of dropping those rows with missing review values.** I will drop the values as part of my overall classification process.\n",
    "\n",
    "---"
   ]
  },
  {
   "cell_type": "markdown",
   "metadata": {},
   "source": [
    "# 🧼 **Data Cleaning and EDA**"
   ]
  },
  {
   "cell_type": "markdown",
   "metadata": {},
   "source": [
    "## Cleaning Up Missing Values"
   ]
  },
  {
   "cell_type": "markdown",
   "metadata": {},
   "source": [
    "---\n",
    "\n",
    "> This dataset is missing a significant number of values for different columns. **In order to perform any modeling, I will need to address these missing values first.**\n",
    ">\n",
    "> Depending on the feature and the number of missing values per row, I will take different approaches to keep as much data as possible and in its original state.\n",
    "\n",
    "---"
   ]
  },
  {
   "cell_type": "code",
   "execution_count": null,
   "metadata": {
    "ExecuteTime": {
     "end_time": "2021-08-02T20:47:21.167872Z",
     "start_time": "2021-08-02T20:47:21.122868Z"
    },
    "scrolled": true
   },
   "outputs": [],
   "source": [
    "# Dropping features with high percentages (25%+) of missing values\n",
    "\n",
    "drop_na_cols = []\n",
    "for col in data.columns:\n",
    "    if ((data[col].isna().sum()) / len(data[col])) > .25 and col != 'review_scores_rating':\n",
    "        drop_na_cols.append(col)\n",
    "\n",
    "drop_na_cols"
   ]
  },
  {
   "cell_type": "code",
   "execution_count": null,
   "metadata": {
    "ExecuteTime": {
     "end_time": "2021-08-02T20:47:21.183896Z",
     "start_time": "2021-08-02T20:47:21.171874Z"
    }
   },
   "outputs": [],
   "source": [
    "## Appending previous list of columns to drop (metadata, etc.)\n",
    "\n",
    "for col in drop:\n",
    "    if col not in drop_na_cols:\n",
    "        drop_na_cols.append(col)\n",
    "\n",
    "drop_na_cols"
   ]
  },
  {
   "cell_type": "code",
   "execution_count": null,
   "metadata": {
    "ExecuteTime": {
     "end_time": "2021-08-02T20:47:21.245896Z",
     "start_time": "2021-08-02T20:47:21.185869Z"
    }
   },
   "outputs": [],
   "source": [
    "## Creating new dataframe that does not include the features to drop\n",
    "df = data.drop(columns= drop_na_cols).copy()\n",
    "df"
   ]
  },
  {
   "cell_type": "code",
   "execution_count": null,
   "metadata": {
    "ExecuteTime": {
     "end_time": "2021-08-02T20:47:21.355897Z",
     "start_time": "2021-08-02T20:47:21.247869Z"
    }
   },
   "outputs": [],
   "source": [
    "## Confirming dropped columns with high missing values\n",
    "cf.report_df(df)"
   ]
  },
  {
   "cell_type": "code",
   "execution_count": null,
   "metadata": {
    "ExecuteTime": {
     "end_time": "2021-08-02T20:47:21.401915Z",
     "start_time": "2021-08-02T20:47:21.358870Z"
    }
   },
   "outputs": [],
   "source": [
    "## Filling missing values for 'beds' with values for 'bedrooms'\n",
    "\n",
    "for idx in list(df['beds'][df['beds'].isna()].index):\n",
    "    if df['bedrooms'][idx] > 0:\n",
    "        df['beds'][idx] = df['bedrooms'][idx]"
   ]
  },
  {
   "cell_type": "code",
   "execution_count": null,
   "metadata": {
    "ExecuteTime": {
     "end_time": "2021-08-02T20:47:21.493871Z",
     "start_time": "2021-08-02T20:47:21.403872Z"
    }
   },
   "outputs": [],
   "source": [
    "## Filling missing values for 'bedrooms' with values for 'beds'\n",
    "\n",
    "for idx in list(df['bedrooms'][df['bedrooms'].isna()].index):\n",
    "    if df['beds'][idx] > 0:\n",
    "        df['bedrooms'][idx] = df['beds'][idx]"
   ]
  },
  {
   "cell_type": "code",
   "execution_count": null,
   "metadata": {
    "ExecuteTime": {
     "end_time": "2021-08-02T20:47:21.601005Z",
     "start_time": "2021-08-02T20:47:21.495875Z"
    }
   },
   "outputs": [],
   "source": [
    "## Confirming reduction in missing values for 'beds' and 'bedrooms'\n",
    "\n",
    "rpt_clean  = cf.report_df(df)\n",
    "rpt_clean[rpt_clean['null_sum'] >0]"
   ]
  },
  {
   "cell_type": "code",
   "execution_count": null,
   "metadata": {
    "ExecuteTime": {
     "end_time": "2021-08-02T20:47:21.616899Z",
     "start_time": "2021-08-02T20:47:21.602884Z"
    }
   },
   "outputs": [],
   "source": [
    "## Checking remaining missing values\n",
    "\n",
    "df.isna().sum()"
   ]
  },
  {
   "cell_type": "code",
   "execution_count": null,
   "metadata": {
    "ExecuteTime": {
     "end_time": "2021-08-02T20:47:21.662868Z",
     "start_time": "2021-08-02T20:47:21.618868Z"
    },
    "scrolled": false
   },
   "outputs": [],
   "source": [
    "## Removing rows with 6+ null values\n",
    "\n",
    "df = df[df.isna().sum(axis=1) < 6]\n",
    "df.head(5)"
   ]
  },
  {
   "cell_type": "code",
   "execution_count": null,
   "metadata": {
    "ExecuteTime": {
     "end_time": "2021-08-02T20:47:21.693866Z",
     "start_time": "2021-08-02T20:47:21.665870Z"
    }
   },
   "outputs": [],
   "source": [
    "df.isna().sum()"
   ]
  },
  {
   "cell_type": "markdown",
   "metadata": {
    "ExecuteTime": {
     "end_time": "2021-08-02T19:24:46.416827Z",
     "start_time": "2021-08-02T19:24:46.402822Z"
    }
   },
   "source": [
    "---\n",
    "\n",
    "> At this point, **I cleaned up most of the null values via dropping columns with 25%+ missing values and dropping rows with 6+ missing values.**\n",
    ">\n",
    ">Additionally, **I filled missing values for 'beds'/'bedrooms' by checking the missing values for each column against the values in the other for each row.** If a row had a value in one of the columns but not the other, I filled the missing value with the value from the other column.\n",
    ">\n",
    "> Now, **I will take a different approach to my target feature, the \"review_scores_rating.\"** This feature contains a substantial number of missing values. Due to the impact of changing the values of my target variable, I will use a box plot to inspect the values, then determine whether to use the mean or median value to replace the missing values.\n",
    "\n",
    "---"
   ]
  },
  {
   "cell_type": "code",
   "execution_count": null,
   "metadata": {
    "ExecuteTime": {
     "end_time": "2021-08-02T20:47:21.816928Z",
     "start_time": "2021-08-02T20:47:21.697890Z"
    }
   },
   "outputs": [],
   "source": [
    "## Visualizing the pre-processed target values\n",
    "\n",
    "sns.boxplot(data = df['review_scores_rating']);"
   ]
  },
  {
   "cell_type": "code",
   "execution_count": null,
   "metadata": {
    "ExecuteTime": {
     "end_time": "2021-08-02T20:47:22.283871Z",
     "start_time": "2021-08-02T20:47:21.819871Z"
    },
    "scrolled": false
   },
   "outputs": [],
   "source": [
    "sns.displot(data=df['review_scores_rating']);"
   ]
  },
  {
   "cell_type": "code",
   "execution_count": null,
   "metadata": {
    "ExecuteTime": {
     "end_time": "2021-08-02T20:47:22.579900Z",
     "start_time": "2021-08-02T20:47:22.286873Z"
    }
   },
   "outputs": [],
   "source": [
    "sns.displot(data=df['review_scores_rating'][df['review_scores_rating'] >= 4]);"
   ]
  },
  {
   "cell_type": "code",
   "execution_count": null,
   "metadata": {
    "ExecuteTime": {
     "end_time": "2021-08-02T20:47:22.595871Z",
     "start_time": "2021-08-02T20:47:22.581867Z"
    }
   },
   "outputs": [],
   "source": [
    "## Calculating mean for target values\n",
    "mean = df['review_scores_rating'].mean()\n",
    "mean"
   ]
  },
  {
   "cell_type": "code",
   "execution_count": null,
   "metadata": {
    "ExecuteTime": {
     "end_time": "2021-08-02T20:47:22.611871Z",
     "start_time": "2021-08-02T20:47:22.597871Z"
    }
   },
   "outputs": [],
   "source": [
    "## Calculating median for target values\n",
    "median = df['review_scores_rating'].median()\n",
    "median"
   ]
  },
  {
   "cell_type": "markdown",
   "metadata": {},
   "source": [
    "---\n",
    "\n",
    ">Based on this box plot and distributions, I see that **a large majority of the values are 4+, with a large number of values being 4.8+.**\n",
    ">\n",
    ">For the purposes of my classification (whether or not a given host would have a rating of 4+), I can fill the missing values with either the mean/median.\n",
    ">\n",
    "> **I will fill the missing values with the mean value of 4.68** to help ensure a fair representation of the overall data.\n",
    "\n",
    "---"
   ]
  },
  {
   "cell_type": "code",
   "execution_count": null,
   "metadata": {
    "ExecuteTime": {
     "end_time": "2021-08-02T20:47:22.627870Z",
     "start_time": "2021-08-02T20:47:22.614870Z"
    }
   },
   "outputs": [],
   "source": [
    "df['review_scores_rating'].fillna(median, inplace=True)"
   ]
  },
  {
   "cell_type": "code",
   "execution_count": null,
   "metadata": {
    "ExecuteTime": {
     "end_time": "2021-08-02T20:47:22.766010Z",
     "start_time": "2021-08-02T20:47:22.630867Z"
    },
    "scrolled": true
   },
   "outputs": [],
   "source": [
    "cf.report_df(df)"
   ]
  },
  {
   "cell_type": "markdown",
   "metadata": {},
   "source": [
    "---\n",
    "\n",
    "> At this point, I addressed most of the missing values in my dataset by dropping columns and filling missing values. There are still a few columns with missing values, but I will use a SimpleImputer combined with a GridSearchCV to determine the best method by which to fill those values.\n",
    ">\n",
    "> Now I will review the remaining data and determine if there are any other issues with my data.\n",
    "\n",
    "---"
   ]
  },
  {
   "cell_type": "code",
   "execution_count": null,
   "metadata": {
    "ExecuteTime": {
     "end_time": "2021-08-02T20:47:22.797898Z",
     "start_time": "2021-08-02T20:47:22.767872Z"
    }
   },
   "outputs": [],
   "source": [
    "## Reviewing the remaining dataframe\n",
    "df.head(5)"
   ]
  },
  {
   "cell_type": "code",
   "execution_count": null,
   "metadata": {
    "ExecuteTime": {
     "end_time": "2021-08-02T20:47:22.813866Z",
     "start_time": "2021-08-02T20:47:22.799887Z"
    }
   },
   "outputs": [],
   "source": [
    "## Creating list of true/false features to convert to 1/0, respectively\n",
    "t_f_xf = ['host_is_superhost','host_has_profile_pic','host_identity_verified','has_availability','instant_bookable']\n",
    "t_f_xf"
   ]
  },
  {
   "cell_type": "code",
   "execution_count": null,
   "metadata": {
    "ExecuteTime": {
     "end_time": "2021-08-02T20:40:36.955906Z",
     "start_time": "2021-08-02T20:40:36.933906Z"
    },
    "scrolled": true
   },
   "outputs": [],
   "source": [
    "df['host_is_superhost'].value_counts()"
   ]
  },
  {
   "cell_type": "code",
   "execution_count": null,
   "metadata": {
    "ExecuteTime": {
     "end_time": "2021-08-02T20:46:43.283116Z",
     "start_time": "2021-08-02T20:46:43.255122Z"
    }
   },
   "outputs": [],
   "source": [
    "df['host_is_superhost'] = np.where((df['host_is_superhost'].values == 't'),1,0)\n",
    "df['host_is_superhost']"
   ]
  },
  {
   "cell_type": "code",
   "execution_count": null,
   "metadata": {
    "ExecuteTime": {
     "end_time": "2021-08-02T20:42:46.410855Z",
     "start_time": "2021-08-02T20:42:07.125Z"
    },
    "scrolled": true
   },
   "outputs": [],
   "source": [
    "for col in t_f_xf:\n",
    "    df[col] = np.where((df[col].values == 't'),1,0)\n",
    "    print(df[col])"
   ]
  },
  {
   "cell_type": "code",
   "execution_count": null,
   "metadata": {
    "ExecuteTime": {
     "end_time": "2021-08-02T20:42:46.409861Z",
     "start_time": "2021-08-02T20:41:20.902Z"
    }
   },
   "outputs": [],
   "source": [
    "for col in t_f_xf:\n",
    "    print(df[col].value_counts(dropna=False))"
   ]
  },
  {
   "cell_type": "markdown",
   "metadata": {},
   "source": [
    "# 🪓 **Train/Test Split**"
   ]
  },
  {
   "cell_type": "markdown",
   "metadata": {},
   "source": [
    "---\n",
    "\n",
    "> Before I run any further pre-processing, I split my data into training and test sets to allow me to test my model's performance.\n",
    "\n",
    "---"
   ]
  },
  {
   "cell_type": "code",
   "execution_count": null,
   "metadata": {
    "ExecuteTime": {
     "end_time": "2021-08-02T20:38:48.263739Z",
     "start_time": "2021-08-02T20:38:47.521Z"
    }
   },
   "outputs": [],
   "source": [
    "## Creating features/target for dataset\n",
    "target = 'review_scores_rating'\n",
    "\n",
    "X = df_cleaned.drop(columns = target).copy()\n",
    "y = df_cleaned[target].copy()"
   ]
  },
  {
   "cell_type": "code",
   "execution_count": null,
   "metadata": {
    "ExecuteTime": {
     "end_time": "2021-08-02T20:38:48.264740Z",
     "start_time": "2021-08-02T20:38:47.555Z"
    }
   },
   "outputs": [],
   "source": [
    "X"
   ]
  },
  {
   "cell_type": "code",
   "execution_count": null,
   "metadata": {
    "ExecuteTime": {
     "end_time": "2021-08-02T20:38:48.265739Z",
     "start_time": "2021-08-02T20:38:47.597Z"
    }
   },
   "outputs": [],
   "source": [
    "## Confirming same number of rows\n",
    "X.shape[0] == y.shape[0]"
   ]
  },
  {
   "cell_type": "code",
   "execution_count": null,
   "metadata": {
    "ExecuteTime": {
     "end_time": "2021-08-02T20:38:48.266739Z",
     "start_time": "2021-08-02T20:38:47.637Z"
    }
   },
   "outputs": [],
   "source": [
    "## Splitting to prevent data leakage\n",
    "X_train, X_test, y_train, y_test = train_test_split(X, y, random_state=42)"
   ]
  },
  {
   "cell_type": "code",
   "execution_count": null,
   "metadata": {
    "ExecuteTime": {
     "end_time": "2021-08-02T20:38:48.267737Z",
     "start_time": "2021-08-02T20:38:47.700Z"
    }
   },
   "outputs": [],
   "source": [
    "X_train"
   ]
  },
  {
   "cell_type": "markdown",
   "metadata": {},
   "source": [
    "## 🎯 Inspecting the Target Variable"
   ]
  },
  {
   "cell_type": "code",
   "execution_count": null,
   "metadata": {
    "ExecuteTime": {
     "end_time": "2021-08-02T20:08:31.723588Z",
     "start_time": "2021-08-02T20:08:03.725Z"
    }
   },
   "outputs": [],
   "source": [
    "## Checking for class imbalances in target variable\n",
    "y_train.describe()"
   ]
  },
  {
   "cell_type": "code",
   "execution_count": null,
   "metadata": {
    "ExecuteTime": {
     "end_time": "2021-08-02T20:08:31.725585Z",
     "start_time": "2021-08-02T20:08:03.728Z"
    }
   },
   "outputs": [],
   "source": [
    "## Checking value counts (binned to see the ranges of values)\n",
    "y_train.value_counts(dropna=False,sort=False, bins=10, normalize=True)"
   ]
  },
  {
   "cell_type": "code",
   "execution_count": null,
   "metadata": {
    "ExecuteTime": {
     "end_time": "2021-08-02T20:08:31.726585Z",
     "start_time": "2021-08-02T20:08:03.732Z"
    }
   },
   "outputs": [],
   "source": [
    "## Confirming all scores are zero or above\n",
    "y_train.min()"
   ]
  },
  {
   "cell_type": "code",
   "execution_count": null,
   "metadata": {
    "ExecuteTime": {
     "end_time": "2021-08-02T20:08:31.728588Z",
     "start_time": "2021-08-02T20:08:03.735Z"
    }
   },
   "outputs": [],
   "source": [
    "## Excluding ratings above 4 to inspect the marginal ratings\n",
    "y_train[y_train < 4].value_counts(dropna=False,sort=False, bins=4, normalize=True)"
   ]
  },
  {
   "cell_type": "code",
   "execution_count": null,
   "metadata": {
    "ExecuteTime": {
     "end_time": "2021-08-02T20:08:31.729588Z",
     "start_time": "2021-08-02T20:08:03.738Z"
    }
   },
   "outputs": [],
   "source": [
    "## Checking for missing values\n",
    "y_train.isna().sum()"
   ]
  },
  {
   "cell_type": "code",
   "execution_count": null,
   "metadata": {
    "ExecuteTime": {
     "end_time": "2021-08-02T20:08:31.731608Z",
     "start_time": "2021-08-02T20:08:03.742Z"
    }
   },
   "outputs": [],
   "source": [
    "y_train = y_train.dropna()"
   ]
  },
  {
   "cell_type": "code",
   "execution_count": null,
   "metadata": {
    "ExecuteTime": {
     "end_time": "2021-08-02T20:08:31.732587Z",
     "start_time": "2021-08-02T20:08:03.745Z"
    }
   },
   "outputs": [],
   "source": [
    "y_train.isna().sum()"
   ]
  },
  {
   "cell_type": "markdown",
   "metadata": {},
   "source": [
    "---\n",
    "\n",
    "> The target feature, `'review_scores_rating'`, is currently a range of values from 0 to 5, with 6% of the scores being 4 or above. The `.value_counts()` results show a value sub-zero; this is for the purpose of binning the values; the lowest value is actually 0.00.\n",
    ">\n",
    "> Of the scores less than 4, a little under half are between 3 and 4 (rounded) and about a third are between 0 and 1 (rounded).\n",
    ">\n",
    "> For my classification modeling, my classes are slightly imbalanced between values less/greater than 4 with a 32/68 split. I may need to perform some over-sampling of the minority class to increase my model's performance.\n",
    "\n",
    "---"
   ]
  },
  {
   "cell_type": "markdown",
   "metadata": {},
   "source": [
    "# 🚿 **Preprocessing Pipeline**"
   ]
  },
  {
   "cell_type": "code",
   "execution_count": null,
   "metadata": {
    "ExecuteTime": {
     "end_time": "2021-08-02T20:08:31.734591Z",
     "start_time": "2021-08-02T20:08:03.751Z"
    }
   },
   "outputs": [],
   "source": [
    "# cat_cols = ['hotel', 'meal','arrival_date_month', 'country', 'market_segment',\n",
    "#             'distribution_channel','is_repeated_guest','reserved_room_type',\n",
    "#             'assigned_room_type','deposit_type', 'agent',\n",
    "#             'customer_type','reservation_status']\n",
    "\n",
    "# cont_cols = [col for col in X_train.drop(['reservation_status_date','company'],axis=1).columns if col not in cat_cols]\n",
    "\n",
    "# cont_cols"
   ]
  },
  {
   "cell_type": "code",
   "execution_count": null,
   "metadata": {
    "ExecuteTime": {
     "end_time": "2021-08-02T20:08:31.735585Z",
     "start_time": "2021-08-02T20:08:03.754Z"
    }
   },
   "outputs": [],
   "source": [
    "# X_train[cat_cols] = X_train[cat_cols].astype(str)"
   ]
  },
  {
   "cell_type": "code",
   "execution_count": null,
   "metadata": {
    "ExecuteTime": {
     "end_time": "2021-08-02T20:08:31.737602Z",
     "start_time": "2021-08-02T20:08:03.757Z"
    }
   },
   "outputs": [],
   "source": [
    "# X_test[cat_cols] = X_test[cat_cols].astype(str)"
   ]
  },
  {
   "cell_type": "code",
   "execution_count": null,
   "metadata": {
    "ExecuteTime": {
     "end_time": "2021-08-02T20:08:31.738584Z",
     "start_time": "2021-08-02T20:08:03.760Z"
    }
   },
   "outputs": [],
   "source": [
    "# ## Creating ColumnTransformer and sub-transformers for imputation and encoding\n",
    "\n",
    "# # Filling missing \"Children\"\n",
    "# zero_transformer = SimpleImputer(strategy='constant', fill_value=0)\n",
    "\n",
    "# ##  \n",
    "# missing_transformer = SimpleImputer(strategy='constant', fill_value='missing')\n",
    "\n",
    "# ## Encoding categoricals - handling errors to prevent issues w/ test set\n",
    "# categorical_transformer = OneHotEncoder(handle_unknown='ignore', sparse=False)\n",
    "\n",
    "# cat_pipe = Pipeline(steps=[('imputer', missing_transformer),\n",
    "#                       ('ohe', categorical_transformer)])\n",
    "\n",
    "# cont_pipe = Pipeline(steps=[('imputer', zero_transformer),\n",
    "#                            ('scaler', StandardScaler())])\n",
    "\n",
    "# ## Instantiating the ColumnTransformer and including all transformers\n",
    "# preprocessor = ColumnTransformer(\n",
    "#     transformers=[('conts', cont_pipe, cont_cols),\n",
    "#                   ('cats', cat_pipe, cat_cols)])\n",
    "\n",
    "# preprocessor"
   ]
  },
  {
   "cell_type": "code",
   "execution_count": null,
   "metadata": {
    "ExecuteTime": {
     "end_time": "2021-08-02T20:08:31.739587Z",
     "start_time": "2021-08-02T20:08:03.764Z"
    }
   },
   "outputs": [],
   "source": [
    "# preprocessor.fit(X_train)\n",
    "\n",
    "# ## Getting feature names from OHE\n",
    "# ohe_cat_names = preprocessor.named_transformers_['cats'].named_steps['ohe'].get_feature_names(cat_cols)"
   ]
  },
  {
   "cell_type": "code",
   "execution_count": null,
   "metadata": {
    "ExecuteTime": {
     "end_time": "2021-08-02T20:08:31.740588Z",
     "start_time": "2021-08-02T20:08:03.767Z"
    }
   },
   "outputs": [],
   "source": [
    "# ## Generating list for column index\n",
    "# final_cols = [*cont_cols, *ohe_cat_names]\n",
    "\n",
    "# ## Fit and transform the data via the ColumnTransformer\n",
    "# X_train_tf = preprocessor.transform(X_train)\n",
    "# X_train_tf_df = pd.DataFrame(X_train_tf, columns=final_cols, index=X_train.index)\n",
    "\n",
    "# ## Transforming the test set and saving\n",
    "# X_test_tf = preprocessor.transform(X_test)\n",
    "# X_test_tf_df = pd.DataFrame(X_test_tf, columns=final_cols, index=X_test.index)\n",
    "\n",
    "# display(X_train_tf_df.head(5),X_test_tf_df.head(5))"
   ]
  },
  {
   "cell_type": "markdown",
   "metadata": {},
   "source": [
    "# 📝 Next Steps"
   ]
  },
  {
   "cell_type": "markdown",
   "metadata": {},
   "source": [
    "* Process classification model - i.e. Logreg, KNN, DecisionTrees, etc.\n",
    "* Evaluate results\n",
    "* Determine if I need to redo pre-processing steps"
   ]
  },
  {
   "cell_type": "markdown",
   "metadata": {},
   "source": [
    "# 🚿 Classification Pipeline"
   ]
  },
  {
   "cell_type": "code",
   "execution_count": null,
   "metadata": {},
   "outputs": [],
   "source": []
  }
 ],
 "metadata": {
  "kernelspec": {
   "display_name": "Python (learn-env-bmc)",
   "language": "python",
   "name": "learn-env-bmc"
  },
  "language_info": {
   "codemirror_mode": {
    "name": "ipython",
    "version": 3
   },
   "file_extension": ".py",
   "mimetype": "text/x-python",
   "name": "python",
   "nbconvert_exporter": "python",
   "pygments_lexer": "ipython3",
   "version": "3.8.5"
  },
  "toc": {
   "base_numbering": 1,
   "nav_menu": {},
   "number_sections": true,
   "sideBar": true,
   "skip_h1_title": false,
   "title_cell": "Table of Contents",
   "title_sidebar": "Contents",
   "toc_cell": false,
   "toc_position": {
    "height": "calc(100% - 180px)",
    "left": "10px",
    "top": "150px",
    "width": "165px"
   },
   "toc_section_display": true,
   "toc_window_display": true
  }
 },
 "nbformat": 4,
 "nbformat_minor": 4
}
